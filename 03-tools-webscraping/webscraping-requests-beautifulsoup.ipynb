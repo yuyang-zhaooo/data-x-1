{
 "cells": [
  {
   "cell_type": "markdown",
   "metadata": {
    "slideshow": {
     "slide_type": "slide"
    }
   },
   "source": [
    "# Data-X Spring 2020\n",
    "\n",
    "## Notebook: Web Scraping & Web Crawling\n",
    "\n",
    "- How to obtain data the fun way and caveats to take care of when doing so"
   ]
  },
  {
   "cell_type": "markdown",
   "metadata": {
    "slideshow": {
     "slide_type": "notes"
    }
   },
   "source": [
    "**Author List**: \n",
    "- Alexander Fred-Ojala\n",
    "- Ishaan Malhi\n",
    "\n",
    "\n",
    "**Original Sources**: \n",
    "- https://www.crummy.com/software/BeautifulSoup/bs4/doc/\n",
    "- https://www.dataquest.io/blog/web-scraping-tutorial-python/\n",
    "\n",
    "**License**: Feel free to do whatever you want to with this code\n",
    "\n",
    "**Compatibility:** Python >= 3.5"
   ]
  },
  {
   "cell_type": "markdown",
   "metadata": {
    "slideshow": {
     "slide_type": "slide"
    }
   },
   "source": [
    "## What we are learning today\n",
    "\n",
    "- Data is seldom all clean and readily available\n",
    "\n",
    "- Often times you might need to gather data from websites because of any or all of the following:\n",
    "\n",
    " - You need to update your data regularly (either as a live stream or in batch, i.e every hour, day etc)\n",
    " - Data isn't readily available, you need to collect data for your tasks\n",
    " - Because it's fun and why not to do it when you can"
   ]
  },
  {
   "cell_type": "markdown",
   "metadata": {
    "slideshow": {
     "slide_type": "slide"
    }
   },
   "source": [
    "### Data Gathering\n",
    "\n",
    " - Web scraping is an important arsenal to have in your toolkit if you want to gather different types of data.\n",
    " - Usually it's a part of the \"Data Gathering\" stage."
   ]
  },
  {
   "cell_type": "markdown",
   "metadata": {
    "slideshow": {
     "slide_type": "slide"
    }
   },
   "source": [
    "- Once you gather your data, you clean, prepare/preprocess and use it in your tasks (prediction, analysis etc)\n",
    "\n",
    "<center><img src=\"https://media.giphy.com/media/mG1MxDDEMSAVkF7da3/giphy.gif\" /></center>"
   ]
  },
  {
   "cell_type": "markdown",
   "metadata": {
    "slideshow": {
     "slide_type": "slide"
    }
   },
   "source": [
    "### Popular Web Scraping tools & libraries\n",
    "\n",
    "This notebook mainly goes over how to get data with the Python packages `requests` and  `BeautifulSoup`. However, there are many other Python packages that can be used for scraping.\n",
    "\n",
    "Two very popular and widely used are:\n",
    "\n",
    "* **[Selenium:](http://selenium-python.readthedocs.io/)** Python scraper that can act as a human when visiting websites, almost like a macro. Makes sense of modern Javascript based websites built with React, Angular etc.\n",
    "\n",
    "\n",
    "* **[Scrapy:](https://scrapy.org/)** For automated scripting and has a lot of built in tools for web crawling and scraping that can facilitate the process (e.g. time based, IP rotation etc). Mainly script based scraping for larger projects."
   ]
  },
  {
   "cell_type": "markdown",
   "metadata": {
    "slideshow": {
     "slide_type": "subslide"
    }
   },
   "source": [
    "Q: Why do you think a library like `requests` and `BeautifulSoup` can't scrape websites using Frontend Web Apps (like React, Angular, Ember etc)?"
   ]
  },
  {
   "cell_type": "markdown",
   "metadata": {
    "slideshow": {
     "slide_type": "slide"
    }
   },
   "source": [
    "A: The `requests` library asks for static (html) content. Frontend apps (Angular, React, Ember.js etc) dynamically create/load content on the fly. That itself has led to their popularity since you don't need to render everything from scratch.\n",
    "\n",
    "Fun side note: Frontend web apps also break search engine indexing. If we can't scrape the full site, so can't most search engine bots. A workaround to this is called `Server Side Rendering`. It's an interesting way to \"run\" a frontend web app on the backend and give back static content. Most sites do this nowadays but this is a caveat you should keep in mind when scraping websites.\n",
    "\n",
    "An interesting application in industry is [how Airbnb does this](https://github.com/airbnb/hypernova)."
   ]
  },
  {
   "cell_type": "markdown",
   "metadata": {
    "slideshow": {
     "slide_type": "slide"
    }
   },
   "source": [
    "### API: Application Programming Interfaces\n",
    "\n",
    "Many services offer API's to grab data (Twitter, Wikipedia, Reddit etc.) We have already used an API in the Pandas notebook when we grabbed stock data in CSV format to do analysis. If a good API exists, it is usually the preferred method of obtaining data.\n"
   ]
  },
  {
   "cell_type": "markdown",
   "metadata": {
    "slideshow": {
     "slide_type": "slide"
    }
   },
   "source": [
    "### APIs vs Web Scraping\n",
    "\n",
    "Sometimes APIs don't give us everything we need, OR we need to gather data from websites that don't have an API. In this case, we use Web Scraping."
   ]
  },
  {
   "cell_type": "markdown",
   "metadata": {
    "slideshow": {
     "slide_type": "slide"
    }
   },
   "source": [
    "# Helpful Web Scraping Cheat Sheet\n",
    "\n",
    "If you want a good documentation of functions in requests and Beautifulsoup (as well as how to save scraped data to an SQLite database), this is a good resource:\n",
    "\n",
    "- https://blog.hartleybrody.com/web-scraping-cheat-sheet/"
   ]
  },
  {
   "cell_type": "markdown",
   "metadata": {
    "slideshow": {
     "slide_type": "skip"
    }
   },
   "source": [
    "# Table of Contents\n",
    "(Clickable document links)\n",
    "___\n",
    "\n",
    "### [0: Pre-steup](#sec0)\n",
    "Document setup and Python 2 and Python 3 compability\n",
    "\n",
    "### [1: Simple webscraping intro](#sec1)\n",
    "\n",
    "Simple example of webscraping on a premade HTML template\n",
    "\n",
    "#### Subsection: Scraping Caveats: How to be nice and not make enemies\n",
    "\n",
    "### [2: Scrape Data-X Schedule](#sec2)\n",
    "\n",
    "Find and scrape the current Data-X schedule. \n",
    "\n",
    "### [3: IMDB top 250 movies w MetaScore](#sec3)\n",
    "\n",
    "Scrape IMDB and compare MetaScore to user reviews.\n",
    "\n",
    "### [4: Scrape Images and Files](#sec4)\n",
    "\n",
    "Scrape a website of Images, PDF's, CSV data or any other file type.\n",
    "\n",
    "## [Breakout Problem: Scrape Weather Data](#secBK)\n",
    "\n",
    "Scrape real time weather data in Berkeley.\n",
    "\n",
    "\n",
    "### [Appendix](#sec5)\n",
    "\n",
    "#### [Scrape Bloomberg sitemap for political news headlines](#sec6)\n",
    "\n",
    "#### [Webcrawl Twitter, recursive URL link fetcher + depth](#sec7)\n",
    "\n",
    "#### [SEO, visualize webite categories as a tree](#sec8)"
   ]
  },
  {
   "cell_type": "markdown",
   "metadata": {
    "slideshow": {
     "slide_type": "slide"
    }
   },
   "source": [
    "<a id='sec0'></a>\n",
    "## Pre-Setup"
   ]
  },
  {
   "cell_type": "code",
   "execution_count": 15,
   "metadata": {
    "slideshow": {
     "slide_type": "subslide"
    }
   },
   "outputs": [
    {
     "data": {
      "text/html": [
       "<style>.container { width:90% !important; }</style>"
      ],
      "text/plain": [
       "<IPython.core.display.HTML object>"
      ]
     },
     "metadata": {},
     "output_type": "display_data"
    }
   ],
   "source": [
    "# stretch Jupyter coding blocks to fit screen\n",
    "from IPython.core.display import display, HTML\n",
    "display(HTML(\"<style>.container { width:90% !important; }</style>\")) \n",
    "# if 100% it would fit the screen"
   ]
  },
  {
   "cell_type": "code",
   "execution_count": 16,
   "metadata": {
    "slideshow": {
     "slide_type": "subslide"
    }
   },
   "outputs": [],
   "source": [
    "# make it run on py2 and py3\n",
    "from __future__ import division, print_function"
   ]
  },
  {
   "cell_type": "markdown",
   "metadata": {
    "slideshow": {
     "slide_type": "slide"
    }
   },
   "source": [
    "<a id='sec1'></a>\n",
    "# Webscraping intro\n",
    "\n",
    "In order to scrape content from a website we first need to download the HTML contents of the website. This can be done with the Python library **requests** (with its `.get` method).\n",
    "\n",
    "Then when we want to extract certain information from a website we use the scraping tool **BeautifulSoup4** (import bs4). In order to parse information with beautifulsoup we have to create a soup object from the HTML source code of a website."
   ]
  },
  {
   "cell_type": "code",
   "execution_count": 17,
   "metadata": {
    "slideshow": {
     "slide_type": "subslide"
    }
   },
   "outputs": [
    {
     "data": {
      "text/plain": [
       "'\\nBeautifulSoup4 is a Python library \\nfor pulling data out of HTML and XML code.\\nWe can query markup languages for specific content\\n'"
      ]
     },
     "execution_count": 17,
     "metadata": {},
     "output_type": "execute_result"
    }
   ],
   "source": [
    "import requests # The requests library is an HTTP library for getting and posting content etc.\n",
    "\n",
    "import bs4 as bs \n",
    "\n",
    "\"\"\"\n",
    "BeautifulSoup4 is a Python library \n",
    "for pulling data out of HTML and XML code.\n",
    "We can query markup languages for specific content\n",
    "\"\"\""
   ]
  },
  {
   "cell_type": "markdown",
   "metadata": {
    "slideshow": {
     "slide_type": "subslide"
    }
   },
   "source": [
    "# Scraping a simple website"
   ]
  },
  {
   "cell_type": "code",
   "execution_count": 18,
   "metadata": {
    "slideshow": {
     "slide_type": "subslide"
    }
   },
   "outputs": [],
   "source": [
    "source = requests.get(\"https://alex.fo/other/data-x/\") \n",
    "# a GET request will download the HTML webpage."
   ]
  },
  {
   "cell_type": "code",
   "execution_count": 19,
   "metadata": {
    "slideshow": {
     "slide_type": "subslide"
    }
   },
   "outputs": [
    {
     "name": "stdout",
     "output_type": "stream",
     "text": [
      "<Response [200]>\n"
     ]
    }
   ],
   "source": [
    "print(source) # If <Response [200]> then \n",
    "# the website has been downloaded succesfully"
   ]
  },
  {
   "cell_type": "markdown",
   "metadata": {
    "slideshow": {
     "slide_type": "slide"
    }
   },
   "source": [
    "**Different types of repsonses:**\n",
    "Generally status code starting with 2 indicates success. Status code starting with 4 or 5 indicates error. Frequent appearance of the status codes like 404 (Not Found), 403 (Forbidden), 408 (Request Timeout) might indicate that you got blocked by the server."
   ]
  },
  {
   "cell_type": "code",
   "execution_count": 20,
   "metadata": {
    "slideshow": {
     "slide_type": "subslide"
    }
   },
   "outputs": [
    {
     "name": "stdout",
     "output_type": "stream",
     "text": [
      "b'<!DOCTYPE html>\\n<html>\\n<head>\\n\\n<title>Data-X Webscrape Tutorial</title>\\n\\n<style>\\ndiv.container {\\n    width: 100%;\\n    border: 1px solid gray;\\n}\\n\\n.header {\\n    color:green;\\n}\\n\\n#second {\\n    font-style: italic;\\n}\\n\\n</style>\\n\\n</head>\\n\\n<body style=\"background-color: pink\">\\n\\n<h1 class=\"header\">Simple Data-X site</h1>\\n\\n\\n<h3 id=\"second\">This site is only live to be scraped.</h3>\\n\\n\\n<div class=\"container\">\\n<p>Some cool text in a container</p>\\n</div>\\n  \\n\\n  <h4> Random list </h4>\\n<nav class=\"regular_list\">\\n  <ul>\\n    <li><a href=\"https://en.wikipedia.org/wiki/London\">London</a></li>\\n    <li><a href=\"https://en.wikipedia.org/wiki/Tokyo\">Tokyo</a></li>\\n  </ul>\\n</nav>\\n\\n\\n\\n\\n  <h2>Random London Information within p tags</h2>\\n\\n  <p>London is the capital city of England. It is the most populous city in the  United Kingdom, with a metropolitan area of over 13 million inhabitants.</p>\\n  <p>Standing on the River Thames, London has been a major settlement for two millennia, its history going back to its founding by the Romans, who named it Londinium.</p>\\n\\n<footer>footer content</footer>\\n\\n</div>\\n\\n</body>\\n</html>\\n'\n"
     ]
    }
   ],
   "source": [
    "print(source.content) \n",
    "# This is the HTML content of the website,\n",
    "# as you can see it's quite hard to decipher"
   ]
  },
  {
   "cell_type": "code",
   "execution_count": 22,
   "metadata": {
    "slideshow": {
     "slide_type": "subslide"
    }
   },
   "outputs": [
    {
     "name": "stdout",
     "output_type": "stream",
     "text": [
      "<class 'bytes'>\n"
     ]
    }
   ],
   "source": [
    "print(type(source.content)) # type byte in Python 3"
   ]
  },
  {
   "cell_type": "code",
   "execution_count": 23,
   "metadata": {
    "slideshow": {
     "slide_type": "subslide"
    }
   },
   "outputs": [],
   "source": [
    "# Convert source.content to a beautifulsoup object \n",
    "# beautifulsoup can parse (extract specific information) HTML code\n",
    "\n",
    "soup = bs.BeautifulSoup(source.content, features='html.parser') \n",
    "# we pass in the source content\n",
    "# features specifies what type of code we are parsing, \n",
    "# here 'html.parser' specifies that we want beautiful soup to parse HTML code"
   ]
  },
  {
   "cell_type": "code",
   "execution_count": 24,
   "metadata": {
    "slideshow": {
     "slide_type": "subslide"
    }
   },
   "outputs": [
    {
     "name": "stdout",
     "output_type": "stream",
     "text": [
      "<class 'bs4.BeautifulSoup'>\n"
     ]
    }
   ],
   "source": [
    "print(type(soup))"
   ]
  },
  {
   "cell_type": "code",
   "execution_count": 25,
   "metadata": {
    "slideshow": {
     "slide_type": "slide"
    }
   },
   "outputs": [
    {
     "name": "stdout",
     "output_type": "stream",
     "text": [
      "<!DOCTYPE html>\n",
      "\n",
      "<html>\n",
      "<head>\n",
      "<title>Data-X Webscrape Tutorial</title>\n",
      "<style>\n",
      "div.container {\n",
      "    width: 100%;\n",
      "    border: 1px solid gray;\n",
      "}\n",
      "\n",
      ".header {\n",
      "    color:green;\n",
      "}\n",
      "\n",
      "#second {\n",
      "    font-style: italic;\n",
      "}\n",
      "\n",
      "</style>\n",
      "</head>\n",
      "<body style=\"background-color: pink\">\n",
      "<h1 class=\"header\">Simple Data-X site</h1>\n",
      "<h3 id=\"second\">This site is only live to be scraped.</h3>\n",
      "<div class=\"container\">\n",
      "<p>Some cool text in a container</p>\n",
      "</div>\n",
      "<h4> Random list </h4>\n",
      "<nav class=\"regular_list\">\n",
      "<ul>\n",
      "<li><a href=\"https://en.wikipedia.org/wiki/London\">London</a></li>\n",
      "<li><a href=\"https://en.wikipedia.org/wiki/Tokyo\">Tokyo</a></li>\n",
      "</ul>\n",
      "</nav>\n",
      "<h2>Random London Information within p tags</h2>\n",
      "<p>London is the capital city of England. It is the most populous city in the  United Kingdom, with a metropolitan area of over 13 million inhabitants.</p>\n",
      "<p>Standing on the River Thames, London has been a major settlement for two millennia, its history going back to its founding by the Romans, who named it Londinium.</p>\n",
      "<footer>footer content</footer>\n",
      "</body></html>\n",
      "\n",
      "\n",
      "\n"
     ]
    }
   ],
   "source": [
    "print(soup) # looks a lot nicer!"
   ]
  },
  {
   "cell_type": "markdown",
   "metadata": {
    "slideshow": {
     "slide_type": "slide"
    }
   },
   "source": [
    "Above we printed the HTML code of the website, decoded as a beautiful soup object.\n",
    "\n",
    "### HTML tags\n",
    "`<xxx> </xxx>`: are all the HTML tags, that specifies certain sections, stylings etc of the website, for more info: \n",
    "https://www.w3schools.com/tags/ref_byfunc.asp\n",
    "\n",
    "Full list of HTML tags: https://developer.mozilla.org/en-US/docs/Web/HTML/Element"
   ]
  },
  {
   "cell_type": "markdown",
   "metadata": {},
   "source": [
    "### HTML DOM Tree\n",
    "\n",
    "The HTML DOM Tree is a logical tree that contains all the objects in a webpage.\n",
    "\n",
    "Any dynamic execution (Javascript, SVG etc) interacts with the DOM tree.\n",
    "\n",
    "Since HTML content has a hierarchy, a Tree structure appropriately models the relationships between different HTML elements.\n",
    "\n",
    "For more, see the [Mozilla Docs](https://developer.mozilla.org/en-US/docs/Web/API/Document_Object_Model). There's a great intro to the DOM [here](https://developer.mozilla.org/en-US/docs/Web/API/Document_Object_Model/Introduction).\n",
    "\n"
   ]
  },
  {
   "cell_type": "markdown",
   "metadata": {
    "slideshow": {
     "slide_type": "subslide"
    }
   },
   "source": [
    "\n",
    "\n",
    "---\n",
    "## `class` and `id`:\n",
    "\n",
    "class and id attributes of HTML tags, they are used as hooks to give unique styling to certain elements and an id for sections / parts of the page.\n",
    "\n",
    "- **id:** is a unique tag for a specific element (this often does not change)\n",
    "- **class:** specifies a class of objects. Several elements in the HTML code can have the same class.\n",
    "\n",
    "We can use these attributes of an HTML tag to select elements in BeautifulSoup."
   ]
  },
  {
   "cell_type": "markdown",
   "metadata": {
    "slideshow": {
     "slide_type": "subslide"
    }
   },
   "source": [
    "### Suppose we want to extract content that is shown on the website"
   ]
  },
  {
   "cell_type": "code",
   "execution_count": 26,
   "metadata": {
    "slideshow": {
     "slide_type": "subslide"
    }
   },
   "outputs": [
    {
     "name": "stdout",
     "output_type": "stream",
     "text": [
      "<body style=\"background-color: pink\">\n",
      "<h1 class=\"header\">Simple Data-X site</h1>\n",
      "<h3 id=\"second\">This site is only live to be scraped.</h3>\n",
      "<div class=\"container\">\n",
      "<p>Some cool text in a container</p>\n",
      "</div>\n",
      "<h4> Random list </h4>\n",
      "<nav class=\"regular_list\">\n",
      "<ul>\n",
      "<li><a href=\"https://en.wikipedia.org/wiki/London\">London</a></li>\n",
      "<li><a href=\"https://en.wikipedia.org/wiki/Tokyo\">Tokyo</a></li>\n",
      "</ul>\n",
      "</nav>\n",
      "<h2>Random London Information within p tags</h2>\n",
      "<p>London is the capital city of England. It is the most populous city in the  United Kingdom, with a metropolitan area of over 13 million inhabitants.</p>\n",
      "<p>Standing on the River Thames, London has been a major settlement for two millennia, its history going back to its founding by the Romans, who named it Londinium.</p>\n",
      "<footer>footer content</footer>\n",
      "</body>\n"
     ]
    }
   ],
   "source": [
    "# Inside the <body> tag of the website is where all the main content is\n",
    "print(soup.body)"
   ]
  },
  {
   "cell_type": "code",
   "execution_count": 28,
   "metadata": {
    "scrolled": true,
    "slideshow": {
     "slide_type": "subslide"
    }
   },
   "outputs": [
    {
     "name": "stdout",
     "output_type": "stream",
     "text": [
      "<title>Data-X Webscrape Tutorial</title>\n"
     ]
    }
   ],
   "source": [
    "print(soup.title) # Title of the website"
   ]
  },
  {
   "cell_type": "code",
   "execution_count": 29,
   "metadata": {
    "slideshow": {
     "slide_type": "subslide"
    }
   },
   "outputs": [
    {
     "name": "stdout",
     "output_type": "stream",
     "text": [
      "<title>Data-X Webscrape Tutorial</title>\n"
     ]
    }
   ],
   "source": [
    "print(soup.find('title')) # same as .title"
   ]
  },
  {
   "cell_type": "code",
   "execution_count": 30,
   "metadata": {
    "scrolled": true,
    "slideshow": {
     "slide_type": "subslide"
    }
   },
   "outputs": [
    {
     "name": "stdout",
     "output_type": "stream",
     "text": [
      "<p>Some cool text in a container</p>\n"
     ]
    }
   ],
   "source": [
    "# If we want to extract specific text\n",
    "print(soup.find('p')) # will only return first <p> tag"
   ]
  },
  {
   "cell_type": "code",
   "execution_count": 31,
   "metadata": {
    "slideshow": {
     "slide_type": "subslide"
    }
   },
   "outputs": [
    {
     "name": "stdout",
     "output_type": "stream",
     "text": [
      "Some cool text in a container\n"
     ]
    }
   ],
   "source": [
    "print(soup.find('p').text) # extracts the string within the <p> tag, strips it of tag"
   ]
  },
  {
   "cell_type": "code",
   "execution_count": 32,
   "metadata": {
    "slideshow": {
     "slide_type": "subslide"
    }
   },
   "outputs": [
    {
     "name": "stdout",
     "output_type": "stream",
     "text": [
      "[<p>Some cool text in a container</p>, <p>London is the capital city of England. It is the most populous city in the  United Kingdom, with a metropolitan area of over 13 million inhabitants.</p>, <p>Standing on the River Thames, London has been a major settlement for two millennia, its history going back to its founding by the Romans, who named it Londinium.</p>]\n"
     ]
    }
   ],
   "source": [
    "# If we want to extract all <p> tags\n",
    "print(soup.find_all('p')) # returns list of all <p> tags"
   ]
  },
  {
   "cell_type": "code",
   "execution_count": 34,
   "metadata": {
    "slideshow": {
     "slide_type": "subslide"
    }
   },
   "outputs": [
    {
     "name": "stdout",
     "output_type": "stream",
     "text": [
      "<h1 class=\"header\">Simple Data-X site</h1>\n"
     ]
    }
   ],
   "source": [
    "# we can also search for classes within all tags, using class_\n",
    "# note that the \"class_\" property is used to distinguish with Python's builtin `class` keyword/function\n",
    "\n",
    "print(soup.find(class_='header')) "
   ]
  },
  {
   "cell_type": "code",
   "execution_count": 36,
   "metadata": {
    "slideshow": {
     "slide_type": "subslide"
    }
   },
   "outputs": [
    {
     "name": "stdout",
     "output_type": "stream",
     "text": [
      "<h3 id=\"second\">This site is only live to be scraped.</h3>\n"
     ]
    }
   ],
   "source": [
    "# We can also find tags with a specific id\n",
    "\n",
    "print(soup.find(id='second'))"
   ]
  },
  {
   "cell_type": "code",
   "execution_count": 37,
   "metadata": {
    "slideshow": {
     "slide_type": "subslide"
    }
   },
   "outputs": [
    {
     "name": "stdout",
     "output_type": "stream",
     "text": [
      "[<nav class=\"regular_list\">\n",
      "<ul>\n",
      "<li><a href=\"https://en.wikipedia.org/wiki/London\">London</a></li>\n",
      "<li><a href=\"https://en.wikipedia.org/wiki/Tokyo\">Tokyo</a></li>\n",
      "</ul>\n",
      "</nav>]\n"
     ]
    }
   ],
   "source": [
    "print(soup.find_all(class_='regular_list')) # find all returns list, \n",
    "# even if there is only one object"
   ]
  },
  {
   "cell_type": "code",
   "execution_count": 38,
   "metadata": {
    "slideshow": {
     "slide_type": "subslide"
    }
   },
   "outputs": [
    {
     "name": "stdout",
     "output_type": "stream",
     "text": [
      "Some cool text in a container\n",
      "London is the capital city of England. It is the most populous city in the  United Kingdom, with a metropolitan area of over 13 million inhabitants.\n",
      "Standing on the River Thames, London has been a major settlement for two millennia, its history going back to its founding by the Romans, who named it Londinium.\n"
     ]
    }
   ],
   "source": [
    "for p in soup.find_all('p'): # print all text paragraphs on the webpage\n",
    "    print(p.text)"
   ]
  },
  {
   "cell_type": "code",
   "execution_count": 39,
   "metadata": {
    "slideshow": {
     "slide_type": "subslide"
    }
   },
   "outputs": [
    {
     "name": "stdout",
     "output_type": "stream",
     "text": [
      "<a href=\"https://en.wikipedia.org/wiki/London\">London</a>\n",
      "<class 'bs4.element.Tag'>\n"
     ]
    }
   ],
   "source": [
    "# Extract links / urls\n",
    "# Links in html is usually coded as <a href=\"url\">\n",
    "# where the link is url\n",
    "\n",
    "print(soup.a)\n",
    "print(type(soup.a))\n"
   ]
  },
  {
   "cell_type": "code",
   "execution_count": 41,
   "metadata": {
    "slideshow": {
     "slide_type": "subslide"
    }
   },
   "outputs": [
    {
     "data": {
      "text/plain": [
       "'https://en.wikipedia.org/wiki/London'"
      ]
     },
     "execution_count": 41,
     "metadata": {},
     "output_type": "execute_result"
    }
   ],
   "source": [
    "soup.a.get('href') \n",
    "# to get the link from href attribute"
   ]
  },
  {
   "cell_type": "code",
   "execution_count": 44,
   "metadata": {
    "slideshow": {
     "slide_type": "subslide"
    }
   },
   "outputs": [
    {
     "data": {
      "text/plain": [
       "[<a href=\"https://en.wikipedia.org/wiki/London\">London</a>,\n",
       " <a href=\"https://en.wikipedia.org/wiki/Tokyo\">Tokyo</a>]"
      ]
     },
     "execution_count": 44,
     "metadata": {},
     "output_type": "execute_result"
    }
   ],
   "source": [
    "links = soup.find_all('a')\n",
    "\n",
    "links"
   ]
  },
  {
   "cell_type": "code",
   "execution_count": 45,
   "metadata": {
    "slideshow": {
     "slide_type": "subslide"
    }
   },
   "outputs": [
    {
     "name": "stdout",
     "output_type": "stream",
     "text": [
      "Info about London:  https://en.wikipedia.org/wiki/London\n",
      "Info about Tokyo:  https://en.wikipedia.org/wiki/Tokyo\n"
     ]
    }
   ],
   "source": [
    "# if we want to list links and their text info\n",
    "\n",
    "links = soup.find_all('a')\n",
    "\n",
    "for l in links:\n",
    "    print(\"Info about {}: \".format(l.text), \\\n",
    "          l.get('href')) \n",
    "# then we have extracted the link"
   ]
  },
  {
   "cell_type": "markdown",
   "metadata": {
    "slideshow": {
     "slide_type": "slide"
    }
   },
   "source": [
    "# Scraping Caveats: How to be nice and not make enemies"
   ]
  },
  {
   "cell_type": "markdown",
   "metadata": {
    "slideshow": {
     "slide_type": "subslide"
    }
   },
   "source": [
    "- Webscraping is not always a welcome activity. \n",
    "    As a founder and/or engineer, you don't want to wake up in the middle of the night because your website is down due to scraping!\n",
    "    \n",
    "- When webscraping a website, be mindful and nice and make sure you are not inadvertently sending too many requests to the website, which can lead to a potential problem at the website.\n",
    "\n",
    "- A pretty common reason for websites going temporarily offline is because they get scraped way too much."
   ]
  },
  {
   "cell_type": "markdown",
   "metadata": {
    "slideshow": {
     "slide_type": "subslide"
    }
   },
   "source": [
    "## What do we lookout for when scraping?"
   ]
  },
  {
   "cell_type": "markdown",
   "metadata": {
    "slideshow": {
     "slide_type": "subslide"
    }
   },
   "source": [
    "### Cached content"
   ]
  },
  {
   "cell_type": "markdown",
   "metadata": {
    "slideshow": {
     "slide_type": "subslide"
    }
   },
   "source": [
    "- Most website content is usually `cached`. This means the webservers are not serving the content directly, they are cached at a nearby caching server (usually called Point-of-Presence or POPs). Web requests usually hit these servers that are able to serve cached content at a higher frequency.\n",
    "\n",
    "    - You might have heard of services such as AWS Cloudfront or Cloudflare allowing web content to be cached.\n",
    "\n",
    "\n",
    "- That said, some websites might not do this! One way to check is to see the response headers. Let's see what this looks like."
   ]
  },
  {
   "cell_type": "code",
   "execution_count": 49,
   "metadata": {
    "slideshow": {
     "slide_type": "subslide"
    }
   },
   "outputs": [
    {
     "data": {
      "text/plain": [
       "{'Date': 'Mon, 09 Mar 2020 03:56:55 GMT', 'Cache-Control': 's-maxage=86400, must-revalidate, max-age=3600', 'Server': 'ATS/8.0.6', 'X-ATS-Timestamp': '1583726215', 'ETag': 'W/\"12799-59fdda0e61b38\"', 'Content-Type': 'text/html', 'Last-Modified': 'Mon, 02 Mar 2020 11:38:39 GMT', 'Backend-Timing': 'D=294 t=1583219717349761', 'Content-Encoding': 'gzip', 'Vary': 'Accept-Encoding', 'X-Varnish': '1062366631 1058350107', 'Age': '6467', 'X-Cache': 'cp4029 miss, cp4028 hit/21135', 'X-Cache-Status': 'hit-front', 'Server-Timing': 'cache;desc=\"hit-front\"', 'Strict-Transport-Security': 'max-age=106384710; includeSubDomains; preload', 'X-Client-IP': '2601:644:680:c710:6cd8:6ff:affc:cc33', 'Accept-Ranges': 'bytes', 'Content-Length': '18611', 'Connection': 'keep-alive'}"
      ]
     },
     "execution_count": 49,
     "metadata": {},
     "output_type": "execute_result"
    }
   ],
   "source": [
    "requests.get('https://wikipedia.org').headers"
   ]
  },
  {
   "cell_type": "markdown",
   "metadata": {
    "slideshow": {
     "slide_type": "fragment"
    }
   },
   "source": [
    "The `Cache-Control` header having a non-zero value means the web content is cached.\n",
    "\n",
    "The `X-Cache-Status` equaling `hit-front` or `hit` or similar means you hit a cached content, and the backend server did not directly service request.\n",
    "\n",
    "Yay! This means we can scrape without worrying about taking down Wikipedia.org"
   ]
  },
  {
   "cell_type": "markdown",
   "metadata": {
    "slideshow": {
     "slide_type": "subslide"
    }
   },
   "source": [
    "\n",
    "\n",
    "# Other useful scraping tips\n",
    "\n",
    "### robots.txt\n",
    "\n",
    "Always check if a website has a `robots.txt` document specifying what parts of the site that you're allowed to scrape (however, the website cannot prevent requests from getting its content, but I'd recommend you all to be nice). It may also contain information about the scraping frequency allowed etc.\n",
    "\n",
    "E.g. \n",
    "- http://www.imdb.com/robots.txt\n",
    "- http://www.nytimes.com/robots.txt\n",
    "\n",
    "### user-agent\n",
    "\n",
    "When you're sending a request to a webpage (no matter if it comes from your computer, iphone, or Python's request package), then you also include a user-agent. This let's the webserver know how to render the contents for you. You can also send user-agent information via a request (to specify who you are for example, or to disguise that you're an automated scraper).\n",
    "\n",
    "Find your machine's / browser's true user agent here: https://www.whoishostingthis.com/tools/user-agent/"
   ]
  },
  {
   "cell_type": "code",
   "execution_count": 50,
   "metadata": {
    "slideshow": {
     "slide_type": "subslide"
    }
   },
   "outputs": [
    {
     "name": "stdout",
     "output_type": "stream",
     "text": [
      "<Response [200]>\n",
      "{'Date': 'Mon, 09 Mar 2020 05:55:17 GMT', 'Content-Type': 'text/html; charset=utf-8', 'Transfer-Encoding': 'chunked', 'Connection': 'keep-alive', 'Last-Modified': 'Thu, 23 Jan 2020 15:54:08 GMT', 'Vary': 'Accept-Encoding', 'Access-Control-Allow-Origin': '*', 'Expires': 'Mon, 09 Mar 2020 06:05:16 GMT', 'Cache-Control': 'max-age=600', 'X-Proxy-Cache': 'MISS', 'X-GitHub-Request-Id': '4BF0:5CB2:2A1F00:35190E:5E65DA44', 'CF-Cache-Status': 'DYNAMIC', 'Expect-CT': 'max-age=604800, report-uri=\"https://report-uri.cloudflare.com/cdn-cgi/beacon/expect-ct\"', 'Server': 'cloudflare', 'CF-RAY': '57128bce591fed47-SJC', 'Content-Encoding': 'gzip'}\n"
     ]
    }
   ],
   "source": [
    "# user-agent example\n",
    "\n",
    "headers = {\n",
    "    'User-Agent': 'Mozilla/5.0 (X11; Ubuntu; Linux x86_64; rv:58.0) Gecko/20100101 Firefox/58.0',\n",
    "    'From': 'data-x@gmail.com' \n",
    "}\n",
    "\n",
    "response = requests.get('http://alex.fo/other/data-x', headers=headers)\n",
    "print(response)\n",
    "print(response.headers) # the response will also have some meta informaiton about the content"
   ]
  },
  {
   "cell_type": "markdown",
   "metadata": {
    "slideshow": {
     "slide_type": "slide"
    }
   },
   "source": [
    "<a id='sec2'></a>\n",
    "\n",
    "# Data-X website Scraping\n",
    "### Now let us scrape the current Syllabus Schedule from the Data-X website\n"
   ]
  },
  {
   "cell_type": "code",
   "execution_count": 56,
   "metadata": {
    "slideshow": {
     "slide_type": "subslide"
    }
   },
   "outputs": [],
   "source": [
    "r = requests.get('https://data-x.blog/')\n",
    "source = r.content \n",
    "# get the source content"
   ]
  },
  {
   "cell_type": "code",
   "execution_count": 61,
   "metadata": {
    "slideshow": {
     "slide_type": "subslide"
    }
   },
   "outputs": [
    {
     "data": {
      "text/plain": [
       "{'Server': 'nginx', 'Date': 'Mon, 09 Mar 2020 05:55:58 GMT', 'Content-Type': 'text/html; charset=UTF-8', 'Transfer-Encoding': 'chunked', 'Connection': 'keep-alive', 'Strict-Transport-Security': 'max-age=86400', 'Vary': 'Accept-Encoding, Cookie', 'Last-Modified': 'Mon, 09 Mar 2020 05:55:31 GMT', 'Cache-Control': 'max-age=273, must-revalidate', 'X-nananana': 'Batcache', 'Link': '<https://data-x.blog/wp-json/>; rel=\"https://api.w.org/\", <https://wp.me/P8boZu-2>; rel=shortlink', 'Content-Encoding': 'gzip', 'X-ac': '3.sjc _atomic_bur '}"
      ]
     },
     "execution_count": 61,
     "metadata": {},
     "output_type": "execute_result"
    }
   ],
   "source": [
    "r.headers"
   ]
  },
  {
   "cell_type": "code",
   "execution_count": 62,
   "metadata": {
    "slideshow": {
     "slide_type": "subslide"
    }
   },
   "outputs": [],
   "source": [
    "soup = bs.BeautifulSoup(source,'html.parser')"
   ]
  },
  {
   "cell_type": "code",
   "execution_count": 64,
   "metadata": {
    "slideshow": {
     "slide_type": "subslide"
    }
   },
   "outputs": [
    {
     "name": "stdout",
     "output_type": "stream",
     "text": [
      "<!DOCTYPE html>\n",
      "<html class=\"no-js no-svg\" lang=\"en-US\">\n",
      " <head>\n",
      "  <meta charset=\"utf-8\"/>\n",
      "  <meta content=\"width=device-width, initial-scale=1\" name=\"viewport\"/>\n",
      "  <link href=\"http://gmpg.org/xfn/11\" rel=\"profile\"/>\n",
      "  <script>\n",
      "   (function(html){html.className = html.className.replace(/\\bno-js\\b/,'js')})(document.documentElement);\n",
      "  </script>\n",
      "  <title>\n",
      "   Data-X at Berkeley\n",
      "  </title>\n",
      "  <link href=\"//fonts.googleapis.com\" rel=\"dns-prefetch\">\n",
      "   <link href=\"//s.w.org\" rel=\"dns-prefetch\"/>\n",
      "   <link crossorigin=\"\" href=\"https://fonts.gstatic.com\" rel=\"preconnect\"/>\n",
      "   <link href=\"https://data-x.blog/feed/\" rel=\"alternate\" title=\"Data-X at Berkeley » Feed\" type=\"application/rss+xml\"/>\n",
      "   <link href=\"https://data-x.blog/comments/feed/\" rel=\"alternate\" title=\"Data-X at Berkeley » Comments Feed\" type=\"application/rss+xml\"/>\n",
      "   <script type=\"text/javascript\">\n",
      "    window._wpemojiSettings = {\"baseUrl\":\"https:\\/\\/s.w.org\\/images\\/core\\/emoji\\/12.0.0-1\\/72x72\\/\",\"ext\":\".png\",\"svgUrl\":\"https:\\/\\/s.w.org\\/images\\/core\\/emoji\\/12.0.0-1\\/svg\\/\",\"svgExt\":\".svg\",\"source\":{\"concatemoji\":\"https:\\/\\/data-x.blog\\/wp-includes\\/js\\/wp-emoji-release.min.js?ver=5.3.2\"}};\n",
      "\t\t\t!function(e,a,t){var r,n,o,i,p=a.createElement(\"canvas\"),s=p.getContext&&p.getContext(\"2d\");function c(e,t){var a=String.fromCharCode;s.clearRect(0,0,p.width,p.height),s.fillText(a.apply(this,e),0,0);var r=p.toDataURL();return s.clearRect(0,0,p.width,p.height),s.fillText(a.apply(this,t),0,0),r===p.toDataURL()}function l(e){if(!s||!s.fillText)return!1;switch(s.textBaseline=\"top\",s.font=\"600 32px Arial\",e){case\"flag\":return!c([127987,65039,8205,9895,65039],[127987,65039,8203,9895,65039])&&(!c([55356,56826,55356,56819],[55356,56826,8203,55356,56819])&&!c([55356,57332,56128,56423,56128,56418,56128,56421,56128,56430,56128,56423,56128,56447],[55356,57332,8203,56128,56423,8203,56128,56418,8203,56128,56421,8203,56128,56430,8203,56128,56423,8203,56128,56447]));case\"emoji\":return!c([55357,56424,55356,57342,8205,55358,56605,8205,55357,56424,55356,57340],[55357,56424,55356,57342,8203,55358,56605,8203,55357,56424,55356,57340])}return!1}function d(e){var t=a.createElement(\"script\");t.src=e,t.defer=t.type=\"text/javascript\",a.getElementsByTagName(\"head\")[0].appendChild(t)}for(i=Array(\"flag\",\"emoji\"),t.supports={everything:!0,everythingExceptFlag:!0},o=0;o<i.length;o++)t.supports[i[o]]=l(i[o]),t.supports.everything=t.supports.everything&&t.supports[i[o]],\"flag\"!==i[o]&&(t.supports.everythingExceptFlag=t.supports.everythingExceptFlag&&t.supports[i[o]]);t.supports.everythingExceptFlag=t.supports.everythingExceptFlag&&!t.supports.flag,t.DOMReady=!1,t.readyCallback=function(){t.DOMReady=!0},t.supports.everything||(n=function(){t.readyCallback()},a.addEventListener?(a.addEventListener(\"DOMContentLoaded\",n,!1),e.addEventListener(\"load\",n,!1)):(e.attachEvent(\"onload\",n),a.attachEvent(\"onreadystatechange\",function(){\"complete\"===a.readyState&&t.readyCallback()})),(r=t.source||{}).concatemoji?d(r.concatemoji):r.wpemoji&&r.twemoji&&(d(r.twemoji),d(r.wpemoji)))}(window,document,window._wpemojiSettings);\n",
      "   </script>\n",
      "   <style type=\"text/css\">\n",
      "    img.wp-smiley,\n",
      "img.emoji {\n",
      "\tdisplay: inline !important;\n",
      "\tborder: none !important;\n",
      "\tbox-shadow: none !important;\n",
      "\theight: 1em !important;\n",
      "\twidth: 1em !important;\n",
      "\tmargin: 0 .07em !important;\n",
      "\tvertical-align: -0.1em !important;\n",
      "\tbackground: none !important;\n",
      "\tpadding: 0 !important;\n",
      "}\n",
      "   </style>\n",
      "   <link href=\"https://c0.wp.com/c/5.3.2/wp-includes/css/dist/block-library/style.min.css\" id=\"wp-block-library-css\" media=\"all\" rel=\"stylesheet\" type=\"text/css\"/>\n",
      "   <style id=\"wp-block-library-inline-css\" type=\"text/css\">\n",
      "    .has-text-align-justify{text-align:justify;}\n",
      "   </style>\n",
      "   <link href=\"https://c0.wp.com/c/5.3.2/wp-includes/css/dist/block-library/theme.min.css\" id=\"wp-block-library-theme-css\" media=\"all\" rel=\"stylesheet\" type=\"text/css\"/>\n",
      "   <link crossorigin=\"anonymous\" href=\"https://fonts.googleapis.com/css?family=Libre+Franklin%3A300%2C300i%2C400%2C400i%2C600%2C600i%2C800%2C800i&amp;subset=latin%2Clatin-ext\" id=\"twentyseventeen-fonts-css\" media=\"all\" rel=\"stylesheet\" type=\"text/css\"/>\n",
      "   <link href=\"https://data-x.blog/wp-content/themes/twentyseventeen/style.css?ver=5.3.2\" id=\"twentyseventeen-style-css\" media=\"all\" rel=\"stylesheet\" type=\"text/css\"/>\n",
      "   <style id=\"twentyseventeen-style-inline-css\" type=\"text/css\">\n",
      "    .site-content-contain {background-color: #ffffff; background-image: url(\"\"); background-position: left top; background-size: auto; background-repeat: repeat; background-attachment: scroll; }\n",
      "   </style>\n",
      "   <link href=\"https://data-x.blog/wp-content/themes/twentyseventeen/assets/css/blocks.css?ver=1.1\" id=\"twentyseventeen-block-style-css\" media=\"all\" rel=\"stylesheet\" type=\"text/css\"/>\n",
      "   <!--[if lt IE 9]>\n",
      "<link rel='stylesheet' id='twentyseventeen-ie8-css'  href='https://data-x.blog/wp-content/themes/twentyseventeen/assets/css/ie8.css?ver=1.0' type='text/css' media='all' />\n",
      "<![endif]-->\n",
      "   <link href=\"https://data-x.blog/wp-content/themes/twentyseventeen/assets/css/style-wpcom.css?ver=20170306\" id=\"twentyseventeen-wpcom-style-css\" media=\"all\" rel=\"stylesheet\" type=\"text/css\"/>\n",
      "   <link href=\"https://c0.wp.com/p/jetpack/8.3/_inc/social-logos/social-logos.min.css\" id=\"social-logos-css\" media=\"all\" rel=\"stylesheet\" type=\"text/css\"/>\n",
      "   <link href=\"https://c0.wp.com/p/jetpack/8.3/css/jetpack.css\" id=\"jetpack_css-css\" media=\"all\" rel=\"stylesheet\" type=\"text/css\"/>\n",
      "   <!--[if lt IE 9]>\n",
      "<script type='text/javascript' src='https://data-x.blog/wp-content/themes/twentyseventeen/assets/js/html5.js?ver=3.7.3'></script>\n",
      "<![endif]-->\n",
      "   <script src=\"https://c0.wp.com/c/5.3.2/wp-includes/js/jquery/jquery.js\" type=\"text/javascript\">\n",
      "   </script>\n",
      "   <script src=\"https://c0.wp.com/c/5.3.2/wp-includes/js/jquery/jquery-migrate.min.js\" type=\"text/javascript\">\n",
      "   </script>\n",
      "   <script src=\"https://c0.wp.com/p/jetpack/8.3/_inc/build/postmessage.min.js\" type=\"text/javascript\">\n",
      "   </script>\n",
      "   <script src=\"https://c0.wp.com/p/jetpack/8.3/_inc/build/jquery.jetpack-resize.min.js\" type=\"text/javascript\">\n",
      "   </script>\n",
      "   <link href=\"https://data-x.blog/wp-json/\" rel=\"https://api.w.org/\"/>\n",
      "   <link href=\"https://data-x.blog/xmlrpc.php?rsd\" rel=\"EditURI\" title=\"RSD\" type=\"application/rsd+xml\"/>\n",
      "   <link href=\"https://data-x.blog/wp-includes/wlwmanifest.xml\" rel=\"wlwmanifest\" type=\"application/wlwmanifest+xml\"/>\n",
      "   <link href=\"https://data-x.blog/\" rel=\"canonical\"/>\n",
      "   <link href=\"https://wp.me/P8boZu-2\" rel=\"shortlink\"/>\n",
      "   <link href=\"https://data-x.blog/wp-json/oembed/1.0/embed?url=https%3A%2F%2Fdata-x.blog%2F\" rel=\"alternate\" type=\"application/json+oembed\"/>\n",
      "   <link href=\"https://data-x.blog/wp-json/oembed/1.0/embed?url=https%3A%2F%2Fdata-x.blog%2F&amp;format=xml\" rel=\"alternate\" type=\"text/xml+oembed\"/>\n",
      "   <link href=\"//widgets.wp.com\" rel=\"dns-prefetch\"/>\n",
      "   <link href=\"//s0.wp.com\" rel=\"dns-prefetch\"/>\n",
      "   <link href=\"//0.gravatar.com\" rel=\"dns-prefetch\"/>\n",
      "   <link href=\"//1.gravatar.com\" rel=\"dns-prefetch\"/>\n",
      "   <link href=\"//2.gravatar.com\" rel=\"dns-prefetch\"/>\n",
      "   <link href=\"//jetpack.wordpress.com\" rel=\"dns-prefetch\"/>\n",
      "   <link href=\"//s1.wp.com\" rel=\"dns-prefetch\"/>\n",
      "   <link href=\"//s2.wp.com\" rel=\"dns-prefetch\"/>\n",
      "   <link href=\"//public-api.wordpress.com\" rel=\"dns-prefetch\"/>\n",
      "   <link href=\"//i0.wp.com\" rel=\"dns-prefetch\"/>\n",
      "   <link href=\"//i1.wp.com\" rel=\"dns-prefetch\"/>\n",
      "   <link href=\"//i2.wp.com\" rel=\"dns-prefetch\"/>\n",
      "   <link href=\"//c0.wp.com\" rel=\"dns-prefetch\"/>\n",
      "   <style type=\"text/css\">\n",
      "    img#wpstats{display:none}\n",
      "   </style>\n",
      "   <meta content=\"This is just a short excerpt for the about page.\" name=\"description\">\n",
      "    <!-- Jetpack Open Graph Tags -->\n",
      "    <meta content=\"website\" property=\"og:type\">\n",
      "     <meta content=\"Data-X at Berkeley\" property=\"og:title\"/>\n",
      "     <meta content=\"https://data-x.blog/\" property=\"og:url\"/>\n",
      "     <meta content=\"Data-X at Berkeley\" property=\"og:site_name\"/>\n",
      "     <meta content=\"https://data-x.blog/wp-content/uploads/2016/12/screen-shot-2017-05-04-at-6-59-17-pm-1024x574.png\" property=\"og:image\"/>\n",
      "     <meta content=\"1024\" property=\"og:image:width\"/>\n",
      "     <meta content=\"574\" property=\"og:image:height\"/>\n",
      "     <meta content=\"en_US\" property=\"og:locale\"/>\n",
      "     <meta content=\"About Data-X\" name=\"twitter:text:title\"/>\n",
      "     <meta content=\"summary\" name=\"twitter:card\"/>\n",
      "     <meta content=\"Visit the post for more.\" name=\"twitter:description\"/>\n",
      "     <!-- End Jetpack Open Graph Tags -->\n",
      "     <link href=\"https://s0.wp.com/i/webclip.png\" rel=\"icon\" sizes=\"32x32\"/>\n",
      "     <link href=\"https://s0.wp.com/i/webclip.png\" rel=\"icon\" sizes=\"192x192\"/>\n",
      "     <link href=\"https://s0.wp.com/i/webclip.png\" rel=\"apple-touch-icon-precomposed\"/>\n",
      "     <meta content=\"https://s0.wp.com/i/webclip.png\" name=\"msapplication-TileImage\"/>\n",
      "     <style id=\"wp-custom-css\" type=\"text/css\">\n",
      "      /*Computer screen */\n",
      "@media screen and (min-width: 48em) {\n",
      "\t.twentyseventeen-front-page.has-header-image .custom-header-image {\n",
      "\t/*height: 1200px;*/\n",
      "\t/*height: 100vh;*/\n",
      "\theight: 35vh;\n",
      "\t/*max-height: 100%;*/\n",
      "\t/*overflow: hidden;*/\n",
      "\t}\n",
      "}\n",
      "\n",
      "/* Mobile screen*/\n",
      ".has-header-image.twentyseventeen-front-page .custom-header {\n",
      "\t/*display: table;*/\n",
      "\t/*height: 300px;*/\n",
      "\t/*height: 75vh;*/\n",
      "\theight: 35vh;\n",
      "\t/*width: 100%;*/\n",
      "}\n",
      "\n",
      "/* Computer screen with logged in user and admin bar showing on front end*/\n",
      "@media screen and (min-width: 48em) {\n",
      "\t.admin-bar.twentyseventeen-front-page.has-header-image .custom-header-image {\n",
      "\t/*height: calc(100vh - 32px);*/\n",
      "\theight: calc(50vh - 32px);\n",
      "\t}\n",
      "}\n",
      "\n",
      ".wrap {\n",
      "max-width: 1100px !important;\n",
      "}\n",
      "\n",
      ".page.page-one-column:not(.twentyseventeen-front-page) #primary {\n",
      "max-width: 100% !important;\n",
      "}\n",
      "\n",
      "@media screen and (min-width: 48em) {\n",
      ".wrap {\n",
      "max-width: 1100px !important;\n",
      "}\n",
      "}\n",
      "\n",
      "@media screen and (min-width: 30em) {\n",
      "\n",
      ".page-one-column .panel-content .wrap {\n",
      "max-width: 1100px !important;\n",
      "}\n",
      "}\n",
      "\n",
      "@media screen and (max-width: 650px) {\n",
      "\n",
      ".wrap {\n",
      "max-width: 95% !important;\n",
      "}\n",
      "}\n",
      "     </style>\n",
      "    </meta>\n",
      "   </meta>\n",
      "  </link>\n",
      " </head>\n",
      " <body class=\"home page-template-default page page-id-2 wp-embed-responsive twentyseventeen-front-page has-header-image page-one-column colors-light cannot-edit\">\n",
      "  <div class=\"site\" id=\"page\">\n",
      "   <a class=\"skip-link screen-reader-text\" href=\"#content\">\n",
      "    Skip to content\n",
      "   </a>\n",
      "   <header class=\"site-header\" id=\"masthead\" role=\"banner\">\n",
      "    <div class=\"custom-header\">\n",
      "     <div class=\"custom-header-media\">\n",
      "      <div class=\"wp-custom-header\" id=\"wp-custom-header\">\n",
      "       <img alt=\"Data-X at Berkeley\" height=\"973\" sizes=\"100vw\" src=\"https://data-x.blog/wp-content/uploads/2018/04/cropped-AdobeStock_120712749-Converted.png\" srcset=\"https://i2.wp.com/data-x.blog/wp-content/uploads/2018/04/cropped-AdobeStock_120712749-Converted.png?w=2000&amp;ssl=1 2000w, https://i2.wp.com/data-x.blog/wp-content/uploads/2018/04/cropped-AdobeStock_120712749-Converted.png?resize=300%2C146&amp;ssl=1 300w, https://i2.wp.com/data-x.blog/wp-content/uploads/2018/04/cropped-AdobeStock_120712749-Converted.png?resize=768%2C374&amp;ssl=1 768w, https://i2.wp.com/data-x.blog/wp-content/uploads/2018/04/cropped-AdobeStock_120712749-Converted.png?resize=1024%2C498&amp;ssl=1 1024w, https://i2.wp.com/data-x.blog/wp-content/uploads/2018/04/cropped-AdobeStock_120712749-Converted.png?w=1288&amp;ssl=1 1288w, https://i2.wp.com/data-x.blog/wp-content/uploads/2018/04/cropped-AdobeStock_120712749-Converted.png?w=1932&amp;ssl=1 1932w\" width=\"2000\"/>\n",
      "      </div>\n",
      "     </div>\n",
      "     <div class=\"site-branding\">\n",
      "      <div class=\"wrap\">\n",
      "       <div class=\"site-branding-text\">\n",
      "        <h1 class=\"site-title\">\n",
      "         <a href=\"https://data-x.blog/\" rel=\"home\">\n",
      "          Data-X at Berkeley\n",
      "         </a>\n",
      "        </h1>\n",
      "       </div>\n",
      "       <!-- .site-branding-text -->\n",
      "      </div>\n",
      "      <!-- .wrap -->\n",
      "     </div>\n",
      "     <!-- .site-branding -->\n",
      "    </div>\n",
      "    <!-- .custom-header -->\n",
      "    <div class=\"navigation-top\">\n",
      "     <div class=\"wrap\">\n",
      "      <nav aria-label=\"Top Menu\" class=\"main-navigation\" id=\"site-navigation\" role=\"navigation\">\n",
      "       <button aria-controls=\"top-menu\" aria-expanded=\"false\" class=\"menu-toggle\">\n",
      "        <svg aria-hidden=\"true\" class=\"icon icon-bars\" role=\"img\">\n",
      "         <use href=\"#icon-bars\" xlink:href=\"#icon-bars\">\n",
      "         </use>\n",
      "        </svg>\n",
      "        <svg aria-hidden=\"true\" class=\"icon icon-close\" role=\"img\">\n",
      "         <use href=\"#icon-close\" xlink:href=\"#icon-close\">\n",
      "         </use>\n",
      "        </svg>\n",
      "        Menu\n",
      "       </button>\n",
      "       <div class=\"menu-primary-container\">\n",
      "        <ul class=\"menu\" id=\"top-menu\">\n",
      "         <li class=\"menu-item menu-item-type-custom menu-item-object-custom current-menu-item current_page_item menu-item-8\" id=\"menu-item-8\">\n",
      "          <a aria-current=\"page\" href=\"/\">\n",
      "           Home\n",
      "          </a>\n",
      "         </li>\n",
      "         <li class=\"menu-item menu-item-type-post_type menu-item-object-page menu-item-726\" id=\"menu-item-726\">\n",
      "          <a href=\"https://data-x.blog/about-data-x/\">\n",
      "           About Data-X\n",
      "          </a>\n",
      "         </li>\n",
      "         <li class=\"menu-item menu-item-type-post_type menu-item-object-page menu-item-183\" id=\"menu-item-183\">\n",
      "          <a href=\"https://data-x.blog/resources/\">\n",
      "           Resources\n",
      "          </a>\n",
      "         </li>\n",
      "         <li class=\"menu-item menu-item-type-post_type menu-item-object-page menu-item-1055\" id=\"menu-item-1055\">\n",
      "          <a href=\"https://data-x.blog/dx-online/\">\n",
      "           Data-X Online\n",
      "          </a>\n",
      "         </li>\n",
      "         <li class=\"menu-item menu-item-type-post_type menu-item-object-page menu-item-102\" id=\"menu-item-102\">\n",
      "          <a href=\"https://data-x.blog/syllabus/\">\n",
      "           Berkeley Syllabus\n",
      "          </a>\n",
      "         </li>\n",
      "         <li class=\"menu-item menu-item-type-custom menu-item-object-custom menu-item-has-children menu-item-719\" id=\"menu-item-719\">\n",
      "          <a href=\"http://data-x.blog/projects\">\n",
      "           Projects\n",
      "           <svg aria-hidden=\"true\" class=\"icon icon-angle-down\" role=\"img\">\n",
      "            <use href=\"#icon-angle-down\" xlink:href=\"#icon-angle-down\">\n",
      "            </use>\n",
      "           </svg>\n",
      "          </a>\n",
      "          <ul class=\"sub-menu\">\n",
      "           <li class=\"menu-item menu-item-type-post_type menu-item-object-page menu-item-1387\" id=\"menu-item-1387\">\n",
      "            <a href=\"https://data-x.blog/project-guideline/\">\n",
      "             Project Guideline\n",
      "            </a>\n",
      "           </li>\n",
      "           <li class=\"menu-item menu-item-type-post_type menu-item-object-page menu-item-1450\" id=\"menu-item-1450\">\n",
      "            <a href=\"https://data-x.blog/innovation-engineering-book/\">\n",
      "             Innovation Engineering Book\n",
      "            </a>\n",
      "           </li>\n",
      "           <li class=\"menu-item menu-item-type-custom menu-item-object-custom menu-item-572\" id=\"menu-item-572\">\n",
      "            <a href=\"http://data-x.blog/projects\">\n",
      "             Past Projects\n",
      "            </a>\n",
      "           </li>\n",
      "           <li class=\"menu-item menu-item-type-custom menu-item-object-custom menu-item-737\" id=\"menu-item-737\">\n",
      "            <a href=\"http://data-x.blog/project-ideas\">\n",
      "             Project Ideas\n",
      "            </a>\n",
      "           </li>\n",
      "           <li class=\"menu-item menu-item-type-post_type menu-item-object-page menu-item-485\" id=\"menu-item-485\">\n",
      "            <a href=\"https://data-x.blog/advisors/\">\n",
      "             Advisors\n",
      "            </a>\n",
      "           </li>\n",
      "          </ul>\n",
      "         </li>\n",
      "         <li class=\"menu-item menu-item-type-custom menu-item-object-custom menu-item-738\" id=\"menu-item-738\">\n",
      "          <a href=\"http://data-x.blog/posts\">\n",
      "           Posts\n",
      "          </a>\n",
      "         </li>\n",
      "         <li class=\"menu-item menu-item-type-post_type menu-item-object-page menu-item-129\" id=\"menu-item-129\">\n",
      "          <a href=\"https://data-x.blog/project/\">\n",
      "           Labs\n",
      "          </a>\n",
      "         </li>\n",
      "         <li class=\"menu-item menu-item-type-post_type menu-item-object-page menu-item-10\" id=\"menu-item-10\">\n",
      "          <a href=\"https://data-x.blog/contact/\">\n",
      "           Contact\n",
      "          </a>\n",
      "         </li>\n",
      "        </ul>\n",
      "       </div>\n",
      "       <a class=\"menu-scroll-down\" href=\"#content\">\n",
      "        <svg aria-hidden=\"true\" class=\"icon icon-arrow-right\" role=\"img\">\n",
      "         <use href=\"#icon-arrow-right\" xlink:href=\"#icon-arrow-right\">\n",
      "         </use>\n",
      "        </svg>\n",
      "        <span class=\"screen-reader-text\">\n",
      "         Scroll down to content\n",
      "        </span>\n",
      "       </a>\n",
      "      </nav>\n",
      "      <!-- #site-navigation -->\n",
      "     </div>\n",
      "     <!-- .wrap -->\n",
      "    </div>\n",
      "    <!-- .navigation-top -->\n",
      "   </header>\n",
      "   <!-- #masthead -->\n",
      "   <div class=\"site-content-contain\">\n",
      "    <div class=\"site-content\" id=\"content\">\n",
      "     <div class=\"content-area\" id=\"primary\">\n",
      "      <main class=\"site-main\" id=\"main\" role=\"main\">\n",
      "       <article class=\"twentyseventeen-panel post-2 page type-page status-publish hentry\" id=\"post-2\">\n",
      "        <div class=\"panel-content\">\n",
      "         <div class=\"wrap\">\n",
      "          <header class=\"entry-header\">\n",
      "           <h2 class=\"entry-title\">\n",
      "            About Data-X\n",
      "           </h2>\n",
      "          </header>\n",
      "          <!-- .entry-header -->\n",
      "          <div class=\"entry-content\">\n",
      "           <h2>\n",
      "            Data-X:\n",
      "           </h2>\n",
      "           <h3>\n",
      "            For Data, AI, and Information Technology &amp; Systems\n",
      "           </h3>\n",
      "           <p>\n",
      "            Ikhlaq Sidhu, UC Berkeley (\n",
      "            <a href=\"http://data-x.blog/contact/\">\n",
      "             contact\n",
      "            </a>\n",
      "            )\n",
      "            <br/>\n",
      "            Arash Nourian, UC Berkeley (\n",
      "            <a href=\"http://data-x.blog/contact/\">\n",
      "             contact\n",
      "            </a>\n",
      "            )\n",
      "           </p>\n",
      "           <p class=\"p1\">\n",
      "            Data-X is a framework designed at UC Berkeley for learning and applying AI, data science, and emerging technologies. Data-X fills a gap between theory and practice to empower data and AI projects.  Data-X projects create new ventures, new research, and corporate innovations all over the world.\n",
      "           </p>\n",
      "           <p>\n",
      "            <strong>\n",
      "             Who is it for:\n",
      "             <br/>\n",
      "            </strong>\n",
      "            For students interested in careers, new ventures, and innovative projects in areas related to data science and information technology systems.\n",
      "           </p>\n",
      "           <h3>\n",
      "            <img alt=\"Screen-Shot-2017-05-04-at-6.59.17-PM-1024x574\" class=\"alignnone size-full wp-image-453\" data-attachment-id=\"453\" data-comments-opened=\"1\" data-image-description=\"\" data-image-meta='{\"aperture\":\"0\",\"credit\":\"\",\"camera\":\"\",\"caption\":\"\",\"created_timestamp\":\"0\",\"copyright\":\"\",\"focal_length\":\"0\",\"iso\":\"0\",\"shutter_speed\":\"0\",\"title\":\"\",\"orientation\":\"0\"}' data-image-title=\"Screen-Shot-2017-05-04-at-6.59.17-PM-1024×574\" data-large-file=\"https://i1.wp.com/data-x.blog/wp-content/uploads/2016/12/screen-shot-2017-05-04-at-6-59-17-pm-1024x574.png?fit=644%2C361&amp;ssl=1\" data-medium-file=\"https://i1.wp.com/data-x.blog/wp-content/uploads/2016/12/screen-shot-2017-05-04-at-6-59-17-pm-1024x574.png?fit=300%2C168&amp;ssl=1\" data-orig-file=\"https://i1.wp.com/data-x.blog/wp-content/uploads/2016/12/screen-shot-2017-05-04-at-6-59-17-pm-1024x574.png?fit=1024%2C574&amp;ssl=1\" data-orig-size=\"1024,574\" data-permalink=\"https://data-x.blog/about/screen-shot-2017-05-04-at-6-59-17-pm-1024x574/\" data-recalc-dims=\"1\" height=\"361\" src=\"https://i1.wp.com/data-x.blog/wp-content/uploads/2016/12/screen-shot-2017-05-04-at-6-59-17-pm-1024x574.png?resize=644%2C361&amp;ssl=1\" style=\"color: var(--color-text); font-size: 16px; font-weight: 400;\" width=\"644\"/>\n",
      "           </h3>\n",
      "           <p>\n",
      "            <strong>\n",
      "             What is the problem:\n",
      "             <br/>\n",
      "            </strong>\n",
      "            Taking a purely theoretical course is not enough.  Students often take course after course in technical subject areas without being able to implement, apply, and/or make an innovative impact.\n",
      "            <strong>\n",
      "             <br/>\n",
      "            </strong>\n",
      "           </p>\n",
      "           <p>\n",
      "            <strong>\n",
      "             The Solution:\n",
      "             <br/>\n",
      "            </strong>\n",
      "            Data-X places a real life innovative emerging technology project at the center of a learning experience that includes powerful tools, theory, and innovation behaviors and mindset.  Data-X also builds on\n",
      "            <a href=\"http://innovation-engineering.net\" rel=\"noopener noreferrer\" target=\"_blank\">\n",
      "             Innovation Engineering\n",
      "            </a>\n",
      "            , a powerful framework for guiding innovation projects.\n",
      "            <strong>\n",
      "             <br/>\n",
      "            </strong>\n",
      "           </p>\n",
      "           <p>\n",
      "            <img alt=\"dx-project\" class=\"alignnone size-full wp-image-331\" data-attachment-id=\"331\" data-comments-opened=\"1\" data-image-description=\"\" data-image-meta='{\"aperture\":\"0\",\"credit\":\"\",\"camera\":\"\",\"caption\":\"\",\"created_timestamp\":\"0\",\"copyright\":\"\",\"focal_length\":\"0\",\"iso\":\"0\",\"shutter_speed\":\"0\",\"title\":\"\",\"orientation\":\"0\"}' data-image-title=\"dx-project\" data-large-file=\"https://i2.wp.com/data-x.blog/wp-content/uploads/2017/01/dx-project-e1498414303751.jpg?fit=573%2C228&amp;ssl=1\" data-medium-file=\"https://i2.wp.com/data-x.blog/wp-content/uploads/2017/01/dx-project-e1498414303751.jpg?fit=300%2C119&amp;ssl=1\" data-orig-file=\"https://i2.wp.com/data-x.blog/wp-content/uploads/2017/01/dx-project-e1498414303751.jpg?fit=573%2C228&amp;ssl=1\" data-orig-size=\"573,228\" data-permalink=\"https://data-x.blog/syllabus/dx-project/\" data-recalc-dims=\"1\" height=\"228\" src=\"https://i2.wp.com/data-x.blog/wp-content/uploads/2017/01/dx-project-e1498414303751.jpg?resize=573%2C228&amp;ssl=1\" width=\"573\"/>\n",
      "           </p>\n",
      "           <p>\n",
      "            <strong>\n",
      "             Unlike Other Courses:\n",
      "            </strong>\n",
      "            <br/>\n",
      "            Bring your own ideas into an integrative project that can help students pursue new opportunities ranging from starting a new venture to interviewing for industry positions.\n",
      "           </p>\n",
      "           <p>\n",
      "            Learn more from these articles:\n",
      "           </p>\n",
      "           <ul>\n",
      "            <li>\n",
      "             <a href=\"https://scet.berkeley.edu/learning-rapid-implementation-of-ai-and-data/\">\n",
      "              https://scet.berkeley.edu/learning-rapid-implementation-of-ai-and-data/\n",
      "             </a>\n",
      "            </li>\n",
      "            <li>\n",
      "             <a href=\"https://scet.berkeley.edu/data-ai-blockchain-projects-work-in-real-life/\">\n",
      "              https://scet.berkeley.edu/data-ai-blockchain-projects-work-in-real-life/\n",
      "             </a>\n",
      "            </li>\n",
      "           </ul>\n",
      "           <h3>\n",
      "            <strong>\n",
      "             Curriculum at Berkeley\n",
      "            </strong>\n",
      "           </h3>\n",
      "           <p>\n",
      "            At UC Berkeley, Data-X is offered as a 3 unit class called Applied Data Science with Venture Applications.\n",
      "           </p>\n",
      "           <p>\n",
      "            <strong>\n",
      "             Applied Data Science with Venture Applications\n",
      "            </strong>\n",
      "            <br/>\n",
      "            <strong>\n",
      "             Spring 2019 course information:\n",
      "            </strong>\n",
      "           </p>\n",
      "           <ul>\n",
      "            <li>\n",
      "             <strong>\n",
      "              Undergrad:\n",
      "             </strong>\n",
      "             INDENG\n",
      "             <span class=\"il\">\n",
      "              135\n",
      "             </span>\n",
      "            </li>\n",
      "            <li>\n",
      "             <strong>\n",
      "              Grad Section:\n",
      "             </strong>\n",
      "             INDENG 290\n",
      "            </li>\n",
      "            <li>\n",
      "             <strong>\n",
      "              Location:\n",
      "             </strong>\n",
      "             See\n",
      "             <a href=\"https://classes.berkeley.edu/\" rel=\"nofollow\">\n",
      "              https://classes.berkeley.edu/\n",
      "             </a>\n",
      "            </li>\n",
      "            <li>\n",
      "             <em>\n",
      "              <strong>\n",
      "               Prerequisite\n",
      "              </strong>\n",
      "             </em>\n",
      "             : Students should have a working knowledge of Python, have completed a fundamental probability / statistics course, as well as have a basic understanding Linear Algebra.\n",
      "            </li>\n",
      "           </ul>\n",
      "           <p>\n",
      "            While the course offers instruction on tools and methods in data science, the Data-X project includes new open-ended problems with industry, social, and venture perspectives on utilizing data for rapid impact.\n",
      "            <a href=\"https://data-x.blog/projects/\">\n",
      "             Click here to see examples of projects completed earlier semesters.\n",
      "            </a>\n",
      "           </p>\n",
      "           <h3>\n",
      "            <strong>\n",
      "             Masterclasses for Technical Leaders and Executives\n",
      "            </strong>\n",
      "           </h3>\n",
      "           <p>\n",
      "            <strong>\n",
      "             Past and Upcoming Workshops, Bootcamps and talks related to Data-X:\n",
      "            </strong>\n",
      "           </p>\n",
      "           <ul>\n",
      "            <li>\n",
      "             Data-X Masterclass for Technical Leaders, Hightech Summit, Germany, February 2019\n",
      "            </li>\n",
      "            <li>\n",
      "             CIO Connect Data Science Master Class, From Data Strategy to Implementation, Hong Kong Sept 2018\n",
      "            </li>\n",
      "            <li>\n",
      "             Applied Analytics for Competitive Advantage: Data Strategies for Disruptive Impact\u000b",
      "Manilla, Philippines Sept. 2018\n",
      "            </li>\n",
      "            <li>\n",
      "             Data-X lectures on AI and Blockchain, ICE-IEEE Conference, Stuttgart, Germany, June 19th 2018 (\n",
      "             <a href=\"http://www.ice-conference.org/\">\n",
      "              ICE/IEEE website\n",
      "             </a>\n",
      "             )\n",
      "            </li>\n",
      "            <li>\n",
      "             Data-X Masterclass for Technical Leaders, HKBU, Hong Kong, May 24th-25th 2018\n",
      "            </li>\n",
      "            <li>\n",
      "             <span style=\"font-size: 1rem;\">\n",
      "              Data-X Masterclass, Applied Analytics in Business Projects, University of Economics, Prague, April 26-27th 2018 (\n",
      "              <a href=\"http://dataxprague.cz/\">\n",
      "               Official Website\n",
      "              </a>\n",
      "              )\n",
      "             </span>\n",
      "            </li>\n",
      "            <li>\n",
      "             Data-X Masterclass for Technical Leaders, Hong Kong, January 25th-26th, 2018 (\n",
      "             <a href=\"https://github.com/afo/dataXhkbu\">\n",
      "              Github link\n",
      "             </a>\n",
      "             ,\n",
      "             <a href=\"https://event.hkbu.edu.hk/en/event.php?id=430\">\n",
      "              HKBU event\n",
      "             </a>\n",
      "             ,\n",
      "             <a href=\"http://scet.berkeley.edu/ikhlaq-sidhu-addresses-data-science-hong-kong-baptist-university/\">\n",
      "              SCET article\n",
      "             </a>\n",
      "             )\n",
      "            </li>\n",
      "            <li>\n",
      "             “Research Trends in AI with Venture Applications”, at GMIC, Hong Kong, October 2017\n",
      "            </li>\n",
      "            <li>\n",
      "             “Turning Data into Dollars”, CIO Connect, Hong Kong, September 11, 2017\n",
      "            </li>\n",
      "            <li>\n",
      "             “Data at Scale, AI, and Business Models”, Jardines CIO Conference, July 2017\n",
      "            </li>\n",
      "            <li>\n",
      "             “How Data and AI Affect Business, Government, and Society”, July 2017\n",
      "            </li>\n",
      "           </ul>\n",
      "           <h3>\n",
      "           </h3>\n",
      "           <h3>\n",
      "            Data-X Breadth: Trends &amp;\n",
      "            <span style=\"font-size: 18.72px;\">\n",
      "             Industry\n",
      "            </span>\n",
      "            Updates\n",
      "           </h3>\n",
      "           <ul>\n",
      "            <li>\n",
      "             Ref B01:\n",
      "             <a href=\"http://scet.berkeley.edu/data-strategy-working-hard-enough/\">\n",
      "              Is Your Data Strategy Working Hard Enough\n",
      "             </a>\n",
      "            </li>\n",
      "            <li>\n",
      "             Ref B02:\n",
      "             <a href=\"https://data-x.blog/wp-content/uploads/2017/12/fueling-growth-through-data-monetization-mckinsey-company1.pdf\">\n",
      "              Fueling growth through data monetization | McKinsey,\n",
      "             </a>\n",
      "             (\n",
      "             <a href=\"https://www.mckinsey.com/business-functions/mckinsey-analytics/our-insights/fueling-growth-through-data-monetization?cid=other-eml-alt-mip-mck-oth-1712\">\n",
      "              original\n",
      "             </a>\n",
      "             )\n",
      "            </li>\n",
      "            <li>\n",
      "             Ref B03:\n",
      "             <a href=\"http://scet.berkeley.edu/berkeley-x/data-ai-blockchain-projects-work-in-real-life/\" rel=\"noopener noreferrer\" target=\"_blank\">\n",
      "              AI, Data, and Blockchain Projects that Work in Real Life\n",
      "             </a>\n",
      "            </li>\n",
      "            <li>\n",
      "             Ref B04:\n",
      "             <a href=\"https://data-x.blog/wp-content/uploads/2016/12/why-you_re-not-getting-value-from-your-data-science.pdf\">\n",
      "              Why you’re not getting value from your data science\n",
      "             </a>\n",
      "            </li>\n",
      "            <li>\n",
      "             Ref B05:\n",
      "             <a href=\"https://data-x.blog/wp-content/uploads/2018/04/How-to-Make-Your-Company-Machine-Learning-Ready.pdf\" title=\"How to Make Your Company Machine Learning Ready\">\n",
      "              How to Make Your Company Machine Learning Ready\n",
      "             </a>\n",
      "            </li>\n",
      "            <li>\n",
      "             Ref B06:\n",
      "             <a href=\"https://data-x.blog/wp-content/uploads/2018/05/Artificial-Intelligence-—-The-Revolution-Hasn’t-Happened-Yet.pdf\" title=\"Artificial Intelligence — The Revolution Hasn’t Happened Yet\">\n",
      "              Artificial Intelligence — The Revolution Hasn’t Happened Yet\n",
      "             </a>\n",
      "            </li>\n",
      "            <li>\n",
      "             Ref B07:\n",
      "             <a href=\"https://blogs.wsj.com/cio/2018/06/12/companies-eager-to-expand-digital-business-learn-value-of-the-once-obscure-api/\">\n",
      "              The Importance and Value of APIs (WSJ)\n",
      "             </a>\n",
      "            </li>\n",
      "            <li>\n",
      "             Ref B08: Agile Data Analytics:\n",
      "             <a href=\"https://apiumhub.com/tech-blog-barcelona/scrum-sprint-explanation/\" rel=\"noopener noreferrer\" target=\"_blank\">\n",
      "              Scrum\n",
      "             </a>\n",
      "             ,\n",
      "             <a href=\"https://www.locallyoptimistic.com/post/agile-analytics-p1/\" rel=\"noopener noreferrer\" target=\"_blank\">\n",
      "              Agile Analytics I\n",
      "             </a>\n",
      "             ,\n",
      "             <a href=\"https://www.locallyoptimistic.com/post/agile-analytics-p2/\" rel=\"noopener noreferrer\" target=\"_blank\">\n",
      "              Agile Analytics II\n",
      "             </a>\n",
      "             ,\n",
      "             <a href=\"https://www.locallyoptimistic.com/post/agile-analytics-p3/\" rel=\"noopener noreferrer\" target=\"_blank\">\n",
      "              Agile Analytics III\n",
      "             </a>\n",
      "            </li>\n",
      "            <li>\n",
      "             Ref B09:\n",
      "             <a href=\"https://towardsdatascience.com/introducing-the-ai-project-canvas-e88e29eb7024\" rel=\"noopener noreferrer\" target=\"_blank\">\n",
      "              AI Project Canvas\n",
      "             </a>\n",
      "            </li>\n",
      "            <li>\n",
      "             Ref B10:\n",
      "             <a href=\"https://datasetsearch.research.google.com/\" rel=\"noopener noreferrer\" target=\"_blank\">\n",
      "              Google Data Sets\n",
      "             </a>\n",
      "             ,\n",
      "             <a href=\"https://towardsdatascience.com/google-just-published-25-million-free-datasets-d83940e24284\" rel=\"noopener noreferrer\" target=\"_blank\">\n",
      "              Article\n",
      "             </a>\n",
      "            </li>\n",
      "           </ul>\n",
      "          </div>\n",
      "          <!-- .entry-content -->\n",
      "         </div>\n",
      "         <!-- .wrap -->\n",
      "        </div>\n",
      "        <!-- .panel-content -->\n",
      "       </article>\n",
      "       <!-- #post-## -->\n",
      "      </main>\n",
      "      <!-- #main -->\n",
      "     </div>\n",
      "     <!-- #primary -->\n",
      "    </div>\n",
      "    <!-- #content -->\n",
      "    <footer class=\"site-footer\" id=\"colophon\" role=\"contentinfo\">\n",
      "     <div class=\"wrap\">\n",
      "      <nav aria-label=\"Footer Social Links Menu\" class=\"social-navigation\" role=\"navigation\">\n",
      "       <div class=\"menu-social-links-container\">\n",
      "        <ul class=\"social-links-menu\" id=\"menu-social-links\">\n",
      "         <li class=\"menu-item menu-item-type-custom menu-item-object-custom menu-item-11\" id=\"menu-item-11\">\n",
      "          <a href=\"https://twitter.com/\">\n",
      "           <span class=\"screen-reader-text\">\n",
      "            Twitter\n",
      "           </span>\n",
      "           <svg aria-hidden=\"true\" class=\"icon icon-twitter\" role=\"img\">\n",
      "            <use href=\"#icon-twitter\" xlink:href=\"#icon-twitter\">\n",
      "            </use>\n",
      "           </svg>\n",
      "          </a>\n",
      "         </li>\n",
      "         <li class=\"menu-item menu-item-type-custom menu-item-object-custom menu-item-12\" id=\"menu-item-12\">\n",
      "          <a href=\"https://www.facebook.com/\">\n",
      "           <span class=\"screen-reader-text\">\n",
      "            Facebook\n",
      "           </span>\n",
      "           <svg aria-hidden=\"true\" class=\"icon icon-facebook\" role=\"img\">\n",
      "            <use href=\"#icon-facebook\" xlink:href=\"#icon-facebook\">\n",
      "            </use>\n",
      "           </svg>\n",
      "          </a>\n",
      "         </li>\n",
      "         <li class=\"menu-item menu-item-type-custom menu-item-object-custom menu-item-13\" id=\"menu-item-13\">\n",
      "          <a href=\"http://plus.google.com\">\n",
      "           <span class=\"screen-reader-text\">\n",
      "            Google+\n",
      "           </span>\n",
      "           <svg aria-hidden=\"true\" class=\"icon icon-google-plus\" role=\"img\">\n",
      "            <use href=\"#icon-google-plus\" xlink:href=\"#icon-google-plus\">\n",
      "            </use>\n",
      "           </svg>\n",
      "          </a>\n",
      "         </li>\n",
      "         <li class=\"menu-item menu-item-type-custom menu-item-object-custom menu-item-14\" id=\"menu-item-14\">\n",
      "          <a href=\"http://github.com\">\n",
      "           <span class=\"screen-reader-text\">\n",
      "            GitHub\n",
      "           </span>\n",
      "           <svg aria-hidden=\"true\" class=\"icon icon-github\" role=\"img\">\n",
      "            <use href=\"#icon-github\" xlink:href=\"#icon-github\">\n",
      "            </use>\n",
      "           </svg>\n",
      "          </a>\n",
      "         </li>\n",
      "         <li class=\"menu-item menu-item-type-custom menu-item-object-custom menu-item-15\" id=\"menu-item-15\">\n",
      "          <a href=\"http://wordpress.com\">\n",
      "           <span class=\"screen-reader-text\">\n",
      "            WordPress.com\n",
      "           </span>\n",
      "           <svg aria-hidden=\"true\" class=\"icon icon-wordpress\" role=\"img\">\n",
      "            <use href=\"#icon-wordpress\" xlink:href=\"#icon-wordpress\">\n",
      "            </use>\n",
      "           </svg>\n",
      "          </a>\n",
      "         </li>\n",
      "        </ul>\n",
      "       </div>\n",
      "      </nav>\n",
      "      <!-- .social-navigation -->\n",
      "      <div class=\"site-info\">\n",
      "       <a href=\"https://wordpress.com/?ref=footer_custom_powered\">\n",
      "        Powered by WordPress.com\n",
      "       </a>\n",
      "       .\n",
      "      </div>\n",
      "      <!-- .site-info -->\n",
      "     </div>\n",
      "     <!-- .wrap -->\n",
      "    </footer>\n",
      "    <!-- #colophon -->\n",
      "   </div>\n",
      "   <!-- .site-content-contain -->\n",
      "  </div>\n",
      "  <!-- #page -->\n",
      "  <!-- -->\n",
      "  <!-- Your Google Analytics Plugin is missing the tracking ID -->\n",
      "  <div style=\"display:none\">\n",
      "  </div>\n",
      "  <script src=\"https://c0.wp.com/p/jetpack/8.3/_inc/build/photon/photon.min.js\" type=\"text/javascript\">\n",
      "  </script>\n",
      "  <script type=\"text/javascript\">\n",
      "   /* <![CDATA[ */\n",
      "var twentyseventeenScreenReaderText = {\"quote\":\"<svg class=\\\"icon icon-quote-right\\\" aria-hidden=\\\"true\\\" role=\\\"img\\\"> <use href=\\\"#icon-quote-right\\\" xlink:href=\\\"#icon-quote-right\\\"><\\/use> <\\/svg>\",\"expand\":\"Expand child menu\",\"collapse\":\"Collapse child menu\",\"icon\":\"<svg class=\\\"icon icon-angle-down\\\" aria-hidden=\\\"true\\\" role=\\\"img\\\"> <use href=\\\"#icon-angle-down\\\" xlink:href=\\\"#icon-angle-down\\\"><\\/use> <span class=\\\"svg-fallback icon-angle-down\\\"><\\/span><\\/svg>\"};\n",
      "/* ]]> */\n",
      "  </script>\n",
      "  <script src=\"https://data-x.blog/wp-content/themes/twentyseventeen/assets/js/skip-link-focus-fix.js?ver=1.0\" type=\"text/javascript\">\n",
      "  </script>\n",
      "  <script src=\"https://data-x.blog/wp-content/themes/twentyseventeen/assets/js/navigation.js?ver=1.0\" type=\"text/javascript\">\n",
      "  </script>\n",
      "  <script src=\"https://data-x.blog/wp-content/themes/twentyseventeen/assets/js/global.js?ver=1.0\" type=\"text/javascript\">\n",
      "  </script>\n",
      "  <script src=\"https://data-x.blog/wp-content/themes/twentyseventeen/assets/js/jquery.scrollTo.js?ver=2.1.2\" type=\"text/javascript\">\n",
      "  </script>\n",
      "  <script src=\"https://c0.wp.com/p/jetpack/8.3/_inc/build/likes/queuehandler.min.js\" type=\"text/javascript\">\n",
      "  </script>\n",
      "  <script src=\"https://c0.wp.com/c/5.3.2/wp-includes/js/wp-embed.min.js\" type=\"text/javascript\">\n",
      "  </script>\n",
      "  <script src=\"https://c0.wp.com/p/jetpack/8.3/_inc/build/spin.min.js\" type=\"text/javascript\">\n",
      "  </script>\n",
      "  <script src=\"https://c0.wp.com/p/jetpack/8.3/_inc/build/jquery.spin.min.js\" type=\"text/javascript\">\n",
      "  </script>\n",
      "  <script type=\"text/javascript\">\n",
      "   /* <![CDATA[ */\n",
      "var jetpackCarouselStrings = {\"widths\":[370,700,1000,1200,1400,2000],\"is_logged_in\":\"\",\"lang\":\"en\",\"ajaxurl\":\"https:\\/\\/data-x.blog\\/wp-admin\\/admin-ajax.php\",\"nonce\":\"731552403f\",\"display_exif\":\"1\",\"display_geo\":\"1\",\"single_image_gallery\":\"1\",\"single_image_gallery_media_file\":\"\",\"background_color\":\"black\",\"comment\":\"Comment\",\"post_comment\":\"Post Comment\",\"write_comment\":\"Write a Comment...\",\"loading_comments\":\"Loading Comments...\",\"download_original\":\"View full size <span class=\\\"photo-size\\\">{0}<span class=\\\"photo-size-times\\\">\\u00d7<\\/span>{1}<\\/span>\",\"no_comment_text\":\"Please be sure to submit some text with your comment.\",\"no_comment_email\":\"Please provide an email address to comment.\",\"no_comment_author\":\"Please provide your name to comment.\",\"comment_post_error\":\"Sorry, but there was an error posting your comment. Please try again later.\",\"comment_approved\":\"Your comment was approved.\",\"comment_unapproved\":\"Your comment is in moderation.\",\"camera\":\"Camera\",\"aperture\":\"Aperture\",\"shutter_speed\":\"Shutter Speed\",\"focal_length\":\"Focal Length\",\"copyright\":\"Copyright\",\"comment_registration\":\"0\",\"require_name_email\":\"1\",\"login_url\":\"https:\\/\\/data-x.blog\\/wp-login.php?redirect_to=https%3A%2F%2Fdata-x.blog%2F\",\"blog_id\":\"1\",\"meta_data\":[\"camera\",\"aperture\",\"shutter_speed\",\"focal_length\",\"copyright\"],\"local_comments_commenting_as\":\"<fieldset><label for=\\\"email\\\">Email (Required)<\\/label> <input type=\\\"text\\\" name=\\\"email\\\" class=\\\"jp-carousel-comment-form-field jp-carousel-comment-form-text-field\\\" id=\\\"jp-carousel-comment-form-email-field\\\" \\/><\\/fieldset><fieldset><label for=\\\"author\\\">Name (Required)<\\/label> <input type=\\\"text\\\" name=\\\"author\\\" class=\\\"jp-carousel-comment-form-field jp-carousel-comment-form-text-field\\\" id=\\\"jp-carousel-comment-form-author-field\\\" \\/><\\/fieldset><fieldset><label for=\\\"url\\\">Website<\\/label> <input type=\\\"text\\\" name=\\\"url\\\" class=\\\"jp-carousel-comment-form-field jp-carousel-comment-form-text-field\\\" id=\\\"jp-carousel-comment-form-url-field\\\" \\/><\\/fieldset>\"};\n",
      "/* ]]> */\n",
      "  </script>\n",
      "  <script src=\"https://c0.wp.com/p/jetpack/8.3/_inc/build/carousel/jetpack-carousel.min.js\" type=\"text/javascript\">\n",
      "  </script>\n",
      "  <script async=\"async\" defer=\"defer\" src=\"https://stats.wp.com/e-202011.js\" type=\"text/javascript\">\n",
      "  </script>\n",
      "  <script type=\"text/javascript\">\n",
      "   _stq = window._stq || [];\n",
      "\t_stq.push([ 'view', {v:'ext',j:'1:8.3',blog:'120928364',post:'2',tz:'0',srv:'data-x.blog'} ]);\n",
      "\t_stq.push([ 'clickTrackerInit', '120928364', '2' ]);\n",
      "  </script>\n",
      "  <svg style=\"position: absolute; width: 0; height: 0; overflow: hidden;\" version=\"1.1\" xmlns=\"http://www.w3.org/2000/svg\" xmlns:xlink=\"http://www.w3.org/1999/xlink\">\n",
      "   <defs>\n",
      "    <symbol id=\"icon-behance\" viewbox=\"0 0 37 32\">\n",
      "     <path class=\"path1\" d=\"M33 6.054h-9.125v2.214h9.125v-2.214zM28.5 13.661q-1.607 0-2.607 0.938t-1.107 2.545h7.286q-0.321-3.482-3.571-3.482zM28.786 24.107q1.125 0 2.179-0.571t1.357-1.554h3.946q-1.786 5.482-7.625 5.482-3.821 0-6.080-2.357t-2.259-6.196q0-3.714 2.33-6.17t6.009-2.455q2.464 0 4.295 1.214t2.732 3.196 0.902 4.429q0 0.304-0.036 0.839h-11.75q0 1.982 1.027 3.063t2.973 1.080zM4.946 23.214h5.286q3.661 0 3.661-2.982 0-3.214-3.554-3.214h-5.393v6.196zM4.946 13.625h5.018q1.393 0 2.205-0.652t0.813-2.027q0-2.571-3.393-2.571h-4.643v5.25zM0 4.536h10.607q1.554 0 2.768 0.25t2.259 0.848 1.607 1.723 0.563 2.75q0 3.232-3.071 4.696 2.036 0.571 3.071 2.054t1.036 3.643q0 1.339-0.438 2.438t-1.179 1.848-1.759 1.268-2.161 0.75-2.393 0.232h-10.911v-22.5z\">\n",
      "     </path>\n",
      "    </symbol>\n",
      "    <symbol id=\"icon-deviantart\" viewbox=\"0 0 18 32\">\n",
      "     <path class=\"path1\" d=\"M18.286 5.411l-5.411 10.393 0.429 0.554h4.982v7.411h-9.054l-0.786 0.536-2.536 4.875-0.536 0.536h-5.375v-5.411l5.411-10.411-0.429-0.536h-4.982v-7.411h9.054l0.786-0.536 2.536-4.875 0.536-0.536h5.375v5.411z\">\n",
      "     </path>\n",
      "    </symbol>\n",
      "    <symbol id=\"icon-medium\" viewbox=\"0 0 32 32\">\n",
      "     <path class=\"path1\" d=\"M10.661 7.518v20.946q0 0.446-0.223 0.759t-0.652 0.313q-0.304 0-0.589-0.143l-8.304-4.161q-0.375-0.179-0.634-0.598t-0.259-0.83v-20.357q0-0.357 0.179-0.607t0.518-0.25q0.25 0 0.786 0.268l9.125 4.571q0.054 0.054 0.054 0.089zM11.804 9.321l9.536 15.464-9.536-4.75v-10.714zM32 9.643v18.821q0 0.446-0.25 0.723t-0.679 0.277-0.839-0.232l-7.875-3.929zM31.946 7.5q0 0.054-4.58 7.491t-5.366 8.705l-6.964-11.321 5.786-9.411q0.304-0.5 0.929-0.5 0.25 0 0.464 0.107l9.661 4.821q0.071 0.036 0.071 0.107z\">\n",
      "     </path>\n",
      "    </symbol>\n",
      "    <symbol id=\"icon-slideshare\" viewbox=\"0 0 32 32\">\n",
      "     <path class=\"path1\" d=\"M15.589 13.214q0 1.482-1.134 2.545t-2.723 1.063-2.723-1.063-1.134-2.545q0-1.5 1.134-2.554t2.723-1.054 2.723 1.054 1.134 2.554zM24.554 13.214q0 1.482-1.125 2.545t-2.732 1.063q-1.589 0-2.723-1.063t-1.134-2.545q0-1.5 1.134-2.554t2.723-1.054q1.607 0 2.732 1.054t1.125 2.554zM28.571 16.429v-11.911q0-1.554-0.571-2.205t-1.982-0.652h-19.857q-1.482 0-2.009 0.607t-0.527 2.25v12.018q0.768 0.411 1.58 0.714t1.446 0.5 1.446 0.33 1.268 0.196 1.25 0.071 1.045 0.009 1.009-0.036 0.795-0.036q1.214-0.018 1.696 0.482 0.107 0.107 0.179 0.161 0.464 0.446 1.089 0.911 0.125-1.625 2.107-1.554 0.089 0 0.652 0.027t0.768 0.036 0.813 0.018 0.946-0.018 0.973-0.080 1.089-0.152 1.107-0.241 1.196-0.348 1.205-0.482 1.286-0.616zM31.482 16.339q-2.161 2.661-6.643 4.5 1.5 5.089-0.411 8.304-1.179 2.018-3.268 2.643-1.857 0.571-3.25-0.268-1.536-0.911-1.464-2.929l-0.018-5.821v-0.018q-0.143-0.036-0.438-0.107t-0.42-0.089l-0.018 6.036q0.071 2.036-1.482 2.929-1.411 0.839-3.268 0.268-2.089-0.643-3.25-2.679-1.875-3.214-0.393-8.268-4.482-1.839-6.643-4.5-0.446-0.661-0.071-1.125t1.071 0.018q0.054 0.036 0.196 0.125t0.196 0.143v-12.393q0-1.286 0.839-2.196t2.036-0.911h22.446q1.196 0 2.036 0.911t0.839 2.196v12.393l0.375-0.268q0.696-0.482 1.071-0.018t-0.071 1.125z\">\n",
      "     </path>\n",
      "    </symbol>\n",
      "    <symbol id=\"icon-snapchat-ghost\" viewbox=\"0 0 30 32\">\n",
      "     <path class=\"path1\" d=\"M15.143 2.286q2.393-0.018 4.295 1.223t2.92 3.438q0.482 1.036 0.482 3.196 0 0.839-0.161 3.411 0.25 0.125 0.5 0.125 0.321 0 0.911-0.241t0.911-0.241q0.518 0 1 0.321t0.482 0.821q0 0.571-0.563 0.964t-1.232 0.563-1.232 0.518-0.563 0.848q0 0.268 0.214 0.768 0.661 1.464 1.83 2.679t2.58 1.804q0.5 0.214 1.429 0.411 0.5 0.107 0.5 0.625 0 1.25-3.911 1.839-0.125 0.196-0.196 0.696t-0.25 0.83-0.589 0.33q-0.357 0-1.107-0.116t-1.143-0.116q-0.661 0-1.107 0.089-0.571 0.089-1.125 0.402t-1.036 0.679-1.036 0.723-1.357 0.598-1.768 0.241q-0.929 0-1.723-0.241t-1.339-0.598-1.027-0.723-1.036-0.679-1.107-0.402q-0.464-0.089-1.125-0.089-0.429 0-1.17 0.134t-1.045 0.134q-0.446 0-0.625-0.33t-0.25-0.848-0.196-0.714q-3.911-0.589-3.911-1.839 0-0.518 0.5-0.625 0.929-0.196 1.429-0.411 1.393-0.571 2.58-1.804t1.83-2.679q0.214-0.5 0.214-0.768 0-0.5-0.563-0.848t-1.241-0.527-1.241-0.563-0.563-0.938q0-0.482 0.464-0.813t0.982-0.33q0.268 0 0.857 0.232t0.946 0.232q0.321 0 0.571-0.125-0.161-2.536-0.161-3.393 0-2.179 0.482-3.214 1.143-2.446 3.071-3.536t4.714-1.125z\">\n",
      "     </path>\n",
      "    </symbol>\n",
      "    <symbol id=\"icon-yelp\" viewbox=\"0 0 27 32\">\n",
      "     <path class=\"path1\" d=\"M13.804 23.554v2.268q-0.018 5.214-0.107 5.446-0.214 0.571-0.911 0.714-0.964 0.161-3.241-0.679t-2.902-1.589q-0.232-0.268-0.304-0.643-0.018-0.214 0.071-0.464 0.071-0.179 0.607-0.839t3.232-3.857q0.018 0 1.071-1.25 0.268-0.339 0.705-0.438t0.884 0.063q0.429 0.179 0.67 0.518t0.223 0.75zM11.143 19.071q-0.054 0.982-0.929 1.25l-2.143 0.696q-4.911 1.571-5.214 1.571-0.625-0.036-0.964-0.643-0.214-0.446-0.304-1.339-0.143-1.357 0.018-2.973t0.536-2.223 1-0.571q0.232 0 3.607 1.375 1.25 0.518 2.054 0.839l1.5 0.607q0.411 0.161 0.634 0.545t0.205 0.866zM25.893 24.375q-0.125 0.964-1.634 2.875t-2.42 2.268q-0.661 0.25-1.125-0.125-0.25-0.179-3.286-5.125l-0.839-1.375q-0.25-0.375-0.205-0.821t0.348-0.821q0.625-0.768 1.482-0.464 0.018 0.018 2.125 0.714 3.625 1.179 4.321 1.42t0.839 0.366q0.5 0.393 0.393 1.089zM13.893 13.089q0.089 1.821-0.964 2.179-1.036 0.304-2.036-1.268l-6.75-10.679q-0.143-0.625 0.339-1.107 0.732-0.768 3.705-1.598t4.009-0.563q0.714 0.179 0.875 0.804 0.054 0.321 0.393 5.455t0.429 6.777zM25.714 15.018q0.054 0.696-0.464 1.054-0.268 0.179-5.875 1.536-1.196 0.268-1.625 0.411l0.018-0.036q-0.411 0.107-0.821-0.071t-0.661-0.571q-0.536-0.839 0-1.554 0.018-0.018 1.339-1.821 2.232-3.054 2.679-3.643t0.607-0.696q0.5-0.339 1.161-0.036 0.857 0.411 2.196 2.384t1.446 2.991v0.054z\">\n",
      "     </path>\n",
      "    </symbol>\n",
      "    <symbol id=\"icon-vine\" viewbox=\"0 0 27 32\">\n",
      "     <path class=\"path1\" d=\"M26.732 14.768v3.536q-1.804 0.411-3.536 0.411-1.161 2.429-2.955 4.839t-3.241 3.848-2.286 1.902q-1.429 0.804-2.893-0.054-0.5-0.304-1.080-0.777t-1.518-1.491-1.83-2.295-1.92-3.286-1.884-4.357-1.634-5.616-1.259-6.964h5.054q0.464 3.893 1.25 7.116t1.866 5.661 2.17 4.205 2.5 3.482q3.018-3.018 5.125-7.25-2.536-1.286-3.982-3.929t-1.446-5.946q0-3.429 1.857-5.616t5.071-2.188q3.179 0 4.875 1.884t1.696 5.313q0 2.839-1.036 5.107-0.125 0.018-0.348 0.054t-0.821 0.036-1.125-0.107-1.107-0.455-0.902-0.92q0.554-1.839 0.554-3.286 0-1.554-0.518-2.357t-1.411-0.804q-0.946 0-1.518 0.884t-0.571 2.509q0 3.321 1.875 5.241t4.768 1.92q1.107 0 2.161-0.25z\">\n",
      "     </path>\n",
      "    </symbol>\n",
      "    <symbol id=\"icon-vk\" viewbox=\"0 0 35 32\">\n",
      "     <path class=\"path1\" d=\"M34.232 9.286q0.411 1.143-2.679 5.25-0.429 0.571-1.161 1.518-1.393 1.786-1.607 2.339-0.304 0.732 0.25 1.446 0.304 0.375 1.446 1.464h0.018l0.071 0.071q2.518 2.339 3.411 3.946 0.054 0.089 0.116 0.223t0.125 0.473-0.009 0.607-0.446 0.491-1.054 0.223l-4.571 0.071q-0.429 0.089-1-0.089t-0.929-0.393l-0.357-0.214q-0.536-0.375-1.25-1.143t-1.223-1.384-1.089-1.036-1.009-0.277q-0.054 0.018-0.143 0.063t-0.304 0.259-0.384 0.527-0.304 0.929-0.116 1.384q0 0.268-0.063 0.491t-0.134 0.33l-0.071 0.089q-0.321 0.339-0.946 0.393h-2.054q-1.268 0.071-2.607-0.295t-2.348-0.946-1.839-1.179-1.259-1.027l-0.446-0.429q-0.179-0.179-0.491-0.536t-1.277-1.625-1.893-2.696-2.188-3.768-2.33-4.857q-0.107-0.286-0.107-0.482t0.054-0.286l0.071-0.107q0.268-0.339 1.018-0.339l4.893-0.036q0.214 0.036 0.411 0.116t0.286 0.152l0.089 0.054q0.286 0.196 0.429 0.571 0.357 0.893 0.821 1.848t0.732 1.455l0.286 0.518q0.518 1.071 1 1.857t0.866 1.223 0.741 0.688 0.607 0.25 0.482-0.089q0.036-0.018 0.089-0.089t0.214-0.393 0.241-0.839 0.17-1.446 0-2.232q-0.036-0.714-0.161-1.304t-0.25-0.821l-0.107-0.214q-0.446-0.607-1.518-0.768-0.232-0.036 0.089-0.429 0.304-0.339 0.679-0.536 0.946-0.464 4.268-0.429 1.464 0.018 2.411 0.232 0.357 0.089 0.598 0.241t0.366 0.429 0.188 0.571 0.063 0.813-0.018 0.982-0.045 1.259-0.027 1.473q0 0.196-0.018 0.75t-0.009 0.857 0.063 0.723 0.205 0.696 0.402 0.438q0.143 0.036 0.304 0.071t0.464-0.196 0.679-0.616 0.929-1.196 1.214-1.92q1.071-1.857 1.911-4.018 0.071-0.179 0.179-0.313t0.196-0.188l0.071-0.054 0.089-0.045t0.232-0.054 0.357-0.009l5.143-0.036q0.696-0.089 1.143 0.045t0.554 0.295z\">\n",
      "     </path>\n",
      "    </symbol>\n",
      "    <symbol id=\"icon-search\" viewbox=\"0 0 30 32\">\n",
      "     <path class=\"path1\" d=\"M20.571 14.857q0-3.304-2.348-5.652t-5.652-2.348-5.652 2.348-2.348 5.652 2.348 5.652 5.652 2.348 5.652-2.348 2.348-5.652zM29.714 29.714q0 0.929-0.679 1.607t-1.607 0.679q-0.964 0-1.607-0.679l-6.125-6.107q-3.196 2.214-7.125 2.214-2.554 0-4.884-0.991t-4.018-2.679-2.679-4.018-0.991-4.884 0.991-4.884 2.679-4.018 4.018-2.679 4.884-0.991 4.884 0.991 4.018 2.679 2.679 4.018 0.991 4.884q0 3.929-2.214 7.125l6.125 6.125q0.661 0.661 0.661 1.607z\">\n",
      "     </path>\n",
      "    </symbol>\n",
      "    <symbol id=\"icon-envelope-o\" viewbox=\"0 0 32 32\">\n",
      "     <path class=\"path1\" d=\"M29.714 26.857v-13.714q-0.571 0.643-1.232 1.179-4.786 3.679-7.607 6.036-0.911 0.768-1.482 1.196t-1.545 0.866-1.83 0.438h-0.036q-0.857 0-1.83-0.438t-1.545-0.866-1.482-1.196q-2.821-2.357-7.607-6.036-0.661-0.536-1.232-1.179v13.714q0 0.232 0.17 0.402t0.402 0.17h26.286q0.232 0 0.402-0.17t0.17-0.402zM29.714 8.089v-0.438t-0.009-0.232-0.054-0.223-0.098-0.161-0.161-0.134-0.25-0.045h-26.286q-0.232 0-0.402 0.17t-0.17 0.402q0 3 2.625 5.071 3.446 2.714 7.161 5.661 0.107 0.089 0.625 0.527t0.821 0.67 0.795 0.563 0.902 0.491 0.768 0.161h0.036q0.357 0 0.768-0.161t0.902-0.491 0.795-0.563 0.821-0.67 0.625-0.527q3.714-2.946 7.161-5.661 0.964-0.768 1.795-2.063t0.83-2.348zM32 7.429v19.429q0 1.179-0.839 2.018t-2.018 0.839h-26.286q-1.179 0-2.018-0.839t-0.839-2.018v-19.429q0-1.179 0.839-2.018t2.018-0.839h26.286q1.179 0 2.018 0.839t0.839 2.018z\">\n",
      "     </path>\n",
      "    </symbol>\n",
      "    <symbol id=\"icon-close\" viewbox=\"0 0 25 32\">\n",
      "     <path class=\"path1\" d=\"M23.179 23.607q0 0.714-0.5 1.214l-2.429 2.429q-0.5 0.5-1.214 0.5t-1.214-0.5l-5.25-5.25-5.25 5.25q-0.5 0.5-1.214 0.5t-1.214-0.5l-2.429-2.429q-0.5-0.5-0.5-1.214t0.5-1.214l5.25-5.25-5.25-5.25q-0.5-0.5-0.5-1.214t0.5-1.214l2.429-2.429q0.5-0.5 1.214-0.5t1.214 0.5l5.25 5.25 5.25-5.25q0.5-0.5 1.214-0.5t1.214 0.5l2.429 2.429q0.5 0.5 0.5 1.214t-0.5 1.214l-5.25 5.25 5.25 5.25q0.5 0.5 0.5 1.214z\">\n",
      "     </path>\n",
      "    </symbol>\n",
      "    <symbol id=\"icon-angle-down\" viewbox=\"0 0 21 32\">\n",
      "     <path class=\"path1\" d=\"M19.196 13.143q0 0.232-0.179 0.411l-8.321 8.321q-0.179 0.179-0.411 0.179t-0.411-0.179l-8.321-8.321q-0.179-0.179-0.179-0.411t0.179-0.411l0.893-0.893q0.179-0.179 0.411-0.179t0.411 0.179l7.018 7.018 7.018-7.018q0.179-0.179 0.411-0.179t0.411 0.179l0.893 0.893q0.179 0.179 0.179 0.411z\">\n",
      "     </path>\n",
      "    </symbol>\n",
      "    <symbol id=\"icon-folder-open\" viewbox=\"0 0 34 32\">\n",
      "     <path class=\"path1\" d=\"M33.554 17q0 0.554-0.554 1.179l-6 7.071q-0.768 0.911-2.152 1.545t-2.563 0.634h-19.429q-0.607 0-1.080-0.232t-0.473-0.768q0-0.554 0.554-1.179l6-7.071q0.768-0.911 2.152-1.545t2.563-0.634h19.429q0.607 0 1.080 0.232t0.473 0.768zM27.429 10.857v2.857h-14.857q-1.679 0-3.518 0.848t-2.929 2.134l-6.107 7.179q0-0.071-0.009-0.223t-0.009-0.223v-17.143q0-1.643 1.179-2.821t2.821-1.179h5.714q1.643 0 2.821 1.179t1.179 2.821v0.571h9.714q1.643 0 2.821 1.179t1.179 2.821z\">\n",
      "     </path>\n",
      "    </symbol>\n",
      "    <symbol id=\"icon-twitter\" viewbox=\"0 0 30 32\">\n",
      "     <path class=\"path1\" d=\"M28.929 7.286q-1.196 1.75-2.893 2.982 0.018 0.25 0.018 0.75 0 2.321-0.679 4.634t-2.063 4.437-3.295 3.759-4.607 2.607-5.768 0.973q-4.839 0-8.857-2.589 0.625 0.071 1.393 0.071 4.018 0 7.161-2.464-1.875-0.036-3.357-1.152t-2.036-2.848q0.589 0.089 1.089 0.089 0.768 0 1.518-0.196-2-0.411-3.313-1.991t-1.313-3.67v-0.071q1.214 0.679 2.607 0.732-1.179-0.786-1.875-2.054t-0.696-2.75q0-1.571 0.786-2.911 2.161 2.661 5.259 4.259t6.634 1.777q-0.143-0.679-0.143-1.321 0-2.393 1.688-4.080t4.080-1.688q2.5 0 4.214 1.821 1.946-0.375 3.661-1.393-0.661 2.054-2.536 3.179 1.661-0.179 3.321-0.893z\">\n",
      "     </path>\n",
      "    </symbol>\n",
      "    <symbol id=\"icon-facebook\" viewbox=\"0 0 19 32\">\n",
      "     <path class=\"path1\" d=\"M17.125 0.214v4.714h-2.804q-1.536 0-2.071 0.643t-0.536 1.929v3.375h5.232l-0.696 5.286h-4.536v13.554h-5.464v-13.554h-4.554v-5.286h4.554v-3.893q0-3.321 1.857-5.152t4.946-1.83q2.625 0 4.071 0.214z\">\n",
      "     </path>\n",
      "    </symbol>\n",
      "    <symbol id=\"icon-github\" viewbox=\"0 0 27 32\">\n",
      "     <path class=\"path1\" d=\"M13.714 2.286q3.732 0 6.884 1.839t4.991 4.991 1.839 6.884q0 4.482-2.616 8.063t-6.759 4.955q-0.482 0.089-0.714-0.125t-0.232-0.536q0-0.054 0.009-1.366t0.009-2.402q0-1.732-0.929-2.536 1.018-0.107 1.83-0.321t1.679-0.696 1.446-1.188 0.946-1.875 0.366-2.688q0-2.125-1.411-3.679 0.661-1.625-0.143-3.643-0.5-0.161-1.446 0.196t-1.643 0.786l-0.679 0.429q-1.661-0.464-3.429-0.464t-3.429 0.464q-0.286-0.196-0.759-0.482t-1.491-0.688-1.518-0.241q-0.804 2.018-0.143 3.643-1.411 1.554-1.411 3.679 0 1.518 0.366 2.679t0.938 1.875 1.438 1.196 1.679 0.696 1.83 0.321q-0.696 0.643-0.875 1.839-0.375 0.179-0.804 0.268t-1.018 0.089-1.17-0.384-0.991-1.116q-0.339-0.571-0.866-0.929t-0.884-0.429l-0.357-0.054q-0.375 0-0.518 0.080t-0.089 0.205 0.161 0.25 0.232 0.214l0.125 0.089q0.393 0.179 0.777 0.679t0.563 0.911l0.179 0.411q0.232 0.679 0.786 1.098t1.196 0.536 1.241 0.125 0.991-0.063l0.411-0.071q0 0.679 0.009 1.58t0.009 0.973q0 0.321-0.232 0.536t-0.714 0.125q-4.143-1.375-6.759-4.955t-2.616-8.063q0-3.732 1.839-6.884t4.991-4.991 6.884-1.839zM5.196 21.982q0.054-0.125-0.125-0.214-0.179-0.054-0.232 0.036-0.054 0.125 0.125 0.214 0.161 0.107 0.232-0.036zM5.75 22.589q0.125-0.089-0.036-0.286-0.179-0.161-0.286-0.054-0.125 0.089 0.036 0.286 0.179 0.179 0.286 0.054zM6.286 23.393q0.161-0.125 0-0.339-0.143-0.232-0.304-0.107-0.161 0.089 0 0.321t0.304 0.125zM7.036 24.143q0.143-0.143-0.071-0.339-0.214-0.214-0.357-0.054-0.161 0.143 0.071 0.339 0.214 0.214 0.357 0.054zM8.054 24.589q0.054-0.196-0.232-0.286-0.268-0.071-0.339 0.125t0.232 0.268q0.268 0.107 0.339-0.107zM9.179 24.679q0-0.232-0.304-0.196-0.286 0-0.286 0.196 0 0.232 0.304 0.196 0.286 0 0.286-0.196zM10.214 24.5q-0.036-0.196-0.321-0.161-0.286 0.054-0.25 0.268t0.321 0.143 0.25-0.25z\">\n",
      "     </path>\n",
      "    </symbol>\n",
      "    <symbol id=\"icon-bars\" viewbox=\"0 0 27 32\">\n",
      "     <path class=\"path1\" d=\"M27.429 24v2.286q0 0.464-0.339 0.804t-0.804 0.339h-25.143q-0.464 0-0.804-0.339t-0.339-0.804v-2.286q0-0.464 0.339-0.804t0.804-0.339h25.143q0.464 0 0.804 0.339t0.339 0.804zM27.429 14.857v2.286q0 0.464-0.339 0.804t-0.804 0.339h-25.143q-0.464 0-0.804-0.339t-0.339-0.804v-2.286q0-0.464 0.339-0.804t0.804-0.339h25.143q0.464 0 0.804 0.339t0.339 0.804zM27.429 5.714v2.286q0 0.464-0.339 0.804t-0.804 0.339h-25.143q-0.464 0-0.804-0.339t-0.339-0.804v-2.286q0-0.464 0.339-0.804t0.804-0.339h25.143q0.464 0 0.804 0.339t0.339 0.804z\">\n",
      "     </path>\n",
      "    </symbol>\n",
      "    <symbol id=\"icon-google-plus\" viewbox=\"0 0 41 32\">\n",
      "     <path class=\"path1\" d=\"M25.661 16.304q0 3.714-1.554 6.616t-4.429 4.536-6.589 1.634q-2.661 0-5.089-1.036t-4.179-2.786-2.786-4.179-1.036-5.089 1.036-5.089 2.786-4.179 4.179-2.786 5.089-1.036q5.107 0 8.768 3.429l-3.554 3.411q-2.089-2.018-5.214-2.018-2.196 0-4.063 1.107t-2.955 3.009-1.089 4.152 1.089 4.152 2.955 3.009 4.063 1.107q1.482 0 2.723-0.411t2.045-1.027 1.402-1.402 0.875-1.482 0.384-1.321h-7.429v-4.5h12.357q0.214 1.125 0.214 2.179zM41.143 14.125v3.75h-3.732v3.732h-3.75v-3.732h-3.732v-3.75h3.732v-3.732h3.75v3.732h3.732z\">\n",
      "     </path>\n",
      "    </symbol>\n",
      "    <symbol id=\"icon-linkedin\" viewbox=\"0 0 27 32\">\n",
      "     <path class=\"path1\" d=\"M6.232 11.161v17.696h-5.893v-17.696h5.893zM6.607 5.696q0.018 1.304-0.902 2.179t-2.42 0.875h-0.036q-1.464 0-2.357-0.875t-0.893-2.179q0-1.321 0.92-2.188t2.402-0.866 2.375 0.866 0.911 2.188zM27.429 18.714v10.143h-5.875v-9.464q0-1.875-0.723-2.938t-2.259-1.063q-1.125 0-1.884 0.616t-1.134 1.527q-0.196 0.536-0.196 1.446v9.875h-5.875q0.036-7.125 0.036-11.554t-0.018-5.286l-0.018-0.857h5.875v2.571h-0.036q0.357-0.571 0.732-1t1.009-0.929 1.554-0.777 2.045-0.277q3.054 0 4.911 2.027t1.857 5.938z\">\n",
      "     </path>\n",
      "    </symbol>\n",
      "    <symbol id=\"icon-quote-right\" viewbox=\"0 0 30 32\">\n",
      "     <path class=\"path1\" d=\"M13.714 5.714v12.571q0 1.857-0.723 3.545t-1.955 2.92-2.92 1.955-3.545 0.723h-1.143q-0.464 0-0.804-0.339t-0.339-0.804v-2.286q0-0.464 0.339-0.804t0.804-0.339h1.143q1.893 0 3.232-1.339t1.339-3.232v-0.571q0-0.714-0.5-1.214t-1.214-0.5h-4q-1.429 0-2.429-1t-1-2.429v-6.857q0-1.429 1-2.429t2.429-1h6.857q1.429 0 2.429 1t1 2.429zM29.714 5.714v12.571q0 1.857-0.723 3.545t-1.955 2.92-2.92 1.955-3.545 0.723h-1.143q-0.464 0-0.804-0.339t-0.339-0.804v-2.286q0-0.464 0.339-0.804t0.804-0.339h1.143q1.893 0 3.232-1.339t1.339-3.232v-0.571q0-0.714-0.5-1.214t-1.214-0.5h-4q-1.429 0-2.429-1t-1-2.429v-6.857q0-1.429 1-2.429t2.429-1h6.857q1.429 0 2.429 1t1 2.429z\">\n",
      "     </path>\n",
      "    </symbol>\n",
      "    <symbol id=\"icon-mail-reply\" viewbox=\"0 0 32 32\">\n",
      "     <path class=\"path1\" d=\"M32 20q0 2.964-2.268 8.054-0.054 0.125-0.188 0.429t-0.241 0.536-0.232 0.393q-0.214 0.304-0.5 0.304-0.268 0-0.42-0.179t-0.152-0.446q0-0.161 0.045-0.473t0.045-0.42q0.089-1.214 0.089-2.196 0-1.804-0.313-3.232t-0.866-2.473-1.429-1.804-1.884-1.241-2.375-0.759-2.75-0.384-3.134-0.107h-4v4.571q0 0.464-0.339 0.804t-0.804 0.339-0.804-0.339l-9.143-9.143q-0.339-0.339-0.339-0.804t0.339-0.804l9.143-9.143q0.339-0.339 0.804-0.339t0.804 0.339 0.339 0.804v4.571h4q12.732 0 15.625 7.196 0.946 2.393 0.946 5.946z\">\n",
      "     </path>\n",
      "    </symbol>\n",
      "    <symbol id=\"icon-youtube\" viewbox=\"0 0 27 32\">\n",
      "     <path class=\"path1\" d=\"M17.339 22.214v3.768q0 1.196-0.696 1.196-0.411 0-0.804-0.393v-5.375q0.393-0.393 0.804-0.393 0.696 0 0.696 1.196zM23.375 22.232v0.821h-1.607v-0.821q0-1.214 0.804-1.214t0.804 1.214zM6.125 18.339h1.911v-1.679h-5.571v1.679h1.875v10.161h1.786v-10.161zM11.268 28.5h1.589v-8.821h-1.589v6.75q-0.536 0.75-1.018 0.75-0.321 0-0.375-0.375-0.018-0.054-0.018-0.625v-6.5h-1.589v6.982q0 0.875 0.143 1.304 0.214 0.661 1.036 0.661 0.857 0 1.821-1.089v0.964zM18.929 25.857v-3.518q0-1.304-0.161-1.768-0.304-1-1.268-1-0.893 0-1.661 0.964v-3.875h-1.589v11.839h1.589v-0.857q0.804 0.982 1.661 0.982 0.964 0 1.268-0.982 0.161-0.482 0.161-1.786zM24.964 25.679v-0.232h-1.625q0 0.911-0.036 1.089-0.125 0.643-0.714 0.643-0.821 0-0.821-1.232v-1.554h3.196v-1.839q0-1.411-0.482-2.071-0.696-0.911-1.893-0.911-1.214 0-1.911 0.911-0.5 0.661-0.5 2.071v3.089q0 1.411 0.518 2.071 0.696 0.911 1.929 0.911 1.286 0 1.929-0.946 0.321-0.482 0.375-0.964 0.036-0.161 0.036-1.036zM14.107 9.375v-3.75q0-1.232-0.768-1.232t-0.768 1.232v3.75q0 1.25 0.768 1.25t0.768-1.25zM26.946 22.786q0 4.179-0.464 6.25-0.25 1.054-1.036 1.768t-1.821 0.821q-3.286 0.375-9.911 0.375t-9.911-0.375q-1.036-0.107-1.83-0.821t-1.027-1.768q-0.464-2-0.464-6.25 0-4.179 0.464-6.25 0.25-1.054 1.036-1.768t1.839-0.839q3.268-0.357 9.893-0.357t9.911 0.357q1.036 0.125 1.83 0.839t1.027 1.768q0.464 2 0.464 6.25zM9.125 0h1.821l-2.161 7.125v4.839h-1.786v-4.839q-0.25-1.321-1.089-3.786-0.661-1.839-1.161-3.339h1.893l1.268 4.696zM15.732 5.946v3.125q0 1.446-0.5 2.107-0.661 0.911-1.893 0.911-1.196 0-1.875-0.911-0.5-0.679-0.5-2.107v-3.125q0-1.429 0.5-2.089 0.679-0.911 1.875-0.911 1.232 0 1.893 0.911 0.5 0.661 0.5 2.089zM21.714 3.054v8.911h-1.625v-0.982q-0.946 1.107-1.839 1.107-0.821 0-1.054-0.661-0.143-0.429-0.143-1.339v-7.036h1.625v6.554q0 0.589 0.018 0.625 0.054 0.393 0.375 0.393 0.482 0 1.018-0.768v-6.804h1.625z\">\n",
      "     </path>\n",
      "    </symbol>\n",
      "    <symbol id=\"icon-dropbox\" viewbox=\"0 0 32 32\">\n",
      "     <path class=\"path1\" d=\"M7.179 12.625l8.821 5.446-6.107 5.089-8.75-5.696zM24.786 22.536v1.929l-8.75 5.232v0.018l-0.018-0.018-0.018 0.018v-0.018l-8.732-5.232v-1.929l2.625 1.714 6.107-5.071v-0.036l0.018 0.018 0.018-0.018v0.036l6.125 5.071zM9.893 2.107l6.107 5.089-8.821 5.429-6.036-4.821zM24.821 12.625l6.036 4.839-8.732 5.696-6.125-5.089zM22.125 2.107l8.732 5.696-6.036 4.821-8.821-5.429z\">\n",
      "     </path>\n",
      "    </symbol>\n",
      "    <symbol id=\"icon-instagram\" viewbox=\"0 0 27 32\">\n",
      "     <path class=\"path1\" d=\"M18.286 16q0-1.893-1.339-3.232t-3.232-1.339-3.232 1.339-1.339 3.232 1.339 3.232 3.232 1.339 3.232-1.339 1.339-3.232zM20.75 16q0 2.929-2.054 4.982t-4.982 2.054-4.982-2.054-2.054-4.982 2.054-4.982 4.982-2.054 4.982 2.054 2.054 4.982zM22.679 8.679q0 0.679-0.482 1.161t-1.161 0.482-1.161-0.482-0.482-1.161 0.482-1.161 1.161-0.482 1.161 0.482 0.482 1.161zM13.714 4.75q-0.125 0-1.366-0.009t-1.884 0-1.723 0.054-1.839 0.179-1.277 0.33q-0.893 0.357-1.571 1.036t-1.036 1.571q-0.196 0.518-0.33 1.277t-0.179 1.839-0.054 1.723 0 1.884 0.009 1.366-0.009 1.366 0 1.884 0.054 1.723 0.179 1.839 0.33 1.277q0.357 0.893 1.036 1.571t1.571 1.036q0.518 0.196 1.277 0.33t1.839 0.179 1.723 0.054 1.884 0 1.366-0.009 1.366 0.009 1.884 0 1.723-0.054 1.839-0.179 1.277-0.33q0.893-0.357 1.571-1.036t1.036-1.571q0.196-0.518 0.33-1.277t0.179-1.839 0.054-1.723 0-1.884-0.009-1.366 0.009-1.366 0-1.884-0.054-1.723-0.179-1.839-0.33-1.277q-0.357-0.893-1.036-1.571t-1.571-1.036q-0.518-0.196-1.277-0.33t-1.839-0.179-1.723-0.054-1.884 0-1.366 0.009zM27.429 16q0 4.089-0.089 5.661-0.179 3.714-2.214 5.75t-5.75 2.214q-1.571 0.089-5.661 0.089t-5.661-0.089q-3.714-0.179-5.75-2.214t-2.214-5.75q-0.089-1.571-0.089-5.661t0.089-5.661q0.179-3.714 2.214-5.75t5.75-2.214q1.571-0.089 5.661-0.089t5.661 0.089q3.714 0.179 5.75 2.214t2.214 5.75q0.089 1.571 0.089 5.661z\">\n",
      "     </path>\n",
      "    </symbol>\n",
      "    <symbol id=\"icon-flickr\" viewbox=\"0 0 27 32\">\n",
      "     <path class=\"path1\" d=\"M22.286 2.286q2.125 0 3.634 1.509t1.509 3.634v17.143q0 2.125-1.509 3.634t-3.634 1.509h-17.143q-2.125 0-3.634-1.509t-1.509-3.634v-17.143q0-2.125 1.509-3.634t3.634-1.509h17.143zM12.464 16q0-1.571-1.107-2.679t-2.679-1.107-2.679 1.107-1.107 2.679 1.107 2.679 2.679 1.107 2.679-1.107 1.107-2.679zM22.536 16q0-1.571-1.107-2.679t-2.679-1.107-2.679 1.107-1.107 2.679 1.107 2.679 2.679 1.107 2.679-1.107 1.107-2.679z\">\n",
      "     </path>\n",
      "    </symbol>\n",
      "    <symbol id=\"icon-tumblr\" viewbox=\"0 0 19 32\">\n",
      "     <path class=\"path1\" d=\"M16.857 23.732l1.429 4.232q-0.411 0.625-1.982 1.179t-3.161 0.571q-1.857 0.036-3.402-0.464t-2.545-1.321-1.696-1.893-0.991-2.143-0.295-2.107v-9.714h-3v-3.839q1.286-0.464 2.304-1.241t1.625-1.607 1.036-1.821 0.607-1.768 0.268-1.58q0.018-0.089 0.080-0.152t0.134-0.063h4.357v7.571h5.946v4.5h-5.964v9.25q0 0.536 0.116 1t0.402 0.938 0.884 0.741 1.455 0.25q1.393-0.036 2.393-0.518z\">\n",
      "     </path>\n",
      "    </symbol>\n",
      "    <symbol id=\"icon-dockerhub\" viewbox=\"0 0 24 28\">\n",
      "     <path class=\"path1\" d=\"M1.597 10.257h2.911v2.83H1.597v-2.83zm3.573 0h2.91v2.83H5.17v-2.83zm0-3.627h2.91v2.829H5.17V6.63zm3.57 3.627h2.912v2.83H8.74v-2.83zm0-3.627h2.912v2.829H8.74V6.63zm3.573 3.627h2.911v2.83h-2.911v-2.83zm0-3.627h2.911v2.829h-2.911V6.63zm3.572 3.627h2.911v2.83h-2.911v-2.83zM12.313 3h2.911v2.83h-2.911V3zm-6.65 14.173c-.449 0-.812.354-.812.788 0 .435.364.788.812.788.447 0 .811-.353.811-.788 0-.434-.363-.788-.811-.788\">\n",
      "     </path>\n",
      "     <path class=\"path2\" d=\"M28.172 11.721c-.978-.549-2.278-.624-3.388-.306-.136-1.146-.91-2.149-1.83-2.869l-.366-.286-.307.345c-.618.692-.8 1.845-.718 2.73.063.651.273 1.312.685 1.834-.313.183-.668.328-.985.434-.646.212-1.347.33-2.028.33H.083l-.042.429c-.137 1.432.065 2.866.674 4.173l.262.519.03.048c1.8 2.973 4.963 4.225 8.41 4.225 6.672 0 12.174-2.896 14.702-9.015 1.689.085 3.417-.4 4.243-1.968l.211-.4-.401-.223zM5.664 19.458c-.85 0-1.542-.671-1.542-1.497 0-.825.691-1.498 1.541-1.498.849 0 1.54.672 1.54 1.497s-.69 1.498-1.539 1.498z\">\n",
      "     </path>\n",
      "    </symbol>\n",
      "    <symbol id=\"icon-dribbble\" viewbox=\"0 0 27 32\">\n",
      "     <path class=\"path1\" d=\"M18.286 26.786q-0.75-4.304-2.5-8.893h-0.036l-0.036 0.018q-0.286 0.107-0.768 0.295t-1.804 0.875-2.446 1.464-2.339 2.045-1.839 2.643l-0.268-0.196q3.286 2.679 7.464 2.679 2.357 0 4.571-0.929zM14.982 15.946q-0.375-0.875-0.946-1.982-5.554 1.661-12.018 1.661-0.018 0.125-0.018 0.375 0 2.214 0.786 4.223t2.214 3.598q0.893-1.589 2.205-2.973t2.545-2.223 2.33-1.446 1.777-0.857l0.661-0.232q0.071-0.018 0.232-0.063t0.232-0.080zM13.071 12.161q-2.143-3.804-4.357-6.75-2.464 1.161-4.179 3.321t-2.286 4.857q5.393 0 10.821-1.429zM25.286 17.857q-3.75-1.071-7.304-0.518 1.554 4.268 2.286 8.375 1.982-1.339 3.304-3.384t1.714-4.473zM10.911 4.625q-0.018 0-0.036 0.018 0.018-0.018 0.036-0.018zM21.446 7.214q-3.304-2.929-7.732-2.929-1.357 0-2.768 0.339 2.339 3.036 4.393 6.821 1.232-0.464 2.321-1.080t1.723-1.098 1.17-1.018 0.67-0.723zM25.429 15.875q-0.054-4.143-2.661-7.321l-0.018 0.018q-0.161 0.214-0.339 0.438t-0.777 0.795-1.268 1.080-1.786 1.161-2.348 1.152q0.446 0.946 0.786 1.696 0.036 0.107 0.116 0.313t0.134 0.295q0.643-0.089 1.33-0.125t1.313-0.036 1.232 0.027 1.143 0.071 1.009 0.098 0.857 0.116 0.652 0.107 0.446 0.080zM27.429 16q0 3.732-1.839 6.884t-4.991 4.991-6.884 1.839-6.884-1.839-4.991-4.991-1.839-6.884 1.839-6.884 4.991-4.991 6.884-1.839 6.884 1.839 4.991 4.991 1.839 6.884z\">\n",
      "     </path>\n",
      "    </symbol>\n",
      "    <symbol id=\"icon-skype\" viewbox=\"0 0 27 32\">\n",
      "     <path class=\"path1\" d=\"M20.946 18.982q0-0.893-0.348-1.634t-0.866-1.223-1.304-0.875-1.473-0.607-1.563-0.411l-1.857-0.429q-0.536-0.125-0.786-0.188t-0.625-0.205-0.536-0.286-0.295-0.375-0.134-0.536q0-1.375 2.571-1.375 0.768 0 1.375 0.214t0.964 0.509 0.679 0.598 0.714 0.518 0.857 0.214q0.839 0 1.348-0.571t0.509-1.375q0-0.982-1-1.777t-2.536-1.205-3.25-0.411q-1.214 0-2.357 0.277t-2.134 0.839-1.589 1.554-0.598 2.295q0 1.089 0.339 1.902t1 1.348 1.429 0.866 1.839 0.58l2.607 0.643q1.607 0.393 2 0.643 0.571 0.357 0.571 1.071 0 0.696-0.714 1.152t-1.875 0.455q-0.911 0-1.634-0.286t-1.161-0.688-0.813-0.804-0.821-0.688-0.964-0.286q-0.893 0-1.348 0.536t-0.455 1.339q0 1.643 2.179 2.813t5.196 1.17q1.304 0 2.5-0.33t2.188-0.955 1.58-1.67 0.589-2.348zM27.429 22.857q0 2.839-2.009 4.848t-4.848 2.009q-2.321 0-4.179-1.429-1.375 0.286-2.679 0.286-2.554 0-4.884-0.991t-4.018-2.679-2.679-4.018-0.991-4.884q0-1.304 0.286-2.679-1.429-1.857-1.429-4.179 0-2.839 2.009-4.848t4.848-2.009q2.321 0 4.179 1.429 1.375-0.286 2.679-0.286 2.554 0 4.884 0.991t4.018 2.679 2.679 4.018 0.991 4.884q0 1.304-0.286 2.679 1.429 1.857 1.429 4.179z\">\n",
      "     </path>\n",
      "    </symbol>\n",
      "    <symbol id=\"icon-foursquare\" viewbox=\"0 0 23 32\">\n",
      "     <path class=\"path1\" d=\"M17.857 7.75l0.661-3.464q0.089-0.411-0.161-0.714t-0.625-0.304h-12.714q-0.411 0-0.688 0.304t-0.277 0.661v19.661q0 0.125 0.107 0.018l5.196-6.286q0.411-0.464 0.679-0.598t0.857-0.134h4.268q0.393 0 0.661-0.259t0.321-0.527q0.429-2.321 0.661-3.411 0.071-0.375-0.205-0.714t-0.652-0.339h-5.25q-0.518 0-0.857-0.339t-0.339-0.857v-0.75q0-0.518 0.339-0.848t0.857-0.33h6.179q0.321 0 0.625-0.241t0.357-0.527zM21.911 3.786q-0.268 1.304-0.955 4.759t-1.241 6.25-0.625 3.098q-0.107 0.393-0.161 0.58t-0.25 0.58-0.438 0.589-0.688 0.375-1.036 0.179h-4.839q-0.232 0-0.393 0.179-0.143 0.161-7.607 8.821-0.393 0.446-1.045 0.509t-0.866-0.098q-0.982-0.393-0.982-1.75v-25.179q0-0.982 0.679-1.83t2.143-0.848h15.857q1.696 0 2.268 0.946t0.179 2.839zM21.911 3.786l-2.821 14.107q0.071-0.304 0.625-3.098t1.241-6.25 0.955-4.759z\">\n",
      "     </path>\n",
      "    </symbol>\n",
      "    <symbol id=\"icon-wordpress\" viewbox=\"0 0 32 32\">\n",
      "     <path class=\"path1\" d=\"M2.268 16q0-2.911 1.196-5.589l6.554 17.946q-3.5-1.696-5.625-5.018t-2.125-7.339zM25.268 15.304q0 0.339-0.045 0.688t-0.179 0.884-0.205 0.786-0.313 1.054-0.313 1.036l-1.357 4.571-4.964-14.75q0.821-0.054 1.571-0.143 0.339-0.036 0.464-0.33t-0.045-0.554-0.509-0.241l-3.661 0.179q-1.339-0.018-3.607-0.179-0.214-0.018-0.366 0.089t-0.205 0.268-0.027 0.33 0.161 0.295 0.348 0.143l1.429 0.143 2.143 5.857-3 9-5-14.857q0.821-0.054 1.571-0.143 0.339-0.036 0.464-0.33t-0.045-0.554-0.509-0.241l-3.661 0.179q-0.125 0-0.411-0.009t-0.464-0.009q1.875-2.857 4.902-4.527t6.563-1.67q2.625 0 5.009 0.946t4.259 2.661h-0.179q-0.982 0-1.643 0.723t-0.661 1.705q0 0.214 0.036 0.429t0.071 0.384 0.143 0.411 0.161 0.375 0.214 0.402 0.223 0.375 0.259 0.429 0.25 0.411q1.125 1.911 1.125 3.786zM16.232 17.196l4.232 11.554q0.018 0.107 0.089 0.196-2.25 0.786-4.554 0.786-2 0-3.875-0.571zM28.036 9.411q1.696 3.107 1.696 6.589 0 3.732-1.857 6.884t-4.982 4.973l4.196-12.107q1.054-3.018 1.054-4.929 0-0.75-0.107-1.411zM16 0q3.25 0 6.214 1.268t5.107 3.411 3.411 5.107 1.268 6.214-1.268 6.214-3.411 5.107-5.107 3.411-6.214 1.268-6.214-1.268-5.107-3.411-3.411-5.107-1.268-6.214 1.268-6.214 3.411-5.107 5.107-3.411 6.214-1.268zM16 31.268q3.089 0 5.92-1.214t4.875-3.259 3.259-4.875 1.214-5.92-1.214-5.92-3.259-4.875-4.875-3.259-5.92-1.214-5.92 1.214-4.875 3.259-3.259 4.875-1.214 5.92 1.214 5.92 3.259 4.875 4.875 3.259 5.92 1.214z\">\n",
      "     </path>\n",
      "    </symbol>\n",
      "    <symbol id=\"icon-stumbleupon\" viewbox=\"0 0 34 32\">\n",
      "     <path class=\"path1\" d=\"M18.964 12.714v-2.107q0-0.75-0.536-1.286t-1.286-0.536-1.286 0.536-0.536 1.286v10.929q0 3.125-2.25 5.339t-5.411 2.214q-3.179 0-5.42-2.241t-2.241-5.42v-4.75h5.857v4.679q0 0.768 0.536 1.295t1.286 0.527 1.286-0.527 0.536-1.295v-11.071q0-3.054 2.259-5.214t5.384-2.161q3.143 0 5.393 2.179t2.25 5.25v2.429l-3.482 1.036zM28.429 16.679h5.857v4.75q0 3.179-2.241 5.42t-5.42 2.241q-3.161 0-5.411-2.223t-2.25-5.366v-4.786l2.339 1.089 3.482-1.036v4.821q0 0.75 0.536 1.277t1.286 0.527 1.286-0.527 0.536-1.277v-4.911z\">\n",
      "     </path>\n",
      "    </symbol>\n",
      "    <symbol id=\"icon-digg\" viewbox=\"0 0 37 32\">\n",
      "     <path class=\"path1\" d=\"M5.857 5.036h3.643v17.554h-9.5v-12.446h5.857v-5.107zM5.857 19.661v-6.589h-2.196v6.589h2.196zM10.964 10.143v12.446h3.661v-12.446h-3.661zM10.964 5.036v3.643h3.661v-3.643h-3.661zM16.089 10.143h9.518v16.821h-9.518v-2.911h5.857v-1.464h-5.857v-12.446zM21.946 19.661v-6.589h-2.196v6.589h2.196zM27.071 10.143h9.5v16.821h-9.5v-2.911h5.839v-1.464h-5.839v-12.446zM32.911 19.661v-6.589h-2.196v6.589h2.196z\">\n",
      "     </path>\n",
      "    </symbol>\n",
      "    <symbol id=\"icon-spotify\" viewbox=\"0 0 27 32\">\n",
      "     <path class=\"path1\" d=\"M20.125 21.607q0-0.571-0.536-0.911-3.446-2.054-7.982-2.054-2.375 0-5.125 0.607-0.75 0.161-0.75 0.929 0 0.357 0.241 0.616t0.634 0.259q0.089 0 0.661-0.143 2.357-0.482 4.339-0.482 4.036 0 7.089 1.839 0.339 0.196 0.589 0.196 0.339 0 0.589-0.241t0.25-0.616zM21.839 17.768q0-0.714-0.625-1.089-4.232-2.518-9.786-2.518-2.732 0-5.411 0.75-0.857 0.232-0.857 1.143 0 0.446 0.313 0.759t0.759 0.313q0.125 0 0.661-0.143 2.179-0.589 4.482-0.589 4.982 0 8.714 2.214 0.429 0.232 0.679 0.232 0.446 0 0.759-0.313t0.313-0.759zM23.768 13.339q0-0.839-0.714-1.25-2.25-1.304-5.232-1.973t-6.125-0.67q-3.643 0-6.5 0.839-0.411 0.125-0.688 0.455t-0.277 0.866q0 0.554 0.366 0.929t0.92 0.375q0.196 0 0.714-0.143 2.375-0.661 5.482-0.661 2.839 0 5.527 0.607t4.527 1.696q0.375 0.214 0.714 0.214 0.518 0 0.902-0.366t0.384-0.92zM27.429 16q0 3.732-1.839 6.884t-4.991 4.991-6.884 1.839-6.884-1.839-4.991-4.991-1.839-6.884 1.839-6.884 4.991-4.991 6.884-1.839 6.884 1.839 4.991 4.991 1.839 6.884z\">\n",
      "     </path>\n",
      "    </symbol>\n",
      "    <symbol id=\"icon-soundcloud\" viewbox=\"0 0 41 32\">\n",
      "     <path class=\"path1\" d=\"M14 24.5l0.286-4.304-0.286-9.339q-0.018-0.179-0.134-0.304t-0.295-0.125q-0.161 0-0.286 0.125t-0.125 0.304l-0.25 9.339 0.25 4.304q0.018 0.179 0.134 0.295t0.277 0.116q0.393 0 0.429-0.411zM19.286 23.982l0.196-3.768-0.214-10.464q0-0.286-0.232-0.429-0.143-0.089-0.286-0.089t-0.286 0.089q-0.232 0.143-0.232 0.429l-0.018 0.107-0.179 10.339q0 0.018 0.196 4.214v0.018q0 0.179 0.107 0.304 0.161 0.196 0.411 0.196 0.196 0 0.357-0.161 0.161-0.125 0.161-0.357zM0.625 17.911l0.357 2.286-0.357 2.25q-0.036 0.161-0.161 0.161t-0.161-0.161l-0.304-2.25 0.304-2.286q0.036-0.161 0.161-0.161t0.161 0.161zM2.161 16.5l0.464 3.696-0.464 3.625q-0.036 0.161-0.179 0.161-0.161 0-0.161-0.179l-0.411-3.607 0.411-3.696q0-0.161 0.161-0.161 0.143 0 0.179 0.161zM3.804 15.821l0.446 4.375-0.446 4.232q0 0.196-0.196 0.196-0.179 0-0.214-0.196l-0.375-4.232 0.375-4.375q0.036-0.214 0.214-0.214 0.196 0 0.196 0.214zM5.482 15.696l0.411 4.5-0.411 4.357q-0.036 0.232-0.25 0.232-0.232 0-0.232-0.232l-0.375-4.357 0.375-4.5q0-0.232 0.232-0.232 0.214 0 0.25 0.232zM7.161 16.018l0.375 4.179-0.375 4.393q-0.036 0.286-0.286 0.286-0.107 0-0.188-0.080t-0.080-0.205l-0.357-4.393 0.357-4.179q0-0.107 0.080-0.188t0.188-0.080q0.25 0 0.286 0.268zM8.839 13.411l0.375 6.786-0.375 4.393q0 0.125-0.089 0.223t-0.214 0.098q-0.286 0-0.321-0.321l-0.321-4.393 0.321-6.786q0.036-0.321 0.321-0.321 0.125 0 0.214 0.098t0.089 0.223zM10.518 11.875l0.339 8.357-0.339 4.357q0 0.143-0.098 0.241t-0.241 0.098q-0.321 0-0.357-0.339l-0.286-4.357 0.286-8.357q0.036-0.339 0.357-0.339 0.143 0 0.241 0.098t0.098 0.241zM12.268 11.161l0.321 9.036-0.321 4.321q-0.036 0.375-0.393 0.375-0.339 0-0.375-0.375l-0.286-4.321 0.286-9.036q0-0.161 0.116-0.277t0.259-0.116q0.161 0 0.268 0.116t0.125 0.277zM19.268 24.411v0 0zM15.732 11.089l0.268 9.107-0.268 4.268q0 0.179-0.134 0.313t-0.313 0.134-0.304-0.125-0.143-0.321l-0.25-4.268 0.25-9.107q0-0.196 0.134-0.321t0.313-0.125 0.313 0.125 0.134 0.321zM17.5 11.429l0.25 8.786-0.25 4.214q0 0.196-0.143 0.339t-0.339 0.143-0.339-0.143-0.161-0.339l-0.214-4.214 0.214-8.786q0.018-0.214 0.161-0.357t0.339-0.143 0.33 0.143 0.152 0.357zM21.286 20.214l-0.25 4.125q0 0.232-0.161 0.393t-0.393 0.161-0.393-0.161-0.179-0.393l-0.107-2.036-0.107-2.089 0.214-11.357v-0.054q0.036-0.268 0.214-0.429 0.161-0.125 0.357-0.125 0.143 0 0.268 0.089 0.25 0.143 0.286 0.464zM41.143 19.875q0 2.089-1.482 3.563t-3.571 1.473h-14.036q-0.232-0.036-0.393-0.196t-0.161-0.393v-16.054q0-0.411 0.5-0.589 1.518-0.607 3.232-0.607 3.482 0 6.036 2.348t2.857 5.777q0.946-0.393 1.964-0.393 2.089 0 3.571 1.482t1.482 3.589z\">\n",
      "     </path>\n",
      "    </symbol>\n",
      "    <symbol id=\"icon-codepen\" viewbox=\"0 0 32 32\">\n",
      "     <path class=\"path1\" d=\"M3.857 20.875l10.768 7.179v-6.411l-5.964-3.982zM2.75 18.304l3.446-2.304-3.446-2.304v4.607zM17.375 28.054l10.768-7.179-4.804-3.214-5.964 3.982v6.411zM16 19.25l4.857-3.25-4.857-3.25-4.857 3.25zM8.661 14.339l5.964-3.982v-6.411l-10.768 7.179zM25.804 16l3.446 2.304v-4.607zM23.339 14.339l4.804-3.214-10.768-7.179v6.411zM32 11.125v9.75q0 0.732-0.607 1.143l-14.625 9.75q-0.375 0.232-0.768 0.232t-0.768-0.232l-14.625-9.75q-0.607-0.411-0.607-1.143v-9.75q0-0.732 0.607-1.143l14.625-9.75q0.375-0.232 0.768-0.232t0.768 0.232l14.625 9.75q0.607 0.411 0.607 1.143z\">\n",
      "     </path>\n",
      "    </symbol>\n",
      "    <symbol id=\"icon-twitch\" viewbox=\"0 0 32 32\">\n",
      "     <path class=\"path1\" d=\"M16 7.75v7.75h-2.589v-7.75h2.589zM23.107 7.75v7.75h-2.589v-7.75h2.589zM23.107 21.321l4.518-4.536v-14.196h-21.321v18.732h5.821v3.875l3.875-3.875h7.107zM30.214 0v18.089l-7.75 7.75h-5.821l-3.875 3.875h-3.875v-3.875h-7.107v-20.679l1.946-5.161h26.482z\">\n",
      "     </path>\n",
      "    </symbol>\n",
      "    <symbol id=\"icon-meanpath\" viewbox=\"0 0 27 32\">\n",
      "     <path class=\"path1\" d=\"M23.411 15.036v2.036q0 0.429-0.241 0.679t-0.67 0.25h-3.607q-0.429 0-0.679-0.25t-0.25-0.679v-2.036q0-0.429 0.25-0.679t0.679-0.25h3.607q0.429 0 0.67 0.25t0.241 0.679zM14.661 19.143v-4.464q0-0.946-0.58-1.527t-1.527-0.58h-2.375q-1.214 0-1.714 0.929-0.5-0.929-1.714-0.929h-2.321q-0.946 0-1.527 0.58t-0.58 1.527v4.464q0 0.393 0.375 0.393h0.982q0.393 0 0.393-0.393v-4.107q0-0.429 0.241-0.679t0.688-0.25h1.679q0.429 0 0.679 0.25t0.25 0.679v4.107q0 0.393 0.375 0.393h0.964q0.393 0 0.393-0.393v-4.107q0-0.429 0.25-0.679t0.679-0.25h1.732q0.429 0 0.67 0.25t0.241 0.679v4.107q0 0.393 0.393 0.393h0.982q0.375 0 0.375-0.393zM25.179 17.429v-2.75q0-0.946-0.589-1.527t-1.536-0.58h-4.714q-0.946 0-1.536 0.58t-0.589 1.527v7.321q0 0.375 0.393 0.375h0.982q0.375 0 0.375-0.375v-3.214q0.554 0.75 1.679 0.75h3.411q0.946 0 1.536-0.58t0.589-1.527zM27.429 6.429v19.143q0 1.714-1.214 2.929t-2.929 1.214h-19.143q-1.714 0-2.929-1.214t-1.214-2.929v-19.143q0-1.714 1.214-2.929t2.929-1.214h19.143q1.714 0 2.929 1.214t1.214 2.929z\">\n",
      "     </path>\n",
      "    </symbol>\n",
      "    <symbol id=\"icon-pinterest-p\" viewbox=\"0 0 23 32\">\n",
      "     <path class=\"path1\" d=\"M0 10.661q0-1.929 0.67-3.634t1.848-2.973 2.714-2.196 3.304-1.393 3.607-0.464q2.821 0 5.25 1.188t3.946 3.455 1.518 5.125q0 1.714-0.339 3.357t-1.071 3.161-1.786 2.67-2.589 1.839-3.375 0.688q-1.214 0-2.411-0.571t-1.714-1.571q-0.179 0.696-0.5 2.009t-0.42 1.696-0.366 1.268-0.464 1.268-0.571 1.116-0.821 1.384-1.107 1.545l-0.25 0.089-0.161-0.179q-0.268-2.804-0.268-3.357 0-1.643 0.384-3.688t1.188-5.134 0.929-3.625q-0.571-1.161-0.571-3.018 0-1.482 0.929-2.786t2.357-1.304q1.089 0 1.696 0.723t0.607 1.83q0 1.179-0.786 3.411t-0.786 3.339q0 1.125 0.804 1.866t1.946 0.741q0.982 0 1.821-0.446t1.402-1.214 1-1.696 0.679-1.973 0.357-1.982 0.116-1.777q0-3.089-1.955-4.813t-5.098-1.723q-3.571 0-5.964 2.313t-2.393 5.866q0 0.786 0.223 1.518t0.482 1.161 0.482 0.813 0.223 0.545q0 0.5-0.268 1.304t-0.661 0.804q-0.036 0-0.304-0.054-0.911-0.268-1.616-1t-1.089-1.688-0.58-1.929-0.196-1.902z\">\n",
      "     </path>\n",
      "    </symbol>\n",
      "    <symbol id=\"icon-periscope\" viewbox=\"0 0 24 28\">\n",
      "     <path class=\"path1\" d=\"M12.285,1C6.696,1,2.277,5.643,2.277,11.243c0,5.851,7.77,14.578,10.007,14.578c1.959,0,9.729-8.728,9.729-14.578 C22.015,5.643,17.596,1,12.285,1z M12.317,16.551c-3.473,0-6.152-2.611-6.152-5.664c0-1.292,0.39-2.472,1.065-3.438 c0.206,1.084,1.18,1.906,2.352,1.906c1.322,0,2.393-1.043,2.393-2.333c0-0.832-0.447-1.561-1.119-1.975 c0.467-0.105,0.955-0.161,1.46-0.161c3.133,0,5.81,2.611,5.81,5.998C18.126,13.94,15.449,16.551,12.317,16.551z\">\n",
      "     </path>\n",
      "    </symbol>\n",
      "    <symbol id=\"icon-get-pocket\" viewbox=\"0 0 31 32\">\n",
      "     <path class=\"path1\" d=\"M27.946 2.286q1.161 0 1.964 0.813t0.804 1.973v9.268q0 3.143-1.214 6t-3.259 4.911-4.893 3.259-5.973 1.205q-3.143 0-5.991-1.205t-4.902-3.259-3.268-4.911-1.214-6v-9.268q0-1.143 0.821-1.964t1.964-0.821h25.161zM15.375 21.286q0.839 0 1.464-0.589l7.214-6.929q0.661-0.625 0.661-1.518 0-0.875-0.616-1.491t-1.491-0.616q-0.839 0-1.464 0.589l-5.768 5.536-5.768-5.536q-0.625-0.589-1.446-0.589-0.875 0-1.491 0.616t-0.616 1.491q0 0.911 0.643 1.518l7.232 6.929q0.589 0.589 1.446 0.589z\">\n",
      "     </path>\n",
      "    </symbol>\n",
      "    <symbol id=\"icon-vimeo\" viewbox=\"0 0 32 32\">\n",
      "     <path class=\"path1\" d=\"M30.518 9.25q-0.179 4.214-5.929 11.625-5.946 7.696-10.036 7.696-2.536 0-4.286-4.696-0.786-2.857-2.357-8.607-1.286-4.679-2.804-4.679-0.321 0-2.268 1.357l-1.375-1.75q0.429-0.375 1.929-1.723t2.321-2.063q2.786-2.464 4.304-2.607 1.696-0.161 2.732 0.991t1.446 3.634q0.786 5.125 1.179 6.661 0.982 4.446 2.143 4.446 0.911 0 2.75-2.875 1.804-2.875 1.946-4.393 0.232-2.482-1.946-2.482-1.018 0-2.161 0.464 2.143-7.018 8.196-6.821 4.482 0.143 4.214 5.821z\">\n",
      "     </path>\n",
      "    </symbol>\n",
      "    <symbol id=\"icon-reddit-alien\" viewbox=\"0 0 32 32\">\n",
      "     <path class=\"path1\" d=\"M32 15.107q0 1.036-0.527 1.884t-1.42 1.295q0.214 0.821 0.214 1.714 0 2.768-1.902 5.125t-5.188 3.723-7.143 1.366-7.134-1.366-5.179-3.723-1.902-5.125q0-0.839 0.196-1.679-0.911-0.446-1.464-1.313t-0.554-1.902q0-1.464 1.036-2.509t2.518-1.045q1.518 0 2.589 1.125 3.893-2.714 9.196-2.893l2.071-9.304q0.054-0.232 0.268-0.375t0.464-0.089l6.589 1.446q0.321-0.661 0.964-1.063t1.411-0.402q1.107 0 1.893 0.777t0.786 1.884-0.786 1.893-1.893 0.786-1.884-0.777-0.777-1.884l-5.964-1.321-1.857 8.429q5.357 0.161 9.268 2.857 1.036-1.089 2.554-1.089 1.482 0 2.518 1.045t1.036 2.509zM7.464 18.661q0 1.107 0.777 1.893t1.884 0.786 1.893-0.786 0.786-1.893-0.786-1.884-1.893-0.777q-1.089 0-1.875 0.786t-0.786 1.875zM21.929 25q0.196-0.196 0.196-0.464t-0.196-0.464q-0.179-0.179-0.446-0.179t-0.464 0.179q-0.732 0.75-2.161 1.107t-2.857 0.357-2.857-0.357-2.161-1.107q-0.196-0.179-0.464-0.179t-0.446 0.179q-0.196 0.179-0.196 0.455t0.196 0.473q0.768 0.768 2.116 1.214t2.188 0.527 1.625 0.080 1.625-0.080 2.188-0.527 2.116-1.214zM21.875 21.339q1.107 0 1.884-0.786t0.777-1.893q0-1.089-0.786-1.875t-1.875-0.786q-1.107 0-1.893 0.777t-0.786 1.884 0.786 1.893 1.893 0.786z\">\n",
      "     </path>\n",
      "    </symbol>\n",
      "    <symbol id=\"icon-hashtag\" viewbox=\"0 0 32 32\">\n",
      "     <path class=\"path1\" d=\"M17.696 18.286l1.143-4.571h-4.536l-1.143 4.571h4.536zM31.411 9.286l-1 4q-0.125 0.429-0.554 0.429h-5.839l-1.143 4.571h5.554q0.268 0 0.446 0.214 0.179 0.25 0.107 0.5l-1 4q-0.089 0.429-0.554 0.429h-5.839l-1.446 5.857q-0.125 0.429-0.554 0.429h-4q-0.286 0-0.464-0.214-0.161-0.214-0.107-0.5l1.393-5.571h-4.536l-1.446 5.857q-0.125 0.429-0.554 0.429h-4.018q-0.268 0-0.446-0.214-0.161-0.214-0.107-0.5l1.393-5.571h-5.554q-0.268 0-0.446-0.214-0.161-0.214-0.107-0.5l1-4q0.125-0.429 0.554-0.429h5.839l1.143-4.571h-5.554q-0.268 0-0.446-0.214-0.179-0.25-0.107-0.5l1-4q0.089-0.429 0.554-0.429h5.839l1.446-5.857q0.125-0.429 0.571-0.429h4q0.268 0 0.446 0.214 0.161 0.214 0.107 0.5l-1.393 5.571h4.536l1.446-5.857q0.125-0.429 0.571-0.429h4q0.268 0 0.446 0.214 0.161 0.214 0.107 0.5l-1.393 5.571h5.554q0.268 0 0.446 0.214 0.161 0.214 0.107 0.5z\">\n",
      "     </path>\n",
      "    </symbol>\n",
      "    <symbol id=\"icon-chain\" viewbox=\"0 0 30 32\">\n",
      "     <path class=\"path1\" d=\"M26 21.714q0-0.714-0.5-1.214l-3.714-3.714q-0.5-0.5-1.214-0.5-0.75 0-1.286 0.571 0.054 0.054 0.339 0.33t0.384 0.384 0.268 0.339 0.232 0.455 0.063 0.491q0 0.714-0.5 1.214t-1.214 0.5q-0.268 0-0.491-0.063t-0.455-0.232-0.339-0.268-0.384-0.384-0.33-0.339q-0.589 0.554-0.589 1.304 0 0.714 0.5 1.214l3.679 3.696q0.482 0.482 1.214 0.482 0.714 0 1.214-0.464l2.625-2.607q0.5-0.5 0.5-1.196zM13.446 9.125q0-0.714-0.5-1.214l-3.679-3.696q-0.5-0.5-1.214-0.5-0.696 0-1.214 0.482l-2.625 2.607q-0.5 0.5-0.5 1.196 0 0.714 0.5 1.214l3.714 3.714q0.482 0.482 1.214 0.482 0.75 0 1.286-0.554-0.054-0.054-0.339-0.33t-0.384-0.384-0.268-0.339-0.232-0.455-0.063-0.491q0-0.714 0.5-1.214t1.214-0.5q0.268 0 0.491 0.063t0.455 0.232 0.339 0.268 0.384 0.384 0.33 0.339q0.589-0.554 0.589-1.304zM29.429 21.714q0 2.143-1.518 3.625l-2.625 2.607q-1.482 1.482-3.625 1.482-2.161 0-3.643-1.518l-3.679-3.696q-1.482-1.482-1.482-3.625 0-2.196 1.571-3.732l-1.571-1.571q-1.536 1.571-3.714 1.571-2.143 0-3.643-1.5l-3.714-3.714q-1.5-1.5-1.5-3.643t1.518-3.625l2.625-2.607q1.482-1.482 3.625-1.482 2.161 0 3.643 1.518l3.679 3.696q1.482 1.482 1.482 3.625 0 2.196-1.571 3.732l1.571 1.571q1.536-1.571 3.714-1.571 2.143 0 3.643 1.5l3.714 3.714q1.5 1.5 1.5 3.643z\">\n",
      "     </path>\n",
      "    </symbol>\n",
      "    <symbol id=\"icon-thumb-tack\" viewbox=\"0 0 21 32\">\n",
      "     <path class=\"path1\" d=\"M8.571 15.429v-8q0-0.25-0.161-0.411t-0.411-0.161-0.411 0.161-0.161 0.411v8q0 0.25 0.161 0.411t0.411 0.161 0.411-0.161 0.161-0.411zM20.571 21.714q0 0.464-0.339 0.804t-0.804 0.339h-7.661l-0.911 8.625q-0.036 0.214-0.188 0.366t-0.366 0.152h-0.018q-0.482 0-0.571-0.482l-1.357-8.661h-7.214q-0.464 0-0.804-0.339t-0.339-0.804q0-2.196 1.402-3.955t3.17-1.759v-9.143q-0.929 0-1.607-0.679t-0.679-1.607 0.679-1.607 1.607-0.679h11.429q0.929 0 1.607 0.679t0.679 1.607-0.679 1.607-1.607 0.679v9.143q1.768 0 3.17 1.759t1.402 3.955z\">\n",
      "     </path>\n",
      "    </symbol>\n",
      "    <symbol id=\"icon-arrow-left\" viewbox=\"0 0 43 32\">\n",
      "     <path class=\"path1\" d=\"M42.311 14.044c-0.178-0.178-0.533-0.356-0.711-0.356h-33.778l10.311-10.489c0.178-0.178 0.356-0.533 0.356-0.711 0-0.356-0.178-0.533-0.356-0.711l-1.6-1.422c-0.356-0.178-0.533-0.356-0.889-0.356s-0.533 0.178-0.711 0.356l-14.578 14.933c-0.178 0.178-0.356 0.533-0.356 0.711s0.178 0.533 0.356 0.711l14.756 14.933c0 0.178 0.356 0.356 0.533 0.356s0.533-0.178 0.711-0.356l1.6-1.6c0.178-0.178 0.356-0.533 0.356-0.711s-0.178-0.533-0.356-0.711l-10.311-10.489h33.778c0.178 0 0.533-0.178 0.711-0.356 0.356-0.178 0.533-0.356 0.533-0.711v-2.133c0-0.356-0.178-0.711-0.356-0.889z\">\n",
      "     </path>\n",
      "    </symbol>\n",
      "    <symbol id=\"icon-arrow-right\" viewbox=\"0 0 43 32\">\n",
      "     <path class=\"path1\" d=\"M0.356 17.956c0.178 0.178 0.533 0.356 0.711 0.356h33.778l-10.311 10.489c-0.178 0.178-0.356 0.533-0.356 0.711 0 0.356 0.178 0.533 0.356 0.711l1.6 1.6c0.178 0.178 0.533 0.356 0.711 0.356s0.533-0.178 0.711-0.356l14.756-14.933c0.178-0.356 0.356-0.711 0.356-0.889s-0.178-0.533-0.356-0.711l-14.756-14.933c0-0.178-0.356-0.356-0.533-0.356s-0.533 0.178-0.711 0.356l-1.6 1.6c-0.178 0.178-0.356 0.533-0.356 0.711s0.178 0.533 0.356 0.711l10.311 10.489h-33.778c-0.178 0-0.533 0.178-0.711 0.356-0.356 0.178-0.533 0.356-0.533 0.711v2.311c0 0.178 0.178 0.533 0.356 0.711z\">\n",
      "     </path>\n",
      "    </symbol>\n",
      "    <symbol id=\"icon-play\" viewbox=\"0 0 22 28\">\n",
      "     <path d=\"M21.625 14.484l-20.75 11.531c-0.484 0.266-0.875 0.031-0.875-0.516v-23c0-0.547 0.391-0.781 0.875-0.516l20.75 11.531c0.484 0.266 0.484 0.703 0 0.969z\">\n",
      "     </path>\n",
      "    </symbol>\n",
      "    <symbol id=\"icon-pause\" viewbox=\"0 0 24 28\">\n",
      "     <path d=\"M24 3v22c0 0.547-0.453 1-1 1h-8c-0.547 0-1-0.453-1-1v-22c0-0.547 0.453-1 1-1h8c0.547 0 1 0.453 1 1zM10 3v22c0 0.547-0.453 1-1 1h-8c-0.547 0-1-0.453-1-1v-22c0-0.547 0.453-1 1-1h8c0.547 0 1 0.453 1 1z\">\n",
      "     </path>\n",
      "    </symbol>\n",
      "   </defs>\n",
      "  </svg>\n",
      " </body>\n",
      "</html>\n",
      "<!--\n",
      "\tgenerated 27 seconds ago\n",
      "\tgenerated in 0.121 seconds\n",
      "\tserved from batcache in 0.002 seconds\n",
      "\texpires in 273 seconds\n",
      "-->\n",
      "\n"
     ]
    }
   ],
   "source": [
    "print(soup.prettify()) \n",
    "# .prettify() method makes the HTML code more readable\n",
    "\n",
    "# as you can see this code is more difficult \n",
    "# to read then the simple example above\n",
    "# mostly because this is a real Wordpress website"
   ]
  },
  {
   "cell_type": "markdown",
   "metadata": {
    "slideshow": {
     "slide_type": "subslide"
    }
   },
   "source": [
    "#### Print the Title of the website"
   ]
  },
  {
   "cell_type": "code",
   "execution_count": 65,
   "metadata": {
    "scrolled": true,
    "slideshow": {
     "slide_type": "subslide"
    }
   },
   "outputs": [
    {
     "name": "stdout",
     "output_type": "stream",
     "text": [
      "Data-X at Berkeley\n"
     ]
    }
   ],
   "source": [
    "print(soup.find('title').text) \n",
    "# check that we are at the correct website"
   ]
  },
  {
   "cell_type": "markdown",
   "metadata": {
    "slideshow": {
     "slide_type": "subslide"
    }
   },
   "source": [
    "#### Extract all paragraphs of text"
   ]
  },
  {
   "cell_type": "code",
   "execution_count": 66,
   "metadata": {
    "slideshow": {
     "slide_type": "subslide"
    }
   },
   "outputs": [
    {
     "name": "stdout",
     "output_type": "stream",
     "text": [
      "Ikhlaq Sidhu, UC Berkeley (contact)\n",
      "Arash Nourian, UC Berkeley (contact)\n",
      "Data-X is a framework designed at UC Berkeley for learning and applying AI, data science, and emerging technologies. Data-X fills a gap between theory and practice to empower data and AI projects.  Data-X projects create new ventures, new research, and corporate innovations all over the world.\n",
      "Who is it for:\n",
      "For students interested in careers, new ventures, and innovative projects in areas related to data science and information technology systems.\n",
      "What is the problem:\n",
      "Taking a purely theoretical course is not enough.  Students often take course after course in technical subject areas without being able to implement, apply, and/or make an innovative impact. \n",
      "\n",
      "The Solution:\n",
      "Data-X places a real life innovative emerging technology project at the center of a learning experience that includes powerful tools, theory, and innovation behaviors and mindset.  Data-X also builds on Innovation Engineering, a powerful framework for guiding innovation projects. \n",
      "\n",
      "\n",
      "Unlike Other Courses:\n",
      "Bring your own ideas into an integrative project that can help students pursue new opportunities ranging from starting a new venture to interviewing for industry positions.\n",
      "Learn more from these articles:\n",
      "At UC Berkeley, Data-X is offered as a 3 unit class called Applied Data Science with Venture Applications.\n",
      "Applied Data Science with Venture Applications\n",
      "Spring 2019 course information:\n",
      "While the course offers instruction on tools and methods in data science, the Data-X project includes new open-ended problems with industry, social, and venture perspectives on utilizing data for rapid impact. Click here to see examples of projects completed earlier semesters.\n",
      "Past and Upcoming Workshops, Bootcamps and talks related to Data-X:\n"
     ]
    }
   ],
   "source": [
    "for p in soup.find_all('p'):\n",
    "    print(p.text)"
   ]
  },
  {
   "cell_type": "markdown",
   "metadata": {
    "slideshow": {
     "slide_type": "subslide"
    }
   },
   "source": [
    "### Look at the navigation bar"
   ]
  },
  {
   "cell_type": "code",
   "execution_count": 67,
   "metadata": {
    "slideshow": {
     "slide_type": "subslide"
    }
   },
   "outputs": [
    {
     "name": "stdout",
     "output_type": "stream",
     "text": [
      "<nav aria-label=\"Top Menu\" class=\"main-navigation\" id=\"site-navigation\" role=\"navigation\">\n",
      "<button aria-controls=\"top-menu\" aria-expanded=\"false\" class=\"menu-toggle\">\n",
      "<svg aria-hidden=\"true\" class=\"icon icon-bars\" role=\"img\"> <use href=\"#icon-bars\" xlink:href=\"#icon-bars\"></use> </svg><svg aria-hidden=\"true\" class=\"icon icon-close\" role=\"img\"> <use href=\"#icon-close\" xlink:href=\"#icon-close\"></use> </svg>Menu\t</button>\n",
      "<div class=\"menu-primary-container\"><ul class=\"menu\" id=\"top-menu\"><li class=\"menu-item menu-item-type-custom menu-item-object-custom current-menu-item current_page_item menu-item-8\" id=\"menu-item-8\"><a aria-current=\"page\" href=\"/\">Home</a></li>\n",
      "<li class=\"menu-item menu-item-type-post_type menu-item-object-page menu-item-726\" id=\"menu-item-726\"><a href=\"https://data-x.blog/about-data-x/\">About Data-X</a></li>\n",
      "<li class=\"menu-item menu-item-type-post_type menu-item-object-page menu-item-183\" id=\"menu-item-183\"><a href=\"https://data-x.blog/resources/\">Resources</a></li>\n",
      "<li class=\"menu-item menu-item-type-post_type menu-item-object-page menu-item-1055\" id=\"menu-item-1055\"><a href=\"https://data-x.blog/dx-online/\">Data-X Online</a></li>\n",
      "<li class=\"menu-item menu-item-type-post_type menu-item-object-page menu-item-102\" id=\"menu-item-102\"><a href=\"https://data-x.blog/syllabus/\">Berkeley Syllabus</a></li>\n",
      "<li class=\"menu-item menu-item-type-custom menu-item-object-custom menu-item-has-children menu-item-719\" id=\"menu-item-719\"><a href=\"http://data-x.blog/projects\">Projects<svg aria-hidden=\"true\" class=\"icon icon-angle-down\" role=\"img\"> <use href=\"#icon-angle-down\" xlink:href=\"#icon-angle-down\"></use> </svg></a>\n",
      "<ul class=\"sub-menu\">\n",
      "<li class=\"menu-item menu-item-type-post_type menu-item-object-page menu-item-1387\" id=\"menu-item-1387\"><a href=\"https://data-x.blog/project-guideline/\">Project Guideline</a></li>\n",
      "<li class=\"menu-item menu-item-type-post_type menu-item-object-page menu-item-1450\" id=\"menu-item-1450\"><a href=\"https://data-x.blog/innovation-engineering-book/\">Innovation Engineering Book</a></li>\n",
      "<li class=\"menu-item menu-item-type-custom menu-item-object-custom menu-item-572\" id=\"menu-item-572\"><a href=\"http://data-x.blog/projects\">Past Projects</a></li>\n",
      "<li class=\"menu-item menu-item-type-custom menu-item-object-custom menu-item-737\" id=\"menu-item-737\"><a href=\"http://data-x.blog/project-ideas\">Project Ideas</a></li>\n",
      "<li class=\"menu-item menu-item-type-post_type menu-item-object-page menu-item-485\" id=\"menu-item-485\"><a href=\"https://data-x.blog/advisors/\">Advisors</a></li>\n",
      "</ul>\n",
      "</li>\n",
      "<li class=\"menu-item menu-item-type-custom menu-item-object-custom menu-item-738\" id=\"menu-item-738\"><a href=\"http://data-x.blog/posts\">Posts</a></li>\n",
      "<li class=\"menu-item menu-item-type-post_type menu-item-object-page menu-item-129\" id=\"menu-item-129\"><a href=\"https://data-x.blog/project/\">Labs</a></li>\n",
      "<li class=\"menu-item menu-item-type-post_type menu-item-object-page menu-item-10\" id=\"menu-item-10\"><a href=\"https://data-x.blog/contact/\">Contact</a></li>\n",
      "</ul></div>\n",
      "<a class=\"menu-scroll-down\" href=\"#content\"><svg aria-hidden=\"true\" class=\"icon icon-arrow-right\" role=\"img\"> <use href=\"#icon-arrow-right\" xlink:href=\"#icon-arrow-right\"></use> </svg><span class=\"screen-reader-text\">Scroll down to content</span></a>\n",
      "</nav>\n"
     ]
    }
   ],
   "source": [
    "navigation_bar = soup.find('nav')\n",
    "print(navigation_bar)"
   ]
  },
  {
   "cell_type": "code",
   "execution_count": 68,
   "metadata": {
    "slideshow": {
     "slide_type": "subslide"
    }
   },
   "outputs": [
    {
     "name": "stdout",
     "output_type": "stream",
     "text": [
      "\n",
      "\n",
      "    Menu\t\n",
      "Home\n",
      "About Data-X\n",
      "Resources\n",
      "Data-X Online\n",
      "Berkeley Syllabus\n",
      "Projects  \n",
      "\n",
      "Project Guideline\n",
      "Innovation Engineering Book\n",
      "Past Projects\n",
      "Project Ideas\n",
      "Advisors\n",
      "\n",
      "\n",
      "Posts\n",
      "Labs\n",
      "Contact\n",
      "\n",
      "  Scroll down to content\n",
      "\n"
     ]
    }
   ],
   "source": [
    "# These are the linked subpages in the navigation bar\n",
    "nav_bar = navigation_bar.text\n",
    "print(nav_bar)"
   ]
  },
  {
   "cell_type": "markdown",
   "metadata": {
    "slideshow": {
     "slide_type": "subslide"
    }
   },
   "source": [
    "### Scrape the Syllabus of its content\n",
    "(maybe to use in an App)"
   ]
  },
  {
   "cell_type": "code",
   "execution_count": 69,
   "metadata": {
    "slideshow": {
     "slide_type": "subslide"
    }
   },
   "outputs": [
    {
     "name": "stdout",
     "output_type": "stream",
     "text": [
      "https://data-x.blog/about-data-x/\n",
      "https://data-x.blog/resources/\n",
      "https://data-x.blog/dx-online/\n",
      "https://data-x.blog/syllabus/\n",
      "http://data-x.blog/projects\n",
      "https://data-x.blog/project-guideline/\n",
      "https://data-x.blog/innovation-engineering-book/\n",
      "http://data-x.blog/projects\n",
      "http://data-x.blog/project-ideas\n",
      "https://data-x.blog/advisors/\n",
      "http://data-x.blog/posts\n",
      "https://data-x.blog/project/\n",
      "https://data-x.blog/contact/\n"
     ]
    }
   ],
   "source": [
    "# Now we want to find the Syllabus, \n",
    "# however we are at the root web page, not displaying the Syllabus\n",
    "\n",
    "# Get all links from navigation bar at the data-x home webpage\n",
    "for url in navigation_bar.find_all('a'): \n",
    "    link = url.get('href')\n",
    "    if 'data-x.blog' in link: # check link to a subpage\n",
    "        print(link) \n",
    "        if 'syllabus' in link:\n",
    "            syllabus_url = link"
   ]
  },
  {
   "cell_type": "code",
   "execution_count": 70,
   "metadata": {
    "slideshow": {
     "slide_type": "subslide"
    }
   },
   "outputs": [
    {
     "name": "stdout",
     "output_type": "stream",
     "text": [
      "https://data-x.blog/syllabus/\n"
     ]
    }
   ],
   "source": [
    "# syllabus is located at https://data-x.blog/syllabus/\n",
    "print(syllabus_url)"
   ]
  },
  {
   "cell_type": "code",
   "execution_count": 71,
   "metadata": {
    "slideshow": {
     "slide_type": "subslide"
    }
   },
   "outputs": [
    {
     "name": "stdout",
     "output_type": "stream",
     "text": [
      "<body class=\"page-template-default page page-id-94 wp-embed-responsive has-header-image page-one-column colors-light cannot-edit\">\n",
      " <div class=\"site\" id=\"page\">\n",
      "  <a class=\"skip-link screen-reader-text\" href=\"#content\">\n",
      "   Skip to content\n",
      "  </a>\n",
      "  <header class=\"site-header\" id=\"masthead\" role=\"banner\">\n",
      "   <div class=\"custom-header\">\n",
      "    <div class=\"custom-header-media\">\n",
      "     <div class=\"wp-custom-header\" id=\"wp-custom-header\">\n",
      "      <img alt=\"Data-X at Berkeley\" height=\"973\" sizes=\"100vw\" src=\"https://data-x.blog/wp-content/uploads/2018/04/cropped-AdobeStock_120712749-Converted.png\" srcset=\"https://i2.wp.com/data-x.blog/wp-content/uploads/2018/04/cropped-AdobeStock_120712749-Converted.png?w=2000&amp;ssl=1 2000w, https://i2.wp.com/data-x.blog/wp-content/uploads/2018/04/cropped-AdobeStock_120712749-Converted.png?resize=300%2C146&amp;ssl=1 300w, https://i2.wp.com/data-x.blog/wp-content/uploads/2018/04/cropped-AdobeStock_120712749-Converted.png?resize=768%2C374&amp;ssl=1 768w, https://i2.wp.com/data-x.blog/wp-content/uploads/2018/04/cropped-AdobeStock_120712749-Converted.png?resize=1024%2C498&amp;ssl=1 1024w, https://i2.wp.com/data-x.blog/wp-content/uploads/2018/04/cropped-AdobeStock_120712749-Converted.png?w=1480&amp;ssl=1 1480w\" width=\"2000\"/>\n",
      "     </div>\n",
      "    </div>\n",
      "    <div class=\"site-branding\">\n",
      "     <div class=\"wrap\">\n",
      "      <div class=\"site-branding-text\">\n",
      "       <p class=\"site-title\">\n",
      "        <a href=\"https://data-x.blog/\" rel=\"home\">\n",
      "         Data-X at Berkeley\n",
      "        </a>\n",
      "       </p>\n",
      "      </div>\n",
      "      <!-- .site-branding-text -->\n",
      "     </div>\n",
      "     <!-- .wrap -->\n",
      "    </div>\n",
      "    <!-- .site-branding -->\n",
      "   </div>\n",
      "   <!-- .custom-header -->\n",
      "   <div class=\"navigation-top\">\n",
      "    <div class=\"wrap\">\n",
      "     <nav aria-label=\"Top Menu\" class=\"main-navigation\" id=\"site-navigation\" role=\"navigation\">\n",
      "      <button aria-controls=\"top-menu\" aria-expanded=\"false\" class=\"menu-toggle\">\n",
      "       <svg aria-hidden=\"true\" class=\"icon icon-bars\" role=\"img\">\n",
      "        <use href=\"#icon-bars\" xlink:href=\"#icon-bars\">\n",
      "        </use>\n",
      "       </svg>\n",
      "       <svg aria-hidden=\"true\" class=\"icon icon-close\" role=\"img\">\n",
      "        <use href=\"#icon-close\" xlink:href=\"#icon-close\">\n",
      "        </use>\n",
      "       </svg>\n",
      "       Menu\n",
      "      </button>\n",
      "      <div class=\"menu-primary-container\">\n",
      "       <ul class=\"menu\" id=\"top-menu\">\n",
      "        <li class=\"menu-item menu-item-type-custom menu-item-object-custom menu-item-8\" id=\"menu-item-8\">\n",
      "         <a href=\"/\">\n",
      "          Home\n",
      "         </a>\n",
      "        </li>\n",
      "        <li class=\"menu-item menu-item-type-post_type menu-item-object-page menu-item-726\" id=\"menu-item-726\">\n",
      "         <a href=\"https://data-x.blog/about-data-x/\">\n",
      "          About Data-X\n",
      "         </a>\n",
      "        </li>\n",
      "        <li class=\"menu-item menu-item-type-post_type menu-item-object-page menu-item-183\" id=\"menu-item-183\">\n",
      "         <a href=\"https://data-x.blog/resources/\">\n",
      "          Resources\n",
      "         </a>\n",
      "        </li>\n",
      "        <li class=\"menu-item menu-item-type-post_type menu-item-object-page menu-item-1055\" id=\"menu-item-1055\">\n",
      "         <a href=\"https://data-x.blog/dx-online/\">\n",
      "          Data-X Online\n",
      "         </a>\n",
      "        </li>\n",
      "        <li class=\"menu-item menu-item-type-post_type menu-item-object-page current-menu-item page_item page-item-94 current_page_item menu-item-102\" id=\"menu-item-102\">\n",
      "         <a aria-current=\"page\" href=\"https://data-x.blog/syllabus/\">\n",
      "          Berkeley Syllabus\n",
      "         </a>\n",
      "        </li>\n",
      "        <li class=\"menu-item menu-item-type-custom menu-item-object-custom menu-item-has-children menu-item-719\" id=\"menu-item-719\">\n",
      "         <a href=\"http://data-x.blog/projects\">\n",
      "          Projects\n",
      "          <svg aria-hidden=\"true\" class=\"icon icon-angle-down\" role=\"img\">\n",
      "           <use href=\"#icon-angle-down\" xlink:href=\"#icon-angle-down\">\n",
      "           </use>\n",
      "          </svg>\n",
      "         </a>\n",
      "         <ul class=\"sub-menu\">\n",
      "          <li class=\"menu-item menu-item-type-post_type menu-item-object-page menu-item-1387\" id=\"menu-item-1387\">\n",
      "           <a href=\"https://data-x.blog/project-guideline/\">\n",
      "            Project Guideline\n",
      "           </a>\n",
      "          </li>\n",
      "          <li class=\"menu-item menu-item-type-post_type menu-item-object-page menu-item-1450\" id=\"menu-item-1450\">\n",
      "           <a href=\"https://data-x.blog/innovation-engineering-book/\">\n",
      "            Innovation Engineering Book\n",
      "           </a>\n",
      "          </li>\n",
      "          <li class=\"menu-item menu-item-type-custom menu-item-object-custom menu-item-572\" id=\"menu-item-572\">\n",
      "           <a href=\"http://data-x.blog/projects\">\n",
      "            Past Projects\n",
      "           </a>\n",
      "          </li>\n",
      "          <li class=\"menu-item menu-item-type-custom menu-item-object-custom menu-item-737\" id=\"menu-item-737\">\n",
      "           <a href=\"http://data-x.blog/project-ideas\">\n",
      "            Project Ideas\n",
      "           </a>\n",
      "          </li>\n",
      "          <li class=\"menu-item menu-item-type-post_type menu-item-object-page menu-item-485\" id=\"menu-item-485\">\n",
      "           <a href=\"https://data-x.blog/advisors/\">\n",
      "            Advisors\n",
      "           </a>\n",
      "          </li>\n",
      "         </ul>\n",
      "        </li>\n",
      "        <li class=\"menu-item menu-item-type-custom menu-item-object-custom menu-item-738\" id=\"menu-item-738\">\n",
      "         <a href=\"http://data-x.blog/posts\">\n",
      "          Posts\n",
      "         </a>\n",
      "        </li>\n",
      "        <li class=\"menu-item menu-item-type-post_type menu-item-object-page menu-item-129\" id=\"menu-item-129\">\n",
      "         <a href=\"https://data-x.blog/project/\">\n",
      "          Labs\n",
      "         </a>\n",
      "        </li>\n",
      "        <li class=\"menu-item menu-item-type-post_type menu-item-object-page menu-item-10\" id=\"menu-item-10\">\n",
      "         <a href=\"https://data-x.blog/contact/\">\n",
      "          Contact\n",
      "         </a>\n",
      "        </li>\n",
      "       </ul>\n",
      "      </div>\n",
      "     </nav>\n",
      "     <!-- #site-navigation -->\n",
      "    </div>\n",
      "    <!-- .wrap -->\n",
      "   </div>\n",
      "   <!-- .navigation-top -->\n",
      "  </header>\n",
      "  <!-- #masthead -->\n",
      "  <div class=\"site-content-contain\">\n",
      "   <div class=\"site-content\" id=\"content\">\n",
      "    <div class=\"wrap\">\n",
      "     <div class=\"content-area\" id=\"primary\">\n",
      "      <main class=\"site-main\" id=\"main\" role=\"main\">\n",
      "       <article class=\"post-94 page type-page status-publish hentry\" id=\"post-94\">\n",
      "        <header class=\"entry-header\">\n",
      "         <h1 class=\"entry-title\">\n",
      "          Berkeley Syllabus\n",
      "         </h1>\n",
      "        </header>\n",
      "        <!-- .entry-header -->\n",
      "        <div class=\"entry-content\">\n",
      "         <h2 style=\"text-align: left;\">\n",
      "          <strong>\n",
      "           Applied Data Science with Venture Applications\n",
      "           <br/>\n",
      "           IEOR 135/ 290\n",
      "           <br/>\n",
      "          </strong>\n",
      "         </h2>\n",
      "         <p style=\"text-align: left;\">\n",
      "          <strong>\n",
      "           Instructors\n",
      "          </strong>\n",
      "          : Ikhlaq Sidhu &amp; Arash Nourian\n",
      "          <br/>\n",
      "          Department of Industrial Engineering &amp; Operations Research\n",
      "         </p>\n",
      "         <p style=\"text-align: left;\">\n",
      "          3 Units, Lecture and Lab\n",
      "         </p>\n",
      "         <h1>\n",
      "          <strong>\n",
      "           Link to current schedule of topics and homeworks\n",
      "          </strong>\n",
      "         </h1>\n",
      "         <p style=\"text-align: left;\">\n",
      "          <strong>\n",
      "           Prerequisites\n",
      "          </strong>\n",
      "          : Interested students should have working knowledge of Python in advance of the class, and also should have completed a fundamental probability or statistics course.\n",
      "         </p>\n",
      "         <p style=\"text-align: left;\">\n",
      "          <strong>\n",
      "           Teaching Team:\n",
      "          </strong>\n",
      "         </p>\n",
      "         <ul style=\"text-align: left;\">\n",
      "          <li>\n",
      "           Ikhlaq Sidhu, sidhu@berkeley.edu (Instructor)\n",
      "          </li>\n",
      "          <li>\n",
      "           Arash Nourian, nourian@berkeley.edu (Instructor)\n",
      "          </li>\n",
      "          <li>\n",
      "           Nattaphol Vimolchalao, vimolchalao@berkeley.edu (Project Lead)\n",
      "          </li>\n",
      "          <li>\n",
      "           Lillian Dong, lilliandong@berkeley.edu (GSI)\n",
      "          </li>\n",
      "          <li>\n",
      "           Zhi Li, zhili@berkeley.edu (GSI)\n",
      "          </li>\n",
      "          <li>\n",
      "           Deirdre Quillen, deirdrequillen@berkeley.edu (GSI)\n",
      "          </li>\n",
      "          <li>\n",
      "           Ishaan Malhi, ishaan.malhi@berkeley.edu(GSI)\n",
      "          </li>\n",
      "         </ul>\n",
      "         <p>\n",
      "          <strong>\n",
      "           Extended Team:\n",
      "          </strong>\n",
      "         </p>\n",
      "         <ul style=\"text-align: left;\">\n",
      "          <li>\n",
      "           Alexander Fred-Ojala, afo@berkeley.edu\n",
      "          </li>\n",
      "         </ul>\n",
      "         <p style=\"text-align: left;\">\n",
      "          <span style=\"text-decoration: underline;\">\n",
      "           <strong>\n",
      "            Office Hours:\n",
      "           </strong>\n",
      "          </span>\n",
      "         </p>\n",
      "         <ul>\n",
      "          <li style=\"text-align: left;\">\n",
      "           Monday 1-2pm in Etcheverry Hall Room 4176b\n",
      "          </li>\n",
      "          <li style=\"text-align: left;\">\n",
      "           Fridays 2-3pm in Etcheverry Hall, IEOR Conference Room\n",
      "          </li>\n",
      "         </ul>\n",
      "         <p style=\"text-align: left;\">\n",
      "          <strong>\n",
      "           Arash Nourian ,\n",
      "          </strong>\n",
      "          by appointment vi\n",
      "          <a href=\"nourian@berkeleyu.edu\">\n",
      "           email\n",
      "          </a>\n",
      "          <br/>\n",
      "          <strong>\n",
      "           Ikhlaq Sidhu\n",
      "          </strong>\n",
      "          : by appointment via Melissa Glass,\n",
      "          <strong>\n",
      "           m.glass@berkeley.edu\n",
      "          </strong>\n",
      "         </p>\n",
      "         <h2 style=\"text-align: left;\">\n",
      "          <u>\n",
      "           Description\n",
      "          </u>\n",
      "         </h2>\n",
      "         <p style=\"text-align: left;\">\n",
      "          <strong>\n",
      "           Course Description:\n",
      "          </strong>\n",
      "         </p>\n",
      "         <p style=\"text-align: left;\">\n",
      "          This course is designed primarily for upper-level undergraduate engineering and technical students. Graduate students at a mezzanine level can also take a co-located section of the course. The course material offers an understanding at the intersection of foundational math mathematical concepts and current computer science tools, with applications of real world problems.  Math concepts include filtering, prediction, classification, decision-making, entropy as part of information theory, LTI systems, spectral analysis, and frameworks for learning from data.  Computer science tools for this course include open source tools such as Python with Numpy, Scipy, Pandas, SQL, NLTK, Tensor Flow, and Spark.  The course includes a team based data application project.\n",
      "         </p>\n",
      "         <p style=\"text-align: left;\">\n",
      "          The lectures present alternating and related topics between mathematical frameworks and the same concept within code examples. One goal is that students who understand math concepts can bring them to life with scalable CS tools.  And, students who are comfortable with computer software code can create systems by understanding selected, structured mathematical frameworks. This course is designed to be more applied than a traditional ML algorithms course as it includes a systems view and covers implementation concepts.\n",
      "         </p>\n",
      "         <p style=\"text-align: left;\">\n",
      "          Applications of this course are broad.  They include industry sectors such as finance, health, engineering, transportation, energy, and many others.  The lab section of the course meets in parallel with the lecture.  In the lab, the first 4 weeks are used to generate a story and low-tech demo for a real-world project that performs actions on data, and the following 8 weeks will be an agile sprint, with a demonstration of working project code by the end of the class. The skill set learned in this class can be applied to a broad range of industry sectors such as finance, health, engineering, transportation, energy, and many others.\n",
      "         </p>\n",
      "         <p>\n",
      "          <a href=\"https://github.com/sanaiqbalwani/Data-x-F-2015-Projects/tree/master/projects\" rel=\"noopener noreferrer\" target=\"_blank\">\n",
      "           Find our amazing projects from previous semesters here.\n",
      "          </a>\n",
      "         </p>\n",
      "         <p style=\"text-align: left;\">\n",
      "          <strong>\n",
      "           <u>\n",
      "            TEXTS AND REQUIRED SUPPLIES\n",
      "           </u>\n",
      "          </strong>\n",
      "         </p>\n",
      "         <ul style=\"text-align: left;\">\n",
      "          <li>\n",
      "           <a href=\"https://data-x.blog/\" rel=\"noopener noreferrer\" target=\"_blank\">\n",
      "            General Information\n",
      "           </a>\n",
      "          </li>\n",
      "          <li>\n",
      "           <a href=\"https://github.com/ikhlaqsidhu/data-x\" rel=\"noopener noreferrer\" target=\"_blank\">\n",
      "            Github for Code and Slides\n",
      "           </a>\n",
      "          </li>\n",
      "          <li>\n",
      "           Anaconda Python Environment on personal computer\n",
      "          </li>\n",
      "          <li>\n",
      "           <strong>\n",
      "            Text Book\n",
      "           </strong>\n",
      "           :\n",
      "           <a href=\"http://shop.oreilly.com/product/0636920052289.do\" rel=\"noopener noreferrer\" target=\"_blank\">\n",
      "           </a>\n",
      "           <ul style=\"text-align: left;\">\n",
      "            <li>\n",
      "             <a data-wplink-url-error=\"true\" href=\"http://At Amazon: https://www.amazon.com/dp/1733431705\">\n",
      "              Innovation Engineering, the book\n",
      "              <em>\n",
      "               – Required\n",
      "              </em>\n",
      "             </a>\n",
      "            </li>\n",
      "            <li>\n",
      "             <a href=\"http://shop.oreilly.com/product/0636920052289.do\" rel=\"noopener noreferrer\" target=\"_blank\">\n",
      "              Hands-On Machine Learning with Scikit-Learn and TensorFlow By Aurélien Géron\n",
      "             </a>\n",
      "             (optional, but highly recommended)\n",
      "            </li>\n",
      "           </ul>\n",
      "          </li>\n",
      "         </ul>\n",
      "         <p style=\"text-align: left;\">\n",
      "          <strong>\n",
      "           <u>\n",
      "            HOMEWORK, GRADING &amp; ATTENDANCE\n",
      "           </u>\n",
      "          </strong>\n",
      "         </p>\n",
      "         <p style=\"text-align: left;\">\n",
      "          Class attendance and participation are expected, and sign-ins for sessions are tracked.  Absences for unavoidable reasons should be preapproved whenever possible via an email to the GSI\n",
      "         </p>\n",
      "         <p style=\"text-align: left;\">\n",
      "          <strong>\n",
      "           Grading: (\n",
      "           <em>\n",
      "            Required to be taken on Letter Grade only\n",
      "           </em>\n",
      "           )\n",
      "           <br/>\n",
      "          </strong>\n",
      "          The class will be graded according to the categories below. At the end of the class there will be a poster presentation + live demo during reading week where invited judges will provide assessment of each project.\n",
      "         </p>\n",
      "         <ul style=\"text-align: left;\">\n",
      "          <li>\n",
      "           Homework: 35%\n",
      "          </li>\n",
      "          <li>\n",
      "           Quizzes: 15%\n",
      "          </li>\n",
      "          <li>\n",
      "           Low Tech Validated Solution (Demo + MVP): 20%\n",
      "          </li>\n",
      "          <li>\n",
      "           Final Project + Write up + Code Review: 30%\n",
      "          </li>\n",
      "         </ul>\n",
      "         <p>\n",
      "          Based on our previous experience in the course, we have decided to use the following percentile thresholds for the final grading. We plan to award A (top 30%), A- (next 30%), B+ (next 25%) and case by case grading for the rest. We reserve the right to increase or decrease these thresholds based on the performance of the class.\n",
      "         </p>\n",
      "         <p style=\"text-align: left;\">\n",
      "          <strong>\n",
      "           Student Accommodations\n",
      "          </strong>\n",
      "          : Students with disabilities who need accommodations in order to have equal access to this course will be accommodated. If you have not done so already, please contact DSP and apply for services. If you are already eligible for services, please be sure to request your accommodation letters for this class. You are welcome to visit me in office hours or to schedule an individual appointment with me via email to review your accommodations.\n",
      "         </p>\n",
      "         <p>\n",
      "          <strong>\n",
      "           <u>\n",
      "            SCHEDULE OF TOPICS\n",
      "            <br/>\n",
      "           </u>\n",
      "          </strong>\n",
      "         </p>\n",
      "         <ul>\n",
      "          <li>\n",
      "           On a weekly basis, class sessions may start with a “meet a mentor” and/or “application model case study” section.*\n",
      "          </li>\n",
      "          <li>\n",
      "           All slides and notebook samples will be updated\n",
      "           <a href=\"https://github.com/ikhlaqsidhu/data-x\" rel=\"noopener noreferrer\" target=\"_blank\">\n",
      "            at this site\n",
      "           </a>\n",
      "           .\n",
      "          </li>\n",
      "         </ul>\n",
      "         <table width=\"472\">\n",
      "          <tbody>\n",
      "           <tr>\n",
      "            <td width=\"132\">\n",
      "             <strong>\n",
      "              Topic 1:\n",
      "             </strong>\n",
      "            </td>\n",
      "            <td width=\"341\">\n",
      "             Introduction\n",
      "             <br/>\n",
      "             <strong>\n",
      "              Theory\n",
      "             </strong>\n",
      "             : Overview of Frameworks for obtaining insights from data (Slides).\n",
      "             <br/>\n",
      "             <strong>\n",
      "              Tools\n",
      "             </strong>\n",
      "             : Python Review\n",
      "            </td>\n",
      "           </tr>\n",
      "           <tr>\n",
      "            <td width=\"132\">\n",
      "             Code\n",
      "            </td>\n",
      "            <td width=\"341\">\n",
      "             1. Introduction to GitHub\n",
      "             <br/>\n",
      "             2. Setting up Anaconda Environment\n",
      "             <br/>\n",
      "             3. Coding with Python Review\n",
      "            </td>\n",
      "           </tr>\n",
      "           <tr>\n",
      "            <td width=\"132\">\n",
      "             Homework\n",
      "            </td>\n",
      "            <td width=\"341\">\n",
      "             <a href=\"https://data-x.blog/wp-content/uploads/2020/01/HW1.pdf\">\n",
      "              HW1\n",
      "             </a>\n",
      "            </td>\n",
      "           </tr>\n",
      "          </tbody>\n",
      "         </table>\n",
      "        </div>\n",
      "       </article>\n",
      "      </main>\n",
      "     </div>\n",
      "    </div>\n",
      "   </div>\n",
      "  </div>\n",
      " </div>\n",
      "</body>\n"
     ]
    }
   ],
   "source": [
    "# Open new connection to the Syllabus url. Replace soup object.\n",
    "\n",
    "source = requests.get(syllabus_url).content\n",
    "soup = bs.BeautifulSoup(source, 'html.parser')\n",
    "\n",
    "print(soup.body.prettify()) \n",
    "# we can see that the Syllabus is built up of <td>, <tr> and <table> tags"
   ]
  },
  {
   "cell_type": "markdown",
   "metadata": {
    "slideshow": {
     "slide_type": "subslide"
    }
   },
   "source": [
    "### Find the course schedule table from the syllabus:  \n",
    "Usually organized data in HTML format on a website is stored in tables under `<table>, <tr>,` and `<td>` tags. Here we want to extract the information in the Data-X syllabus.\n",
    "\n",
    "**NOTE:**  To identify element, class or id  name of the object of your interest on a web page, you can go to the link address in your browser, under 'more tools' option click __'developer tools'__. This opens  the 'Document object Model' of the webpage. Hover on the element of your interest on the webpage to check its location. This will help you in deciding which parts of 'soup content' you want to parse. More info at: https://developer.chrome.com/devtools"
   ]
  },
  {
   "cell_type": "code",
   "execution_count": 72,
   "metadata": {
    "scrolled": true,
    "slideshow": {
     "slide_type": "subslide"
    }
   },
   "outputs": [],
   "source": [
    "# We can see that course schedule is in <table><table/> elements\n",
    "# We can also get the table\n",
    "full_table = soup.find_all('table')"
   ]
  },
  {
   "cell_type": "code",
   "execution_count": 73,
   "metadata": {
    "slideshow": {
     "slide_type": "subslide"
    }
   },
   "outputs": [
    {
     "data": {
      "text/plain": [
       "[<table width=\"472\">\n",
       " <tbody>\n",
       " <tr>\n",
       " <td width=\"132\"><strong>Topic 1:</strong></td>\n",
       " <td width=\"341\">Introduction<br/>\n",
       " <strong>Theory</strong>: Overview of Frameworks for obtaining insights from data (Slides).<br/>\n",
       " <strong>Tools</strong>: Python Review</td>\n",
       " </tr>\n",
       " <tr>\n",
       " <td width=\"132\">Code</td>\n",
       " <td width=\"341\">1. Introduction to GitHub<br/>\n",
       " 2. Setting up Anaconda Environment<br/>\n",
       " 3. Coding with Python Review</td>\n",
       " </tr>\n",
       " <tr>\n",
       " <td width=\"132\">Homework</td>\n",
       " <td width=\"341\"><a href=\"https://data-x.blog/wp-content/uploads/2020/01/HW1.pdf\">HW1 </a></td></tr></tbody></table>,\n",
       " <table width=\"472\">\n",
       " <tbody>\n",
       " <tr>\n",
       " <td width=\"132\"><strong>Topic 2:</strong></td>\n",
       " <td width=\"341\"><strong>Tools:</strong> Linear Regression, Data as a Signal with Correlation</td>\n",
       " </tr>\n",
       " <tr>\n",
       " <td width=\"132\">Code</td>\n",
       " <td width=\"341\">—</td>\n",
       " </tr>\n",
       " <tr>\n",
       " <td width=\"132\">Reading</td>\n",
       " <td width=\"341\"></td>\n",
       " </tr>\n",
       " <tr>\n",
       " <td width=\"132\">Project</td>\n",
       " <td width=\"341\">Module 2: Team Formation 1</td>\n",
       " </tr>\n",
       " </tbody>\n",
       " </table>,\n",
       " <table width=\"472\">\n",
       " <tbody>\n",
       " <tr>\n",
       " <td width=\"132\"><strong>Topic 3:</strong></td>\n",
       " <td width=\"341\"><strong>Theory</strong>: Regression -ML</td>\n",
       " </tr>\n",
       " <tr>\n",
       " <td width=\"132\">Code</td>\n",
       " <td width=\"341\"> Coding with Numpy</td>\n",
       " </tr>\n",
       " <tr>\n",
       " <td width=\"132\">Reading</td>\n",
       " <td width=\"341\"><a href=\"https://www.datacamp.com/community/tutorials/pandas-tutorial-dataframe-python\">DataCamp</a>, <a class=\"\" href=\"https://www.tutorialspoint.com/numpy/numpy_introduction.htm\">tutorialpoint</a>,</td>\n",
       " </tr>\n",
       " <tr>\n",
       " <td width=\"132\">Project Module 3</td>\n",
       " <td width=\"341\">Module 3: Team Formation 2</td>\n",
       " </tr>\n",
       " </tbody>\n",
       " </table>,\n",
       " <table width=\"472\">\n",
       " <tbody>\n",
       " <tr>\n",
       " <td width=\"132\"><strong>Topic 4:</strong></td>\n",
       " <td width=\"341\"><strong>Theory: </strong>Classification and Logistic Regression</td>\n",
       " </tr>\n",
       " <tr>\n",
       " <td width=\"132\">Code</td>\n",
       " <td width=\"341\">Coding with Pandas</td>\n",
       " </tr>\n",
       " <tr>\n",
       " <td width=\"132\">Reading</td>\n",
       " <td width=\"341\"></td>\n",
       " </tr>\n",
       " <tr>\n",
       " <td width=\"132\"> Project</td>\n",
       " <td width=\"341\">Develop insightful story and brainstorm solutions</td>\n",
       " </tr>\n",
       " </tbody>\n",
       " </table>,\n",
       " <table width=\"472\">\n",
       " <tbody>\n",
       " <tr>\n",
       " <td width=\"132\"><strong>Topic 5:</strong></td>\n",
       " <td width=\"341\"><strong>Theory: </strong><strong>Correlation</strong></td>\n",
       " </tr>\n",
       " <tr>\n",
       " <td width=\"132\">Code</td>\n",
       " <td width=\"341\">—</td>\n",
       " </tr>\n",
       " <tr>\n",
       " <td width=\"132\">Reading</td>\n",
       " <td width=\"341\"><a href=\"https://github.com/ikhlaqsidhu/data-x/blob/master/03-theory-data-as-signal-w-correlation/data-signals-correlation-v7a.pdf\">Correlation Reading</a></td>\n",
       " </tr>\n",
       " <tr>\n",
       " <td width=\"132\"> Project</td>\n",
       " <td width=\"341\">Team break out discussions</td>\n",
       " </tr>\n",
       " </tbody>\n",
       " </table>,\n",
       " <table width=\"472\">\n",
       " <tbody>\n",
       " <tr>\n",
       " <td width=\"132\"><strong>Topic 6:</strong></td>\n",
       " <td width=\"341\"><strong>Theory: </strong>Prediction &amp; Intro to Skikit-Learn</td>\n",
       " </tr>\n",
       " <tr>\n",
       " <td width=\"132\">Code</td>\n",
       " <td width=\"341\">Coding with Skikit-Learn</td>\n",
       " </tr>\n",
       " <tr>\n",
       " <td width=\"132\">Reading</td>\n",
       " <td width=\"341\"><a href=\"https://github.com/ikhlaqsidhu/data-x/blob/master/04c-tools-skl-classify-iris_add_regression_si/hands_on_tools_iris/4b%20sklearn-classification-regression-bkhw-FALL%202018.ipynb\">Prediction Slides</a></td>\n",
       " </tr>\n",
       " <tr>\n",
       " <td width=\"132\"> Project</td>\n",
       " <td width=\"341\">—</td>\n",
       " </tr>\n",
       " </tbody>\n",
       " </table>,\n",
       " <table width=\"472\">\n",
       " <tbody>\n",
       " <tr>\n",
       " <td width=\"132\"><strong>Topic 7:</strong></td>\n",
       " <td width=\"341\"><strong>Theory: </strong>Matplotlib / Data Visualization</td>\n",
       " </tr>\n",
       " <tr>\n",
       " <td width=\"132\">Code</td>\n",
       " <td width=\"341\"><a href=\"https://github.com/ikhlaqsidhu/data-x/blob/master/02c-tools-python-viz-matplotlib_afo/matplotlib-intro-w-pandas-seaborn-v2-afo.ipynb\">Coding with<strong> </strong>Matplotlib</a></td>\n",
       " </tr>\n",
       " <tr>\n",
       " <td width=\"132\">Reading</td>\n",
       " <td width=\"341\">—</td>\n",
       " </tr>\n",
       " <tr>\n",
       " <td width=\"132\"> Project</td>\n",
       " <td width=\"341\">—</td>\n",
       " </tr>\n",
       " </tbody>\n",
       " </table>,\n",
       " <table width=\"472\">\n",
       " <tbody>\n",
       " <tr>\n",
       " <td width=\"132\"><strong>Topic 8:</strong></td>\n",
       " <td width=\"341\"><strong>Theory: </strong>Low Tech Demo Presentations</td>\n",
       " </tr>\n",
       " <tr>\n",
       " <td width=\"132\">Code</td>\n",
       " <td width=\"341\">—</td>\n",
       " </tr>\n",
       " <tr>\n",
       " <td width=\"132\">Reading</td>\n",
       " <td width=\"341\"></td>\n",
       " </tr>\n",
       " <tr>\n",
       " <td width=\"132\"> Project</td>\n",
       " <td width=\"341\">Module 4: Low Tech Demo</td>\n",
       " </tr>\n",
       " </tbody>\n",
       " </table>,\n",
       " <table width=\"643\">\n",
       " <tbody>\n",
       " <tr>\n",
       " <td width=\"132\"><strong>Topic 9:</strong></td>\n",
       " <td width=\"341\"><strong>Theory: </strong>Classification &amp; Prediction</td>\n",
       " </tr>\n",
       " <tr>\n",
       " <td width=\"132\">Code</td>\n",
       " <td width=\"341\">Reference Titanic Notebook (part1-4)</td>\n",
       " </tr>\n",
       " <tr>\n",
       " <td width=\"132\">Reading</td>\n",
       " <td width=\"341\"></td>\n",
       " </tr>\n",
       " <tr>\n",
       " <td width=\"132\"> Project</td>\n",
       " <td width=\"341\">Module 5</td>\n",
       " </tr>\n",
       " </tbody>\n",
       " </table>,\n",
       " <table width=\"472\">\n",
       " <tbody>\n",
       " <tr>\n",
       " <td width=\"132\"><strong>Topic 10:</strong></td>\n",
       " <td width=\"341\"><strong>Theory: </strong>Machine Learning &amp; Cross Validation</td>\n",
       " </tr>\n",
       " <tr>\n",
       " <td width=\"132\">Code</td>\n",
       " <td width=\"341\">Coding with python for ML deploy-Flask</td>\n",
       " </tr>\n",
       " <tr>\n",
       " <td width=\"132\">Reading</td>\n",
       " <td width=\"341\"><a href=\"https://github.com/ikhlaqsidhu/data-x/blob/master/05b-theory-ml-overivew/ml-overview-wide-v2.pdf\">Machine Learning Reading</a></td>\n",
       " </tr>\n",
       " <tr>\n",
       " <td width=\"132\"> Project</td>\n",
       " <td width=\"341\">Module 5</td>\n",
       " </tr>\n",
       " </tbody>\n",
       " </table>,\n",
       " <table width=\"472\">\n",
       " <tbody>\n",
       " <tr>\n",
       " <td width=\"132\"><strong>Topic 10:</strong></td>\n",
       " <td width=\"341\"><strong>Theory: </strong>Decision Trees, Information Theory, Random Forest</td>\n",
       " </tr>\n",
       " <tr>\n",
       " <td width=\"132\">Code</td>\n",
       " <td width=\"341\">Reference Titanic Notebook (Part 4)</td>\n",
       " </tr>\n",
       " <tr>\n",
       " <td width=\"132\">Reading</td>\n",
       " <td width=\"341\"><a href=\"https://github.com/ikhlaqsidhu/data-x/blob/master/08b-theory-ml-trees/trees-entropy-forrest-wide-v2.pdf\">Slides</a></td>\n",
       " </tr>\n",
       " <tr>\n",
       " <td width=\"132\"> Project</td>\n",
       " <td width=\"341\">Module 5</td>\n",
       " </tr>\n",
       " </tbody>\n",
       " </table>,\n",
       " <table width=\"472\">\n",
       " <tbody>\n",
       " <tr>\n",
       " <td width=\"132\"><strong>Topic 11:</strong></td>\n",
       " <td width=\"341\"><strong>Tools: Web Scraping  &amp; Web Crawling<br/>\n",
       " </strong></td>\n",
       " </tr>\n",
       " <tr>\n",
       " <td width=\"132\">Code</td>\n",
       " <td width=\"341\"><a href=\"https://github.com/ikhlaqsidhu/data-x/blob/master/03-tools-webscraping-crawling_api_afo/notebook-webscraping_v4.ipynb\">Web Scraping Notebook </a> , <a href=\"https://github.com/ikhlaqsidhu/data-x/blob/master/03-tools-webscraping-crawling_api_afo/webscraper-breakout.ipynb\">Breakout</a></td>\n",
       " </tr>\n",
       " <tr>\n",
       " <td width=\"132\">Reading</td>\n",
       " <td width=\"341\"></td>\n",
       " </tr>\n",
       " <tr>\n",
       " <td width=\"132\"> Project</td>\n",
       " <td width=\"341\">Module 6</td>\n",
       " </tr>\n",
       " </tbody>\n",
       " </table>,\n",
       " <table width=\"472\">\n",
       " <tbody>\n",
       " <tr>\n",
       " <td width=\"132\"><strong>Topic 12:</strong></td>\n",
       " <td width=\"341\"><strong>Theory:</strong><br/>\n",
       " 1. Introduction to Natural Language Processing – NLTK overview and Word2vec<br/>\n",
       " 2. Sentiment Analysis<br/>\n",
       " <strong>Tools:</strong> NLTK, Gensim, Tensorflow</td>\n",
       " </tr>\n",
       " <tr>\n",
       " <td width=\"132\">Code</td>\n",
       " <td width=\"341\">Coding with NLTK, Gensim, Tensorflow</td>\n",
       " </tr>\n",
       " <tr>\n",
       " <td width=\"132\">Reading</td>\n",
       " <td width=\"341\"><a href=\"https://blog.algorithmia.com/introduction-natural-language-processing-nlp/\">Links </a>   , <a href=\"https://github.com/ikhlaqsidhu/data-x/blob/master/07a-tools-nlp-sentiment_add_missing_si/NLP1-slides_v2_afo.pdf\">Slides</a></td>\n",
       " </tr>\n",
       " <tr>\n",
       " <td width=\"132\"> Project</td>\n",
       " <td width=\"341\">Module 6</td>\n",
       " </tr>\n",
       " </tbody>\n",
       " </table>,\n",
       " <table width=\"472\">\n",
       " <tbody>\n",
       " <tr>\n",
       " <td width=\"132\"><strong>Topic 13:</strong></td>\n",
       " <td width=\"341\"><strong>Theory:</strong> Polynomial Regression, Bias Variance Tradeoff, Regularization</td>\n",
       " </tr>\n",
       " <tr>\n",
       " <td width=\"132\">Code</td>\n",
       " <td width=\"341\"> <a href=\"https://github.com/ikhlaqsidhu/data-x/blob/master/05c-theory-tools-regularization/regularization_notebook_v2.ipynb\">Regularization Notebook</a></td>\n",
       " </tr>\n",
       " <tr>\n",
       " <td width=\"132\">Reading</td>\n",
       " <td width=\"341\"><a href=\"https://github.com/ikhlaqsidhu/data-x/blob/master/05c-theory-tools-regularization/polynomial_regression_bias_variance_regularization-v2_afo.pdf\">Slides</a></td>\n",
       " </tr>\n",
       " <tr>\n",
       " <td width=\"132\"> Project</td>\n",
       " <td width=\"341\">Module 7</td>\n",
       " </tr>\n",
       " </tbody>\n",
       " </table>,\n",
       " <table width=\"472\">\n",
       " <tbody>\n",
       " <tr>\n",
       " <td width=\"132\"><strong>Topic 14:</strong></td>\n",
       " <td width=\"341\"><strong>Theory:</strong> Introduction to Neural Networks- ANN, CNN, RNN<br/>\n",
       " <strong>Tools:</strong>  Tensorflow</td>\n",
       " </tr>\n",
       " <tr>\n",
       " <td width=\"132\">Code</td>\n",
       " <td width=\"341\">Coding with Tensorflow for image classification</td>\n",
       " </tr>\n",
       " <tr>\n",
       " <td width=\"132\">Reading</td>\n",
       " <td width=\"341\"><a href=\"https://github.com/ikhlaqsidhu/data-x/blob/master/06a-theory-neural_net/deep-learning.pdf\">Slides</a></td>\n",
       " </tr>\n",
       " <tr>\n",
       " <td width=\"132\"> Project</td>\n",
       " <td width=\"341\">Module 8</td>\n",
       " </tr>\n",
       " </tbody>\n",
       " </table>,\n",
       " <table width=\"472\">\n",
       " <tbody>\n",
       " <tr>\n",
       " <td width=\"132\"><strong>Topic 15:</strong></td>\n",
       " <td width=\"341\"><strong>Theory:</strong><br/>\n",
       " 1. Introduction to database<br/>\n",
       " 2. Introduction to SQL<br/>\n",
       " 3.  Introduction to Block Chain as a database<br/>\n",
       " 4. Big Data Analysis with Spark<br/>\n",
       " <strong>Tools:</strong> SQL libraries in python, Solidity</td>\n",
       " </tr>\n",
       " <tr>\n",
       " <td width=\"132\">Code</td>\n",
       " <td width=\"341\">Coding with python for SQL</td>\n",
       " </tr>\n",
       " <tr>\n",
       " <td width=\"132\">Reading</td>\n",
       " <td width=\"341\"><a href=\"https://github.com/ikhlaqsidhu/data-x/blob/master/09a-sql/README.md\">Text Book</a></td>\n",
       " </tr>\n",
       " <tr>\n",
       " <td width=\"132\"> Project</td>\n",
       " <td width=\"341\">Module 9</td>\n",
       " </tr>\n",
       " </tbody>\n",
       " </table>,\n",
       " <table width=\"680\">\n",
       " <tbody>\n",
       " <tr>\n",
       " <td width=\"132\"><strong>Topic 16:</strong></td>\n",
       " <td width=\"341\"><strong>Theory:</strong> Spectral Signals, LTI -Fundamentals and Applications<br/>\n",
       " <strong>Tools:</strong> Temporal and Spatial Signal processing</td>\n",
       " </tr>\n",
       " <tr>\n",
       " <td width=\"132\">Code</td>\n",
       " <td width=\"341\">Coding with python for Spark</td>\n",
       " </tr>\n",
       " <tr>\n",
       " <td width=\"132\">Reading</td>\n",
       " <td width=\"341\"></td>\n",
       " </tr>\n",
       " <tr>\n",
       " <td width=\"132\"> Project</td>\n",
       " <td width=\"341\">Module 10</td>\n",
       " </tr>\n",
       " </tbody>\n",
       " </table>,\n",
       " <table width=\"670\">\n",
       " <tbody>\n",
       " <tr>\n",
       " <td width=\"132\"><strong>Topic 17:</strong></td>\n",
       " <td width=\"341\"><strong>Theory:</strong> GAN/Reinforcement Learning</td>\n",
       " </tr>\n",
       " <tr>\n",
       " <td width=\"132\">Code</td>\n",
       " <td width=\"341\">TBD</td>\n",
       " </tr>\n",
       " <tr>\n",
       " <td width=\"132\">Reading</td>\n",
       " <td width=\"341\"></td>\n",
       " </tr>\n",
       " <tr>\n",
       " <td width=\"132\">Project</td>\n",
       " <td width=\"341\">Module 11-12</td>\n",
       " </tr>\n",
       " </tbody>\n",
       " </table>,\n",
       " <table width=\"678\">\n",
       " <tbody>\n",
       " <tr>\n",
       " <td width=\"132\"><strong>Topic 18:</strong></td>\n",
       " <td width=\"341\">Project Presentations – Demo Day(s)</td>\n",
       " </tr>\n",
       " <tr>\n",
       " <td width=\"132\">Code</td>\n",
       " <td width=\"341\">Presentation including running code and code samples</td>\n",
       " </tr>\n",
       " <tr>\n",
       " <td width=\"132\">Due</td>\n",
       " <td width=\"341\"> Includes preparation time in last week</td>\n",
       " </tr>\n",
       " <tr>\n",
       " <td width=\"132\"> Project</td>\n",
       " <td width=\"341\">Final Presentations</td>\n",
       " </tr>\n",
       " </tbody>\n",
       " </table>]"
      ]
     },
     "execution_count": 73,
     "metadata": {},
     "output_type": "execute_result"
    }
   ],
   "source": [
    "full_table"
   ]
  },
  {
   "cell_type": "code",
   "execution_count": 75,
   "metadata": {
    "slideshow": {
     "slide_type": "subslide"
    }
   },
   "outputs": [
    {
     "name": "stdout",
     "output_type": "stream",
     "text": [
      "['Topic 1:', 'Introduction\\nTheory: Overview of Frameworks for obtaining insights from data (Slides).\\nTools: Python Review']\n",
      "['Code', '1. Introduction to GitHub\\n2. Setting up Anaconda Environment\\n3. Coding with Python Review']\n",
      "['Homework', 'HW1 ']\n",
      "['Topic 2:', 'Tools:\\xa0Linear Regression, Data as a Signal with Correlation']\n",
      "['Code', '—']\n",
      "['Reading', '']\n",
      "['Project', 'Module 2: Team Formation 1']\n",
      "['Topic 3:', 'Theory: Regression -ML']\n",
      "['Code', '\\xa0Coding with Numpy']\n",
      "['Reading', 'DataCamp, tutorialpoint,']\n",
      "['Project Module 3', 'Module 3: Team Formation 2']\n",
      "['Topic 4:', 'Theory:\\xa0Classification and Logistic Regression']\n",
      "['Code', 'Coding with Pandas']\n",
      "['Reading', '']\n",
      "['\\xa0Project', 'Develop insightful story and brainstorm solutions']\n",
      "['Topic 5:', 'Theory:\\xa0Correlation']\n",
      "['Code', '—']\n",
      "['Reading', 'Correlation Reading']\n",
      "['\\xa0Project', 'Team break out discussions']\n",
      "['Topic 6:', 'Theory: Prediction & Intro to Skikit-Learn']\n",
      "['Code', 'Coding with Skikit-Learn']\n",
      "['Reading', 'Prediction Slides']\n",
      "['\\xa0Project', '—']\n",
      "['Topic 7:', 'Theory:\\xa0Matplotlib / Data Visualization']\n",
      "['Code', 'Coding with\\xa0Matplotlib']\n",
      "['Reading', '—']\n",
      "['\\xa0Project', '—']\n",
      "['Topic 8:', 'Theory:\\xa0Low Tech Demo Presentations']\n",
      "['Code', '—']\n",
      "['Reading', '']\n",
      "['\\xa0Project', 'Module 4: Low Tech Demo']\n",
      "['Topic 9:', 'Theory:\\xa0Classification & Prediction']\n",
      "['Code', 'Reference Titanic Notebook (part1-4)']\n",
      "['Reading', '']\n",
      "['\\xa0Project', 'Module 5']\n",
      "['Topic 10:', 'Theory:\\xa0Machine Learning & Cross Validation']\n",
      "['Code', 'Coding with python for ML deploy-Flask']\n",
      "['Reading', 'Machine Learning Reading']\n",
      "['\\xa0Project', 'Module 5']\n",
      "['Topic 10:', 'Theory:\\xa0Decision Trees, Information Theory, Random Forest']\n",
      "['Code', 'Reference Titanic Notebook (Part 4)']\n",
      "['Reading', 'Slides']\n",
      "['\\xa0Project', 'Module 5']\n",
      "['Topic 11:', 'Tools: Web Scraping\\xa0 & Web Crawling\\n']\n",
      "['Code', 'Web Scraping Notebook \\xa0, Breakout']\n",
      "['Reading', '']\n",
      "['\\xa0Project', 'Module 6']\n",
      "['Topic 12:', 'Theory:\\n1. Introduction to Natural Language Processing – NLTK overview and Word2vec\\n2. Sentiment Analysis\\nTools: NLTK, Gensim, Tensorflow']\n",
      "['Code', 'Coding with NLTK, Gensim, Tensorflow']\n",
      "['Reading', 'Links \\xa0 \\xa0, Slides']\n",
      "['\\xa0Project', 'Module 6']\n",
      "['Topic 13:', 'Theory: Polynomial Regression, Bias Variance Tradeoff, Regularization']\n",
      "['Code', '\\xa0Regularization Notebook']\n",
      "['Reading', 'Slides']\n",
      "['\\xa0Project', 'Module 7']\n",
      "['Topic 14:', 'Theory: Introduction to Neural Networks- ANN, CNN, RNN\\nTools:\\xa0 Tensorflow']\n",
      "['Code', 'Coding with Tensorflow for image classification']\n",
      "['Reading', 'Slides']\n",
      "['\\xa0Project', 'Module 8']\n",
      "['Topic 15:', 'Theory:\\n1. Introduction to database\\n2.\\xa0Introduction to SQL\\n3.\\xa0\\xa0Introduction to Block Chain as a database\\n4. Big Data Analysis with Spark\\nTools: SQL libraries in python, Solidity']\n",
      "['Code', 'Coding with python for SQL']\n",
      "['Reading', 'Text Book']\n",
      "['\\xa0Project', 'Module 9']\n",
      "['Topic 16:', 'Theory: Spectral Signals, LTI -Fundamentals and Applications\\nTools: Temporal and Spatial Signal processing']\n",
      "['Code', 'Coding with python for Spark']\n",
      "['Reading', '']\n",
      "['\\xa0Project', 'Module 10']\n",
      "['Topic 17:', 'Theory: GAN/Reinforcement Learning']\n",
      "['Code', 'TBD']\n",
      "['Reading', '']\n",
      "['Project', 'Module 11-12']\n",
      "['Topic 18:', 'Project Presentations – Demo Day(s)']\n",
      "['Code', 'Presentation including running code and code samples']\n",
      "['Due', '\\xa0Includes preparation time in last week']\n",
      "['\\xa0Project', 'Final Presentations']\n"
     ]
    }
   ],
   "source": [
    "# A new row in an HTML table starts with <tr> tag\n",
    "# A new column entry is defined by <td> tag\n",
    "table_result = list()\n",
    "for table in full_table:\n",
    "    for row in table.find_all('tr'):\n",
    "        row_cells = row.find_all('td') # find all table data\n",
    "        row_entries = [cell.text for cell in row_cells] # Extract all the text from the cell\n",
    "        print(row_entries)\n",
    "        table_result.append(row_entries)\n",
    "        # get all the table data into a list"
   ]
  },
  {
   "cell_type": "code",
   "execution_count": 76,
   "metadata": {
    "scrolled": false,
    "slideshow": {
     "slide_type": "subslide"
    }
   },
   "outputs": [
    {
     "data": {
      "text/html": [
       "<div>\n",
       "<style scoped>\n",
       "    .dataframe tbody tr th:only-of-type {\n",
       "        vertical-align: middle;\n",
       "    }\n",
       "\n",
       "    .dataframe tbody tr th {\n",
       "        vertical-align: top;\n",
       "    }\n",
       "\n",
       "    .dataframe thead th {\n",
       "        text-align: right;\n",
       "    }\n",
       "</style>\n",
       "<table border=\"1\" class=\"dataframe\">\n",
       "  <thead>\n",
       "    <tr style=\"text-align: right;\">\n",
       "      <th></th>\n",
       "      <th>0</th>\n",
       "      <th>1</th>\n",
       "    </tr>\n",
       "  </thead>\n",
       "  <tbody>\n",
       "    <tr>\n",
       "      <th>0</th>\n",
       "      <td>Topic 1:</td>\n",
       "      <td>Introduction\\nTheory: Overview of Frameworks for obtaining insights from data (Slides).\\nTools: Python Review</td>\n",
       "    </tr>\n",
       "    <tr>\n",
       "      <th>1</th>\n",
       "      <td>Code</td>\n",
       "      <td>1. Introduction to GitHub\\n2. Setting up Anaconda Environment\\n3. Coding with Python Review</td>\n",
       "    </tr>\n",
       "    <tr>\n",
       "      <th>2</th>\n",
       "      <td>Homework</td>\n",
       "      <td>HW1</td>\n",
       "    </tr>\n",
       "    <tr>\n",
       "      <th>3</th>\n",
       "      <td>Topic 2:</td>\n",
       "      <td>Tools: Linear Regression, Data as a Signal with Correlation</td>\n",
       "    </tr>\n",
       "    <tr>\n",
       "      <th>4</th>\n",
       "      <td>Code</td>\n",
       "      <td>—</td>\n",
       "    </tr>\n",
       "    <tr>\n",
       "      <th>...</th>\n",
       "      <td>...</td>\n",
       "      <td>...</td>\n",
       "    </tr>\n",
       "    <tr>\n",
       "      <th>70</th>\n",
       "      <td>Project</td>\n",
       "      <td>Module 11-12</td>\n",
       "    </tr>\n",
       "    <tr>\n",
       "      <th>71</th>\n",
       "      <td>Topic 18:</td>\n",
       "      <td>Project Presentations – Demo Day(s)</td>\n",
       "    </tr>\n",
       "    <tr>\n",
       "      <th>72</th>\n",
       "      <td>Code</td>\n",
       "      <td>Presentation including running code and code samples</td>\n",
       "    </tr>\n",
       "    <tr>\n",
       "      <th>73</th>\n",
       "      <td>Due</td>\n",
       "      <td>Includes preparation time in last week</td>\n",
       "    </tr>\n",
       "    <tr>\n",
       "      <th>74</th>\n",
       "      <td>Project</td>\n",
       "      <td>Final Presentations</td>\n",
       "    </tr>\n",
       "  </tbody>\n",
       "</table>\n",
       "<p>75 rows × 2 columns</p>\n",
       "</div>"
      ],
      "text/plain": [
       "            0  \\\n",
       "0    Topic 1:   \n",
       "1        Code   \n",
       "2    Homework   \n",
       "3    Topic 2:   \n",
       "4        Code   \n",
       "..        ...   \n",
       "70    Project   \n",
       "71  Topic 18:   \n",
       "72       Code   \n",
       "73        Due   \n",
       "74    Project   \n",
       "\n",
       "                                                                                                                1  \n",
       "0   Introduction\\nTheory: Overview of Frameworks for obtaining insights from data (Slides).\\nTools: Python Review  \n",
       "1                     1. Introduction to GitHub\\n2. Setting up Anaconda Environment\\n3. Coding with Python Review  \n",
       "2                                                                                                            HW1   \n",
       "3                                                     Tools: Linear Regression, Data as a Signal with Correlation  \n",
       "4                                                                                                               —  \n",
       "..                                                                                                            ...  \n",
       "70                                                                                                   Module 11-12  \n",
       "71                                                                            Project Presentations – Demo Day(s)  \n",
       "72                                                           Presentation including running code and code samples  \n",
       "73                                                                         Includes preparation time in last week  \n",
       "74                                                                                            Final Presentations  \n",
       "\n",
       "[75 rows x 2 columns]"
      ]
     },
     "execution_count": 76,
     "metadata": {},
     "output_type": "execute_result"
    }
   ],
   "source": [
    "# We can also read it in to a Pandas DataFrame\n",
    "import pandas as pd\n",
    "pd.set_option('display.max_colwidth', 10000)\n",
    "\n",
    "df = pd.DataFrame(table_result)\n",
    "df"
   ]
  },
  {
   "cell_type": "code",
   "execution_count": 77,
   "metadata": {
    "slideshow": {
     "slide_type": "subslide"
    }
   },
   "outputs": [],
   "source": [
    "# Pandas can also grab tables from a website automatically\n",
    "\n",
    "import pandas as pd\n",
    "\n",
    "import html5lib\n",
    "# requires html5lib: \n",
    "#!conda install --yes html5\n",
    "dfs = pd.read_html('https://data-x.blog/syllabus/') \n",
    "# returns a list of all tables at url\n",
    "\n"
   ]
  },
  {
   "cell_type": "code",
   "execution_count": 79,
   "metadata": {
    "slideshow": {
     "slide_type": "subslide"
    }
   },
   "outputs": [
    {
     "data": {
      "text/plain": [
       "[          0  \\\n",
       " 0  Topic 1:   \n",
       " 1      Code   \n",
       " 2  Homework   \n",
       " 3   Project   \n",
       " \n",
       "                                                                                                              1  \n",
       " 0  Introduction Theory: Overview of Frameworks for obtaining insights from data (Slides). Tools: Python Review  \n",
       " 1                    1. Introduction to GitHub 2. Setting up Anaconda Environment 3. Coding with Python Review  \n",
       " 2                                                                                                      HW1 HW2  \n",
       " 3                                                                               Module 1: Project Introduction  ,\n",
       "           0                                                            1\n",
       " 0  Topic 2:  Tools: Linear Regression, Data as a Signal with Correlation\n",
       " 1      Code                                                            —\n",
       " 2   Reading                                                          NaN\n",
       " 3   Project                                   Module 2: Team Formation 1,\n",
       "                   0                           1\n",
       " 0          Topic 3:      Theory: Regression -ML\n",
       " 1              Code           Coding with Numpy\n",
       " 2           Reading    DataCamp, tutorialpoint,\n",
       " 3  Project Module 3  Module 3: Team Formation 2,\n",
       "           0                                                  1\n",
       " 0  Topic 4:     Theory: Classification and Logistic Regression\n",
       " 1      Code                                 Coding with Pandas\n",
       " 2   Reading                                                NaN\n",
       " 3   Project  Develop insightful story and brainstorm solutions,\n",
       "           0                           1\n",
       " 0  Topic 5:         Theory: Correlation\n",
       " 1      Code                           —\n",
       " 2   Reading         Correlation Reading\n",
       " 3   Project  Team break out discussions,\n",
       "           0                                           1\n",
       " 0  Topic 6:  Theory: Prediction & Intro to Skikit-Learn\n",
       " 1      Code                    Coding with Skikit-Learn\n",
       " 2   Reading                           Prediction Slides\n",
       " 3   Project                                           —,\n",
       "           0                                        1\n",
       " 0  Topic 7:  Theory: Matplotlib / Data Visualization\n",
       " 1      Code                   Coding with Matplotlib\n",
       " 2   Reading                                        —\n",
       " 3   Project                                        —,\n",
       "           0                                    1\n",
       " 0  Topic 8:  Theory: Low Tech Demo Presentations\n",
       " 1      Code                                    —\n",
       " 2   Reading                                  NaN\n",
       " 3   Project              Module 4: Low Tech Demo,\n",
       "           0                                     1\n",
       " 0  Topic 9:   Theory: Classification & Prediction\n",
       " 1      Code  Reference Titanic Notebook (part1-4)\n",
       " 2   Reading                                   NaN\n",
       " 3   Project                              Module 5,\n",
       "            0                                            1\n",
       " 0  Topic 10:  Theory: Machine Learning & Cross Validation\n",
       " 1       Code       Coding with python for ML deploy-Flask\n",
       " 2    Reading                     Machine Learning Reading\n",
       " 3    Project                                     Module 5,\n",
       "            0                                                          1\n",
       " 0  Topic 10:  Theory: Decision Trees, Information Theory, Random Forest\n",
       " 1       Code                        Reference Titanic Notebook (Part 4)\n",
       " 2    Reading                                                     Slides\n",
       " 3    Project                                                   Module 5,\n",
       "            0                                   1\n",
       " 0  Topic 11:  Tools: Web Scraping & Web Crawling\n",
       " 1       Code    Web Scraping Notebook , Breakout\n",
       " 2    Reading                                 NaN\n",
       " 3    Project                            Module 6,\n",
       "            0  \\\n",
       " 0  Topic 12:   \n",
       " 1       Code   \n",
       " 2    Reading   \n",
       " 3    Project   \n",
       " \n",
       "                                                                                                                                            1  \n",
       " 0  Theory: 1. Introduction to Natural Language Processing – NLTK overview and Word2vec 2. Sentiment Analysis Tools: NLTK, Gensim, Tensorflow  \n",
       " 1                                                                                                       Coding with NLTK, Gensim, Tensorflow  \n",
       " 2                                                                                                                             Links , Slides  \n",
       " 3                                                                                                                                   Module 6  ,\n",
       "            0  \\\n",
       " 0  Topic 13:   \n",
       " 1       Code   \n",
       " 2    Reading   \n",
       " 3    Project   \n",
       " \n",
       "                                                                        1  \n",
       " 0  Theory: Polynomial Regression, Bias Variance Tradeoff, Regularization  \n",
       " 1                                                Regularization Notebook  \n",
       " 2                                                                 Slides  \n",
       " 3                                                               Module 7  ,\n",
       "            0  \\\n",
       " 0  Topic 14:   \n",
       " 1       Code   \n",
       " 2    Reading   \n",
       " 3    Project   \n",
       " \n",
       "                                                                           1  \n",
       " 0  Theory: Introduction to Neural Networks- ANN, CNN, RNN Tools: Tensorflow  \n",
       " 1                           Coding with Tensorflow for image classification  \n",
       " 2                                                                    Slides  \n",
       " 3                                                                  Module 8  ,\n",
       "            0  \\\n",
       " 0  Topic 15:   \n",
       " 1       Code   \n",
       " 2    Reading   \n",
       " 3    Project   \n",
       " \n",
       "                                                                                                                                                                                   1  \n",
       " 0  Theory: 1. Introduction to database 2. Introduction to SQL 3. Introduction to Block Chain as a database 4. Big Data Analysis with Spark Tools: SQL libraries in python, Solidity  \n",
       " 1                                                                                                                                                        Coding with python for SQL  \n",
       " 2                                                                                                                                                                         Text Book  \n",
       " 3                                                                                                                                                                          Module 9  ,\n",
       "            0  \\\n",
       " 0  Topic 16:   \n",
       " 1       Code   \n",
       " 2    Reading   \n",
       " 3    Project   \n",
       " \n",
       "                                                                                                             1  \n",
       " 0  Theory: Spectral Signals, LTI -Fundamentals and Applications Tools: Temporal and Spatial Signal processing  \n",
       " 1                                                                                Coding with python for Spark  \n",
       " 2                                                                                                         NaN  \n",
       " 3                                                                                                   Module 10  ,\n",
       "            0                                   1\n",
       " 0  Topic 17:  Theory: GAN/Reinforcement Learning\n",
       " 1       Code                                 TBD\n",
       " 2    Reading                                 NaN\n",
       " 3    Project                        Module 11-12,\n",
       "            0                                                     1\n",
       " 0  Topic 18:                   Project Presentations – Demo Day(s)\n",
       " 1       Code  Presentation including running code and code samples\n",
       " 2        Due                Includes preparation time in last week\n",
       " 3    Project                                   Final Presentations]"
      ]
     },
     "execution_count": 79,
     "metadata": {},
     "output_type": "execute_result"
    }
   ],
   "source": [
    "dfs"
   ]
  },
  {
   "cell_type": "code",
   "execution_count": 97,
   "metadata": {
    "slideshow": {
     "slide_type": "subslide"
    }
   },
   "outputs": [
    {
     "name": "stdout",
     "output_type": "stream",
     "text": [
      "<class 'list'>\n",
      "19\n",
      "<class 'pandas.core.frame.DataFrame'>\n"
     ]
    }
   ],
   "source": [
    "print(type(dfs)) #list of tables\n",
    "print(len(dfs)) # we only have one table\n",
    "print(type(dfs[0])) # stored as DataFrame\n",
    "df = pd.concat(dfs,ignore_index=True) # use concat because dfs is in an array format\n",
    "df = df.dropna()"
   ]
  },
  {
   "cell_type": "code",
   "execution_count": 98,
   "metadata": {
    "slideshow": {
     "slide_type": "subslide"
    }
   },
   "outputs": [
    {
     "data": {
      "text/html": [
       "<div>\n",
       "<style scoped>\n",
       "    .dataframe tbody tr th:only-of-type {\n",
       "        vertical-align: middle;\n",
       "    }\n",
       "\n",
       "    .dataframe tbody tr th {\n",
       "        vertical-align: top;\n",
       "    }\n",
       "\n",
       "    .dataframe thead th {\n",
       "        text-align: right;\n",
       "    }\n",
       "</style>\n",
       "<table border=\"1\" class=\"dataframe\">\n",
       "  <thead>\n",
       "    <tr style=\"text-align: right;\">\n",
       "      <th></th>\n",
       "      <th>0</th>\n",
       "      <th>1</th>\n",
       "    </tr>\n",
       "  </thead>\n",
       "  <tbody>\n",
       "    <tr>\n",
       "      <th>0</th>\n",
       "      <td>Topic 1:</td>\n",
       "      <td>Introduction Theory: Overview of Frameworks for obtaining insights from data (Slides). Tools: Python Review</td>\n",
       "    </tr>\n",
       "    <tr>\n",
       "      <th>1</th>\n",
       "      <td>Code</td>\n",
       "      <td>1. Introduction to GitHub 2. Setting up Anaconda Environment 3. Coding with Python Review</td>\n",
       "    </tr>\n",
       "    <tr>\n",
       "      <th>2</th>\n",
       "      <td>Homework</td>\n",
       "      <td>HW1 HW2</td>\n",
       "    </tr>\n",
       "    <tr>\n",
       "      <th>3</th>\n",
       "      <td>Project</td>\n",
       "      <td>Module 1: Project Introduction</td>\n",
       "    </tr>\n",
       "    <tr>\n",
       "      <th>4</th>\n",
       "      <td>Topic 2:</td>\n",
       "      <td>Tools: Linear Regression, Data as a Signal with Correlation</td>\n",
       "    </tr>\n",
       "  </tbody>\n",
       "</table>\n",
       "</div>"
      ],
      "text/plain": [
       "          0  \\\n",
       "0  Topic 1:   \n",
       "1      Code   \n",
       "2  Homework   \n",
       "3   Project   \n",
       "4  Topic 2:   \n",
       "\n",
       "                                                                                                             1  \n",
       "0  Introduction Theory: Overview of Frameworks for obtaining insights from data (Slides). Tools: Python Review  \n",
       "1                    1. Introduction to GitHub 2. Setting up Anaconda Environment 3. Coding with Python Review  \n",
       "2                                                                                                      HW1 HW2  \n",
       "3                                                                               Module 1: Project Introduction  \n",
       "4                                                  Tools: Linear Regression, Data as a Signal with Correlation  "
      ]
     },
     "execution_count": 98,
     "metadata": {},
     "output_type": "execute_result"
    }
   ],
   "source": [
    "# Looks so-so, however stripped from break line characters etc.\n",
    "df.head()"
   ]
  },
  {
   "cell_type": "code",
   "execution_count": 99,
   "metadata": {
    "slideshow": {
     "slide_type": "subslide"
    }
   },
   "outputs": [],
   "source": [
    "# Make it nicer\n",
    "\n",
    "# Assign column names\n",
    "df.columns=  ['Part','Detailed Description']\n",
    "\n",
    "# Assing week number\n",
    "weeks = list()\n",
    "i=0\n",
    "for k in range(df.shape[0]):\n",
    "    if 'Topic' in df.iloc[k,0]:\n",
    "        i=i+1\n",
    "    weeks.append('Lecture{}'.format(i))\n",
    "df['Week'] = weeks"
   ]
  },
  {
   "cell_type": "code",
   "execution_count": 100,
   "metadata": {
    "slideshow": {
     "slide_type": "subslide"
    }
   },
   "outputs": [
    {
     "data": {
      "text/html": [
       "<div>\n",
       "<style scoped>\n",
       "    .dataframe tbody tr th:only-of-type {\n",
       "        vertical-align: middle;\n",
       "    }\n",
       "\n",
       "    .dataframe tbody tr th {\n",
       "        vertical-align: top;\n",
       "    }\n",
       "\n",
       "    .dataframe thead th {\n",
       "        text-align: right;\n",
       "    }\n",
       "</style>\n",
       "<table border=\"1\" class=\"dataframe\">\n",
       "  <thead>\n",
       "    <tr style=\"text-align: right;\">\n",
       "      <th></th>\n",
       "      <th>Part</th>\n",
       "      <th>Detailed Description</th>\n",
       "      <th>Week</th>\n",
       "    </tr>\n",
       "  </thead>\n",
       "  <tbody>\n",
       "    <tr>\n",
       "      <th>0</th>\n",
       "      <td>Topic 1:</td>\n",
       "      <td>Introduction Theory: Overview of Frameworks for obtaining insights from data (Slides). Tools: Python Review</td>\n",
       "      <td>Lecture1</td>\n",
       "    </tr>\n",
       "    <tr>\n",
       "      <th>1</th>\n",
       "      <td>Code</td>\n",
       "      <td>1. Introduction to GitHub 2. Setting up Anaconda Environment 3. Coding with Python Review</td>\n",
       "      <td>Lecture1</td>\n",
       "    </tr>\n",
       "    <tr>\n",
       "      <th>2</th>\n",
       "      <td>Homework</td>\n",
       "      <td>HW1 HW2</td>\n",
       "      <td>Lecture1</td>\n",
       "    </tr>\n",
       "    <tr>\n",
       "      <th>3</th>\n",
       "      <td>Project</td>\n",
       "      <td>Module 1: Project Introduction</td>\n",
       "      <td>Lecture1</td>\n",
       "    </tr>\n",
       "    <tr>\n",
       "      <th>4</th>\n",
       "      <td>Topic 2:</td>\n",
       "      <td>Tools: Linear Regression, Data as a Signal with Correlation</td>\n",
       "      <td>Lecture2</td>\n",
       "    </tr>\n",
       "  </tbody>\n",
       "</table>\n",
       "</div>"
      ],
      "text/plain": [
       "       Part  \\\n",
       "0  Topic 1:   \n",
       "1      Code   \n",
       "2  Homework   \n",
       "3   Project   \n",
       "4  Topic 2:   \n",
       "\n",
       "                                                                                          Detailed Description  \\\n",
       "0  Introduction Theory: Overview of Frameworks for obtaining insights from data (Slides). Tools: Python Review   \n",
       "1                    1. Introduction to GitHub 2. Setting up Anaconda Environment 3. Coding with Python Review   \n",
       "2                                                                                                      HW1 HW2   \n",
       "3                                                                               Module 1: Project Introduction   \n",
       "4                                                  Tools: Linear Regression, Data as a Signal with Correlation   \n",
       "\n",
       "       Week  \n",
       "0  Lecture1  \n",
       "1  Lecture1  \n",
       "2  Lecture1  \n",
       "3  Lecture1  \n",
       "4  Lecture2  "
      ]
     },
     "execution_count": 100,
     "metadata": {},
     "output_type": "execute_result"
    }
   ],
   "source": [
    "df.head()"
   ]
  },
  {
   "cell_type": "code",
   "execution_count": 101,
   "metadata": {
    "scrolled": true,
    "slideshow": {
     "slide_type": "subslide"
    }
   },
   "outputs": [
    {
     "data": {
      "text/html": [
       "<div>\n",
       "<style scoped>\n",
       "    .dataframe tbody tr th:only-of-type {\n",
       "        vertical-align: middle;\n",
       "    }\n",
       "\n",
       "    .dataframe tbody tr th {\n",
       "        vertical-align: top;\n",
       "    }\n",
       "\n",
       "    .dataframe thead th {\n",
       "        text-align: right;\n",
       "    }\n",
       "</style>\n",
       "<table border=\"1\" class=\"dataframe\">\n",
       "  <thead>\n",
       "    <tr style=\"text-align: right;\">\n",
       "      <th></th>\n",
       "      <th></th>\n",
       "      <th>Detailed Description</th>\n",
       "    </tr>\n",
       "    <tr>\n",
       "      <th>Week</th>\n",
       "      <th>Part</th>\n",
       "      <th></th>\n",
       "    </tr>\n",
       "  </thead>\n",
       "  <tbody>\n",
       "    <tr>\n",
       "      <th rowspan=\"4\" valign=\"top\">Lecture1</th>\n",
       "      <th>Topic 1:</th>\n",
       "      <td>Introduction Theory: Overview of Frameworks for obtaining insights from data (Slides). Tools: Python Review</td>\n",
       "    </tr>\n",
       "    <tr>\n",
       "      <th>Code</th>\n",
       "      <td>1. Introduction to GitHub 2. Setting up Anaconda Environment 3. Coding with Python Review</td>\n",
       "    </tr>\n",
       "    <tr>\n",
       "      <th>Homework</th>\n",
       "      <td>HW1 HW2</td>\n",
       "    </tr>\n",
       "    <tr>\n",
       "      <th>Project</th>\n",
       "      <td>Module 1: Project Introduction</td>\n",
       "    </tr>\n",
       "    <tr>\n",
       "      <th rowspan=\"3\" valign=\"top\">Lecture2</th>\n",
       "      <th>Topic 2:</th>\n",
       "      <td>Tools: Linear Regression, Data as a Signal with Correlation</td>\n",
       "    </tr>\n",
       "    <tr>\n",
       "      <th>Code</th>\n",
       "      <td>—</td>\n",
       "    </tr>\n",
       "    <tr>\n",
       "      <th>Project</th>\n",
       "      <td>Module 2: Team Formation 1</td>\n",
       "    </tr>\n",
       "    <tr>\n",
       "      <th rowspan=\"4\" valign=\"top\">Lecture3</th>\n",
       "      <th>Topic 3:</th>\n",
       "      <td>Theory: Regression -ML</td>\n",
       "    </tr>\n",
       "    <tr>\n",
       "      <th>Code</th>\n",
       "      <td>Coding with Numpy</td>\n",
       "    </tr>\n",
       "    <tr>\n",
       "      <th>Reading</th>\n",
       "      <td>DataCamp, tutorialpoint,</td>\n",
       "    </tr>\n",
       "    <tr>\n",
       "      <th>Project Module 3</th>\n",
       "      <td>Module 3: Team Formation 2</td>\n",
       "    </tr>\n",
       "    <tr>\n",
       "      <th>Lecture4</th>\n",
       "      <th>Topic 4:</th>\n",
       "      <td>Theory: Classification and Logistic Regression</td>\n",
       "    </tr>\n",
       "  </tbody>\n",
       "</table>\n",
       "</div>"
      ],
      "text/plain": [
       "                                                                                                                  Detailed Description\n",
       "Week     Part                                                                                                                         \n",
       "Lecture1 Topic 1:          Introduction Theory: Overview of Frameworks for obtaining insights from data (Slides). Tools: Python Review\n",
       "         Code                                1. Introduction to GitHub 2. Setting up Anaconda Environment 3. Coding with Python Review\n",
       "         Homework                                                                                                              HW1 HW2\n",
       "         Project                                                                                        Module 1: Project Introduction\n",
       "Lecture2 Topic 2:                                                          Tools: Linear Regression, Data as a Signal with Correlation\n",
       "         Code                                                                                                                        —\n",
       "         Project                                                                                            Module 2: Team Formation 1\n",
       "Lecture3 Topic 3:                                                                                               Theory: Regression -ML\n",
       "         Code                                                                                                        Coding with Numpy\n",
       "         Reading                                                                                              DataCamp, tutorialpoint,\n",
       "         Project Module 3                                                                                   Module 3: Team Formation 2\n",
       "Lecture4 Topic 4:                                                                       Theory: Classification and Logistic Regression"
      ]
     },
     "execution_count": 101,
     "metadata": {},
     "output_type": "execute_result"
    }
   ],
   "source": [
    "# Set Week and Part as Multiindex\n",
    "df = df.set_index(['Week','Part'])\n",
    "\n",
    "df.head(12).dropna()"
   ]
  },
  {
   "cell_type": "markdown",
   "metadata": {
    "slideshow": {
     "slide_type": "subslide"
    }
   },
   "source": [
    "So we learnt how to scrape a website, extract certain data from tables and create a Pandas DataFrame out of it!"
   ]
  },
  {
   "cell_type": "markdown",
   "metadata": {
    "slideshow": {
     "slide_type": "slide"
    }
   },
   "source": [
    "# Keep a current list IMDB top 250 vs MetaScore\n",
    "\n",
    "Let's say that we want to build an app that can display the most popular movies at the IMDB website.\n",
    "\n",
    "We got to the URL that lists the top 250 movies according to the reviews: http://www.imdb.com/chart/top\n",
    "\n",
    "We see that the entries are stored in a table format, so we try pandas."
   ]
  },
  {
   "cell_type": "code",
   "execution_count": 102,
   "metadata": {
    "slideshow": {
     "slide_type": "subslide"
    }
   },
   "outputs": [],
   "source": [
    "df_imdb = pd.read_html('http://www.imdb.com/chart/top',attrs={'class':'chart full-width'})[0]"
   ]
  },
  {
   "cell_type": "code",
   "execution_count": 103,
   "metadata": {
    "slideshow": {
     "slide_type": "subslide"
    }
   },
   "outputs": [
    {
     "data": {
      "text/html": [
       "<div>\n",
       "<style scoped>\n",
       "    .dataframe tbody tr th:only-of-type {\n",
       "        vertical-align: middle;\n",
       "    }\n",
       "\n",
       "    .dataframe tbody tr th {\n",
       "        vertical-align: top;\n",
       "    }\n",
       "\n",
       "    .dataframe thead th {\n",
       "        text-align: right;\n",
       "    }\n",
       "</style>\n",
       "<table border=\"1\" class=\"dataframe\">\n",
       "  <thead>\n",
       "    <tr style=\"text-align: right;\">\n",
       "      <th></th>\n",
       "      <th>Unnamed: 0</th>\n",
       "      <th>Rank &amp; Title</th>\n",
       "      <th>IMDb Rating</th>\n",
       "      <th>Your Rating</th>\n",
       "      <th>Unnamed: 4</th>\n",
       "    </tr>\n",
       "  </thead>\n",
       "  <tbody>\n",
       "    <tr>\n",
       "      <th>0</th>\n",
       "      <td>NaN</td>\n",
       "      <td>1.  The Shawshank Redemption  (1994)</td>\n",
       "      <td>9.2</td>\n",
       "      <td>12345678910 NOT YET RELEASED  Seen</td>\n",
       "      <td>NaN</td>\n",
       "    </tr>\n",
       "    <tr>\n",
       "      <th>1</th>\n",
       "      <td>NaN</td>\n",
       "      <td>2.  The Godfather  (1972)</td>\n",
       "      <td>9.1</td>\n",
       "      <td>12345678910 NOT YET RELEASED  Seen</td>\n",
       "      <td>NaN</td>\n",
       "    </tr>\n",
       "    <tr>\n",
       "      <th>2</th>\n",
       "      <td>NaN</td>\n",
       "      <td>3.  The Godfather: Part II  (1974)</td>\n",
       "      <td>9.0</td>\n",
       "      <td>12345678910 NOT YET RELEASED  Seen</td>\n",
       "      <td>NaN</td>\n",
       "    </tr>\n",
       "    <tr>\n",
       "      <th>3</th>\n",
       "      <td>NaN</td>\n",
       "      <td>4.  The Dark Knight  (2008)</td>\n",
       "      <td>9.0</td>\n",
       "      <td>12345678910 NOT YET RELEASED  Seen</td>\n",
       "      <td>NaN</td>\n",
       "    </tr>\n",
       "    <tr>\n",
       "      <th>4</th>\n",
       "      <td>NaN</td>\n",
       "      <td>5.  12 Angry Men  (1957)</td>\n",
       "      <td>8.9</td>\n",
       "      <td>12345678910 NOT YET RELEASED  Seen</td>\n",
       "      <td>NaN</td>\n",
       "    </tr>\n",
       "  </tbody>\n",
       "</table>\n",
       "</div>"
      ],
      "text/plain": [
       "   Unnamed: 0                          Rank & Title  IMDb Rating  \\\n",
       "0         NaN  1.  The Shawshank Redemption  (1994)          9.2   \n",
       "1         NaN             2.  The Godfather  (1972)          9.1   \n",
       "2         NaN    3.  The Godfather: Part II  (1974)          9.0   \n",
       "3         NaN           4.  The Dark Knight  (2008)          9.0   \n",
       "4         NaN              5.  12 Angry Men  (1957)          8.9   \n",
       "\n",
       "                          Your Rating  Unnamed: 4  \n",
       "0  12345678910 NOT YET RELEASED  Seen         NaN  \n",
       "1  12345678910 NOT YET RELEASED  Seen         NaN  \n",
       "2  12345678910 NOT YET RELEASED  Seen         NaN  \n",
       "3  12345678910 NOT YET RELEASED  Seen         NaN  \n",
       "4  12345678910 NOT YET RELEASED  Seen         NaN  "
      ]
     },
     "execution_count": 103,
     "metadata": {},
     "output_type": "execute_result"
    }
   ],
   "source": [
    "df_imdb.head()"
   ]
  },
  {
   "cell_type": "code",
   "execution_count": 104,
   "metadata": {
    "slideshow": {
     "slide_type": "subslide"
    }
   },
   "outputs": [],
   "source": [
    "df_imdb.drop(df_imdb.columns[[0,3,4]],axis=1,inplace=True)"
   ]
  },
  {
   "cell_type": "code",
   "execution_count": 105,
   "metadata": {
    "slideshow": {
     "slide_type": "subslide"
    }
   },
   "outputs": [
    {
     "data": {
      "text/html": [
       "<div>\n",
       "<style scoped>\n",
       "    .dataframe tbody tr th:only-of-type {\n",
       "        vertical-align: middle;\n",
       "    }\n",
       "\n",
       "    .dataframe tbody tr th {\n",
       "        vertical-align: top;\n",
       "    }\n",
       "\n",
       "    .dataframe thead th {\n",
       "        text-align: right;\n",
       "    }\n",
       "</style>\n",
       "<table border=\"1\" class=\"dataframe\">\n",
       "  <thead>\n",
       "    <tr style=\"text-align: right;\">\n",
       "      <th></th>\n",
       "      <th>Rank &amp; Title</th>\n",
       "      <th>IMDb Rating</th>\n",
       "    </tr>\n",
       "  </thead>\n",
       "  <tbody>\n",
       "    <tr>\n",
       "      <th>245</th>\n",
       "      <td>246.  PK  (2014)</td>\n",
       "      <td>8.0</td>\n",
       "    </tr>\n",
       "    <tr>\n",
       "      <th>246</th>\n",
       "      <td>247.  Guardians of the Galaxy  (2014)</td>\n",
       "      <td>8.0</td>\n",
       "    </tr>\n",
       "    <tr>\n",
       "      <th>247</th>\n",
       "      <td>248.  Groundhog Day  (1993)</td>\n",
       "      <td>8.0</td>\n",
       "    </tr>\n",
       "    <tr>\n",
       "      <th>248</th>\n",
       "      <td>249.  Drishyam  (2015)</td>\n",
       "      <td>8.0</td>\n",
       "    </tr>\n",
       "    <tr>\n",
       "      <th>249</th>\n",
       "      <td>250.  Swades  (2004)</td>\n",
       "      <td>8.0</td>\n",
       "    </tr>\n",
       "  </tbody>\n",
       "</table>\n",
       "</div>"
      ],
      "text/plain": [
       "                              Rank & Title  IMDb Rating\n",
       "245                       246.  PK  (2014)          8.0\n",
       "246  247.  Guardians of the Galaxy  (2014)          8.0\n",
       "247            248.  Groundhog Day  (1993)          8.0\n",
       "248                 249.  Drishyam  (2015)          8.0\n",
       "249                   250.  Swades  (2004)          8.0"
      ]
     },
     "execution_count": 105,
     "metadata": {},
     "output_type": "execute_result"
    }
   ],
   "source": [
    "df_imdb.tail()"
   ]
  },
  {
   "cell_type": "code",
   "execution_count": 106,
   "metadata": {
    "slideshow": {
     "slide_type": "subslide"
    }
   },
   "outputs": [],
   "source": [
    "# Extract all URLs to find meta score\n",
    "imdb_html = requests.get('http://www.imdb.com/chart/top').content\n",
    "soup = bs.BeautifulSoup(imdb_html, features='html.parser')"
   ]
  },
  {
   "cell_type": "code",
   "execution_count": 107,
   "metadata": {
    "slideshow": {
     "slide_type": "subslide"
    }
   },
   "outputs": [
    {
     "data": {
      "text/plain": [
       "'http://www.imdb.com/title/tt0111161/'"
      ]
     },
     "execution_count": 107,
     "metadata": {},
     "output_type": "execute_result"
    }
   ],
   "source": [
    "links = soup.find('table').find_all('a')\n",
    "urls = ['http://www.imdb.com'+l.get('href') for l in links]\n",
    "urls[0]"
   ]
  },
  {
   "cell_type": "code",
   "execution_count": 108,
   "metadata": {
    "slideshow": {
     "slide_type": "subslide"
    }
   },
   "outputs": [
    {
     "data": {
      "text/plain": [
       "'http://www.imdb.com/title/tt0367110/'"
      ]
     },
     "execution_count": 108,
     "metadata": {},
     "output_type": "execute_result"
    }
   ],
   "source": [
    "urls[-1]"
   ]
  },
  {
   "cell_type": "code",
   "execution_count": 109,
   "metadata": {
    "slideshow": {
     "slide_type": "subslide"
    }
   },
   "outputs": [],
   "source": [
    "import numpy as np\n",
    "meta_scores = np.zeros(250, dtype=int)"
   ]
  },
  {
   "cell_type": "code",
   "execution_count": 110,
   "metadata": {
    "slideshow": {
     "slide_type": "subslide"
    }
   },
   "outputs": [
    {
     "name": "stdout",
     "output_type": "stream",
     "text": [
      "Getting metscore for movie 0\n",
      "<Response [200]>\n",
      "Getting metscore for movie 1\n",
      "<Response [200]>\n",
      "Getting metscore for movie 2\n",
      "<Response [200]>\n",
      "Getting metscore for movie 3\n",
      "<Response [200]>\n",
      "Getting metscore for movie 4\n",
      "<Response [200]>\n",
      "Getting metscore for movie 5\n",
      "<Response [200]>\n"
     ]
    }
   ],
   "source": [
    "\n",
    "headers = {\n",
    "    'User-Agent': 'Mozilla/5.0 (X11; Ubuntu; Linux x86_64; rv:58.0) Gecko/20100101 Firefox/58.0',\n",
    "    'From': 'data-x@gmail.com' \n",
    "}\n",
    "\n",
    "for idx,url in enumerate(urls):\n",
    "    print('Getting metscore for movie {}'.format(idx))\n",
    "    film = requests.get(url, headers=headers, timeout=10)\n",
    "    print(film)\n",
    "    soup = bs.BeautifulSoup(film.content, features='html.parser')\n",
    "    info = soup.find(class_='metacriticScore score_favorable titleReviewBarSubItem')\n",
    "    meta_scores[idx] = int(info.find('span').text)\n",
    "    if idx == 5:\n",
    "        break"
   ]
  },
  {
   "cell_type": "code",
   "execution_count": 111,
   "metadata": {
    "slideshow": {
     "slide_type": "subslide"
    }
   },
   "outputs": [],
   "source": [
    "df_imdb['meta_scores'] = meta_scores"
   ]
  },
  {
   "cell_type": "code",
   "execution_count": 112,
   "metadata": {
    "slideshow": {
     "slide_type": "subslide"
    }
   },
   "outputs": [
    {
     "data": {
      "text/html": [
       "<div>\n",
       "<style scoped>\n",
       "    .dataframe tbody tr th:only-of-type {\n",
       "        vertical-align: middle;\n",
       "    }\n",
       "\n",
       "    .dataframe tbody tr th {\n",
       "        vertical-align: top;\n",
       "    }\n",
       "\n",
       "    .dataframe thead th {\n",
       "        text-align: right;\n",
       "    }\n",
       "</style>\n",
       "<table border=\"1\" class=\"dataframe\">\n",
       "  <thead>\n",
       "    <tr style=\"text-align: right;\">\n",
       "      <th></th>\n",
       "      <th>Rank &amp; Title</th>\n",
       "      <th>IMDb Rating</th>\n",
       "      <th>meta_scores</th>\n",
       "    </tr>\n",
       "  </thead>\n",
       "  <tbody>\n",
       "    <tr>\n",
       "      <th>0</th>\n",
       "      <td>1.  The Shawshank Redemption  (1994)</td>\n",
       "      <td>9.2</td>\n",
       "      <td>80</td>\n",
       "    </tr>\n",
       "    <tr>\n",
       "      <th>1</th>\n",
       "      <td>2.  The Godfather  (1972)</td>\n",
       "      <td>9.1</td>\n",
       "      <td>80</td>\n",
       "    </tr>\n",
       "    <tr>\n",
       "      <th>2</th>\n",
       "      <td>3.  The Godfather: Part II  (1974)</td>\n",
       "      <td>9.0</td>\n",
       "      <td>100</td>\n",
       "    </tr>\n",
       "    <tr>\n",
       "      <th>3</th>\n",
       "      <td>4.  The Dark Knight  (2008)</td>\n",
       "      <td>9.0</td>\n",
       "      <td>100</td>\n",
       "    </tr>\n",
       "    <tr>\n",
       "      <th>4</th>\n",
       "      <td>5.  12 Angry Men  (1957)</td>\n",
       "      <td>8.9</td>\n",
       "      <td>90</td>\n",
       "    </tr>\n",
       "  </tbody>\n",
       "</table>\n",
       "</div>"
      ],
      "text/plain": [
       "                           Rank & Title  IMDb Rating  meta_scores\n",
       "0  1.  The Shawshank Redemption  (1994)          9.2           80\n",
       "1             2.  The Godfather  (1972)          9.1           80\n",
       "2    3.  The Godfather: Part II  (1974)          9.0          100\n",
       "3           4.  The Dark Knight  (2008)          9.0          100\n",
       "4              5.  12 Angry Men  (1957)          8.9           90"
      ]
     },
     "execution_count": 112,
     "metadata": {},
     "output_type": "execute_result"
    }
   ],
   "source": [
    "df_imdb.head()"
   ]
  },
  {
   "cell_type": "markdown",
   "metadata": {
    "slideshow": {
     "slide_type": "slide"
    }
   },
   "source": [
    "<a id='sec4'></a>\n",
    "# Scrape images and other files\n",
    "\n",
    "Let's see how we can automatically find and download files linked at any website.\n",
    "\n",
    "The data you need for your projects might not always be raw data, but in the form of files (images, .txt files etc)"
   ]
  },
  {
   "cell_type": "code",
   "execution_count": 115,
   "metadata": {
    "slideshow": {
     "slide_type": "subslide"
    }
   },
   "outputs": [
    {
     "name": "stdout",
     "output_type": "stream",
     "text": [
      "<img alt=\"Data-X at Berkeley\" height=\"973\" sizes=\"100vw\" src=\"https://data-x.blog/wp-content/uploads/2018/04/cropped-AdobeStock_120712749-Converted.png\" srcset=\"https://i2.wp.com/data-x.blog/wp-content/uploads/2018/04/cropped-AdobeStock_120712749-Converted.png?w=2000&amp;ssl=1 2000w, https://i2.wp.com/data-x.blog/wp-content/uploads/2018/04/cropped-AdobeStock_120712749-Converted.png?resize=300%2C146&amp;ssl=1 300w, https://i2.wp.com/data-x.blog/wp-content/uploads/2018/04/cropped-AdobeStock_120712749-Converted.png?resize=768%2C374&amp;ssl=1 768w, https://i2.wp.com/data-x.blog/wp-content/uploads/2018/04/cropped-AdobeStock_120712749-Converted.png?resize=1024%2C498&amp;ssl=1 1024w, https://i2.wp.com/data-x.blog/wp-content/uploads/2018/04/cropped-AdobeStock_120712749-Converted.png?w=1480&amp;ssl=1 1480w\" width=\"2000\"/>\n"
     ]
    }
   ],
   "source": [
    "# As we can see there are two images on the data-x.blog/resources\n",
    "# say that we want to download them\n",
    "# Images are displayed with the <img> tag in HTML\n",
    "\n",
    "# open connection and create new soup\n",
    "\n",
    "raw = requests.get('https://data-x.blog/resources/').content\n",
    "soup = bs.BeautifulSoup(raw,features='html.parser')\n",
    "\n",
    "print(soup.find('img')) \n",
    "# as we can see below the image urls \n",
    "# are stored in the src attribute inside the img tag"
   ]
  },
  {
   "cell_type": "code",
   "execution_count": 116,
   "metadata": {
    "slideshow": {
     "slide_type": "subslide"
    }
   },
   "outputs": [
    {
     "name": "stdout",
     "output_type": "stream",
     "text": [
      "https://i2.wp.com/data-x.blog/wp-content/uploads/2017/05/unnamed-2.jpg?resize=740%2C416&ssl=1\n"
     ]
    }
   ],
   "source": [
    "# Parse all url to the images\n",
    "img_urls = list()\n",
    "for img in soup.find_all('img'):\n",
    "    img_url = img.get('src') \n",
    "    if '.jpeg' in img_url or '.jpg' in img_url:\n",
    "        print(img_url)\n",
    "        img_urls.append(img_url)\n",
    "    "
   ]
  },
  {
   "cell_type": "code",
   "execution_count": 118,
   "metadata": {
    "slideshow": {
     "slide_type": "subslide"
    }
   },
   "outputs": [
    {
     "name": "stdout",
     "output_type": "stream",
     "text": [
      "\u001b[1m\u001b[36marchive\u001b[m\u001b[m/\r\n",
      "\u001b[1m\u001b[36mbreakout\u001b[m\u001b[m/\r\n",
      "\u001b[1m\u001b[36mdata\u001b[m\u001b[m/\r\n",
      "webscraping-requests-beautifulsoup.ipynb\r\n"
     ]
    }
   ],
   "source": [
    "## Let's look at what our current file directory looks like\n",
    "\n",
    "%ls"
   ]
  },
  {
   "cell_type": "code",
   "execution_count": 120,
   "metadata": {
    "slideshow": {
     "slide_type": "subslide"
    }
   },
   "outputs": [],
   "source": [
    "# To download and save files with Python we can use \n",
    "# the shutil library which is a file operations library\n",
    "'''\n",
    "The shutil module offers a number of high-level operations on files and \n",
    "collections of files. In particular, functions are provided which support \n",
    "file copying and removal.\n",
    "'''\n",
    "\n",
    "import shutil\n",
    "\n",
    "for idx, img_url in enumerate(img_urls): \n",
    "    #enumarte to create a file integer name for every image\n",
    "    \n",
    "    # make a request to the image URL\n",
    "    img_source = requests.get(img_url, stream=True) \n",
    "    # we set stream = True to download/ \n",
    "    # stream the content of the data\n",
    "    \n",
    "    with open('img'+str(idx)+'.jpg', 'wb') as file: \n",
    "        # open file connection, create file and write to it\n",
    "        shutil.copyfileobj(img_source.raw, file) \n",
    "        # save the raw file object\n",
    "\n",
    "    del img_source # to remove the file from memory"
   ]
  },
  {
   "cell_type": "code",
   "execution_count": 122,
   "metadata": {
    "slideshow": {
     "slide_type": "subslide"
    }
   },
   "outputs": [
    {
     "name": "stdout",
     "output_type": "stream",
     "text": [
      "\u001b[1m\u001b[36marchive\u001b[m\u001b[m/\r\n",
      "\u001b[1m\u001b[36mbreakout\u001b[m\u001b[m/\r\n",
      "\u001b[1m\u001b[36mdata\u001b[m\u001b[m/\r\n",
      "img0.jpg\r\n",
      "webscraping-requests-beautifulsoup.ipynb\r\n"
     ]
    }
   ],
   "source": [
    "## Let's see if the file has been saved\n",
    "%ls"
   ]
  },
  {
   "cell_type": "markdown",
   "metadata": {
    "slideshow": {
     "slide_type": "slide"
    }
   },
   "source": [
    "## Scraping function to download files of any type from a website\n",
    "\n",
    "Below is a function that takes in a website and a specific file type to download X of them from the website."
   ]
  },
  {
   "cell_type": "code",
   "execution_count": 123,
   "metadata": {
    "slideshow": {
     "slide_type": "subslide"
    }
   },
   "outputs": [],
   "source": [
    "# Extended scraping function of any file format\n",
    "import os # To interact with operating system and format file name\n",
    "import shutil # To copy file object from python to disk\n",
    "import requests\n",
    "import bs4 as bs\n",
    "\n",
    "def py_file_scraper(url, html_tag='img', source_tag='src', file_type='.jpg',max=-1):\n",
    "    \n",
    "    '''\n",
    "    Function that scrapes a website for certain file formats.\n",
    "    The files will be placed in a folder called \"files\" \n",
    "    in the working directory.\n",
    "    \n",
    "    url = the url we want to scrape from\n",
    "    html_tag = the file tag (usually img for images or \n",
    "    a for file links)\n",
    "    \n",
    "    source_tag = the source tag for the file url \n",
    "    (usually src for images or href for files)\n",
    "    \n",
    "    file_type = .png, .jpg, .pdf, .csv, .xls etc.\n",
    "    \n",
    "    max = integer (max number of files to scrape, \n",
    "    if = -1 it will scrape all files)\n",
    "    '''\n",
    "    \n",
    "    # make a directory called 'files' \n",
    "    # for the files if it does not exist\n",
    "    if not os.path.exists('files/'):\n",
    "        os.makedirs('files/')\n",
    "    print('Loading content from the url...')\n",
    "    source = requests.get(url).content\n",
    "    print('Creating content soup...')\n",
    "    soup = bs.BeautifulSoup(source,'html.parser')\n",
    "    \n",
    "    i=0\n",
    "    print('Finding tag:%s...'%html_tag)\n",
    "    for n, link in enumerate(soup.find_all(html_tag)):\n",
    "        file_url=link.get(source_tag)\n",
    "        print ('\\n',n+1,'. File url',file_url)\n",
    "        \n",
    "        \n",
    "        if 'http' in file_url: # check that it is a valid link\n",
    "            print('It is a valid url..')\n",
    "            \n",
    "            \n",
    "            if file_type in file_url: #only check for specific \n",
    "                # file type\n",
    "                \n",
    "                print('%s FILE TYPE FOUND IN THE URL...'%file_type)\n",
    "                file_name = os.path.splitext(os.path.basename(file_url))[0] + file_type \n",
    "                #extract file name from url\n",
    "\n",
    "                file_source = requests.get(file_url, stream = True)\n",
    "             \n",
    "                # open new stream connection\n",
    "\n",
    "                with open('./files/'+file_name, 'wb') as file: \n",
    "                    # open file connection, create file and \n",
    "                    # write to it\n",
    "                    \n",
    "                    shutil.copyfileobj(file_source.raw, file) \n",
    "                    # save the raw file object\n",
    "                    \n",
    "                    print('DOWNLOADED:',file_name)\n",
    "                    \n",
    "                    i+=1\n",
    "                    \n",
    "                del file_source # delete from memory\n",
    "            else:\n",
    "                print('%s file type NOT found in url:'%file_type)\n",
    "                print('EXCLUDED:',file_url) \n",
    "                # urls not downloaded from\n",
    "                \n",
    "        if i == max:\n",
    "            print('Max reached')\n",
    "            break\n",
    "            \n",
    "\n",
    "    print('Done!')"
   ]
  },
  {
   "cell_type": "markdown",
   "metadata": {
    "slideshow": {
     "slide_type": "subslide"
    }
   },
   "source": [
    "# Scrape funny cat pictures"
   ]
  },
  {
   "cell_type": "code",
   "execution_count": 124,
   "metadata": {
    "scrolled": true,
    "slideshow": {
     "slide_type": "subslide"
    }
   },
   "outputs": [
    {
     "name": "stdout",
     "output_type": "stream",
     "text": [
      "Loading content from the url...\n",
      "Creating content soup...\n",
      "Finding tag:img...\n",
      "\n",
      " 1 . File url https://funcatpictures.com/wp-content/uploads/2018/03/fcp2018.png\n",
      "It is a valid url..\n",
      ".jpg file type NOT found in url:\n",
      "EXCLUDED: https://funcatpictures.com/wp-content/uploads/2018/03/fcp2018.png\n",
      "\n",
      " 2 . File url https://funcatpictures.com/wp-content/uploads/2020/03/funny-cat-when-you-think-youre-done-arguing-700x893.jpg\n",
      "It is a valid url..\n",
      ".jpg FILE TYPE FOUND IN THE URL...\n",
      "DOWNLOADED: funny-cat-when-you-think-youre-done-arguing-700x893.jpg\n",
      "\n",
      " 3 . File url https://funcatpictures.com/wp-content/uploads/2020/03/fun-cat-pictures-if-ed-sheeran-was-a-cat-700x771.jpg\n",
      "It is a valid url..\n",
      ".jpg FILE TYPE FOUND IN THE URL...\n",
      "DOWNLOADED: fun-cat-pictures-if-ed-sheeran-was-a-cat-700x771.jpg\n",
      "\n",
      " 4 . File url https://funcatpictures.com/wp-content/uploads/2020/03/funny-cat-notices-your-new-couch-700x633.gif\n",
      "It is a valid url..\n",
      ".jpg file type NOT found in url:\n",
      "EXCLUDED: https://funcatpictures.com/wp-content/uploads/2020/03/funny-cat-notices-your-new-couch-700x633.gif\n",
      "\n",
      " 5 . File url https://funcatpictures.com/wp-content/uploads/2020/03/cute-sleepy-cat-700x740.jpg\n",
      "It is a valid url..\n",
      ".jpg FILE TYPE FOUND IN THE URL...\n",
      "DOWNLOADED: cute-sleepy-cat-700x740.jpg\n",
      "\n",
      " 6 . File url https://funcatpictures.com/wp-content/uploads/2020/02/funny-cat-pictures-towel.jpg\n",
      "It is a valid url..\n",
      ".jpg FILE TYPE FOUND IN THE URL...\n",
      "DOWNLOADED: funny-cat-pictures-towel.jpg\n",
      "\n",
      " 7 . File url https://funcatpictures.com/wp-content/uploads/2020/02/funny-cats-at-home-vs-on-facebook.jpg\n",
      "It is a valid url..\n",
      ".jpg FILE TYPE FOUND IN THE URL...\n",
      "DOWNLOADED: funny-cats-at-home-vs-on-facebook.jpg\n",
      "\n",
      " 8 . File url https://funcatpictures.com/wp-content/uploads/2020/03/funny-cat-notices-your-new-couch-320x289.gif\n",
      "It is a valid url..\n",
      ".jpg file type NOT found in url:\n",
      "EXCLUDED: https://funcatpictures.com/wp-content/uploads/2020/03/funny-cat-notices-your-new-couch-320x289.gif\n",
      "\n",
      " 9 . File url https://funcatpictures.com/wp-content/uploads/2020/03/funny-cat-when-you-think-youre-done-arguing-320x408.jpg\n",
      "It is a valid url..\n",
      ".jpg FILE TYPE FOUND IN THE URL...\n",
      "DOWNLOADED: funny-cat-when-you-think-youre-done-arguing-320x408.jpg\n",
      "\n",
      " 10 . File url https://funcatpictures.com/wp-content/uploads/2020/03/cute-sleepy-cat-320x338.jpg\n",
      "It is a valid url..\n",
      ".jpg FILE TYPE FOUND IN THE URL...\n",
      "DOWNLOADED: cute-sleepy-cat-320x338.jpg\n",
      "\n",
      " 11 . File url https://funcatpictures.com/wp-content/uploads/2020/03/funny-cat-when-you-think-youre-done-arguing-150x150.jpg\n",
      "It is a valid url..\n",
      ".jpg FILE TYPE FOUND IN THE URL...\n",
      "DOWNLOADED: funny-cat-when-you-think-youre-done-arguing-150x150.jpg\n",
      "\n",
      " 12 . File url https://funcatpictures.com/wp-content/uploads/2020/03/fun-cat-pictures-if-ed-sheeran-was-a-cat-150x150.jpg\n",
      "It is a valid url..\n",
      ".jpg FILE TYPE FOUND IN THE URL...\n",
      "DOWNLOADED: fun-cat-pictures-if-ed-sheeran-was-a-cat-150x150.jpg\n",
      "\n",
      " 13 . File url https://funcatpictures.com/wp-content/uploads/2020/03/funny-cat-notices-your-new-couch-150x150.gif\n",
      "It is a valid url..\n",
      ".jpg file type NOT found in url:\n",
      "EXCLUDED: https://funcatpictures.com/wp-content/uploads/2020/03/funny-cat-notices-your-new-couch-150x150.gif\n",
      "\n",
      " 14 . File url https://funcatpictures.com/wp-content/uploads/2020/03/cute-sleepy-cat-150x150.jpg\n",
      "It is a valid url..\n",
      ".jpg FILE TYPE FOUND IN THE URL...\n",
      "DOWNLOADED: cute-sleepy-cat-150x150.jpg\n",
      "\n",
      " 15 . File url https://funcatpictures.com/wp-content/uploads/2020/02/funny-cat-pictures-towel-150x150.jpg\n",
      "It is a valid url..\n",
      ".jpg FILE TYPE FOUND IN THE URL...\n",
      "DOWNLOADED: funny-cat-pictures-towel-150x150.jpg\n",
      "Done!\n"
     ]
    }
   ],
   "source": [
    "py_file_scraper('https://funcatpictures.com/') \n",
    "# scrape cats"
   ]
  },
  {
   "cell_type": "code",
   "execution_count": 95,
   "metadata": {},
   "outputs": [
    {
     "name": "stdout",
     "output_type": "stream",
     "text": [
      "fun-cat-pictures-award-for-being-lazy-150x150.jpg\r\n",
      "fun-cat-pictures-award-for-being-lazy-700x499.jpg\r\n",
      "fun-cat-pictures-clean-up-nancy-700x441.jpg\r\n",
      "fun-cat-pictures-sitting-cat-150x150.jpg\r\n",
      "fun-cat-pictures-sitting-cat-700x699.jpg\r\n",
      "funny-cat-pictures-not-gonna-share-150x150.jpg\r\n",
      "funny-cat-pictures-not-gonna-share-700x457.jpg\r\n"
     ]
    }
   ],
   "source": [
    "!ls ./files"
   ]
  },
  {
   "cell_type": "markdown",
   "metadata": {},
   "source": [
    "# Scrape pdf's from Data-X site"
   ]
  },
  {
   "cell_type": "code",
   "execution_count": 96,
   "metadata": {
    "scrolled": true
   },
   "outputs": [
    {
     "name": "stdout",
     "output_type": "stream",
     "text": [
      "Loading content from the url...\n",
      "Creating content soup...\n",
      "Finding tag:a...\n",
      "\n",
      " 1 . File url #content\n",
      "\n",
      " 2 . File url https://data-x.blog/\n",
      "It is a valid url..\n",
      ".pdf file type NOT found in url:\n",
      "EXCLUDED: https://data-x.blog/\n",
      "\n",
      " 3 . File url /\n",
      "\n",
      " 4 . File url https://data-x.blog/about-data-x/\n",
      "It is a valid url..\n",
      ".pdf file type NOT found in url:\n",
      "EXCLUDED: https://data-x.blog/about-data-x/\n",
      "\n",
      " 5 . File url https://data-x.blog/resources/\n",
      "It is a valid url..\n",
      ".pdf file type NOT found in url:\n",
      "EXCLUDED: https://data-x.blog/resources/\n",
      "\n",
      " 6 . File url https://data-x.blog/dx-online/\n",
      "It is a valid url..\n",
      ".pdf file type NOT found in url:\n",
      "EXCLUDED: https://data-x.blog/dx-online/\n",
      "\n",
      " 7 . File url https://data-x.blog/syllabus/\n",
      "It is a valid url..\n",
      ".pdf file type NOT found in url:\n",
      "EXCLUDED: https://data-x.blog/syllabus/\n",
      "\n",
      " 8 . File url http://data-x.blog/projects\n",
      "It is a valid url..\n",
      ".pdf file type NOT found in url:\n",
      "EXCLUDED: http://data-x.blog/projects\n",
      "\n",
      " 9 . File url http://data-x.blog/projects\n",
      "It is a valid url..\n",
      ".pdf file type NOT found in url:\n",
      "EXCLUDED: http://data-x.blog/projects\n",
      "\n",
      " 10 . File url http://data-x.blog/project-ideas\n",
      "It is a valid url..\n",
      ".pdf file type NOT found in url:\n",
      "EXCLUDED: http://data-x.blog/project-ideas\n",
      "\n",
      " 11 . File url https://data-x.blog/advisors/\n",
      "It is a valid url..\n",
      ".pdf file type NOT found in url:\n",
      "EXCLUDED: https://data-x.blog/advisors/\n",
      "\n",
      " 12 . File url http://data-x.blog/posts\n",
      "It is a valid url..\n",
      ".pdf file type NOT found in url:\n",
      "EXCLUDED: http://data-x.blog/posts\n",
      "\n",
      " 13 . File url https://data-x.blog/project/\n",
      "It is a valid url..\n",
      ".pdf file type NOT found in url:\n",
      "EXCLUDED: https://data-x.blog/project/\n",
      "\n",
      " 14 . File url https://data-x.blog/contact/\n",
      "It is a valid url..\n",
      ".pdf file type NOT found in url:\n",
      "EXCLUDED: https://data-x.blog/contact/\n",
      "\n",
      " 15 . File url https://sites.google.com/site/pythonbootcamp/\n",
      "It is a valid url..\n",
      ".pdf file type NOT found in url:\n",
      "EXCLUDED: https://sites.google.com/site/pythonbootcamp/\n",
      "\n",
      " 16 . File url https://bids.berkeley.edu/news/python-boot-camp-fall-2016-training-videos-available-online\n",
      "It is a valid url..\n",
      ".pdf file type NOT found in url:\n",
      "EXCLUDED: https://bids.berkeley.edu/news/python-boot-camp-fall-2016-training-videos-available-online\n",
      "\n",
      " 17 . File url https://www.youtube.com/watch?v=P5BHTrluu1M&list=PLKW2Azk23ZtSeBcvJi0JnL7PapedOvwz9\n",
      "It is a valid url..\n",
      ".pdf file type NOT found in url:\n",
      "EXCLUDED: https://www.youtube.com/watch?v=P5BHTrluu1M&list=PLKW2Azk23ZtSeBcvJi0JnL7PapedOvwz9\n",
      "\n",
      " 18 . File url https://github.com/profjsb/python-bootcamp\n",
      "It is a valid url..\n",
      ".pdf file type NOT found in url:\n",
      "EXCLUDED: https://github.com/profjsb/python-bootcamp\n",
      "\n",
      " 19 . File url https://www.continuum.io/downloads\n",
      "It is a valid url..\n",
      ".pdf file type NOT found in url:\n",
      "EXCLUDED: https://www.continuum.io/downloads\n",
      "\n",
      " 20 . File url https://github.com/ikhlaqsidhu/data-x/tree/master/00-install-anaconda-git-docker\n",
      "It is a valid url..\n",
      ".pdf file type NOT found in url:\n",
      "EXCLUDED: https://github.com/ikhlaqsidhu/data-x/tree/master/00-install-anaconda-git-docker\n",
      "\n",
      " 21 . File url https://goo.gl/forms/h6cAxZS3Il2F0k4F2\n",
      "It is a valid url..\n",
      ".pdf file type NOT found in url:\n",
      "EXCLUDED: https://goo.gl/forms/h6cAxZS3Il2F0k4F2\n",
      "\n",
      " 22 . File url https://github.com/ikhlaqsidhu/data-x\n",
      "It is a valid url..\n",
      ".pdf file type NOT found in url:\n",
      "EXCLUDED: https://github.com/ikhlaqsidhu/data-x\n",
      "\n",
      " 23 . File url https://github.com/ikhlaqsidhu/data-x\n",
      "It is a valid url..\n",
      ".pdf file type NOT found in url:\n",
      "EXCLUDED: https://github.com/ikhlaqsidhu/data-x\n",
      "\n",
      " 24 . File url https://www.dropbox.com/sh/v32jafv3qk2mypp/AACBxprfZsi62hcnnzLLAT_aa?dl=0\n",
      "It is a valid url..\n",
      ".pdf file type NOT found in url:\n",
      "EXCLUDED: https://www.dropbox.com/sh/v32jafv3qk2mypp/AACBxprfZsi62hcnnzLLAT_aa?dl=0\n",
      "\n",
      " 25 . File url http://stackoverflow.com/\n",
      "It is a valid url..\n",
      ".pdf file type NOT found in url:\n",
      "EXCLUDED: http://stackoverflow.com/\n",
      "\n",
      " 26 . File url http://google.com/\n",
      "It is a valid url..\n",
      ".pdf file type NOT found in url:\n",
      "EXCLUDED: http://google.com/\n",
      "\n",
      " 27 . File url https://data-x.blog/wp-content/uploads/2017/05/python-3-e28093-quick-reference-card.pdf\n",
      "It is a valid url..\n",
      ".pdf FILE TYPE FOUND IN THE URL...\n",
      "DOWNLOADED: python-3-e28093-quick-reference-card.pdf\n",
      "\n",
      " 28 . File url http://www.cs.put.poznan.pl/csobaniec/software/python/py-qrc.html\n",
      "It is a valid url..\n",
      ".pdf file type NOT found in url:\n",
      "EXCLUDED: http://www.cs.put.poznan.pl/csobaniec/software/python/py-qrc.html\n",
      "\n",
      " 29 . File url https://data-x.blog/wp-content/uploads/2016/12/python_qr.pdf\n",
      "It is a valid url..\n",
      ".pdf FILE TYPE FOUND IN THE URL...\n",
      "DOWNLOADED: python_qr.pdf\n",
      "\n",
      " 30 . File url https://data-x.blog/wp-content/uploads/2016/12/5-data-structures-e28094-python-2-71.pdf\n",
      "It is a valid url..\n",
      ".pdf FILE TYPE FOUND IN THE URL...\n",
      "DOWNLOADED: 5-data-structures-e28094-python-2-71.pdf\n",
      "\n",
      " 31 . File url https://data-x.blog/wp-content/uploads/2016/12/numpy-v1-12.pdf\n",
      "It is a valid url..\n",
      ".pdf FILE TYPE FOUND IN THE URL...\n",
      "DOWNLOADED: numpy-v1-12.pdf\n",
      "\n",
      " 32 . File url https://data-x.blog/wp-content/uploads/2016/12/pandas-10min.pdf\n",
      "It is a valid url..\n",
      ".pdf FILE TYPE FOUND IN THE URL...\n",
      "DOWNLOADED: pandas-10min.pdf\n",
      "Max reached\n",
      "Done!\n"
     ]
    }
   ],
   "source": [
    "py_file_scraper('https://data-x.blog/resources',\n",
    "                html_tag='a',source_tag='href',file_type='.pdf', \\\n",
    "                max=5)"
   ]
  },
  {
   "cell_type": "code",
   "execution_count": 126,
   "metadata": {
    "slideshow": {
     "slide_type": "subslide"
    }
   },
   "outputs": [
    {
     "name": "stdout",
     "output_type": "stream",
     "text": [
      "cute-sleepy-cat-150x150.jpg\r\n",
      "cute-sleepy-cat-320x338.jpg\r\n",
      "cute-sleepy-cat-700x740.jpg\r\n",
      "fun-cat-pictures-if-ed-sheeran-was-a-cat-150x150.jpg\r\n",
      "fun-cat-pictures-if-ed-sheeran-was-a-cat-700x771.jpg\r\n",
      "funny-cat-pictures-towel-150x150.jpg\r\n",
      "funny-cat-pictures-towel.jpg\r\n",
      "funny-cat-when-you-think-youre-done-arguing-150x150.jpg\r\n",
      "funny-cat-when-you-think-youre-done-arguing-320x408.jpg\r\n",
      "funny-cat-when-you-think-youre-done-arguing-700x893.jpg\r\n",
      "funny-cats-at-home-vs-on-facebook.jpg\r\n"
     ]
    }
   ],
   "source": [
    "!ls files/"
   ]
  },
  {
   "cell_type": "markdown",
   "metadata": {
    "slideshow": {
     "slide_type": "subslide"
    }
   },
   "source": [
    "# Scrape real data CSV files from websites"
   ]
  },
  {
   "cell_type": "code",
   "execution_count": 127,
   "metadata": {
    "scrolled": true,
    "slideshow": {
     "slide_type": "subslide"
    }
   },
   "outputs": [
    {
     "name": "stdout",
     "output_type": "stream",
     "text": [
      "Loading content from the url...\n",
      "Creating content soup...\n",
      "Finding tag:a...\n",
      "\n",
      " 1 . File url http://www-eio.upc.edu/~pau/cms/rdata/csv/datasets/AirPassengers.csv\n",
      "It is a valid url..\n",
      ".csv FILE TYPE FOUND IN THE URL...\n",
      "DOWNLOADED: AirPassengers.csv\n",
      "\n",
      " 2 . File url http://www-eio.upc.edu/~pau/cms/rdata/doc/datasets/AirPassengers.html\n",
      "It is a valid url..\n",
      ".csv file type NOT found in url:\n",
      "EXCLUDED: http://www-eio.upc.edu/~pau/cms/rdata/doc/datasets/AirPassengers.html\n",
      "\n",
      " 3 . File url http://www-eio.upc.edu/~pau/cms/rdata/csv/datasets/BJsales.csv\n",
      "It is a valid url..\n",
      ".csv FILE TYPE FOUND IN THE URL...\n",
      "DOWNLOADED: BJsales.csv\n",
      "\n",
      " 4 . File url http://www-eio.upc.edu/~pau/cms/rdata/doc/datasets/BJsales.html\n",
      "It is a valid url..\n",
      ".csv file type NOT found in url:\n",
      "EXCLUDED: http://www-eio.upc.edu/~pau/cms/rdata/doc/datasets/BJsales.html\n",
      "\n",
      " 5 . File url http://www-eio.upc.edu/~pau/cms/rdata/csv/datasets/BOD.csv\n",
      "It is a valid url..\n",
      ".csv FILE TYPE FOUND IN THE URL...\n",
      "DOWNLOADED: BOD.csv\n",
      "\n",
      " 6 . File url http://www-eio.upc.edu/~pau/cms/rdata/doc/datasets/BOD.html\n",
      "It is a valid url..\n",
      ".csv file type NOT found in url:\n",
      "EXCLUDED: http://www-eio.upc.edu/~pau/cms/rdata/doc/datasets/BOD.html\n",
      "\n",
      " 7 . File url http://www-eio.upc.edu/~pau/cms/rdata/csv/datasets/Formaldehyde.csv\n",
      "It is a valid url..\n",
      ".csv FILE TYPE FOUND IN THE URL...\n",
      "DOWNLOADED: Formaldehyde.csv\n",
      "\n",
      " 8 . File url http://www-eio.upc.edu/~pau/cms/rdata/doc/datasets/Formaldehyde.html\n",
      "It is a valid url..\n",
      ".csv file type NOT found in url:\n",
      "EXCLUDED: http://www-eio.upc.edu/~pau/cms/rdata/doc/datasets/Formaldehyde.html\n",
      "\n",
      " 9 . File url http://www-eio.upc.edu/~pau/cms/rdata/csv/datasets/HairEyeColor.csv\n",
      "It is a valid url..\n",
      ".csv FILE TYPE FOUND IN THE URL...\n",
      "DOWNLOADED: HairEyeColor.csv\n",
      "Max reached\n",
      "Done!\n"
     ]
    }
   ],
   "source": [
    "py_file_scraper('http://www-eio.upc.edu/~pau/cms/rdata/datasets.html',\n",
    "                html_tag='a', # R data sets\n",
    "                source_tag='href', file_type='.csv',max=5)"
   ]
  },
  {
   "cell_type": "markdown",
   "metadata": {
    "slideshow": {
     "slide_type": "slide"
    }
   },
   "source": [
    "# Extended tip: IP rotation\n",
    "\n",
    "The website might get suspicious if a lot of requests are coming from the same IP address. If you use a shared proxy, VPN or TOR that can help you get around that problem\n",
    "\n",
    "For example:\n",
    "\n",
    "```pyton\n",
    "proxies = {'http' : 'http://10.10.0.0:0000',  \n",
    "          'https': 'http://120.10.0.0:0000'}\n",
    "response = requests.get('https://whateverwebsite.com', proxies=proxies, timeout=5)\n",
    "\n",
    "```\n",
    "\n",
    "Also note the `timeout` argument, this specifies that the request should not be carried out indefinitely (prevents the webserver from detecting scraping activity).\n",
    " \n",
    "\n",
    "By using a shared proxy, the website will see the IP address of the proxy server and not yours. A VPN connects you to another network and the IP address of the VPN provider will be sent to the website."
   ]
  },
  {
   "cell_type": "markdown",
   "metadata": {
    "slideshow": {
     "slide_type": "slide"
    }
   },
   "source": [
    "## Again, be NICE. Don't use IP rotation unless you know the content is cached and/or you know the website can handle your load."
   ]
  },
  {
   "cell_type": "markdown",
   "metadata": {
    "slideshow": {
     "slide_type": "slide"
    }
   },
   "source": [
    "## Websites often rely on IP blocking, rate limiting and other techniques to either:\n",
    "\n",
    "a) Dissuade web scraping\n",
    "\n",
    "b) Block large web scraping requests that turn to Denial of Service (DOS)\n",
    "\n",
    "c) Block scraping on restricted parts of the website"
   ]
  },
  {
   "cell_type": "markdown",
   "metadata": {
    "slideshow": {
     "slide_type": "slide"
    }
   },
   "source": [
    "## IP Blocking\n",
    "- The IP address of your machine(s) is temporarily blocked. (If you are using a VPN, often times this means the *VPNs* IP is blocked, which can inconvenience others using the VPN. Be careful.)"
   ]
  },
  {
   "cell_type": "markdown",
   "metadata": {
    "slideshow": {
     "slide_type": "slide"
    }
   },
   "source": [
    "## Rate Limiting\n",
    "- You might get a 4xx http error if you scrape websites at a higher rate than they can handle. Rate limiting is often multi-tiered, i.e you can be limited per second (concurrent requests), per minute or per hour. Rate limits are sometimes temporary but can be permanent (IP Block) if you routinely hit rate limits.\n",
    "\n",
    "<center><img src=\"https://media.giphy.com/media/8abAbOrQ9rvLG/giphy.gif\"></center>"
   ]
  },
  {
   "cell_type": "markdown",
   "metadata": {
    "slideshow": {
     "slide_type": "slide"
    }
   },
   "source": [
    "## Honeypot Servers\n",
    "- If you are not nice and continue scraping websites at high rates, websites can route your request to special \"Honeypot\" Servers, which essentially redirect your requests to servers that are designed to waste your CPU resources."
   ]
  },
  {
   "cell_type": "markdown",
   "metadata": {
    "slideshow": {
     "slide_type": "slide"
    }
   },
   "source": [
    "---\n",
    "<a id='secBK'></a>\n",
    "# Breakout problem\n",
    "\n",
    "\n",
    "In this Breakout Problem you should extract live weather data in Berkeley from:\n",
    "\n",
    "[http://forecast.weather.gov/MapClick.php?lat=37.87158815800046&lon=-122.27274583799971](http://forecast.weather.gov/MapClick.php?lat=37.87158815800046&lon=-122.27274583799971)\n",
    "\n",
    "* Task scrape\n",
    "    * period / day (as Tonight, Friday, FridayNight etc.)\n",
    "    * the temperature for the period (as Low, High)\n",
    "    * the long weather description (e.g. Partly cloudy, with a low around 49..)\n",
    "    \n",
    "Store the scraped data strings in a Pandas DataFrame\n",
    "\n",
    "\n",
    "\n",
    "**Hint:** The weather information is found in a div tag with `id='seven-day-forecast'`\n",
    "\n"
   ]
  },
  {
   "cell_type": "markdown",
   "metadata": {
    "slideshow": {
     "slide_type": "slide"
    }
   },
   "source": [
    "\n",
    "# Appendix"
   ]
  },
  {
   "cell_type": "markdown",
   "metadata": {
    "slideshow": {
     "slide_type": "subslide"
    }
   },
   "source": [
    "<a id='sec6'></a>\n",
    "# Scrape Bloomberg sitemap (XML) for current political news"
   ]
  },
  {
   "cell_type": "code",
   "execution_count": 128,
   "metadata": {
    "slideshow": {
     "slide_type": "subslide"
    }
   },
   "outputs": [
    {
     "data": {
      "text/plain": [
       "<html><body><p># Bot rules:\n",
       "# 1. A bot may not injure a human being or, through inaction, allow a human being to come to harm.\n",
       "# 2. A bot must obey orders given it by human beings except where such orders would conflict with the First Law.\n",
       "# 3. A bot must protect its own existence as long as such protection does not conflict with the First or Second Law.\n",
       "# If you can read this then you should apply here https://www.bloomberg.com/careers/\n",
       "User-agent: *\n",
       "Disallow: /polska\n",
       "Disallow: /account/*\n",
       "\n",
       "User-agent: Mediapartners-Google\n",
       "Disallow: /about/careers\n",
       "Disallow: /about/careers/\n",
       "Disallow: /offlinemessage/\n",
       "Disallow: /apps/fbk\n",
       "Disallow: /bb/newsarchive/\n",
       "Disallow: /apps/news\n",
       "\n",
       "User-agent: Spinn3r\n",
       "Disallow: /podcasts/\n",
       "Disallow: /feed/podcast/\n",
       "Disallow: /bb/avfile/\n",
       "\n",
       "User-agent: Googlebot-News\n",
       "Disallow: /sponsor/\n",
       "Disallow: /news/sponsors/*\n",
       "\n",
       "Sitemap: https://www.bloomberg.com/sitemap.xml\n",
       "Sitemap: https://www.bloomberg.com/feeds/bbiz/sitemap_index.xml\n",
       "Sitemap: https://www.bloomberg.com/feeds/bpol/sitemap_index.xml\n",
       "Sitemap: https://www.bloomberg.com/feeds/businessweek/sitemap_index.xml\n",
       "Sitemap: https://www.bloomberg.com/feeds/technology/sitemap_index.xml\n",
       "Sitemap: https://www.bloomberg.com/feeds/bbiz/sitemap_securities_index.xml\n",
       "Sitemap: https://www.bloomberg.com/feeds/bbiz/sitemap_profiles_company_index.xml\n",
       "Sitemap: https://www.bloomberg.com/billionaires/sitemap.xml\n",
       "Sitemap: https://www.bloomberg.com/feeds/bbiz/sitemap_news.xml\n",
       "Sitemap: https://www.bloomberg.com/feeds/dynamic/private-company-index.xml\n",
       "Sitemap: https://www.bloomberg.com/feeds/dynamic/person-index.xml\n",
       "Sitemap: https://www.bloomberg.com/feeds/curated/feeds/graphics_news.xml\n",
       "Sitemap: https://www.bloomberg.com/feeds/curated/feeds/graphics_sitemap.xml\n",
       "Sitemap: https://www.bloomberg.com/pursuits/property-listings/sitemap.xml\n",
       "</p></body></html>"
      ]
     },
     "execution_count": 128,
     "metadata": {},
     "output_type": "execute_result"
    }
   ],
   "source": [
    "# XML documents - site maps, all the urls. just between tags\n",
    "# XML human and machine readable.\n",
    "# Newest links: all the links for FIND SITE MAP!\n",
    "# News websites will have sitemaps for politics, bot constantly\n",
    "# tracking news track the sitemaps\n",
    "\n",
    "# Before scraping a website look at robots.txt file\n",
    "bs.BeautifulSoup(requests.get('https://www.bloomberg.com/robots.txt').content,'lxml')"
   ]
  },
  {
   "cell_type": "code",
   "execution_count": 129,
   "metadata": {
    "slideshow": {
     "slide_type": "subslide"
    }
   },
   "outputs": [],
   "source": [
    "source = requests.get('https://www.bloomberg.com/feeds/bpol/sitemap_news.xml').content\n",
    "soup = bs.BeautifulSoup(source,'xml') # Note parser 'xml'"
   ]
  },
  {
   "cell_type": "code",
   "execution_count": 130,
   "metadata": {
    "slideshow": {
     "slide_type": "subslide"
    }
   },
   "outputs": [
    {
     "name": "stdout",
     "output_type": "stream",
     "text": [
      "<?xml version=\"1.0\" encoding=\"utf-8\"?>\n",
      "<urlset xmlns=\"http://www.sitemaps.org/schemas/sitemap/0.9\" xmlns:image=\"http://www.google.com/schemas/sitemap-image/1.1\" xmlns:news=\"http://www.google.com/schemas/sitemap-news/0.9\">\n",
      " <url>\n",
      "  <loc>\n",
      "   https://www.bloomberg.com/news/articles/2020-03-09/canceled-once-now-boris-johnson-s-cursed-budget-is-hit-by-virus\n",
      "  </loc>\n",
      "  <news:news>\n",
      "   <news:publication>\n",
      "    <news:name>\n",
      "     Bloomberg\n",
      "    </news:name>\n",
      "    <news:language>\n",
      "     en\n",
      "    </news:language>\n",
      "   </news:publication>\n",
      "   <news:publication_date>\n",
      "    2020-03-09T05:01:00.000Z\n",
      "   </news:publication_date>\n",
      "   <news:title>\n",
      "    Canceled Once, Now Boris Johnson’s Cursed Budget Is Hit by Coronavirus\n",
      "   </news:title>\n",
      "   <news:keywords>\n",
      "    Investing, Capital Spending, Tax Revenue, Immigration, Culture, Taxes, Brexit, Infrastructure, Economic Policy, Coronavirus, Megacity, Donald John Trump\n",
      "   </news:keywords>\n",
      "   <news:stock_tickers/>\n",
      "  </news:news>\n",
      "  <image:image>\n",
      "   <image:loc>\n",
      "    https://assets.bwbx.io/images/users/iqjWHBFdfxIU/iLK8.uKhVbeA/v0/1200x-1.jpg\n",
      "   </image:loc>\n",
      "   <image:license>\n",
      "    https://www.bloomberg.com/tos\n",
      "   </image:license>\n",
      "  </image:image>\n",
      " </url>\n",
      " <url>\n",
      "  <loc>\n",
      "   https://www.bloomberg.com/news/articles/2020-03-09/poland-dares-europe-to-act-over-purge-of-judges\n",
      "  </loc>\n",
      "  <news:news>\n",
      "   <news:publication>\n",
      "    <news:name>\n",
      "     Bloomberg\n",
      "    </news:name>\n",
      "    <news:language>\n",
      "     en\n",
      "    </news:language>\n",
      "   </news:publication>\n",
      "   <news:publication_date>\n",
      "    2020-03-09T05:00:22.425Z\n",
      "   </news:publication_date>\n",
      "   <news:title>\n",
      "    Poland Dares Europe to Act Over Purge of Judges\n",
      "   </news:title>\n",
      "   <news:keywords>\n",
      "    Voting Rights, Human Rights, Social Media, Coronavirus, Refugee Crisis, War, Economic Sanctions, Law, Equality, ESG Concerns, Inclusion, Emerging Markets, Megacity, Emerging Markets Economics, Mateusz Morawiecki, Andrzej Sebastian Duda\n",
      "   </news:keywords>\n",
      "   <news:stock_tickers/>\n",
      "  </news:news>\n",
      "  <image:image>\n",
      "   <image:loc>\n",
      "    https://assets.bwbx.io/images/users/iqjWHBFdfxIU/ipJBY5x_8UiE/v0/1200x-1.jpg\n",
      "   </image:loc>\n",
      "   <image:license>\n",
      "    https://www.bloomberg.com/tos\n",
      "   </image:license>\n",
      "  </image:image>\n",
      " </url>\n",
      " <url>\n",
      "  <loc>\n",
      "   https://www.bloomberg.com/news/articles/2020-03-09/the-impeachment-saga-is-over-but-zelenskiy-can-t-rest-in-ukraine\n",
      "  </loc>\n",
      "  <news:news>\n",
      "   <news:publication>\n",
      "    <news:name>\n",
      "     Bloomberg\n",
      "    </news:name>\n",
      "    <news:language>\n",
      "     en\n",
      "    </news:language>\n",
      "   </news:publication>\n",
      "   <news:publication_date>\n",
      "    2020-03-09T05:00:00.007Z\n",
      "   </news:publication_date>\n",
      "   <news:title>\n",
      "    The Impeachment Saga Is Over But Zelenskiy Can’t Rest in Ukraine\n",
      "   </news:title>\n",
      "   <news:keywords>\n",
      "    War, Billionaires, Liberal, Military, Emerging Markets, Viktor Yanukovych, Joseph Robinette Biden, Donald John Trump, Volodymyr Oleksandrovych Zelenskiy\n",
      "   </news:keywords>\n",
      "   <news:stock_tickers/>\n",
      "  </news:news>\n",
      "  <image:image>\n",
      "   <image:loc>\n",
      "    https://assets.bwbx.io/images/users/iqjWHBFdfxIU/i0hXgbFnTe70/v0/1200x-1.jpg\n",
      "   </image:loc>\n",
      "   <image:license>\n",
      "    https://www.bloomberg.com/tos\n",
      "   </image:license>\n",
      "  </image:image>\n",
      " </url>\n",
      " <url>\n",
      "  <loc>\n",
      "   https://www.bloomberg.com/news/articles/2020-03-09/trump-s-aides-drafting-economic-measures-to-combat-virus-fallout\n",
      "  </loc>\n",
      "  <news:news>\n",
      "   <news:publication>\n",
      "    <news:name>\n",
      "     Bloomberg\n",
      "    </news:name>\n",
      "    <news:language>\n",
      "     en\n",
      "    </news:language>\n",
      "   </news:publication>\n",
      "   <news:publication_date>\n",
      "    2020-03-09T03:52:35.113Z\n",
      "   </news:publication_date>\n",
      "   <news:title>\n",
      "    Trump’s Aides Drafting Economic Measures to Combat Virus Fallout\n",
      "   </news:title>\n",
      "   <news:keywords>\n",
      "    Conservative, Airlines, Jobs, Bonds, Congress, Stock Futures, Public Health, Coronavirus, Monetary Policy, Central Bankers, Infrastructure, Aerospace Industry, Futures Markets, Currency, Commodity Futures, Emerging Markets, BRICS, Science, Fixed Income, crude-oil, Rafael E Cruz, Charles Ellis Schumer, Nancy D'Alesandro Pelosi, Lawrence Kudlow, Donald John Trump\n",
      "   </news:keywords>\n",
      "   <news:stock_tickers/>\n",
      "  </news:news>\n",
      "  <image:image>\n",
      "   <image:loc>\n",
      "    https://assets.bwbx.io/images/users/iqjWHBFdfxIU/iVWlVx_p4u7Y/v0/1200x-1.jpg\n",
      "   </image:loc>\n",
      "   <image:license>\n",
      "    https://www.bloomberg.com/tos\n",
      "   </image:license>\n",
      "  </image:image>\n",
      " </url>\n",
      " <url>\n",
      "  <loc>\n",
      "   https://www.bloomberg.com/news/articles/2020-03-08/grand-princess-cruise-ship-to-dock-at-port-of-oakland-on-monday\n",
      "  </loc>\n",
      "  <news:news>\n",
      "   <news:publication>\n",
      "    <news:name>\n",
      "     Bloomberg\n",
      "    </news:name>\n",
      "    <news:language>\n",
      "     en\n",
      "    </news:language>\n",
      "   </news:publication>\n",
      "   <news:publication_date>\n",
      "    2020-03-09T05:34:04.232Z\n",
      "   </news:publication_date>\n",
      "   <news:title>\n",
      "    Americans Told to Avoid Cruises as Medical Team Boards Ship\n",
      "   </news:title>\n",
      "   <news:keywords>\n",
      "    Military, Cities, Air Force, Coronavirus, Public Health, Emerging Markets, Well Spent, Consumer Discretionary, Joaquin Castro, Jerome Adams\n",
      "   </news:keywords>\n",
      "   <news:stock_tickers>\n",
      "    NASDAQ:FB, NYSE:TWTR, NYSE:CCL\n",
      "   </news:stock_tickers>\n",
      "  </news:news>\n",
      "  <image:image>\n",
      "   <image:loc>\n",
      "    https://assets.bwbx.io/images/users/iqjWHBFdfxIU/iR7.uV1zvefQ/v1/1200x-1.jpg\n",
      "   </image:loc>\n",
      "   <image:license>\n",
      "    https://www.bloomberg.com/tos\n",
      "   </image:license>\n",
      "  </image:image>\n",
      " </url>\n",
      " <url>\n",
      "  <loc>\n",
      "   https://www.bloomberg.com/news/articles/2020-03-08/with-desert-raid-saudi-prince-tests-grip-on-power-at-his-peril\n",
      "  </loc>\n",
      "  <news:news>\n",
      "   <news:publication>\n",
      "    <news:name>\n",
      "     Bloomberg\n",
      "    </news:name>\n",
      "    <news:language>\n",
      "     en\n",
      "    </news:language>\n",
      "   </news:publication>\n",
      "   <news:publication_date>\n",
      "    2020-03-09T04:19:00.760Z\n",
      "   </news:publication_date>\n",
      "   <news:title>\n",
      "    Saudi Prince Tests Grip on Power With Desert Raid, Oil Price War\n",
      "   </news:title>\n",
      "   <news:keywords>\n",
      "    Congress, Interior Ministry, Wall Street, Conservative, IPOs, Foreign Policy, Coronavirus, War, Emerging Markets, BRICS, Megacity, Futures Markets, crude-oil, Consumer Discretionary, Commodity Futures, Donald John Trump, Jeffrey P Bezos\n",
      "   </news:keywords>\n",
      "   <news:stock_tickers>\n",
      "    NYSE:TWTR, NASDAQ:AMZN, NYSE:NYT\n",
      "   </news:stock_tickers>\n",
      "  </news:news>\n",
      "  <image:image>\n",
      "   <image:loc>\n",
      "    https://assets.bwbx.io/images/users/iqjWHBFdfxIU/iBGUAM03lsKc/v1/1200x-1.jpg\n",
      "   </image:loc>\n",
      "   <image:license>\n",
      "    https://www.bloomberg.com/tos\n",
      "   </image:license>\n",
      "  </image:image>\n",
      " </url>\n",
      " <url>\n",
      "  <loc>\n",
      "   https://www.bloomberg.com/news/articles/2020-03-09/u-s-shows-china-patience-on-purchases-if-trade-gap-doesn-t-grow\n",
      "  </loc>\n",
      "  <news:news>\n",
      "   <news:publication>\n",
      "    <news:name>\n",
      "     Bloomberg\n",
      "    </news:name>\n",
      "    <news:language>\n",
      "     en\n",
      "    </news:language>\n",
      "   </news:publication>\n",
      "   <news:publication_date>\n",
      "    2020-03-09T04:04:12.186Z\n",
      "   </news:publication_date>\n",
      "   <news:title>\n",
      "    U.S. Shows China Patience on Purchases If Trade Gap Doesn’t Grow\n",
      "   </news:title>\n",
      "   <news:keywords>\n",
      "    Trade Surplus, Trade Balance, Coronavirus, Exports, Imports, Trade Gap, Emerging Markets, BRICS, Megacity, Software Company, Emerging Markets Economics, Global Trade, Donald John Trump\n",
      "   </news:keywords>\n",
      "   <news:stock_tickers>\n",
      "    NYSE:MA\n",
      "   </news:stock_tickers>\n",
      "  </news:news>\n",
      "  <image:image>\n",
      "   <image:loc>\n",
      "    https://assets.bwbx.io/images/users/iqjWHBFdfxIU/iLYxzpXdg.O4/v0/1200x-1.jpg\n",
      "   </image:loc>\n",
      "   <image:license>\n",
      "    https://www.bloomberg.com/tos\n",
      "   </image:license>\n",
      "  </image:image>\n",
      " </url>\n",
      " <url>\n",
      "  <loc>\n",
      "   https://www.bloomberg.com/news/articles/2020-03-08/pimco-s-fels-says-worst-is-to-come-with-forecast-of-recession\n",
      "  </loc>\n",
      "  <news:news>\n",
      "   <news:publication>\n",
      "    <news:name>\n",
      "     Bloomberg\n",
      "    </news:name>\n",
      "    <news:language>\n",
      "     en\n",
      "    </news:language>\n",
      "   </news:publication>\n",
      "   <news:publication_date>\n",
      "    2020-03-09T01:30:05.604Z\n",
      "   </news:publication_date>\n",
      "   <news:title>\n",
      "    Pimco’s Fels Says Worst Is to Come With Recession Forecast\n",
      "   </news:title>\n",
      "   <news:keywords>\n",
      "    Bonds, Environment, Interest Rates, Stocks, War, Investment Management, Emerging Markets, Wall Street, Coronavirus, Monetary Policy, Central Bankers, Well Spent, BRICS, Fixed Income, Personal Finance, Joachim Fels\n",
      "   </news:keywords>\n",
      "   <news:stock_tickers>\n",
      "    NYSE:JPM\n",
      "   </news:stock_tickers>\n",
      "  </news:news>\n",
      "  <image:image>\n",
      "   <image:loc>\n",
      "    https://assets.bwbx.io/images/users/iqjWHBFdfxIU/i4HW85N9kNus/v0/1200x-1.jpg\n",
      "   </image:loc>\n",
      "   <image:license>\n",
      "    https://www.bloomberg.com/tos\n",
      "   </image:license>\n",
      "  </image:image>\n",
      " </url>\n",
      " <url>\n",
      "  <loc>\n",
      "   https://www.bloomberg.com/news/articles/2020-03-08/ted-cruz-to-self-quarantine-after-contact-with-confirmed-case\n",
      "  </loc>\n",
      "  <news:news>\n",
      "   <news:publication>\n",
      "    <news:name>\n",
      "     Bloomberg\n",
      "    </news:name>\n",
      "    <news:language>\n",
      "     en\n",
      "    </news:language>\n",
      "   </news:publication>\n",
      "   <news:publication_date>\n",
      "    2020-03-09T02:46:27.634Z\n",
      "   </news:publication_date>\n",
      "   <news:title>\n",
      "    Two GOP Lawmakers to Quarantine After Contact With Infected Case\n",
      "   </news:title>\n",
      "   <news:keywords>\n",
      "    Congress, Conservative, Coronavirus, Mark Randall Meadows, Addison Mitchell McConnell, Michael Richard Pence, Donald John Trump, Paul A Gosar, Rafael E Cruz\n",
      "   </news:keywords>\n",
      "   <news:stock_tickers>\n",
      "    NYSE:TWTR\n",
      "   </news:stock_tickers>\n",
      "  </news:news>\n",
      "  <image:image>\n",
      "   <image:loc>\n",
      "    https://assets.bwbx.io/images/users/iqjWHBFdfxIU/iS9Lk1.BS9rk/v0/1200x-1.jpg\n",
      "   </image:loc>\n",
      "   <image:license>\n",
      "    https://www.bloomberg.com/tos\n",
      "   </image:license>\n",
      "  </image:image>\n",
      " </url>\n",
      " <url>\n",
      "  <loc>\n",
      "   https://www.bloomberg.com/news/articles/2020-03-08/mexicans-take-to-the-streets-in-historic-march-against-femicide\n",
      "  </loc>\n",
      "  <news:news>\n",
      "   <news:publication>\n",
      "    <news:name>\n",
      "     Bloomberg\n",
      "    </news:name>\n",
      "    <news:language>\n",
      "     en\n",
      "    </news:language>\n",
      "   </news:publication>\n",
      "   <news:publication_date>\n",
      "    2020-03-08T22:43:26.076Z\n",
      "   </news:publication_date>\n",
      "   <news:title>\n",
      "    Mexicans Take to Streets in Historic March Against Femicide\n",
      "   </news:title>\n",
      "   <news:keywords>\n",
      "    Human Rights, Social Media, Gender, Cities, Women, ESG Concerns, Emerging Markets, Megacity, Consumer Staples\n",
      "   </news:keywords>\n",
      "   <news:stock_tickers>\n",
      "    NYSE:WMT\n",
      "   </news:stock_tickers>\n",
      "  </news:news>\n",
      "  <image:image>\n",
      "   <image:loc>\n",
      "    https://assets.bwbx.io/images/users/iqjWHBFdfxIU/imbE0oz.yiaA/v1/1200x-1.jpg\n",
      "   </image:loc>\n",
      "   <image:license>\n",
      "    https://www.bloomberg.com/tos\n",
      "   </image:license>\n",
      "  </image:image>\n",
      " </url>\n",
      " <url>\n",
      "  <loc>\n",
      "   https://www.bloomberg.com/news/articles/2020-03-08/sanders-says-would-cancel-rallies-if-asked-campaign-update\n",
      "  </loc>\n",
      "  <news:news>\n",
      "   <news:publication>\n",
      "    <news:name>\n",
      "     Bloomberg\n",
      "    </news:name>\n",
      "    <news:language>\n",
      "     en\n",
      "    </news:language>\n",
      "   </news:publication>\n",
      "   <news:publication_date>\n",
      "    2020-03-09T00:15:53.598Z\n",
      "   </news:publication_date>\n",
      "   <news:title>\n",
      "    Biden Says Would Cancel Rallies If Advised: Campaign Update\n",
      "   </news:title>\n",
      "   <news:keywords>\n",
      "    Coronavirus, Public Health, Michael R Bloomberg, Bernard Sanders, Joseph Robinette Biden\n",
      "   </news:keywords>\n",
      "   <news:stock_tickers/>\n",
      "  </news:news>\n",
      "  <image:image>\n",
      "   <image:loc>\n",
      "    https://assets.bwbx.io/images/users/iqjWHBFdfxIU/i8GTMU9DOoTI/v1/1200x-1.jpg\n",
      "   </image:loc>\n",
      "   <image:license>\n",
      "    https://www.bloomberg.com/tos\n",
      "   </image:license>\n",
      "  </image:image>\n",
      " </url>\n",
      " <url>\n",
      "  <loc>\n",
      "   https://www.bloomberg.com/news/articles/2020-03-08/cdc-virus-confirmation-taking-longer-than-expected-n-j-says\n",
      "  </loc>\n",
      "  <news:news>\n",
      "   <news:publication>\n",
      "    <news:name>\n",
      "     Bloomberg\n",
      "    </news:name>\n",
      "    <news:language>\n",
      "     en\n",
      "    </news:language>\n",
      "   </news:publication>\n",
      "   <news:publication_date>\n",
      "    2020-03-08T20:00:15.943Z\n",
      "   </news:publication_date>\n",
      "   <news:title>\n",
      "    CDC Virus Confirmation Taking Longer Than Expected, N.J. Says\n",
      "   </news:title>\n",
      "   <news:keywords>\n",
      "    Coronavirus, Science\n",
      "   </news:keywords>\n",
      "   <news:stock_tickers/>\n",
      "  </news:news>\n",
      "  <image:image>\n",
      "   <image:loc>\n",
      "    https://assets.bwbx.io/images/users/iqjWHBFdfxIU/iN6ykqMvhmOQ/v0/1200x-1.jpg\n",
      "   </image:loc>\n",
      "   <image:license>\n",
      "    https://www.bloomberg.com/tos\n",
      "   </image:license>\n",
      "  </image:image>\n",
      " </url>\n",
      " <url>\n",
      "  <loc>\n",
      "   https://www.bloomberg.com/news/articles/2020-03-07/australian-stimulus-to-protect-against-virus-may-be-3-3-billion\n",
      "  </loc>\n",
      "  <news:news>\n",
      "   <news:publication>\n",
      "    <news:name>\n",
      "     Bloomberg\n",
      "    </news:name>\n",
      "    <news:language>\n",
      "     en\n",
      "    </news:language>\n",
      "   </news:publication>\n",
      "   <news:publication_date>\n",
      "    2020-03-08T23:15:44.418Z\n",
      "   </news:publication_date>\n",
      "   <news:title>\n",
      "    Australia May Spend Up to $6.6 Billion to Ease Virus Impact\n",
      "   </news:title>\n",
      "   <news:keywords>\n",
      "    Exports, Cash Flow, Agriculture, Education, Tourism, Jobs, Coronavirus, Monetary Policy, Emerging Markets, Infrastructure, BRICS, Fixed Income, Emerging Markets Economics, Global Trade\n",
      "   </news:keywords>\n",
      "   <news:stock_tickers/>\n",
      "  </news:news>\n",
      "  <image:image>\n",
      "   <image:loc>\n",
      "    https://assets.bwbx.io/images/users/iqjWHBFdfxIU/igUcyS94IddE/v0/1200x-1.jpg\n",
      "   </image:loc>\n",
      "   <image:license>\n",
      "    https://www.bloomberg.com/tos\n",
      "   </image:license>\n",
      "  </image:image>\n",
      " </url>\n",
      " <url>\n",
      "  <loc>\n",
      "   https://www.bloomberg.com/news/articles/2020-03-08/johnson-announces-6-5-billion-boost-for-u-k-broadband-service\n",
      "  </loc>\n",
      "  <news:news>\n",
      "   <news:publication>\n",
      "    <news:name>\n",
      "     Bloomberg\n",
      "    </news:name>\n",
      "    <news:language>\n",
      "     en\n",
      "    </news:language>\n",
      "   </news:publication>\n",
      "   <news:publication_date>\n",
      "    2020-03-08T22:30:00.001Z\n",
      "   </news:publication_date>\n",
      "   <news:title>\n",
      "    Johnson Announces $6.5 Billion Boost for U.K. Broadband Service\n",
      "   </news:title>\n",
      "   <news:keywords>\n",
      "    Scotland, 5G Network, Coronavirus, Infrastructure, Consumer Staples, Currency\n",
      "   </news:keywords>\n",
      "   <news:stock_tickers/>\n",
      "  </news:news>\n",
      "  <image:image>\n",
      "   <image:loc>\n",
      "    https://assets.bwbx.io/images/users/iqjWHBFdfxIU/ig0QEzbx3Gwc/v0/1200x-1.jpg\n",
      "   </image:loc>\n",
      "   <image:license>\n",
      "    https://www.bloomberg.com/tos\n",
      "   </image:license>\n",
      "  </image:image>\n",
      " </url>\n",
      " <url>\n",
      "  <loc>\n",
      "   https://www.bloomberg.com/news/articles/2020-03-08/italy-braces-for-market-verdict-on-conte-virus-containment-plan\n",
      "  </loc>\n",
      "  <news:news>\n",
      "   <news:publication>\n",
      "    <news:name>\n",
      "     Bloomberg\n",
      "    </news:name>\n",
      "    <news:language>\n",
      "     en\n",
      "    </news:language>\n",
      "   </news:publication>\n",
      "   <news:publication_date>\n",
      "    2020-03-08T20:52:00.535Z\n",
      "   </news:publication_date>\n",
      "   <news:title>\n",
      "    Italy Braces for Market Verdict on Conte Virus Containment Plan\n",
      "   </news:title>\n",
      "   <news:keywords>\n",
      "    Automotive, Cities, Coronavirus, Emerging Markets, Infrastructure, BRICS, Transportation, Raffaele Jerusalmi, Giuseppe Conte\n",
      "   </news:keywords>\n",
      "   <news:stock_tickers>\n",
      "    NASDAQ:FB\n",
      "   </news:stock_tickers>\n",
      "  </news:news>\n",
      "  <image:image>\n",
      "   <image:loc>\n",
      "    https://assets.bwbx.io/images/users/iqjWHBFdfxIU/iqbLgVQbDrbY/v0/1200x-1.png\n",
      "   </image:loc>\n",
      "   <image:license>\n",
      "    https://www.bloomberg.com/tos\n",
      "   </image:license>\n",
      "  </image:image>\n",
      " </url>\n",
      " <url>\n",
      "  <loc>\n",
      "   https://www.bloomberg.com/news/articles/2020-03-08/u-s-moves-from-containment-to-preparing-for-daily-disruptions\n",
      "  </loc>\n",
      "  <news:news>\n",
      "   <news:publication>\n",
      "    <news:name>\n",
      "     Bloomberg\n",
      "    </news:name>\n",
      "    <news:language>\n",
      "     en\n",
      "    </news:language>\n",
      "   </news:publication>\n",
      "   <news:publication_date>\n",
      "    2020-03-08T19:48:35.176Z\n",
      "   </news:publication_date>\n",
      "   <news:title>\n",
      "    U.S. Moves From Containment to Preparing for Daily Disruptions\n",
      "   </news:title>\n",
      "   <news:keywords>\n",
      "    iPhone, Cities, Coronavirus, Culture, Science, Consumer Discretionary, Jerome Adams, Donald John Trump\n",
      "   </news:keywords>\n",
      "   <news:stock_tickers>\n",
      "    NYSE:TWTR, NYSE:DGX\n",
      "   </news:stock_tickers>\n",
      "  </news:news>\n",
      "  <image:image>\n",
      "   <image:loc>\n",
      "    https://assets.bwbx.io/images/users/iqjWHBFdfxIU/idt1EiT2LRJY/v0/1200x-1.jpg\n",
      "   </image:loc>\n",
      "   <image:license>\n",
      "    https://www.bloomberg.com/tos\n",
      "   </image:license>\n",
      "  </image:image>\n",
      " </url>\n",
      " <url>\n",
      "  <loc>\n",
      "   https://www.bloomberg.com/news/articles/2020-03-08/coronavirus-nears-fatal-tipping-point-when-lungs-are-inflamed\n",
      "  </loc>\n",
      "  <news:news>\n",
      "   <news:publication>\n",
      "    <news:name>\n",
      "     Bloomberg\n",
      "    </news:name>\n",
      "    <news:language>\n",
      "     en\n",
      "    </news:language>\n",
      "   </news:publication>\n",
      "   <news:publication_date>\n",
      "    2020-03-08T19:14:55.490Z\n",
      "   </news:publication_date>\n",
      "   <news:title>\n",
      "    There Is a ‘Tipping Point’ Before Coronavirus Kills\n",
      "   </news:title>\n",
      "   <news:keywords>\n",
      "    Cities, Coronavirus, Emerging Markets, BRICS, Science, Megacity, prognosis, Wenliang Li\n",
      "   </news:keywords>\n",
      "   <news:stock_tickers/>\n",
      "  </news:news>\n",
      "  <image:image>\n",
      "   <image:loc>\n",
      "    https://assets.bwbx.io/images/users/iqjWHBFdfxIU/iKPmgVFBNBRw/v0/1200x-1.png\n",
      "   </image:loc>\n",
      "   <image:license>\n",
      "    https://www.bloomberg.com/tos\n",
      "   </image:license>\n",
      "  </image:image>\n",
      " </url>\n",
      " <url>\n",
      "  <loc>\n",
      "   https://www.bloomberg.com/news/articles/2020-03-09/brussels-edition-caught-between-crises\n",
      "  </loc>\n",
      "  <news:news>\n",
      "   <news:publication>\n",
      "    <news:name>\n",
      "     Bloomberg\n",
      "    </news:name>\n",
      "    <news:language>\n",
      "     en\n",
      "    </news:language>\n",
      "   </news:publication>\n",
      "   <news:publication_date>\n",
      "    2020-03-09T05:54:28.131Z\n",
      "   </news:publication_date>\n",
      "   <news:title>\n",
      "    Brussels Edition: Caught Between Crises\n",
      "   </news:title>\n",
      "   <news:keywords>\n",
      "    Brexit, Foreign Policy, Gender, Women, Climate Change, Military, Artificial Intelligence, Economic Policy, Coronavirus, Equality, Monetary Policy, Central Bankers, Industrials, ESG Concerns, Inclusion, Emerging Markets, Infrastructure, Airlines, Aerospace Industry, German Election, Fixed Income, ESG, Consumer Discretionary, Gender Equality, Emerging Markets Economics, Angela D Merkel, Recep Tayyip Erdogan, Christine Madeleine Odette Lagarde\n",
      "   </news:keywords>\n",
      "   <news:stock_tickers>\n",
      "    ETR:LHA\n",
      "   </news:stock_tickers>\n",
      "  </news:news>\n",
      "  <image:image>\n",
      "   <image:loc>\n",
      "    https://assets.bwbx.io/images/users/iqjWHBFdfxIU/ig0PccJnC48I/v0/1200x-1.jpg\n",
      "   </image:loc>\n",
      "   <image:license>\n",
      "    https://www.bloomberg.com/tos\n",
      "   </image:license>\n",
      "  </image:image>\n",
      " </url>\n",
      " <url>\n",
      "  <loc>\n",
      "   https://www.bloomberg.com/news/articles/2020-03-09/germany-boosts-investments-to-bolster-economy-amid-virus-fallout\n",
      "  </loc>\n",
      "  <news:news>\n",
      "   <news:publication>\n",
      "    <news:name>\n",
      "     Bloomberg\n",
      "    </news:name>\n",
      "    <news:language>\n",
      "     en\n",
      "    </news:language>\n",
      "   </news:publication>\n",
      "   <news:publication_date>\n",
      "    2020-03-09T03:17:37.224Z\n",
      "   </news:publication_date>\n",
      "   <news:title>\n",
      "    Germany Boosts Investments to Bolster Economy Amid Virus Fallout\n",
      "   </news:title>\n",
      "   <news:keywords>\n",
      "    Conservative, Refugee Crisis, Debt, Infrastructure, GDP, Coronavirus, Equality, Monetary Policy, Central Bankers, Industrials, Inclusion, Emerging Markets, Airlines, Aerospace Industry, German Election, Fixed Income, Bonds, Consumer Discretionary, Emerging Markets Economics, Carsten Spohr, Angela D Merkel\n",
      "   </news:keywords>\n",
      "   <news:stock_tickers>\n",
      "    ETR:LHA\n",
      "   </news:stock_tickers>\n",
      "  </news:news>\n",
      "  <image:image>\n",
      "   <image:loc>\n",
      "    https://assets.bwbx.io/images/users/iqjWHBFdfxIU/iply6CqZ.0.Q/v0/1200x-1.jpg\n",
      "   </image:loc>\n",
      "   <image:license>\n",
      "    https://www.bloomberg.com/tos\n",
      "   </image:license>\n",
      "  </image:image>\n",
      " </url>\n",
      " <url>\n",
      "  <loc>\n",
      "   https://www.bloomberg.com/news/articles/2020-03-09/fired-manager-at-biggest-africa-fund-says-he-was-scapegoated\n",
      "  </loc>\n",
      "  <news:news>\n",
      "   <news:publication>\n",
      "    <news:name>\n",
      "     Bloomberg\n",
      "    </news:name>\n",
      "    <news:language>\n",
      "     en\n",
      "    </news:language>\n",
      "   </news:publication>\n",
      "   <news:publication_date>\n",
      "    2020-03-09T04:00:00.002Z\n",
      "   </news:publication_date>\n",
      "   <news:title>\n",
      "    Fired Manager at Biggest Africa Fund Says He Was Scapegoated\n",
      "   </news:title>\n",
      "   <news:keywords>\n",
      "    Private Equity, Superannuation, Information Technology, Corporate Governance, Executives, Stocks, Money Manager, Fund Manager, Industrials, Emerging Markets, Infrastructure, Logistics, Culture, Well Spent, BRICS, Materials, Megacity, Software Company, Board Directors, Metals &amp; Mining, Consumer Discretionary, Personal Finance, Transportation, Philip Fourie\n",
      "   </news:keywords>\n",
      "   <news:stock_tickers>\n",
      "    NYSE:C, JSE:INL, JSE:NPN, LON:AAL, JSE:AYO\n",
      "   </news:stock_tickers>\n",
      "  </news:news>\n",
      "  <image:image>\n",
      "   <image:loc>\n",
      "    https://assets.bwbx.io/images/users/iqjWHBFdfxIU/io1Qxz6Gaqfo/v0/1200x-1.jpg\n",
      "   </image:loc>\n",
      "   <image:license>\n",
      "    https://www.bloomberg.com/tos\n",
      "   </image:license>\n",
      "  </image:image>\n",
      " </url>\n",
      " <url>\n",
      "  <loc>\n",
      "   https://www.bloomberg.com/news/articles/2020-03-08/north-korea-launched-unidentified-projectile-south-korea-says\n",
      "  </loc>\n",
      "  <news:news>\n",
      "   <news:publication>\n",
      "    <news:name>\n",
      "     Bloomberg\n",
      "    </news:name>\n",
      "    <news:language>\n",
      "     en\n",
      "    </news:language>\n",
      "   </news:publication>\n",
      "   <news:publication_date>\n",
      "    2020-03-09T03:14:15.241Z\n",
      "   </news:publication_date>\n",
      "   <news:title>\n",
      "    North Korea Distracts From Virus Threat With New Missile Launch\n",
      "   </news:title>\n",
      "   <news:keywords>\n",
      "    Tourism, Economic Sanctions, Defense Ministry, Coronavirus, Emerging Markets, BRICS, Science, Shinzo Abe, Donald John Trump, Hyun Jong Kim\n",
      "   </news:keywords>\n",
      "   <news:stock_tickers/>\n",
      "  </news:news>\n",
      "  <image:image>\n",
      "   <image:loc>\n",
      "    https://assets.bwbx.io/images/users/iqjWHBFdfxIU/ikPzSZdTWBxc/v0/1200x-1.jpg\n",
      "   </image:loc>\n",
      "   <image:license>\n",
      "    https://www.bloomberg.com/tos\n",
      "   </image:license>\n",
      "  </image:image>\n",
      " </url>\n",
      " <url>\n",
      "  <loc>\n",
      "   https://www.bloomberg.com/news/articles/2020-03-07/u-s-deaths-climb-cruise-lines-will-develop-tests-virus-update\n",
      "  </loc>\n",
      "  <news:news>\n",
      "   <news:publication>\n",
      "    <news:name>\n",
      "     Bloomberg\n",
      "    </news:name>\n",
      "    <news:language>\n",
      "     en\n",
      "    </news:language>\n",
      "   </news:publication>\n",
      "   <news:publication_date>\n",
      "    2020-03-08T21:18:51.714Z\n",
      "   </news:publication_date>\n",
      "   <news:title>\n",
      "    Italy’s Deaths Rise 57%; France Bars Large Events: Virus Update\n",
      "   </news:title>\n",
      "   <news:keywords>\n",
      "    Military, iPhone, Environment, Jobs, Economics, Monetary Policy, Interest Rates, Cities, Education, Public Health, Coronavirus, Central Bankers, Infrastructure, Culture, Airlines, Aerospace Industry, Megacity, Industrials, Emerging Markets, Small Business, Mobile Phones, BRICS, Science, Fixed Income, Consumer Discretionary, Michael Richard Pence, Tedros Adhanom Ghebreyesus, Paolo Gentiloni, Jerome Adams, Timothy Donald Cook, Marcelo Rebelo de Sousa\n",
      "   </news:keywords>\n",
      "   <news:stock_tickers>\n",
      "    NYSE:CCL, ETR:LHA, NYSE:TWTR, NASDAQ:AAPL\n",
      "   </news:stock_tickers>\n",
      "  </news:news>\n",
      "  <image:image>\n",
      "   <image:loc>\n",
      "    https://assets.bwbx.io/images/users/iqjWHBFdfxIU/ilyi0XL0AO2w/v0/1200x-1.jpg\n",
      "   </image:loc>\n",
      "   <image:license>\n",
      "    https://www.bloomberg.com/tos\n",
      "   </image:license>\n",
      "  </image:image>\n",
      " </url>\n",
      " <url>\n",
      "  <loc>\n",
      "   https://www.bloomberg.com/news/articles/2020-03-08/apple-s-cook-offers-work-from-home-this-week-to-most-staff\n",
      "  </loc>\n",
      "  <news:news>\n",
      "   <news:publication>\n",
      "    <news:name>\n",
      "     Bloomberg\n",
      "    </news:name>\n",
      "    <news:language>\n",
      "     en\n",
      "    </news:language>\n",
      "   </news:publication>\n",
      "   <news:publication_date>\n",
      "    2020-03-08T18:41:04.439Z\n",
      "   </news:publication_date>\n",
      "   <news:title>\n",
      "    Apple’s Cook Offers Work From Home This Week to Many Global Employees\n",
      "   </news:title>\n",
      "   <news:keywords>\n",
      "    iPad, Coronavirus, Emerging Markets, Mobile Phones, BRICS, Consumer Discretionary, Timothy Donald Cook\n",
      "   </news:keywords>\n",
      "   <news:stock_tickers>\n",
      "    NASDAQ:FB, NASDAQ:GOOGL, NASDAQ:AMZN, NASDAQ:AAPL\n",
      "   </news:stock_tickers>\n",
      "  </news:news>\n",
      "  <image:image>\n",
      "   <image:loc>\n",
      "    https://assets.bwbx.io/images/users/iqjWHBFdfxIU/iF8ds4vl1.tw/v0/1200x-1.jpg\n",
      "   </image:loc>\n",
      "   <image:license>\n",
      "    https://www.bloomberg.com/tos\n",
      "   </image:license>\n",
      "  </image:image>\n",
      " </url>\n",
      " <url>\n",
      "  <loc>\n",
      "   https://www.bloomberg.com/news/articles/2020-03-08/sunak-signals-massive-response-to-virus-crisis-in-u-k-budget\n",
      "  </loc>\n",
      "  <news:news>\n",
      "   <news:publication>\n",
      "    <news:name>\n",
      "     Bloomberg\n",
      "    </news:name>\n",
      "    <news:language>\n",
      "     en\n",
      "    </news:language>\n",
      "   </news:publication>\n",
      "   <news:publication_date>\n",
      "    2020-03-08T20:07:15.065Z\n",
      "   </news:publication_date>\n",
      "   <news:title>\n",
      "    Sunak Signals Huge Response to Virus Crisis in U.K. Budget\n",
      "   </news:title>\n",
      "   <news:keywords>\n",
      "    Conservative, Interest Rates, Infrastructure, Coronavirus, Tax Cuts, Monetary Policy, Fixed Income, Megacity, Software Company, Jamie Davies\n",
      "   </news:keywords>\n",
      "   <news:stock_tickers/>\n",
      "  </news:news>\n",
      "  <image:image>\n",
      "   <image:loc>\n",
      "    https://assets.bwbx.io/images/users/iqjWHBFdfxIU/iPXRGj7Ex5PU/v1/1200x-1.jpg\n",
      "   </image:loc>\n",
      "   <image:license>\n",
      "    https://www.bloomberg.com/tos\n",
      "   </image:license>\n",
      "  </image:image>\n",
      " </url>\n",
      "</urlset>\n"
     ]
    }
   ],
   "source": [
    "print(soup.prettify())"
   ]
  },
  {
   "cell_type": "code",
   "execution_count": 131,
   "metadata": {
    "scrolled": true,
    "slideshow": {
     "slide_type": "subslide"
    }
   },
   "outputs": [
    {
     "name": "stdout",
     "output_type": "stream",
     "text": [
      "Canceled Once, Now Boris Johnson’s Cursed Budget Is Hit by Coronavirus\n",
      "2020-03-09T05:01:00.000Z\n",
      "\n",
      "\n",
      "Poland Dares Europe to Act Over Purge of Judges\n",
      "2020-03-09T05:00:22.425Z\n",
      "\n",
      "\n",
      "The Impeachment Saga Is Over But Zelenskiy Can’t Rest in Ukraine\n",
      "2020-03-09T05:00:00.007Z\n",
      "\n",
      "\n",
      "Trump’s Aides Drafting Economic Measures to Combat Virus Fallout\n",
      "2020-03-09T03:52:35.113Z\n",
      "\n",
      "\n",
      "Americans Told to Avoid Cruises as Medical Team Boards Ship\n",
      "2020-03-09T05:34:04.232Z\n",
      "\n",
      "\n",
      "Saudi Prince Tests Grip on Power With Desert Raid, Oil Price War\n",
      "2020-03-09T04:19:00.760Z\n",
      "\n",
      "\n",
      "U.S. Shows China Patience on Purchases If Trade Gap Doesn’t Grow\n",
      "2020-03-09T04:04:12.186Z\n",
      "\n",
      "\n",
      "Pimco’s Fels Says Worst Is to Come With Recession Forecast\n",
      "2020-03-09T01:30:05.604Z\n",
      "\n",
      "\n",
      "Two GOP Lawmakers to Quarantine After Contact With Infected Case\n",
      "2020-03-09T02:46:27.634Z\n",
      "\n",
      "\n",
      "Mexicans Take to Streets in Historic March Against Femicide\n",
      "2020-03-08T22:43:26.076Z\n",
      "\n",
      "\n",
      "Biden Says Would Cancel Rallies If Advised: Campaign Update\n",
      "2020-03-09T00:15:53.598Z\n",
      "\n",
      "\n",
      "CDC Virus Confirmation Taking Longer Than Expected, N.J. Says\n",
      "2020-03-08T20:00:15.943Z\n",
      "\n",
      "\n",
      "Australia May Spend Up to $6.6 Billion to Ease Virus Impact\n",
      "2020-03-08T23:15:44.418Z\n",
      "\n",
      "\n",
      "Johnson Announces $6.5 Billion Boost for U.K. Broadband Service\n",
      "2020-03-08T22:30:00.001Z\n",
      "\n",
      "\n",
      "Italy Braces for Market Verdict on Conte Virus Containment Plan\n",
      "2020-03-08T20:52:00.535Z\n",
      "\n",
      "\n",
      "U.S. Moves From Containment to Preparing for Daily Disruptions\n",
      "2020-03-08T19:48:35.176Z\n",
      "\n",
      "\n",
      "There Is a ‘Tipping Point’ Before Coronavirus Kills\n",
      "2020-03-08T19:14:55.490Z\n",
      "\n",
      "\n",
      "Brussels Edition: Caught Between Crises\n",
      "2020-03-09T05:54:28.131Z\n",
      "\n",
      "\n",
      "Germany Boosts Investments to Bolster Economy Amid Virus Fallout\n",
      "2020-03-09T03:17:37.224Z\n",
      "\n",
      "\n",
      "Fired Manager at Biggest Africa Fund Says He Was Scapegoated\n",
      "2020-03-09T04:00:00.002Z\n",
      "\n",
      "\n",
      "North Korea Distracts From Virus Threat With New Missile Launch\n",
      "2020-03-09T03:14:15.241Z\n",
      "\n",
      "\n",
      "Italy’s Deaths Rise 57%; France Bars Large Events: Virus Update\n",
      "2020-03-08T21:18:51.714Z\n",
      "\n",
      "\n",
      "Apple’s Cook Offers Work From Home This Week to Many Global Employees\n",
      "2020-03-08T18:41:04.439Z\n",
      "\n",
      "\n",
      "Sunak Signals Huge Response to Virus Crisis in U.K. Budget\n",
      "2020-03-08T20:07:15.065Z\n",
      "\n",
      "\n"
     ]
    }
   ],
   "source": [
    "# Find political news headlines\n",
    "for news in soup.find_all({'news'}):\n",
    "    print(news.title.text)\n",
    "    print(news.publication_date.text)\n",
    "    #print(news.keywords.text)\n",
    "    print('\\n')"
   ]
  },
  {
   "cell_type": "markdown",
   "metadata": {
    "slideshow": {
     "slide_type": "slide"
    }
   },
   "source": [
    "<a id='sec7'></a>\n",
    "# Web crawl\n",
    "\n",
    "Web crawling is almost like webscraping, but instead you crawl a specific website (and often its subsites) and extract meta information. It can be seen as simple, recursive scraping. This can be used for web indexing (in order to build a web search engine)."
   ]
  },
  {
   "cell_type": "markdown",
   "metadata": {
    "slideshow": {
     "slide_type": "subslide"
    }
   },
   "source": [
    "## Web crawl Twitter account\n",
    "**Authors:** Kunal Desai & Alexander Fred Ojala"
   ]
  },
  {
   "cell_type": "code",
   "execution_count": 133,
   "metadata": {
    "slideshow": {
     "slide_type": "subslide"
    }
   },
   "outputs": [],
   "source": [
    "import bs4\n",
    "from bs4 import BeautifulSoup\n",
    "import requests"
   ]
  },
  {
   "cell_type": "code",
   "execution_count": 134,
   "metadata": {
    "slideshow": {
     "slide_type": "subslide"
    }
   },
   "outputs": [],
   "source": [
    "# Helper function to maintain the urls and the number of times they appear\n",
    "\n",
    "url_dict = dict()\n",
    "\n",
    "def add_to_dict(url_d, key):\n",
    "    if key in url_d:\n",
    "        url_d[key] = url_d[key] + 1\n",
    "    else:\n",
    "        url_d[key] = 1"
   ]
  },
  {
   "cell_type": "code",
   "execution_count": 135,
   "metadata": {
    "slideshow": {
     "slide_type": "subslide"
    }
   },
   "outputs": [],
   "source": [
    "# Recursive function which extracts links from the given url upto a given 'depth'.\n",
    "\n",
    "def get_urls(url, depth):\n",
    "    if depth == 0:\n",
    "        return\n",
    "    r = requests.get(url)\n",
    "    soup = BeautifulSoup(r.text, 'html.parser')\n",
    "    for link in soup.find_all('a'):\n",
    "        if link.has_attr('href') and \"https://\" in link['href']:\n",
    "#             print(link['href'])\n",
    "            add_to_dict(url_dict, link['href'])\n",
    "            get_urls(link['href'], depth - 1)"
   ]
  },
  {
   "cell_type": "code",
   "execution_count": 136,
   "metadata": {
    "slideshow": {
     "slide_type": "subslide"
    }
   },
   "outputs": [],
   "source": [
    "# Iterative function which extracts links from the given url upto a given 'depth'.\n",
    "\n",
    "def get_urls_iterative(url, depth):\n",
    "    urls = [url]\n",
    "    for url in urls:\n",
    "        r = requests.get(url)\n",
    "        soup = BeautifulSoup(r.text, 'html.parser')\n",
    "        for link in soup.find_all('a'):\n",
    "            if link.has_attr('href') and \"https://\" in link['href']:\n",
    "                add_to_dict(url_dict, link['href'])\n",
    "                urls.append(link['href'])\n",
    "        if len(urls) > depth:\n",
    "            break"
   ]
  },
  {
   "cell_type": "code",
   "execution_count": 137,
   "metadata": {
    "slideshow": {
     "slide_type": "subslide"
    }
   },
   "outputs": [
    {
     "name": "stdout",
     "output_type": "stream",
     "text": [
      "https://twitter.com/signup  ----   28\n",
      "https://pbs.twimg.com/profile_images/544542867595599872/eHuovPqP_400x400.jpeg  ----   9\n",
      "https://pbs.twimg.com/profile_images/544542867595599872/eHuovPqP.jpeg  ----   9\n",
      "https://t.co/BJvDIMaMlV  ----   9\n",
      "https://video.golfdigest.com/watch/every-hole-at-cypress-point-golf-club-in-pebble-beach-ca  ----   1\n",
      "https://www.golfdigest.com/go/failsafe  ----   22\n",
      "https://reader.golfdigest.com/  ----   22\n",
      "https://w1.buysub.com/servlet/CSGateway?cds_mag_code=GLF  ----   22\n",
      "https://www.golfdigest.com/go/giftfailsafe  ----   22\n",
      "https://www.golfdigest.com/go/internationalgiftfailsafe  ----   22\n",
      "https://www.golfdigest.com/story/visitor-agreement  ----   22\n",
      "https://www.golfdigest.com/story/privacy-and-cookies-notice  ----   22\n",
      "https://t.co/4ttZ8SLLYP  ----   2\n",
      "https://www.golfdigest.com/schools  ----   1\n",
      "https://www.golfdigest.com/story/golf-digest-live?incid=topnav  ----   1\n",
      "https://www.golfdigest.com/story/purchase-pros-on-demand?incid=navigation  ----   1\n",
      "https://www.golfdigest.com/story/schools-frequently-asked-questions  ----   1\n",
      "https://www.golfdigest.com/story/my-library  ----   1\n",
      "https://www.golfdigest.com/story/purchase-all-access?mbid=marketingpage  ----   1\n",
      "https://www.golfdigest.com/story/purchase-all-access?intcid=text  ----   1\n",
      "https://www.golfdigest.com/story/purchase-all-access?intcid=marketingpageside  ----   1\n",
      "https://www.facebook.com/sharer/sharer.php?u=&t=  ----   57\n",
      "https://www.pinterest.com/pin/create/button/?url=&media=https%3A%2F%2Fmedia.golfdigest.com%2Fphotos%2F5abb92d903d64c36aef9cd41%2F1%3A1%2Fw_680%2Cc_limit%2FGSchoolsbackground.png&description=  ----   1\n",
      "https://www.golfdigest.com/story/purchase-all-access?intcid=inlinemarketingpage  ----   4\n",
      "https://www.pinterest.com/pin/create/button/?url=&media=https%3A%2F%2Fmedia.golfdigest.com%2Fphotos%2F5abb93cd55fa7533c1325075%2F1%3A1%2Fw_680%2Cc_limit%2FPOD-AAbackground.png&description=  ----   1\n",
      "https://www.pinterest.com/pin/create/button/?url=&media=https%3A%2F%2Fmedia.golfdigest.com%2Fphotos%2F5abb9416c3002e3692958670%2F1%3A1%2Fw_680%2Cc_limit%2FGDL!_stackedbackground.png&description=  ----   1\n",
      "https://www.pinterest.com/pin/create/button/?url=&media=https%3A%2F%2Fmedia.golfdigest.com%2Fphotos%2F5abbf05f640a4d31e3d15a93%2F1%3A1%2Fw_680%2Cc_limit%2FMagazine.png&description=  ----   1\n",
      "https://www.pinterest.com/pin/create/button/?url=&media=https%3A%2F%2Fmedia.golfdigest.com%2Fphotos%2F5ab3dc0abb2a4138858c4e3c%2F1%3A1%2Fw_680%2Cc_limit%2FButchHead.jpg&description=  ----   1\n",
      "https://www.pinterest.com/pin/create/button/?url=&media=https%3A%2F%2Fmedia.golfdigest.com%2Fphotos%2F5abbe411f5fbaa3e16e2cdff%2F1%3A1%2Fw_680%2Cc_limit%2FLeadbetter%2520(1).jpg&description=  ----   1\n",
      "https://www.pinterest.com/pin/create/button/?url=&media=https%3A%2F%2Fmedia.golfdigest.com%2Fphotos%2F5acfb8963287e12e8c2b40ea%2F1%3A1%2Fw_680%2Cc_limit%2FBreed%2520(2).jpg&description=  ----   1\n",
      "https://www.pinterest.com/pin/create/button/?url=&media=https%3A%2F%2Fmedia.golfdigest.com%2Fphotos%2F5cb0a7749480a06646ec8046%2F1%3A1%2Fw_680%2Cc_limit%2FHank_Haney.jpg&description=  ----   1\n",
      "https://www.pinterest.com/pin/create/button/?url=&media=https%3A%2F%2Fmedia.golfdigest.com%2Fphotos%2F5cb0a7759480a0dd30ec8049%2F1%3A1%2Fw_680%2Cc_limit%2FJim_McLean.jpg&description=  ----   1\n",
      "https://www.facebook.com/sharer/sharer.php?u=&t=Sean%20Foley  ----   1\n",
      "https://www.pinterest.com/pin/create/button/?url=&media=https%3A%2F%2Fmedia.golfdigest.com%2Fphotos%2F5cb0a7798ddf295d63db8fa7%2F1%3A1%2Fw_680%2Cc_limit%2FSean_Foley.jpg&description=Sean%20Foley  ----   1\n",
      "https://www.facebook.com/sharer/sharer.php?u=&t=Japan%20Airlines%20Championship%20-%20Round%20One  ----   1\n",
      "https://www.pinterest.com/pin/create/button/?url=&media=https%3A%2F%2Fmedia.golfdigest.com%2Fphotos%2F5abac44b03d64c36aef9cd3d%2F1%3A1%2Fw_680%2Cc_limit%2FWatson.jpg&description=Japan%20Airlines%20Championship%20-%20Round%20One  ----   1\n",
      "https://www.pinterest.com/pin/create/button/?url=&media=https%3A%2F%2Fmedia.golfdigest.com%2Fphotos%2F5b0edb9f7fed9a5768aea298%2F1%3A1%2Fw_680%2Cc_limit%2FCameron.jpg&description=  ----   1\n",
      "https://www.pinterest.com/pin/create/button/?url=&media=https%3A%2F%2Fmedia.golfdigest.com%2Fphotos%2F5aba474f55fa7533c132504f%2F1%3A1%2Fw_680%2Cc_limit%2FHarmon_Claude.jpg&description=  ----   1\n",
      "https://www.facebook.com/sharer/sharer.php?u=&t=Stan%20Utley  ----   1\n",
      "https://www.pinterest.com/pin/create/button/?url=&media=https%3A%2F%2Fmedia.golfdigest.com%2Fphotos%2F5ac3e689b73c79069b539e41%2F1%3A1%2Fw_680%2Cc_limit%2FUtley.jpg&description=Stan%20Utley  ----   1\n",
      "https://www.pinterest.com/pin/create/button/?url=&media=https%3A%2F%2Fmedia.golfdigest.com%2Fphotos%2F5ac3e63380cf0206d08defee%2F1%3A1%2Fw_680%2Cc_limit%2FMalaska.jpg&description=  ----   1\n",
      "https://www.pinterest.com/pin/create/button/?url=&media=https%3A%2F%2Fmedia.golfdigest.com%2Fphotos%2F5aba474ff5fbaa3e16e2cdd3%2F1%3A1%2Fw_680%2Cc_limit%2FJacobs.jpg&description=  ----   1\n",
      "https://www.pinterest.com/pin/create/button/?url=&media=https%3A%2F%2Fmedia.golfdigest.com%2Fphotos%2F5aba474bc3002e369295865a%2F1%3A1%2Fw_680%2Cc_limit%2FBirnbaum.jpg&description=  ----   1\n",
      "https://www.pinterest.com/pin/create/button/?url=&media=https%3A%2F%2Fmedia.golfdigest.com%2Fphotos%2F5cb0a770842df66673c5d273%2F1%3A1%2Fw_680%2Cc_limit%2FBlackburn.jpg&description=  ----   1\n",
      "https://www.pinterest.com/pin/create/button/?url=&media=https%3A%2F%2Fmedia.golfdigest.com%2Fphotos%2F5aba474ce6547c354c26c081%2F1%3A1%2Fw_680%2Cc_limit%2FBonebreak.jpg&description=  ----   1\n",
      "https://www.pinterest.com/pin/create/button/?url=&media=https%3A%2F%2Fmedia.golfdigest.com%2Fphotos%2F5cb0a7768ddf294424db8fa5%2F1%3A1%2Fw_680%2Cc_limit%2FJonathan_Buchanan.jpg&description=  ----   1\n",
      "https://www.pinterest.com/pin/create/button/?url=&media=https%3A%2F%2Fmedia.golfdigest.com%2Fphotos%2F5cb0a7749480a0469aec8047%2F1%3A1%2Fw_680%2Cc_limit%2FCam_Champ.jpg&description=  ----   1\n",
      "https://www.pinterest.com/pin/create/button/?url=&media=https%3A%2F%2Fmedia.golfdigest.com%2Fphotos%2F5aba474c2e35544017595309%2F1%3A1%2Fw_680%2Cc_limit%2FClearwater.jpg&description=  ----   1\n",
      "https://www.pinterest.com/pin/create/button/?url=&media=https%3A%2F%2Fmedia.golfdigest.com%2Fphotos%2F5aba474d640a4d31e3d15a65%2F1%3A1%2Fw_680%2Cc_limit%2Fcompitello.jpg&description=  ----   1\n",
      "https://www.pinterest.com/pin/create/button/?url=&media=https%3A%2F%2Fmedia.golfdigest.com%2Fphotos%2F5cc0ccf5616a608b2333123c%2F1%3A1%2Fw_680%2Cc_limit%2FLDonald.jpg&description=  ----   1\n",
      "https://www.facebook.com/sharer/sharer.php?u=&t=Deb%20Doniger  ----   1\n",
      "https://www.pinterest.com/pin/create/button/?url=&media=https%3A%2F%2Fmedia.golfdigest.com%2Fphotos%2F5abbe40a2e3554401759531d%2F1%3A1%2Fw_680%2Cc_limit%2FDebD%2520(1).jpg&description=Deb%20Doniger  ----   1\n",
      "https://www.pinterest.com/pin/create/button/?url=&media=https%3A%2F%2Fmedia.golfdigest.com%2Fphotos%2F5cb0a77655c458146b718a6b%2F1%3A1%2Fw_680%2Cc_limit%2FJen_Fleischer.jpg&description=  ----   1\n",
      "https://www.pinterest.com/pin/create/button/?url=&media=https%3A%2F%2Fmedia.golfdigest.com%2Fphotos%2F5aba474d06d024298f45384a%2F1%3A1%2Fw_680%2Cc_limit%2FFulton.jpg&description=  ----   1\n",
      "https://www.pinterest.com/pin/create/button/?url=&media=https%3A%2F%2Fmedia.golfdigest.com%2Fphotos%2F5aba474f640a4d31e3d15a67%2F1%3A1%2Fw_680%2Cc_limit%2FGuerra.jpg&description=  ----   1\n",
      "https://www.pinterest.com/pin/create/button/?url=&media=https%3A%2F%2Fmedia.golfdigest.com%2Fphotos%2F5aba474e55fa7533c132504d%2F1%3A1%2Fw_680%2Cc_limit%2FGuss.jpg&description=  ----   1\n",
      "https://www.pinterest.com/pin/create/button/?url=&media=https%3A%2F%2Fmedia.golfdigest.com%2Fphotos%2F5cb0a7799480a06aefec804d%2F1%3A1%2Fw_680%2Cc_limit%2FRon_Kaspriski.jpg&description=  ----   1\n",
      "https://www.pinterest.com/pin/create/button/?url=&media=https%3A%2F%2Fmedia.golfdigest.com%2Fphotos%2F5aba474ff5fbaa3e16e2cdd2%2F1%3A1%2Fw_680%2Cc_limit%2FKolloff.jpg&description=  ----   1\n",
      "https://www.pinterest.com/pin/create/button/?url=&media=https%3A%2F%2Fmedia.golfdigest.com%2Fphotos%2F5aba474f06d024298f45384c%2F1%3A1%2Fw_680%2Cc_limit%2FLundberg.jpg&description=  ----   1\n",
      "https://www.facebook.com/sharer/sharer.php?u=&t=Sony%20Open%20In%20Hawaii%20-%20Previews  ----   1\n",
      "https://www.pinterest.com/pin/create/button/?url=&media=https%3A%2F%2Fmedia.golfdigest.com%2Fphotos%2F5cb0a775842df61b1dc5d277%2F1%3A1%2Fw_680%2Cc_limit%2FHideki_Matsuyama.jpg&description=Sony%20Open%20In%20Hawaii%20-%20Previews  ----   1\n",
      "https://www.pinterest.com/pin/create/button/?url=&media=https%3A%2F%2Fmedia.golfdigest.com%2Fphotos%2F5cb0a777ec44c0048dcfb5e0%2F1%3A1%2Fw_680%2Cc_limit%2Fmanzella.jpg&description=  ----   1\n",
      "https://www.pinterest.com/pin/create/button/?url=&media=https%3A%2F%2Fmedia.golfdigest.com%2Fphotos%2F5aba4750c3002e369295865c%2F1%3A1%2Fw_680%2Cc_limit%2FMattson.jpg&description=  ----   1\n",
      "https://www.pinterest.com/pin/create/button/?url=&media=https%3A%2F%2Fmedia.golfdigest.com%2Fphotos%2F5cb0a779ec44c08d08cfb5e4%2F1%3A1%2Fw_680%2Cc_limit%2FChris_Mayson%2520copy.png&description=  ----   1\n",
      "https://www.pinterest.com/pin/create/button/?url=&media=https%3A%2F%2Fmedia.golfdigest.com%2Fphotos%2F5cb0a774842df66ba6c5d275%2F1%3A1%2Fw_680%2Cc_limit%2FCameron_McCormick.jpg&description=  ----   1\n",
      "https://www.pinterest.com/pin/create/button/?url=&media=https%3A%2F%2Fmedia.golfdigest.com%2Fphotos%2F5aba475055fa7533c1325051%2F1%3A1%2Fw_680%2Cc_limit%2FMorris.jpg&description=  ----   1\n",
      "https://www.facebook.com/sharer/sharer.php?u=&t=Ashley%20Moss  ----   1\n",
      "https://www.pinterest.com/pin/create/button/?url=&media=https%3A%2F%2Fmedia.golfdigest.com%2Fphotos%2F5ac3e64522821363c96a1a95%2F1%3A1%2Fw_680%2Cc_limit%2FMoss.jpg&description=Ashley%20Moss  ----   1\n",
      "https://www.pinterest.com/pin/create/button/?url=&media=https%3A%2F%2Fmedia.golfdigest.com%2Fphotos%2F5cb0a771ec44c062bacfb5dc%2F1%3A1%2Fw_680%2Cc_limit%2FBelen_Mozo.jpg&description=  ----   1\n",
      "https://www.pinterest.com/pin/create/button/?url=&media=https%3A%2F%2Fmedia.golfdigest.com%2Fphotos%2F5aba4750e6547c354c26c083%2F1%3A1%2Fw_680%2Cc_limit%2FOhiggins.jpg&description=  ----   1\n",
      "https://www.pinterest.com/pin/create/button/?url=&media=https%3A%2F%2Fmedia.golfdigest.com%2Fphotos%2F5aba475003d64c36aef9cd31%2F1%3A1%2Fw_680%2Cc_limit%2FPimentel.jpg&description=  ----   1\n",
      "https://www.facebook.com/sharer/sharer.php?u=&t=Genesis%20Open%20-%20Round%20One  ----   1\n",
      "https://www.pinterest.com/pin/create/button/?url=&media=https%3A%2F%2Fmedia.golfdigest.com%2Fphotos%2F5cb0a776ec44c0a8d5cfb5de%2F1%3A1%2Fw_680%2Cc_limit%2FJon_Rahm.jpg&description=Genesis%20Open%20-%20Round%20One  ----   1\n",
      "https://www.pinterest.com/pin/create/button/?url=&media=https%3A%2F%2Fmedia.golfdigest.com%2Fphotos%2F5aba4751640a4d31e3d15a69%2F1%3A1%2Fw_680%2Cc_limit%2FRitter.jpg&description=  ----   1\n",
      "https://www.pinterest.com/pin/create/button/?url=&media=https%3A%2F%2Fmedia.golfdigest.com%2Fphotos%2F5abbe41bf5fbaa3e16e2ce01%2F1%3A1%2Fw_680%2Cc_limit%2FWillRobbins%2520(1).jpg&description=  ----   1\n",
      "https://www.pinterest.com/pin/create/button/?url=&media=https%3A%2F%2Fmedia.golfdigest.com%2Fphotos%2F5aba4751f5fbaa3e16e2cdd5%2F1%3A1%2Fw_680%2Cc_limit%2FRose.jpg&description=  ----   1\n",
      "https://www.pinterest.com/pin/create/button/?url=&media=https%3A%2F%2Fmedia.golfdigest.com%2Fphotos%2F5aba4751f5fbaa3e16e2cdd7%2F1%3A1%2Fw_680%2Cc_limit%2FSchorsten.jpg&description=  ----   1\n",
      "https://www.pinterest.com/pin/create/button/?url=&media=https%3A%2F%2Fmedia.golfdigest.com%2Fphotos%2F5aba4751f5fbaa3e16e2cdd9%2F1%3A1%2Fw_680%2Cc_limit%2FSedan.jpg&description=  ----   1\n",
      "https://www.pinterest.com/pin/create/button/?url=&media=https%3A%2F%2Fmedia.golfdigest.com%2Fphotos%2F5aba4751f5fbaa3e16e2cddb%2F1%3A1%2Fw_680%2Cc_limit%2FSmeltz.jpg&description=  ----   1\n",
      "https://www.pinterest.com/pin/create/button/?url=&media=https%3A%2F%2Fmedia.golfdigest.com%2Fphotos%2F5aba4752c3002e369295865e%2F1%3A1%2Fw_680%2Cc_limit%2Fsummerhays.jpg&description=  ----   1\n",
      "https://www.facebook.com/sharer/sharer.php?u=&t=Shaun%20Webb  ----   1\n",
      "https://www.pinterest.com/pin/create/button/?url=&media=https%3A%2F%2Fmedia.golfdigest.com%2Fphotos%2F5ac3e64c168a2e0b80e51b0e%2F1%3A1%2Fw_680%2Cc_limit%2FWebb.jpg&description=Shaun%20Webb  ----   1\n",
      "https://www.pinterest.com/pin/create/button/?url=&media=https%3A%2F%2Fmedia.golfdigest.com%2Fphotos%2F5cb0a778ec44c001c9cfb5e2%2F1%3A1%2Fw_680%2Cc_limit%2FPaul_Tesori.jpg&description=  ----   1\n",
      "https://www.pinterest.com/pin/create/button/?url=&media=https%3A%2F%2Fmedia.golfdigest.com%2Fphotos%2F5cb0a777c58ff36b34599eeb%2F1%3A1%2Fw_680%2Cc_limit%2FJustin_Thomas.jpg&description=  ----   1\n",
      "https://www.pinterest.com/pin/create/button/?url=&media=https%3A%2F%2Fmedia.golfdigest.com%2Fphotos%2F5aba475203d64c36aef9cd33%2F1%3A1%2Fw_680%2Cc_limit%2FZander.jpg&description=  ----   1\n",
      "https://t.co/dqTpzmxgrv  ----   2\n",
      "https://dev.twitter.com/web/embedded-tweets  ----   18\n",
      "https://dev.twitter.com/overview/terms/agreement  ----   9\n",
      "https://dev.twitter.com/overview/terms/policy  ----   9\n",
      "https://t.co/3cWf6aAyrA  ----   1\n",
      "https://www.golfdigest.com/story/tyrrell-hatton-his-winners-bag-from-the-arnold-palmer-invitational  ----   2\n",
      "https://www.golfdigest.com/story/tyrrell-hatton-recovered-from-wrist-surgery-in-the-most-chill-way-possible  ----   2\n",
      "https://www.pinterest.com/pin/create/button/?url=&media=https%3A%2F%2Fmedia.golfdigest.com%2Fphotos%2F5e6559f34fcc5b00080cca35%2F1%3A1%2Fw_680%2Cc_limit%2Ftyrrell-hatton-2020-arnold-palmer-invitational-sunday-frustrated.jpg&description=  ----   1\n",
      "https://www.pinterest.com/pin/create/button/?url=&media=https%3A%2F%2Fmedia.golfdigest.com%2Fphotos%2F5e659d5eda875000091f3517%2F1%3A1%2Fw_680%2Cc_limit%2Frory-mcilroy-bay-hill-sunday-2020-wince.jpg&description=  ----   1\n",
      "https://t.co/PCtMCMSLtl  ----   1\n",
      "https://www.facebook.com/sharer/sharer.php?u=https%3A%2F%2Fwww.golfdigest.com%2Fstory%2F2019-2020-pga-tour-fedex-cup-points-list-standings&t=2019-'20%20PGA%20Tour%20FedEx%20Cup%20points%20list%20standings  ----   1\n",
      "https://twitter.com/share?text=2019-'20%20PGA%20Tour%20FedEx%20Cup%20points%20list%20standings&via=GolfDigest&url=https%3A%2F%2Fwww.golfdigest.com%2Fstory%2F2019-2020-pga-tour-fedex-cup-points-list-standings  ----   1\n",
      "https://www.linkedin.com/shareArticle?mini=true&url=https%3A%2F%2Fwww.golfdigest.com%2Fstory%2F2019-2020-pga-tour-fedex-cup-points-list-standings&title=2019-'20%20PGA%20Tour%20FedEx%20Cup%20points%20list%20standings&summary=Who's%20leading%20the%20FedEx%20Cup%20points%20list%20standings%20after%20this%20week's%20PGA%20Tour%20event.%20Here%20are%20the%20up-to-date%20standings&source=GolfDigest  ----   1\n",
      "https://www.golfdigest.com/story/2019-20-pga-tour-season-frequently-asked-questions  ----   1\n",
      "https://www.golfdigest.com/story/the-idiots-guide-to-2020-golf  ----   1\n",
      "https://www.golfdigest.com/story/a-ranking-of-who-needs-a-major-the-most-in-2020  ----   1\n",
      "https://t.co/C57zPZmIZv  ----   2\n",
      "https://www.facebook.com/sharer/sharer.php?u=https%3A%2F%2Fwww.golfdigest.com%2Fstory%2Fernie-els-wins-for-the-first-time-on-the-pga-tour-champions&t=Ernie%20Els%20wins%20for%20the%20first%20time%20on%20the%20PGA%20Tour%20Champions  ----   1\n",
      "https://twitter.com/share?text=Ernie%20Els%20wins%20for%20the%20first%20time%20on%20the%20PGA%20Tour%20Champions&via=GolfDigest&url=https%3A%2F%2Fwww.golfdigest.com%2Fstory%2Fernie-els-wins-for-the-first-time-on-the-pga-tour-champions  ----   1\n",
      "https://www.linkedin.com/shareArticle?mini=true&url=https%3A%2F%2Fwww.golfdigest.com%2Fstory%2Fernie-els-wins-for-the-first-time-on-the-pga-tour-champions&title=Ernie%20Els%20wins%20for%20the%20first%20time%20on%20the%20PGA%20Tour%20Champions&summary=Ernie%20Els%2C%20making%20his%20third%20start%20on%20the%20PGA%20Tour%20Champions%2C%20won%20the%20Hoag%20Classic%20in%20Newport%20Beach%2C%20Calif.%2C%20his%20first%20senior%20win&source=GolfDigest  ----   1\n",
      "https://t.co/JQmRPHH0Kp  ----   2\n",
      "https://t.co/IdYRWFtN9b  ----   1\n",
      "https://www.facebook.com/sharer/sharer.php?u=https%3A%2F%2Fwww.golfdigest.com%2Fstory%2Fwatch-max-homa-nearly-take-out-a-tv-tower-cameraman-with-this-errant-flop-shot&t=Watch%20Max%20Homa%20nearly%20take%20out%20a%20TV%20tower%20cameraman%20with%20this%20shanked%20flop%20shot  ----   1\n",
      "https://twitter.com/share?text=Watch%20Max%20Homa%20nearly%20take%20out%20a%20TV%20tower%20cameraman%20with%20this%20shanked%20flop%20shot&via=GolfDigest&url=https%3A%2F%2Fwww.golfdigest.com%2Fstory%2Fwatch-max-homa-nearly-take-out-a-tv-tower-cameraman-with-this-errant-flop-shot  ----   1\n",
      "https://www.linkedin.com/shareArticle?mini=true&url=https%3A%2F%2Fwww.golfdigest.com%2Fstory%2Fwatch-max-homa-nearly-take-out-a-tv-tower-cameraman-with-this-errant-flop-shot&title=Watch%20Max%20Homa%20nearly%20take%20out%20a%20TV%20tower%20cameraman%20with%20this%20shanked%20flop%20shot&summary=Even%20on%20replay%2C%20this%20shot%20has%20us%20ducking%20for%20cover.%20But%20there%20was%20a%20happy%20ending%20to%20the%20story%2C%20according%20to%20Homa&source=GolfDigest  ----   1\n",
      "https://twitter.com/Skratch/status/1236734666549452802  ----   1\n",
      "https://www.golfchannel.com/news/max-homa-after-shank-tv-tower-i-challenge-anybody-give-me-heat  ----   1\n",
      "https://t.co/MmjzCvo7an  ----   1\n",
      "https://www.facebook.com/sharer/sharer.php?u=https%3A%2F%2Fwww.golfdigest.com%2Fstory%2Fhere-is-the-prize-money-payout-for-each-golfer-at-the-2020-arnold-palmer-invitational&t=Here's%20the%20prize%20money%20payout%20for%20each%20golfer%20at%20the%202020%20Arnold%20Palmer%20Invitational  ----   1\n",
      "https://twitter.com/share?text=Here's%20the%20prize%20money%20payout%20for%20each%20golfer%20at%20the%202020%20Arnold%20Palmer%20Invitational&via=GolfDigest&url=https%3A%2F%2Fwww.golfdigest.com%2Fstory%2Fhere-is-the-prize-money-payout-for-each-golfer-at-the-2020-arnold-palmer-invitational  ----   1\n",
      "https://www.linkedin.com/shareArticle?mini=true&url=https%3A%2F%2Fwww.golfdigest.com%2Fstory%2Fhere-is-the-prize-money-payout-for-each-golfer-at-the-2020-arnold-palmer-invitational&title=Here's%20the%20prize%20money%20payout%20for%20each%20golfer%20at%20the%202020%20Arnold%20Palmer%20Invitational&summary=The%20overall%20purse%20at%20Bay%20Hill%20in%20Orlando%20is%20%249.3%20million%20with%20the%20winner%20taking%20home%20%241.674%20million%20for%20his%20victoryThe%20overall%20purse%20at%20Bay%20Hill%20in%20Orlando%20was%20%249.3%20million%20with%20the%20winner%2C%20Tyrrell%20Hatton%2C%20taking%20home%20%241.674%20million%20for%20his%20victory&source=GolfDigest  ----   1\n",
      "https://www.golfdigest.com/story/here-is-the-prize-money-payout-for-each-golfer-at-the-2020-honda-classic  ----   1\n",
      "https://www.golfdigest.com/story/tommy-fleetwood-has-his-pga-tour-cut-streak-snapped-and-youll-be-surprised-to-learn-the-new-active-leader  ----   1\n",
      "https://www.golfdigest.com/story/watch-rory-mcilroy-badly-chunk-back-to-back-shots-from-the-rough-at-bay-hill  ----   1\n",
      "https://t.co/5rWkhE7Ayy  ----   2\n",
      "https://www.facebook.com/sharer/sharer.php?u=https%3A%2F%2Fwww.golfdigest.com%2Fstory%2Ftyrrell-hatton-his-winners-bag-from-the-arnold-palmer-invitational&t=Tyrrell%20Hatton%3A%20His%20winner's%20bag%20from%20the%20Arnold%20Palmer%20Invitational  ----   1\n",
      "https://twitter.com/share?text=Tyrrell%20Hatton%3A%20His%20winner's%20bag%20from%20the%20Arnold%20Palmer%20Invitational&via=GolfDigest&url=https%3A%2F%2Fwww.golfdigest.com%2Fstory%2Ftyrrell-hatton-his-winners-bag-from-the-arnold-palmer-invitational  ----   1\n",
      "https://www.linkedin.com/shareArticle?mini=true&url=https%3A%2F%2Fwww.golfdigest.com%2Fstory%2Ftyrrell-hatton-his-winners-bag-from-the-arnold-palmer-invitational&title=Tyrrell%20Hatton%3A%20His%20winner's%20bag%20from%20the%20Arnold%20Palmer%20Invitational&summary=Tyrrell%20Hatton%20used%20strong%20iron%20play%20down%20the%20stretch%20to%20win%20the%20Arnold%20Palmer%20Invitational%20at%20Bay%20Hill.&source=GolfDigest  ----   1\n",
      "https://www.golfdigest.com/story/tyrrell-hatton-buys-putter-at-golf-galaxy-promptly-matches-his-low-round-of-the-season  ----   1\n",
      "https://golf-galaxy.selw.net/gnRN5  ----   2\n",
      "https://golf-galaxy.selw.net/5NNW1  ----   1\n",
      "https://golf-galaxy.selw.net/ANNda  ----   1\n",
      "https://golf-galaxy.selw.net/1NNXz  ----   1\n",
      "https://golf-galaxy.selw.net/JNN9v  ----   1\n",
      "https://golf-galaxy.selw.net/0NNgN  ----   1\n",
      "https://ping.com/en-us/clubs/putters/ping-vault  ----   1\n",
      "https://t.co/4BFks7z3Zi  ----   2\n",
      "https://t.co/iqIasOEt1H  ----   2\n",
      "https://www.facebook.com/sharer/sharer.php?u=https%3A%2F%2Fwww.golfdigest.com%2Fstory%2Fjohn-merchant-first-african-american-usga-executive-committee-member-dies-at-87&t=John%20Merchant%2C%20African-American%20golf%20pioneer%2C%20dies%20at%2087  ----   1\n",
      "https://twitter.com/share?text=John%20Merchant%2C%20African-American%20golf%20pioneer%2C%20dies%20at%2087&via=GolfDigest&url=https%3A%2F%2Fwww.golfdigest.com%2Fstory%2Fjohn-merchant-first-african-american-usga-executive-committee-member-dies-at-87  ----   1\n",
      "https://www.linkedin.com/shareArticle?mini=true&url=https%3A%2F%2Fwww.golfdigest.com%2Fstory%2Fjohn-merchant-first-african-american-usga-executive-committee-member-dies-at-87&title=John%20Merchant%2C%20African-American%20golf%20pioneer%2C%20dies%20at%2087&summary=The%20Connecticut%20lawyer%20became%20the%20first%20black%20USGA%20Executive%20Committee%20member%20in%201992%2C%20and%20worked%20in%20numerous%20ways%20make%20the%20game%20more%20diverse&source=GolfDigest  ----   1\n",
      "https://t.co/qD5BtYlMGA  ----   2\n",
      "https://t.co/cKFtvkfLqo  ----   1\n",
      "https://www.facebook.com/sharer/sharer.php?u=https%3A%2F%2Fwww.golfdigest.com%2Fstory%2Fa-frustrating-week-at-bay-hill-ends-with-brooks-koepka-less-worried-than-others-about-his-game&t=A%20frustrating%20week%20at%20Bay%20Hill%20ends%20with%20Brooks%20Koepka%20less%20worried%20than%20others%20about%20his%20game  ----   1\n",
      "https://twitter.com/share?text=A%20frustrating%20week%20at%20Bay%20Hill%20ends%20with%20Brooks%20Koepka%20less%20worried%20than%20others%20about%20his%20game&via=GolfDigest&url=https%3A%2F%2Fwww.golfdigest.com%2Fstory%2Fa-frustrating-week-at-bay-hill-ends-with-brooks-koepka-less-worried-than-others-about-his-game  ----   1\n",
      "https://www.linkedin.com/shareArticle?mini=true&url=https%3A%2F%2Fwww.golfdigest.com%2Fstory%2Fa-frustrating-week-at-bay-hill-ends-with-brooks-koepka-less-worried-than-others-about-his-game&title=A%20frustrating%20week%20at%20Bay%20Hill%20ends%20with%20Brooks%20Koepka%20less%20worried%20than%20others%20about%20his%20game&summary=A%20Sunday%2071%2C%20his%20first%20sub-par%20round%20of%20the%20week%20at%20the%20Arnold%20Palmer%20Invitational%2C%20gave%20Brooks%20Koepka%20a%20boost%20with%20the%20Players%20and%20the%20Masters%20on%20the%20horizon&source=GolfDigest  ----   1\n",
      "https://www.golfdigest.com/story/which-pga-tour-events-produce-the-best-leader-boards  ----   1\n",
      "https://www.pinterest.com/pin/create/button/?url=&media=https%3A%2F%2Fmedia.golfdigest.com%2Fphotos%2F5e65444353477b0008876275%2F1%3A1%2Fw_680%2Cc_limit%2Fbrooks-koepka-bay-hill-2020-thursday.jpg&description=  ----   1\n",
      "https://www.golfdigest.com/story/a-timeline-and-appreciation-of-brooks-koepkas-brashness-in-2019  ----   1\n",
      "https://t.co/StBEQjBMma  ----   1\n",
      "https://www.facebook.com/sharer/sharer.php?u=https%3A%2F%2Fwww.golfdigest.com%2Fstory%2Fspains-jorge-campillo-wins-a-dramatic-five-hole-playoff-at-the-qatar-masters&t=Spain's%20Jorge%20Campillo%20wins%20a%20dramatic%20five-hole%20playoff%20at%20the%20Qatar%20Masters  ----   1\n",
      "https://twitter.com/share?text=Spain's%20Jorge%20Campillo%20wins%20a%20dramatic%20five-hole%20playoff%20at%20the%20Qatar%20Masters&via=GolfDigest&url=https%3A%2F%2Fwww.golfdigest.com%2Fstory%2Fspains-jorge-campillo-wins-a-dramatic-five-hole-playoff-at-the-qatar-masters  ----   1\n",
      "https://www.linkedin.com/shareArticle?mini=true&url=https%3A%2F%2Fwww.golfdigest.com%2Fstory%2Fspains-jorge-campillo-wins-a-dramatic-five-hole-playoff-at-the-qatar-masters&title=Spain's%20Jorge%20Campillo%20wins%20a%20dramatic%20five-hole%20playoff%20at%20the%20Qatar%20Masters&summary=The%20Spaniard%20blew%20a%20two-shot%20lead%20with%20two%20holes%20to%20play%2C%20but%20pulled%20out%20the%20win%2C%20keeping%20his%20opponent%2C%20David%20Drysdale%2C%20from%20winning%20his%20first%20title%20in%20his%20498th%20start&source=GolfDigest  ----   1\n",
      "https://www.pinterest.com/pin/create/button/?url=&media=https%3A%2F%2Fmedia.golfdigest.com%2Fphotos%2F5e650c7bb7a5da0009dd1c8c%2F1%3A1%2Fw_680%2Cc_limit%2Fdavid-drysdale-vicky-qatar-masters-2019-sunday.jpg&description=  ----   1\n",
      "https://t.co/llZtbdsqjb  ----   2\n",
      "https://www.facebook.com/sharer/sharer.php?u=https%3A%2F%2Fwww.golfdigest.com%2Fstory%2F2020-arnold-palmer-invitational-tee-times-viewers-guide&t=2020%20Arnold%20Palmer%20Invitational%20tee%20times%2C%20viewer's%20guide  ----   2\n",
      "https://twitter.com/share?text=2020%20Arnold%20Palmer%20Invitational%20tee%20times%2C%20viewer's%20guide&via=GolfDigest&url=https%3A%2F%2Fwww.golfdigest.com%2Fstory%2F2020-arnold-palmer-invitational-tee-times-viewers-guide  ----   2\n",
      "https://www.linkedin.com/shareArticle?mini=true&url=https%3A%2F%2Fwww.golfdigest.com%2Fstory%2F2020-arnold-palmer-invitational-tee-times-viewers-guide&title=2020%20Arnold%20Palmer%20Invitational%20tee%20times%2C%20viewer's%20guide&summary=Tee%20times%20and%20viewer's%20guide%20for%20Arnold%20Palmer%20Invitational%20in%20Orlando%2C%20FL.&source=GolfDigest  ----   2\n",
      "https://www.golfdigest.com/story/arnold-palmer-invitational-2020-odds-rory-mcilroy-continues-to-draw-tiger-like-odds  ----   2\n",
      "https://www.pgatour.com/leaderboard.html?utm_source=GDtraffic  ----   2\n",
      "https://www.golfdigest.com/story/arnold-palmers-best-golf-courses  ----   2\n",
      "https://www.golfdigest.com/story/how-an-act-of-kindness-has-given-brandon-matthews-an-unexpected-crack-at-the-pga-tour  ----   2\n",
      "https://t.co/5T5BBuALoS  ----   2\n",
      "https://t.co/eICMzEjlY9  ----   1\n",
      "https://www.facebook.com/sharer/sharer.php?u=https%3A%2F%2Fwww.golfdigest.com%2Fstory%2Ftough-conditions-produce-high-scores-in-arnold-palmer-invitational&t=It's%20a%20rocky%20day%20for%20players%20in%20tough%20conditions%20at%20Arnold%20Palmer%20Invitational  ----   1\n",
      "https://twitter.com/share?text=It's%20a%20rocky%20day%20for%20players%20in%20tough%20conditions%20at%20Arnold%20Palmer%20Invitational&via=GolfDigest&url=https%3A%2F%2Fwww.golfdigest.com%2Fstory%2Ftough-conditions-produce-high-scores-in-arnold-palmer-invitational  ----   1\n",
      "https://www.linkedin.com/shareArticle?mini=true&url=https%3A%2F%2Fwww.golfdigest.com%2Fstory%2Ftough-conditions-produce-high-scores-in-arnold-palmer-invitational&title=It's%20a%20rocky%20day%20for%20players%20in%20tough%20conditions%20at%20Arnold%20Palmer%20Invitational&summary=Scores%20soar%20in%20third%20round%20of%20Arnold%20Palmer%20Invitational%20as%20Bay%20Hill%20shows%20its%20teeth&source=GolfDigest  ----   1\n",
      "https://www.golfdigest.com/story/teaching-pro-rod-perry-having-dream-week-at-arnold-palmer-invitational  ----   1\n",
      "https://twitter.com/PGATOUR/status/1236405581591859200  ----   1\n",
      "https://t.co/9MNgIkExcr  ----   1\n",
      "https://www.facebook.com/sharer/sharer.php?u=https%3A%2F%2Fwww.golfdigest.com%2Fstory%2Fteaching-pro-rod-perry-having-dream-week-at-arnold-palmer-invitational&t=Teaching%20pro%20Rod%20Perry%20having%20a%20dream%20weekend%20at%20Bay%20Hill  ----   1\n",
      "https://twitter.com/share?text=Teaching%20pro%20Rod%20Perry%20having%20a%20dream%20weekend%20at%20Bay%20Hill&via=GolfDigest&url=https%3A%2F%2Fwww.golfdigest.com%2Fstory%2Fteaching-pro-rod-perry-having-dream-week-at-arnold-palmer-invitational  ----   1\n",
      "https://www.linkedin.com/shareArticle?mini=true&url=https%3A%2F%2Fwww.golfdigest.com%2Fstory%2Fteaching-pro-rod-perry-having-dream-week-at-arnold-palmer-invitational&title=Teaching%20pro%20Rod%20Perry%20having%20a%20dream%20weekend%20at%20Bay%20Hill&summary=Floridian%20Rod%20Perry%20spends%20most%20of%20his%20time%20teaching%20golf%2C%20but%20he'll%20cash%20a%20big%20check%20this%20week%20by%20making%20cut%20in%20Arnold%20Palmer%20Invitational&source=GolfDigest  ----   1\n",
      "https://t.co/KRQuaO2Shq  ----   2\n",
      "https://www.facebook.com/sharer/sharer.php?u=https%3A%2F%2Fwww.golfdigest.com%2Fstory%2Fplayers-championship-2020-picks-the-13-best-bets-to-win-at-tpc-sawgrass&t=Players%20Championship%202020%20picks%3A%20The%2013%20best%20bets%20to%20win%20at%20TPC%20Sawgrass  ----   1\n",
      "https://twitter.com/share?text=Players%20Championship%202020%20picks%3A%20The%2013%20best%20bets%20to%20win%20at%20TPC%20Sawgrass&via=GolfDigest&url=https%3A%2F%2Fwww.golfdigest.com%2Fstory%2Fplayers-championship-2020-picks-the-13-best-bets-to-win-at-tpc-sawgrass  ----   1\n",
      "https://www.linkedin.com/shareArticle?mini=true&url=https%3A%2F%2Fwww.golfdigest.com%2Fstory%2Fplayers-championship-2020-picks-the-13-best-bets-to-win-at-tpc-sawgrass&title=Players%20Championship%202020%20picks%3A%20The%2013%20best%20bets%20to%20win%20at%20TPC%20Sawgrass&summary=Our%20weekly%20pre-tournament%20ranking%20(with%20Vegas%20odds)%20of%20the%20golfers%20most%20likely%20to%20win%20the%202019%20Players%20Championship%20at%20TPC%20Sawgrass.&source=GolfDigest  ----   1\n",
      "https://sportsbook.fanduel.com/sports/navigation/1130.1/11307.3  ----   1\n",
      "https://www.facebook.com/sharer/sharer.php?u=&t=Waste%20Management%20Phoenix%20Open%20-%20Final%20Round  ----   1\n",
      "https://www.pinterest.com/pin/create/button/?url=&media=https%3A%2F%2Fmedia.golfdigest.com%2Fphotos%2F5e37780570149800084d489f%2F1%3A1%2Fw_680%2Cc_limit%2Fwebb-simpson-waste-management-phoenix-open-2020-sunday-fist-pump-late.jpg&description=Waste%20Management%20Phoenix%20Open%20-%20Final%20Round  ----   1\n",
      "https://www.facebook.com/sharer/sharer.php?u=&t=Dubai%20Duty%20Free%20Irish%20Open%20-%20Day%20Four  ----   1\n",
      "https://www.pinterest.com/pin/create/button/?url=&media=https%3A%2F%2Fmedia.golfdigest.com%2Fphotos%2F5d221489e7b56b000825ff64%2F1%3A1%2Fw_680%2Cc_limit%2Fjon-rahm-irish-open-2019-sunday-final-hole.jpg&description=Dubai%20Duty%20Free%20Irish%20Open%20-%20Day%20Four  ----   1\n",
      "https://www.golfdigest.com/story/players-championship-2019-the-new-version-of-jon-rahm-is-still-a-work-in-progress-but-hes-getting-there  ----   1\n",
      "https://www.facebook.com/sharer/sharer.php?u=&t=The%20Memorial%20Tournament%20Presented%20By%20Nationwide%20-%20Round%20Three  ----   1\n",
      "https://www.pinterest.com/pin/create/button/?url=&media=https%3A%2F%2Fmedia.golfdigest.com%2Fphotos%2F5cf2fa70e922ae2daf93c64b%2F1%3A1%2Fw_680%2Cc_limit%2FAdam-Scott.jpg&description=The%20Memorial%20Tournament%20Presented%20By%20Nationwide%20-%20Round%20Three  ----   1\n",
      "https://www.pinterest.com/pin/create/button/?url=&media=https%3A%2F%2Fmedia.golfdigest.com%2Fphotos%2F5caa190960765958c544b6d1%2F1%3A1%2Fw_680%2Cc_limit%2F190407-xander-schauffele.jpg&description=  ----   1\n",
      "https://www.pinterest.com/pin/create/button/?url=&media=https%3A%2F%2Fmedia.golfdigest.com%2Fphotos%2F598797b7954078722ffdd067%2F1%3A1%2Fw_680%2Cc_limit%2Fsneaky-picks-pga-2017-tommy-fleetwood.jpg&description=  ----   1\n",
      "https://www.facebook.com/sharer/sharer.php?u=&t=Wells%20Fargo%20Championship%20-%20Round%20One  ----   1\n",
      "https://www.pinterest.com/pin/create/button/?url=&media=https%3A%2F%2Fmedia.golfdigest.com%2Fphotos%2F5cd05d4cd6d6363123b1fb11%2F1%3A1%2Fw_680%2Cc_limit%2FRory%2520McIlroy.jpg&description=Wells%20Fargo%20Championship%20-%20Round%20One  ----   1\n",
      "https://www.golfdigest.com/story/tweets-beefs-and-birdies-ranking-the-pga-tours-content-kings  ----   1\n",
      "https://www.pinterest.com/pin/create/button/?url=&media=https%3A%2F%2Fmedia.golfdigest.com%2Fphotos%2F5cabb7c522da0b502f9aded0%2F1%3A1%2Fw_680%2Cc_limit%2Fdustin-johnson-masters-monday-2019-close-up.jpg&description=  ----   1\n",
      "https://www.facebook.com/sharer/sharer.php?u=&t=148th%20Open%20Championship%20-%20Day%20Four  ----   1\n",
      "https://www.pinterest.com/pin/create/button/?url=&media=https%3A%2F%2Fmedia.golfdigest.com%2Fphotos%2F5dd596de875d400008c38964%2F1%3A1%2Fw_680%2Cc_limit%2FGettyImages-1163366660.jpg&description=148th%20Open%20Championship%20-%20Day%20Four  ----   1\n",
      "https://www.facebook.com/sharer/sharer.php?u=&t=Justin%20Thomas%202019%20BMW%20Championship%20-%20Final%20Round  ----   1\n",
      "https://www.pinterest.com/pin/create/button/?url=&media=https%3A%2F%2Fmedia.golfdigest.com%2Fphotos%2F5db06e345b732e0009f544ca%2F1%3A1%2Fw_680%2Cc_limit%2FGettyImages-1162581742.jpg&description=Justin%20Thomas%202019%20BMW%20Championship%20-%20Final%20Round  ----   1\n",
      "https://www.pinterest.com/pin/create/button/?url=&media=https%3A%2F%2Fmedia.golfdigest.com%2Fphotos%2F5e5c7902c77e4f00096bfd25%2F1%3A1%2Fw_680%2Cc_limit%2Fsungjae-im-2020-honda-classic-sunday-18th-wave.jpg&description=  ----   1\n",
      "https://www.pinterest.com/pin/create/button/?url=&media=https%3A%2F%2Fmedia.golfdigest.com%2Fphotos%2F5cabc24d22da0b56189aded3%2F1%3A1%2Fw_680%2Cc_limit%2Frickie-fowler-masters-2019-monday.jpg&description=  ----   1\n",
      "https://www.pinterest.com/pin/create/button/?url=&media=https%3A%2F%2Fmedia.golfdigest.com%2Fphotos%2F5e530f70d7c7d80009419275%2F1%3A1%2Fw_680%2Cc_limit%2Fpatrick-reed-wgc-mexico-2020-sunday-early.jpg&description=  ----   1\n",
      "https://www.pinterest.com/pin/create/button/?url=&media=https%3A%2F%2Fmedia.golfdigest.com%2Fphotos%2F5e3ac33ed010dc0008b8b3d8%2F1%3A1%2Fw_680%2Cc_limit%2Fjason-day-2020-farmers.jpg&description=  ----   1\n",
      "https://t.co/NGGzAFpu62  ----   2\n",
      "https://t.co/0JvKCz6IwV  ----   1\n",
      "https://www.facebook.com/sharer/sharer.php?u=https%3A%2F%2Fwww.golfdigest.com%2Fstory%2Fthe-notorious-hinkle-tree-from-the-1979-us-open-has-died-but-the-legend-lives-on&t=The%20notorious%20Hinkle%20Tree%20from%20the%201979%20U.S.%20Open%20has%20died%2C%20but%20the%20legend%20lives%20on  ----   1\n",
      "https://twitter.com/share?text=The%20notorious%20Hinkle%20Tree%20from%20the%201979%20U.S.%20Open%20has%20died%2C%20but%20the%20legend%20lives%20on&via=GolfDigest&url=https%3A%2F%2Fwww.golfdigest.com%2Fstory%2Fthe-notorious-hinkle-tree-from-the-1979-us-open-has-died-but-the-legend-lives-on  ----   1\n",
      "https://www.linkedin.com/shareArticle?mini=true&url=https%3A%2F%2Fwww.golfdigest.com%2Fstory%2Fthe-notorious-hinkle-tree-from-the-1979-us-open-has-died-but-the-legend-lives-on&title=The%20notorious%20Hinkle%20Tree%20from%20the%201979%20U.S.%20Open%20has%20died%2C%20but%20the%20legend%20lives%20on&summary=The%20Hinkle%20Tree%2C%20planted%20after%20the%20first%20round%20of%20the%201979%20U.S.%20Open%20at%20Inverness%20to%20thwart%20Lon%20Hinkle's%20attempt%20to%20take%20a%20shortcut%20on%20the%20par-5%20eighth%20hole%2C%20was%20partially%20uprooted%20by%20wind%20and%20%20was%20cut%20down%20earlier%20this%20week.&source=GolfDigest  ----   1\n",
      "https://www.golfdigest.com/gallery/photos-us-open-controversies#3  ----   1\n",
      "https://t.co/CXK0DBL7wn  ----   1\n",
      "https://www.facebook.com/sharer/sharer.php?u=&t=THE%20PLAYERS%20Championship%20-%20Round%20Two  ----   1\n",
      "https://www.pinterest.com/pin/create/button/?url=&media=https%3A%2F%2Fmedia.golfdigest.com%2Fphotos%2F5e62a8bc607bc2000811e39d%2F1%3A1%2Fw_680%2Cc_limit%2FGettyImages-472567854.jpg&description=THE%20PLAYERS%20Championship%20-%20Round%20Two  ----   1\n",
      "https://www.facebook.com/sharer/sharer.php?u=&t=THE%20PLAYERS%20Championship%20-%20Round%20Three  ----   1\n",
      "https://www.pinterest.com/pin/create/button/?url=&media=https%3A%2F%2Fmedia.golfdigest.com%2Fphotos%2F5e62a8bc607bc2000811e39b%2F1%3A1%2Fw_680%2Cc_limit%2FGettyImages-957808536.jpg&description=THE%20PLAYERS%20Championship%20-%20Round%20Three  ----   1\n",
      "https://t.co/dsjWZ73gvT  ----   1\n",
      "https://www.facebook.com/sharer/sharer.php?u=https%3A%2F%2Fwww.golfdigest.com%2Fstory%2Fcoul-links-mike-keisers-planned-coore-crenshaw-course-in-the-scottish-highlands-rejected-in-government-ruling&t=Coul%20Links%2C%20Mike%20Keiser's%20planned%20Coore%2C%20Crenshaw%20course%20in%20the%20Scottish%20Highlands%2C%20rejected%20in%20government%20ruling  ----   1\n",
      "https://twitter.com/share?text=Coul%20Links%2C%20Mike%20Keiser's%20planned%20Coore%2C%20Crenshaw%20course%20in%20the%20Scottish%20Highlands%2C%20rejected%20in%20government%20ruling&via=GolfDigest&url=https%3A%2F%2Fwww.golfdigest.com%2Fstory%2Fcoul-links-mike-keisers-planned-coore-crenshaw-course-in-the-scottish-highlands-rejected-in-government-ruling  ----   1\n",
      "https://www.linkedin.com/shareArticle?mini=true&url=https%3A%2F%2Fwww.golfdigest.com%2Fstory%2Fcoul-links-mike-keisers-planned-coore-crenshaw-course-in-the-scottish-highlands-rejected-in-government-ruling&title=Coul%20Links%2C%20Mike%20Keiser's%20planned%20Coore%2C%20Crenshaw%20course%20in%20the%20Scottish%20Highlands%2C%20rejected%20in%20government%20ruling&summary=Excitement%20over%20Mike%20Keiser's%20latest%20project%2C%20Coul%20Links%2C%20on%20a%20great%20piece%20of%20land%20in%20Scotland%E2%80%94was%20building%20until%20a%20recent%20rejection&source=GolfDigest  ----   1\n",
      "https://www.golfdigest.com/story/why-the-keiser-method-works  ----   2\n",
      "https://www.golfdigest.com/story/the-best-coore-and-crenshaw-golf-courses  ----   1\n",
      "https://t.co/bSgtSvnr5w  ----   2\n",
      "https://www.facebook.com/sharer/sharer.php?u=https%3A%2F%2Fwww.golfdigest.com%2Fstory%2Fannika-sorenstam-and-gary-player-to-receive-the-presidential-medal-of-freedom&t=Annika%20Sorenstam%20and%20Gary%20Player%20to%20receive%20the%20Presidential%20Medal%20of%20Freedom  ----   1\n",
      "https://twitter.com/share?text=Annika%20Sorenstam%20and%20Gary%20Player%20to%20receive%20the%20Presidential%20Medal%20of%20Freedom&via=GolfDigest&url=https%3A%2F%2Fwww.golfdigest.com%2Fstory%2Fannika-sorenstam-and-gary-player-to-receive-the-presidential-medal-of-freedom  ----   1\n",
      "https://www.linkedin.com/shareArticle?mini=true&url=https%3A%2F%2Fwww.golfdigest.com%2Fstory%2Fannika-sorenstam-and-gary-player-to-receive-the-presidential-medal-of-freedom&title=Annika%20Sorenstam%20and%20Gary%20Player%20to%20receive%20the%20Presidential%20Medal%20of%20Freedom&summary=Annika%20Sorenstam%20and%20Gary%20Player%20will%20receive%20the%20Presidential%20Medal%20of%20Freedom%20from%20President%20Donald%20Trump%20on%20March%2023rd.&source=GolfDigest  ----   1\n",
      "https://www.facebook.com/sharer/sharer.php?u=&t=gary%20player  ----   1\n",
      "https://www.pinterest.com/pin/create/button/?url=&media=https%3A%2F%2Fmedia.golfdigest.com%2Fphotos%2F5e631aa5b7a5da0009dd1c71%2F1%3A1%2Fw_680%2Cc_limit%2FGettyImages-1146992013.jpg&description=gary%20player  ----   1\n",
      "https://www.golfdigest.com/story/donald-trump-to-award-tiger-woods-with-presidential-medal-of-freedom  ----   1\n",
      "https://t.co/KHVXmU5LGg  ----   2\n",
      "https://t.co/TtZWwIMjmw  ----   2\n",
      "https://t.co/gzi4n3Iep8  ----   2\n",
      "https://t.co/v0aSV2EOJh  ----   1\n",
      "https://www.facebook.com/sharer/sharer.php?u=https%3A%2F%2Fwww.golfdigest.com%2Fstory%2Ftiger-woods-masters-odds-instantly-downgraded-with-news-hes-skipping-players-championship&t=How%20Vegas%20just%20gave%20golf%20fans%20a%20chance%20to%20make%20even%20more%20money%20on%20Tiger%20Woods%20at%20the%20Masters  ----   1\n",
      "https://twitter.com/share?text=How%20Vegas%20just%20gave%20golf%20fans%20a%20chance%20to%20make%20even%20more%20money%20on%20Tiger%20Woods%20at%20the%20Masters&via=GolfDigest&url=https%3A%2F%2Fwww.golfdigest.com%2Fstory%2Ftiger-woods-masters-odds-instantly-downgraded-with-news-hes-skipping-players-championship  ----   1\n",
      "https://www.linkedin.com/shareArticle?mini=true&url=https%3A%2F%2Fwww.golfdigest.com%2Fstory%2Ftiger-woods-masters-odds-instantly-downgraded-with-news-hes-skipping-players-championship&title=How%20Vegas%20just%20gave%20golf%20fans%20a%20chance%20to%20make%20even%20more%20money%20on%20Tiger%20Woods%20at%20the%20Masters&summary=Vegas%20didn't%20waste%20any%20time%20adjusting%20Tiger%20Woods'%20Masters%20odds%20after%20the%20defending%20champ%20announced%20he%20won't%20be%20teeing%20it%20up%20at%20TPC%20Sawgrass.&source=GolfDigest  ----   1\n",
      "https://www.golfdigest.com/story/newsmakers-2019-101-things-that-happened-to-tiger-woods-in-2019  ----   2\n",
      "https://www.golfdigest.com/story/tiger-woods-will-miss-the-players-championship-due-to-sore-back  ----   2\n",
      "https://www.golfdigest.com/story/why-tiger-woods-2019-masters-win-meant-so-much-to-one-writer-who-was-admittedly-cheering-from-the-pressbox  ----   1\n",
      "https://www.golfdigest.com/story/the-gambler-meet-the-man-who-won-dollar12-million-on-tiger-woods  ----   1\n",
      "https://twitter.com/golfodds/status/1236027714252898304  ----   1\n",
      "https://www.golfdigest.com/story/players-championship-2020-picks-the-13-best-bets-to-win-at-tpc-sawgrass  ----   1\n",
      "https://t.co/qhMrlMSJJp  ----   1\n",
      "https://www.facebook.com/sharer/sharer.php?u=https%3A%2F%2Fwww.golfdigest.com%2Fstory%2Fwatch-rory-mcilroy-badly-chunk-back-to-back-shots-from-the-rough-at-bay-hill&t=Watch%20Rory%20McIlroy%20badly%20chunk%20back-to-back%20shots%20from%20the%20rough%20at%20Bay%20Hill  ----   1\n",
      "https://twitter.com/share?text=Watch%20Rory%20McIlroy%20badly%20chunk%20back-to-back%20shots%20from%20the%20rough%20at%20Bay%20Hill&via=GolfDigest&url=https%3A%2F%2Fwww.golfdigest.com%2Fstory%2Fwatch-rory-mcilroy-badly-chunk-back-to-back-shots-from-the-rough-at-bay-hill  ----   1\n",
      "https://www.linkedin.com/shareArticle?mini=true&url=https%3A%2F%2Fwww.golfdigest.com%2Fstory%2Fwatch-rory-mcilroy-badly-chunk-back-to-back-shots-from-the-rough-at-bay-hill&title=Watch%20Rory%20McIlroy%20badly%20chunk%20back-to-back%20shots%20from%20the%20rough%20at%20Bay%20Hill&summary=Rory%20McIlroy%20tried%20to%20play%20aggressively%20at%20the%20par-4%20eighth%2C%20and%20it%20wound%20up%20costing%20him%20a%20few%20shots.%20&source=GolfDigest  ----   1\n",
      "https://www.golfdigest.com/story/matt-every-goes-from-leading-to-leaving-the-arnold-palmer-invitational  ----   1\n",
      "https://twitter.com/PGATOUR/status/1236022569700077568  ----   1\n",
      "https://twitter.com/beardedwonderz/status/1236023417532542978  ----   1\n",
      "https://www.golfdigest.com/story/rory-mcilroy-is-now-the-betting-favorite-for-all-four-major-championships-in-2020  ----   1\n",
      "https://twitter.com/login  ----   4\n",
      "https://developer.twitter.com/en/docs/basics/getting-started  ----   2\n",
      "https://developer.twitter.com/en/docs/basics/things-every-developer-should-know  ----   2\n",
      "https://developer.twitter.com/en/docs/basics/faq  ----   2\n",
      "https://developer.twitter.com/en/docs/basics/apps  ----   2\n",
      "https://developer.twitter.com/en/docs/basics/developer-portal  ----   2\n",
      "https://developer.twitter.com/en/docs/basics/authentication  ----   2\n",
      "https://developer.twitter.com/en/docs/basics/rate-limits  ----   2\n",
      "https://developer.twitter.com/en/docs/basics/rate-limiting  ----   2\n",
      "https://developer.twitter.com/en/docs/basics/response-codes  ----   2\n",
      "https://developer.twitter.com/en/docs/basics/cursoring  ----   2\n",
      "https://developer.twitter.com/en/docs/basics/security-best-practices  ----   2\n",
      "https://developer.twitter.com/en/docs/basics/twitter-ids  ----   2\n",
      "https://developer.twitter.com/en/docs/basics/counting-characters  ----   2\n",
      "https://developer.twitter.com/en/docs/basics/tco  ----   2\n",
      "https://developer.twitter.com/en/docs/accounts-and-users/subscribe-account-activity  ----   2\n",
      "https://developer.twitter.com/en/docs/accounts-and-users/manage-account-settings  ----   2\n",
      "https://developer.twitter.com/en/docs/accounts-and-users/mute-block-report-users  ----   2\n",
      "https://developer.twitter.com/en/docs/accounts-and-users/follow-search-get-users  ----   2\n",
      "https://developer.twitter.com/en/docs/accounts-and-users/create-manage-lists  ----   2\n",
      "https://developer.twitter.com/en/docs/accounts-and-users/user-profile-images-and-banners  ----   2\n",
      "https://developer.twitter.com/en/docs/tweets/post-and-engage  ----   2\n",
      "https://developer.twitter.com/en/docs/tweets/timelines  ----   2\n",
      "https://developer.twitter.com/en/docs/tweets/curate-a-collection  ----   2\n",
      "https://developer.twitter.com/en/docs/tweets/optimize-with-cards  ----   2\n",
      "https://developer.twitter.com/en/docs/tweets/search  ----   2\n",
      "https://developer.twitter.com/en/docs/tweets/filter-realtime  ----   2\n",
      "https://developer.twitter.com/en/docs/tweets/sample-realtime  ----   2\n",
      "https://developer.twitter.com/en/docs/tweets/batch-historical  ----   2\n",
      "https://developer.twitter.com/en/docs/tweets/rules-and-filtering  ----   2\n",
      "https://developer.twitter.com/en/docs/tweets/enrichments  ----   2\n",
      "https://developer.twitter.com/en/docs/tweets/data-dictionary  ----   2\n",
      "https://developer.twitter.com/en/docs/tweets/compliance  ----   2\n",
      "https://developer.twitter.com/en/docs/tweets/tweet-updates  ----   2\n",
      "https://developer.twitter.com/en/docs/direct-messages/api-features  ----   2\n",
      "https://developer.twitter.com/en/docs/direct-messages/sending-and-receiving  ----   2\n",
      "https://developer.twitter.com/en/docs/direct-messages/welcome-messages  ----   2\n",
      "https://developer.twitter.com/en/docs/direct-messages/message-attachments  ----   2\n",
      "https://developer.twitter.com/en/docs/direct-messages/quick-replies  ----   2\n",
      "https://developer.twitter.com/en/docs/direct-messages/buttons  ----   2\n",
      "https://developer.twitter.com/en/docs/direct-messages/typing-indicator-and-read-receipts  ----   2\n",
      "https://developer.twitter.com/en/docs/direct-messages/conversation-management  ----   2\n",
      "https://developer.twitter.com/en/docs/direct-messages/custom-profiles  ----   2\n",
      "https://developer.twitter.com/en/docs/direct-messages/customer-feedback  ----   2\n",
      "https://developer.twitter.com/en/docs/media/upload-media  ----   2\n",
      "https://developer.twitter.com/en/docs/trends/trends-for-location  ----   2\n",
      "https://developer.twitter.com/en/docs/trends/locations-with-trending-topics  ----   2\n",
      "https://developer.twitter.com/en/docs/geo/place-information  ----   2\n",
      "https://developer.twitter.com/en/docs/geo/places-near-location  ----   2\n",
      "https://developer.twitter.com/en/docs/ads/general  ----   2\n",
      "https://developer.twitter.com/en/docs/ads/analytics  ----   2\n",
      "https://developer.twitter.com/en/docs/ads/audiences  ----   2\n",
      "https://developer.twitter.com/en/docs/ads/campaign-management  ----   2\n",
      "https://developer.twitter.com/en/docs/ads/creatives  ----   2\n",
      "https://developer.twitter.com/en/docs/ads/measurement  ----   2\n",
      "https://developer.twitter.com/en/docs/metrics/get-tweet-engagement  ----   2\n",
      "https://developer.twitter.com/en/docs/publisher-tools/twitter-for-websites  ----   2\n",
      "https://developer.twitter.com/en/docs/publisher-tools/amp  ----   2\n",
      "https://developer.twitter.com/en/docs/publisher-tools/cms  ----   2\n",
      "https://developer.twitter.com/en/docs/twitter-for-websites/overview  ----   2\n",
      "https://developer.twitter.com/en/docs/twitter-for-websites/embedded-tweets  ----   2\n",
      "https://developer.twitter.com/en/docs/twitter-for-websites/timelines  ----   2\n",
      "https://developer.twitter.com/en/docs/twitter-for-websites/moments  ----   2\n",
      "https://developer.twitter.com/en/docs/twitter-for-websites/tweet-button  ----   2\n",
      "https://developer.twitter.com/en/docs/twitter-for-websites/follow-button  ----   2\n",
      "https://developer.twitter.com/en/docs/twitter-for-websites/direct-messages  ----   2\n",
      "https://developer.twitter.com/en/docs/twitter-for-websites/log-in-with-twitter  ----   2\n",
      "https://developer.twitter.com/en/docs/twitter-for-websites/periscope  ----   2\n",
      "https://developer.twitter.com/en/docs/twitter-for-websites/web-intents  ----   2\n",
      "https://developer.twitter.com/en/docs/twitter-for-websites/webpage-properties  ----   2\n",
      "https://developer.twitter.com/en/docs/twitter-for-websites/javascript-api  ----   2\n",
      "https://developer.twitter.com/en/docs/twitter-for-websites/twitter-for-websites-supported-languages  ----   2\n",
      "https://developer.twitter.com/en/docs/twitter-for-websites/privacy  ----   2\n",
      "https://developer.twitter.com/en/docs/labs/overview  ----   2\n",
      "https://developer.twitter.com/en/docs/labs/tweets-and-users  ----   2\n",
      "https://developer.twitter.com/en/docs/labs/tweet-metrics  ----   2\n",
      "https://developer.twitter.com/en/docs/labs/recent-search  ----   2\n",
      "https://developer.twitter.com/en/docs/labs/filtered-stream  ----   2\n",
      "https://developer.twitter.com/en/docs/labs/sampled-stream  ----   2\n",
      "https://developer.twitter.com/en/docs/labs/hide-replies  ----   2\n",
      "https://developer.twitter.com/en/docs/developer-utilities/rate-limit-status  ----   2\n",
      "https://developer.twitter.com/en/docs/developer-utilities/configuration  ----   2\n",
      "https://developer.twitter.com/en/docs/developer-utilities/supported-languages  ----   2\n",
      "https://developer.twitter.com/en/docs/developer-utilities/privacy-policy  ----   2\n",
      "https://developer.twitter.com/en/docs/developer-utilities/terms-of-service  ----   2\n",
      "https://developer.twitter.com/en/docs/developer-utilities/usage-api  ----   2\n",
      "https://developer.twitter.com/en/docs/developer-utilities/twitter-libraries  ----   2\n",
      "https://developer.twitter.com/en/docs/developer-utilities/twitter-text  ----   2\n",
      "https://developer.twitter.com/en/docs/api-reference-index/api-reference-index  ----   2\n",
      "https://twitter.com/GrandTetonNPS?ref_src=twsrc%5Etfw  ----   4\n",
      "https://twitter.com/hashtag/nature?src=hash&ref_src=twsrc%5Etfw  ----   4\n",
      "https://twitter.com/hashtag/sunset?src=hash&ref_src=twsrc%5Etfw  ----   4\n",
      "https://twitter.com/Interior/status/463440424141459456?ref_src=twsrc%5Etfw  ----   4\n",
      "https://dev.twitter.com/rest/reference/get/statuses/oembed  ----   2\n",
      "https://developer-staging.twitter.com/en/docs/twitter-for-websites/webpage-properties/overview  ----   2\n",
      "https://twitter.com/WilliamShatner?ref_src=twsrc%5Etfw  ----   4\n",
      "https://twitter.com/hashtag/ISS?src=hash&ref_src=twsrc%5Etfw  ----   4\n",
      "https://twitter.com/NASA/status/495719809695621121?ref_src=twsrc%5Etfw  ----   4\n",
      "https://dev.twitter.com/cards/overview  ----   2\n",
      "https://twitter.com/GrandTetonNPS  ----   2\n",
      "https://twitter.com/hashtag/nature?src=hash  ----   2\n",
      "https://twitter.com/hashtag/sunset?src=hash  ----   2\n",
      "https://twitter.com/Interior/status/463440424141459456  ----   2\n",
      "https://developer.twitter.com/en/twitterdev-news-subscription  ----   4\n",
      "https://about.twitter.com  ----   4\n",
      "https://about.twitter.com/en_us/company.html  ----   4\n",
      "https://about.twitter.com/en_us/advocacy.html  ----   4\n",
      "https://about.twitter.com/en_us/safety.html  ----   4\n",
      "https://blog.twitter.com/official/en_us.html  ----   4\n",
      "https://about.twitter.com/en_us/company/brand-resources.html  ----   5\n",
      "https://careers.twitter.com/en.html  ----   4\n",
      "https://investor.twitterinc.com/  ----   4\n",
      "https://business.twitter.com/  ----   4\n",
      "https://business.twitter.com/en/advertising.html  ----   4\n",
      "https://business.twitter.com/en/targeting.html  ----   4\n",
      "https://business.twitter.com/en/analytics.html  ----   4\n",
      "https://business.twitter.com/en/help.html  ----   4\n",
      "https://blog.twitter.com/small-business  ----   4\n",
      "https://ads.twitter.com?ref=en-btc-gobal-footer  ----   4\n",
      "https://dev.twitter.com/  ----   4\n",
      "https://dev.twitter.com/overview/documentation  ----   4\n",
      "https://twittercommunity.com/  ----   4\n",
      "https://dev.twitter.com/community  ----   4\n",
      "https://blog.twitter.com/developer  ----   4\n",
      "https://blog.twitter.com/engineering  ----   4\n",
      "https://help.twitter.com/  ----   4\n",
      "https://help.twitter.com/using-twitter  ----   4\n",
      "https://help.twitter.com/managing-your-account  ----   4\n",
      "https://help.twitter.com/safety-and-security  ----   4\n",
      "https://help.twitter.com/rules-and-policies  ----   4\n",
      "https://help.twitter.com/contact-us  ----   4\n",
      "https://marketing.twitter.com/  ----   4\n",
      "https://marketing.twitter.com/na/en/insights.html  ----   4\n",
      "https://marketing.twitter.com/na/en/success-stories.html  ----   4\n",
      "https://marketing.twitter.com/na/en/solutions.html  ----   4\n",
      "https://marketing.twitter.com/na/en/collections.html  ----   4\n",
      "https://blog.twitter.com/en_us/tags.blog--marketing.html  ----   4\n",
      "https://www.twitterflightschool.com/sl/382652bc  ----   4\n",
      "https://help.twitter.com/rules-and-policies/twitter-cookies  ----   4\n",
      "https://twitter.com/privacy  ----   6\n",
      "https://twitter.com/tos  ----   5\n",
      "https://help.twitter.com/en/rules-and-policies/twitter-cookies  ----   7\n",
      "https://policies.google.com/privacy?hl=en  ----   3\n",
      "https://www.demandbase.com/privacy-policy/  ----   3\n",
      "https://help.periscope.tv/customer/en/portal/articles/2600293-what-is-periscope-producer  ----   1\n",
      "https://twitter.com/  ----   1\n",
      "https://help.twitter.com/en/rules-and-policies/twitter-rules  ----   5\n",
      "https://www.periscope.tv/trademarkpolicy  ----   3\n",
      "https://help.twitter.com/en/rules-and-policies/twitter-automation  ----   2\n",
      "https://t.co/le  ----   1\n",
      "https://www.twitter.com/privacy/  ----   1\n",
      "https://help.twitter.com/en/rules-and-policies/twitter-services-and-corporate-affiliates  ----   3\n",
      "https://help.twitter.com/forms/platform  ----   3\n",
      "https://www.periscope.tv/content  ----   3\n",
      "https://help.twitter.com/en/rules-and-policies  ----   1\n",
      "https://help.twitter.com/en/safety-and-security/public-and-protected-tweets  ----   1\n",
      "https://help.twitter.com/en/safety-and-security/twitter-do-not-track  ----   1\n",
      "https://about.twitter.com/content/about-twitter/en_us/company.html  ----   1\n",
      "https://help.twitter.com/en/twitter-for-websites-ads-info-and-privacy  ----   1\n",
      "https://help.periscope.tv/customer/portal/emails/new  ----   1\n"
     ]
    }
   ],
   "source": [
    "get_urls(\"https://twitter.com/GolfWorld\", 2)\n",
    "for key in url_dict:\n",
    "    print(str(key) + \"  ----   \" + str(url_dict[key]))"
   ]
  },
  {
   "cell_type": "markdown",
   "metadata": {
    "slideshow": {
     "slide_type": "slide"
    }
   },
   "source": [
    "<a id='sec8'></a>\n",
    "# SEO: Visualize sitemap and categories in a website\n",
    "\n",
    "**Source:** https://www.ayima.com/guides/how-to-visualize-an-xml-sitemap-using-python.html"
   ]
  },
  {
   "cell_type": "code",
   "execution_count": 138,
   "metadata": {
    "slideshow": {
     "slide_type": "subslide"
    }
   },
   "outputs": [
    {
     "name": "stdout",
     "output_type": "stream",
     "text": [
      "Loaded page with: <Response [200]>\n",
      "Created <class 'bs4.BeautifulSoup'> object\n"
     ]
    }
   ],
   "source": [
    "# Visualize XML sitemap with categories!\n",
    "import requests\n",
    "from bs4 import BeautifulSoup\n",
    "\n",
    "url = 'https://www.sportchek.ca/sitemap.xml'\n",
    "url = 'https://www.bloomberg.com/feeds/bpol/sitemap_index.xml'\n",
    "page = requests.get(url)\n",
    "print('Loaded page with: %s' % page)\n",
    "\n",
    "sitemap_index = BeautifulSoup(page.content, 'html.parser')\n",
    "print('Created %s object' % type(sitemap_index))"
   ]
  },
  {
   "cell_type": "code",
   "execution_count": 139,
   "metadata": {
    "scrolled": true,
    "slideshow": {
     "slide_type": "subslide"
    }
   },
   "outputs": [
    {
     "name": "stdout",
     "output_type": "stream",
     "text": [
      "['https://www.bloomberg.com/feeds/bpol/sitemap_recent.xml', 'https://www.bloomberg.com/feeds/bpol/sitemap_news.xml', 'https://www.bloomberg.com/feeds/bpol/sitemap_video_recent.xml', 'https://www.bloomberg.com/feeds/bpol/sitemap_2020_3.xml', 'https://www.bloomberg.com/feeds/bpol/sitemap_2020_2.xml', 'https://www.bloomberg.com/feeds/bpol/sitemap_2020_1.xml', 'https://www.bloomberg.com/feeds/bpol/sitemap_2019_12.xml', 'https://www.bloomberg.com/feeds/bpol/sitemap_2019_11.xml', 'https://www.bloomberg.com/feeds/bpol/sitemap_2019_10.xml', 'https://www.bloomberg.com/feeds/bpol/sitemap_2019_9.xml', 'https://www.bloomberg.com/feeds/bpol/sitemap_2019_8.xml', 'https://www.bloomberg.com/feeds/bpol/sitemap_2019_7.xml', 'https://www.bloomberg.com/feeds/bpol/sitemap_2019_6.xml', 'https://www.bloomberg.com/feeds/bpol/sitemap_2019_5.xml', 'https://www.bloomberg.com/feeds/bpol/sitemap_2019_4.xml', 'https://www.bloomberg.com/feeds/bpol/sitemap_2019_3.xml', 'https://www.bloomberg.com/feeds/bpol/sitemap_2019_2.xml', 'https://www.bloomberg.com/feeds/bpol/sitemap_2019_1.xml', 'https://www.bloomberg.com/feeds/bpol/sitemap_2018_12.xml', 'https://www.bloomberg.com/feeds/bpol/sitemap_2018_11.xml', 'https://www.bloomberg.com/feeds/bpol/sitemap_2018_10.xml', 'https://www.bloomberg.com/feeds/bpol/sitemap_2018_9.xml', 'https://www.bloomberg.com/feeds/bpol/sitemap_2018_8.xml', 'https://www.bloomberg.com/feeds/bpol/sitemap_2018_7.xml', 'https://www.bloomberg.com/feeds/bpol/sitemap_2018_6.xml', 'https://www.bloomberg.com/feeds/bpol/sitemap_2018_5.xml', 'https://www.bloomberg.com/feeds/bpol/sitemap_2018_4.xml', 'https://www.bloomberg.com/feeds/bpol/sitemap_2018_3.xml', 'https://www.bloomberg.com/feeds/bpol/sitemap_2018_2.xml', 'https://www.bloomberg.com/feeds/bpol/sitemap_2018_1.xml', 'https://www.bloomberg.com/feeds/bpol/sitemap_2017_12.xml', 'https://www.bloomberg.com/feeds/bpol/sitemap_2017_11.xml', 'https://www.bloomberg.com/feeds/bpol/sitemap_2017_10.xml', 'https://www.bloomberg.com/feeds/bpol/sitemap_2017_9.xml', 'https://www.bloomberg.com/feeds/bpol/sitemap_2017_8.xml', 'https://www.bloomberg.com/feeds/bpol/sitemap_2017_7.xml', 'https://www.bloomberg.com/feeds/bpol/sitemap_2017_6.xml', 'https://www.bloomberg.com/feeds/bpol/sitemap_2017_5.xml', 'https://www.bloomberg.com/feeds/bpol/sitemap_2017_4.xml', 'https://www.bloomberg.com/feeds/bpol/sitemap_2017_3.xml', 'https://www.bloomberg.com/feeds/bpol/sitemap_2017_2.xml', 'https://www.bloomberg.com/feeds/bpol/sitemap_2017_1.xml', 'https://www.bloomberg.com/feeds/bpol/sitemap_2016_12.xml', 'https://www.bloomberg.com/feeds/bpol/sitemap_2016_11.xml', 'https://www.bloomberg.com/feeds/bpol/sitemap_2016_10.xml', 'https://www.bloomberg.com/feeds/bpol/sitemap_2016_9.xml', 'https://www.bloomberg.com/feeds/bpol/sitemap_2016_8.xml', 'https://www.bloomberg.com/feeds/bpol/sitemap_2016_7.xml', 'https://www.bloomberg.com/feeds/bpol/sitemap_2016_6.xml', 'https://www.bloomberg.com/feeds/bpol/sitemap_2016_5.xml', 'https://www.bloomberg.com/feeds/bpol/sitemap_2016_4.xml', 'https://www.bloomberg.com/feeds/bpol/sitemap_2016_3.xml', 'https://www.bloomberg.com/feeds/bpol/sitemap_2016_2.xml', 'https://www.bloomberg.com/feeds/bpol/sitemap_2016_1.xml', 'https://www.bloomberg.com/feeds/bpol/sitemap_2015_12.xml', 'https://www.bloomberg.com/feeds/bpol/sitemap_2015_11.xml', 'https://www.bloomberg.com/feeds/bpol/sitemap_2015_10.xml', 'https://www.bloomberg.com/feeds/bpol/sitemap_2015_9.xml', 'https://www.bloomberg.com/feeds/bpol/sitemap_2015_8.xml', 'https://www.bloomberg.com/feeds/bpol/sitemap_2015_7.xml', 'https://www.bloomberg.com/feeds/bpol/sitemap_2015_6.xml', 'https://www.bloomberg.com/feeds/bpol/sitemap_2015_5.xml', 'https://www.bloomberg.com/feeds/bpol/sitemap_2015_4.xml', 'https://www.bloomberg.com/feeds/bpol/sitemap_2015_3.xml', 'https://www.bloomberg.com/feeds/bpol/sitemap_2015_2.xml', 'https://www.bloomberg.com/feeds/bpol/sitemap_2015_1.xml', 'https://www.bloomberg.com/feeds/bpol/sitemap_2014_12.xml', 'https://www.bloomberg.com/feeds/bpol/sitemap_2014_11.xml', 'https://www.bloomberg.com/feeds/bpol/sitemap_2014_10.xml', 'https://www.bloomberg.com/feeds/bpol/sitemap_2014_9.xml', 'https://www.bloomberg.com/feeds/bpol/sitemap_2014_8.xml', 'https://www.bloomberg.com/feeds/bpol/sitemap_2014_7.xml', 'https://www.bloomberg.com/feeds/bpol/sitemap_2014_6.xml', 'https://www.bloomberg.com/feeds/bpol/sitemap_2014_5.xml', 'https://www.bloomberg.com/feeds/bpol/sitemap_2014_4.xml', 'https://www.bloomberg.com/feeds/bpol/sitemap_2014_3.xml', 'https://www.bloomberg.com/feeds/bpol/sitemap_2014_2.xml', 'https://www.bloomberg.com/feeds/bpol/sitemap_2014_1.xml', 'https://www.bloomberg.com/feeds/bpol/sitemap_2013_12.xml', 'https://www.bloomberg.com/feeds/bpol/sitemap_2013_11.xml', 'https://www.bloomberg.com/feeds/bpol/sitemap_2013_10.xml', 'https://www.bloomberg.com/feeds/bpol/sitemap_2013_9.xml', 'https://www.bloomberg.com/feeds/bpol/sitemap_2013_8.xml', 'https://www.bloomberg.com/feeds/bpol/sitemap_2013_7.xml', 'https://www.bloomberg.com/feeds/bpol/sitemap_2013_6.xml', 'https://www.bloomberg.com/feeds/bpol/sitemap_2013_5.xml', 'https://www.bloomberg.com/feeds/bpol/sitemap_video_2020_3.xml', 'https://www.bloomberg.com/feeds/bpol/sitemap_video_2020_2.xml', 'https://www.bloomberg.com/feeds/bpol/sitemap_video_2020_1.xml', 'https://www.bloomberg.com/feeds/bpol/sitemap_video_2019_12.xml', 'https://www.bloomberg.com/feeds/bpol/sitemap_video_2019_11.xml', 'https://www.bloomberg.com/feeds/bpol/sitemap_video_2019_10.xml', 'https://www.bloomberg.com/feeds/bpol/sitemap_video_2019_9.xml', 'https://www.bloomberg.com/feeds/bpol/sitemap_video_2019_8.xml', 'https://www.bloomberg.com/feeds/bpol/sitemap_video_2019_7.xml', 'https://www.bloomberg.com/feeds/bpol/sitemap_video_2019_6.xml', 'https://www.bloomberg.com/feeds/bpol/sitemap_video_2019_5.xml', 'https://www.bloomberg.com/feeds/bpol/sitemap_video_2019_4.xml', 'https://www.bloomberg.com/feeds/bpol/sitemap_video_2019_3.xml', 'https://www.bloomberg.com/feeds/bpol/sitemap_video_2019_2.xml', 'https://www.bloomberg.com/feeds/bpol/sitemap_video_2019_1.xml', 'https://www.bloomberg.com/feeds/bpol/sitemap_video_2018_12.xml', 'https://www.bloomberg.com/feeds/bpol/sitemap_video_2018_11.xml', 'https://www.bloomberg.com/feeds/bpol/sitemap_video_2018_10.xml', 'https://www.bloomberg.com/feeds/bpol/sitemap_video_2018_9.xml', 'https://www.bloomberg.com/feeds/bpol/sitemap_video_2018_8.xml', 'https://www.bloomberg.com/feeds/bpol/sitemap_video_2018_7.xml', 'https://www.bloomberg.com/feeds/bpol/sitemap_video_2018_6.xml', 'https://www.bloomberg.com/feeds/bpol/sitemap_video_2018_5.xml', 'https://www.bloomberg.com/feeds/bpol/sitemap_video_2018_4.xml', 'https://www.bloomberg.com/feeds/bpol/sitemap_video_2018_3.xml', 'https://www.bloomberg.com/feeds/bpol/sitemap_video_2018_2.xml', 'https://www.bloomberg.com/feeds/bpol/sitemap_video_2018_1.xml', 'https://www.bloomberg.com/feeds/bpol/sitemap_video_2017_12.xml', 'https://www.bloomberg.com/feeds/bpol/sitemap_video_2017_11.xml', 'https://www.bloomberg.com/feeds/bpol/sitemap_video_2017_10.xml', 'https://www.bloomberg.com/feeds/bpol/sitemap_video_2017_9.xml', 'https://www.bloomberg.com/feeds/bpol/sitemap_video_2017_8.xml', 'https://www.bloomberg.com/feeds/bpol/sitemap_video_2017_7.xml', 'https://www.bloomberg.com/feeds/bpol/sitemap_video_2017_6.xml', 'https://www.bloomberg.com/feeds/bpol/sitemap_video_2017_5.xml', 'https://www.bloomberg.com/feeds/bpol/sitemap_video_2017_4.xml', 'https://www.bloomberg.com/feeds/bpol/sitemap_video_2017_3.xml', 'https://www.bloomberg.com/feeds/bpol/sitemap_video_2017_2.xml', 'https://www.bloomberg.com/feeds/bpol/sitemap_video_2017_1.xml', 'https://www.bloomberg.com/feeds/bpol/sitemap_video_2016_12.xml', 'https://www.bloomberg.com/feeds/bpol/sitemap_video_2016_11.xml', 'https://www.bloomberg.com/feeds/bpol/sitemap_video_2016_10.xml', 'https://www.bloomberg.com/feeds/bpol/sitemap_video_2016_9.xml', 'https://www.bloomberg.com/feeds/bpol/sitemap_video_2016_8.xml', 'https://www.bloomberg.com/feeds/bpol/sitemap_video_2016_7.xml', 'https://www.bloomberg.com/feeds/bpol/sitemap_video_2016_6.xml', 'https://www.bloomberg.com/feeds/bpol/sitemap_video_2016_5.xml', 'https://www.bloomberg.com/feeds/bpol/sitemap_video_2016_4.xml', 'https://www.bloomberg.com/feeds/bpol/sitemap_video_2016_3.xml', 'https://www.bloomberg.com/feeds/bpol/sitemap_video_2016_2.xml', 'https://www.bloomberg.com/feeds/bpol/sitemap_video_2016_1.xml', 'https://www.bloomberg.com/feeds/bpol/sitemap_video_2015_12.xml', 'https://www.bloomberg.com/feeds/bpol/sitemap_video_2015_11.xml', 'https://www.bloomberg.com/feeds/bpol/sitemap_video_2015_10.xml', 'https://www.bloomberg.com/feeds/bpol/sitemap_video_2015_9.xml', 'https://www.bloomberg.com/feeds/bpol/sitemap_video_2015_8.xml', 'https://www.bloomberg.com/feeds/bpol/sitemap_video_2015_7.xml', 'https://www.bloomberg.com/feeds/bpol/sitemap_video_2015_6.xml', 'https://www.bloomberg.com/feeds/bpol/sitemap_video_2015_5.xml', 'https://www.bloomberg.com/feeds/bpol/sitemap_video_2015_4.xml', 'https://www.bloomberg.com/feeds/bpol/sitemap_video_2015_3.xml', 'https://www.bloomberg.com/feeds/bpol/sitemap_video_2015_2.xml', 'https://www.bloomberg.com/feeds/bpol/sitemap_video_2015_1.xml', 'https://www.bloomberg.com/feeds/bpol/sitemap_video_2014_12.xml', 'https://www.bloomberg.com/feeds/bpol/sitemap_video_2014_11.xml', 'https://www.bloomberg.com/feeds/bpol/sitemap_video_2014_10.xml', 'https://www.bloomberg.com/feeds/bpol/sitemap_video_2014_9.xml']\n"
     ]
    }
   ],
   "source": [
    "urls = [element.text for element in sitemap_index.findAll('loc')]\n",
    "print(urls)"
   ]
  },
  {
   "cell_type": "code",
   "execution_count": 140,
   "metadata": {
    "slideshow": {
     "slide_type": "subslide"
    }
   },
   "outputs": [
    {
     "name": "stdout",
     "output_type": "stream",
     "text": [
      "Found 36,493 URLs in the sitemap\n"
     ]
    }
   ],
   "source": [
    "def extract_links(url):\n",
    "    ''' Open an XML sitemap and find content wrapped in loc tags. '''\n",
    "\n",
    "    page = requests.get(url)\n",
    "    soup = BeautifulSoup(page.content, 'html.parser')\n",
    "    links = [element.text for element in soup.findAll('loc')]\n",
    "\n",
    "    return links\n",
    "\n",
    "sitemap_urls = []\n",
    "for url in urls:\n",
    "    links = extract_links(url)\n",
    "    sitemap_urls += links\n",
    "\n",
    "print('Found {:,} URLs in the sitemap'.format(len(sitemap_urls)))"
   ]
  },
  {
   "cell_type": "code",
   "execution_count": 141,
   "metadata": {
    "slideshow": {
     "slide_type": "subslide"
    }
   },
   "outputs": [],
   "source": [
    "with open('sitemap_urls.dat', 'w') as f:\n",
    "    for url in sitemap_urls:\n",
    "        f.write(url + '\\n')"
   ]
  },
  {
   "cell_type": "code",
   "execution_count": 142,
   "metadata": {
    "slideshow": {
     "slide_type": "subslide"
    }
   },
   "outputs": [
    {
     "name": "stdout",
     "output_type": "stream",
     "text": [
      "Loaded 36,493 URLs\n",
      "Categorizing up to a depth of 3\n",
      "Printed 2,902 rows of data to sitemap_layers.csv\n"
     ]
    }
   ],
   "source": [
    "'''\n",
    "Categorize a list of URLs by site path.\n",
    "The file containing the URLs should exist in the working directory and be\n",
    "named sitemap_urls.dat. It should contain one URL per line.\n",
    "Categorization depth can be specified by executing a call like this in the\n",
    "terminal (where we set the granularity depth level to 5):\n",
    "    python categorize_urls.py --depth 5\n",
    "The same result can be achieved by setting the categorization_depth variable\n",
    "manually at the head of this file and running the script with:\n",
    "    python categorize_urls.py\n",
    "'''\n",
    "from __future__ import print_function\n",
    "\n",
    "\n",
    "categorization_depth=3\n",
    "\n",
    "\n",
    "\n",
    "# Main script functions\n",
    "\n",
    "\n",
    "def peel_layers(urls, layers=3):\n",
    "    ''' Builds a dataframe containing all unique page identifiers up\n",
    "    to a specified depth and counts the number of sub-pages for each.\n",
    "    Prints results to a CSV file.\n",
    "    urls : list\n",
    "        List of page URLs.\n",
    "    layers : int\n",
    "        Depth of automated URL search. Large values for this parameter\n",
    "        may cause long runtimes depending on the number of URLs.\n",
    "    '''\n",
    "\n",
    "    # Store results in a dataframe\n",
    "    sitemap_layers = pd.DataFrame()\n",
    "\n",
    "    # Get base levels\n",
    "    bases = pd.Series([url.split('//')[-1].split('/')[0] for url in urls])\n",
    "    sitemap_layers[0] = bases\n",
    "\n",
    "    # Get specified number of layers\n",
    "    for layer in range(1, layers+1):\n",
    "\n",
    "        page_layer = []\n",
    "        for url, base in zip(urls, bases):\n",
    "            try:\n",
    "                page_layer.append(url.split(base)[-1].split('/')[layer])\n",
    "            except:\n",
    "                # There is nothing that deep!\n",
    "                page_layer.append('')\n",
    "\n",
    "        sitemap_layers[layer] = page_layer\n",
    "\n",
    "    # Count and drop duplicate rows + sort\n",
    "    sitemap_layers = sitemap_layers.groupby(list(range(0, layers+1)))[0].count()\\\n",
    "                     .rename('counts').reset_index()\\\n",
    "                     .sort_values('counts', ascending=False)\\\n",
    "                     .sort_values(list(range(0, layers)), ascending=True)\\\n",
    "                     .reset_index(drop=True)\n",
    "\n",
    "    # Convert column names to string types and export\n",
    "    sitemap_layers.columns = [str(col) for col in sitemap_layers.columns]\n",
    "    sitemap_layers.to_csv('sitemap_layers.csv', index=False)\n",
    "\n",
    "    # Return the dataframe\n",
    "    return sitemap_layers\n",
    "\n",
    "\n",
    "\n",
    "\n",
    "sitemap_urls = open('sitemap_urls.dat', 'r').read().splitlines()\n",
    "print('Loaded {:,} URLs'.format(len(sitemap_urls)))\n",
    "\n",
    "print('Categorizing up to a depth of %d' % categorization_depth)\n",
    "sitemap_layers = peel_layers(urls=sitemap_urls,\n",
    "                             layers=categorization_depth)\n",
    "print('Printed {:,} rows of data to sitemap_layers.csv'.format(len(sitemap_layers)))\n"
   ]
  },
  {
   "cell_type": "code",
   "execution_count": 1,
   "metadata": {
    "slideshow": {
     "slide_type": "subslide"
    }
   },
   "outputs": [
    {
     "name": "stdout",
     "output_type": "stream",
     "text": [
      "Loaded 2,902 rows of categorized data from sitemap_layers.csv\n",
      "Building 3 layer deep sitemap graph\n",
      "Exported graph to sitemap_graph_3_layer.pdf       \n"
     ]
    }
   ],
   "source": [
    "'''\n",
    "Visualize a list of URLs by site path.\n",
    "This script reads in the sitemap_layers.csv file created by the\n",
    "categorize_urls.py script and builds a graph visualization using Graphviz.\n",
    "Graph depth can be specified by executing a call like this in the\n",
    "terminal:\n",
    "    python visualize_urls.py --depth 4 --limit 10 --title \"My Sitemap\" --style \"dark\" --size \"40\"\n",
    "The same result can be achieved by setting the variables manually at the head\n",
    "of this file and running the script with:\n",
    "    python visualize_urls.py\n",
    "'''\n",
    "from __future__ import print_function\n",
    "\n",
    "\n",
    "# Set global variables\n",
    "\n",
    "graph_depth = 3  # Number of layers deep to plot categorization\n",
    "limit = 3       # Maximum number of nodes for a branch\n",
    "title = ''       # Graph title\n",
    "style = 'light'  # Graph style, can be \"light\" or \"dark\"\n",
    "size = '8,5'     # Size of rendered PDF graph\n",
    "\n",
    "\n",
    "# Import external library dependencies\n",
    "\n",
    "import pandas as pd\n",
    "import graphviz\n",
    "\n",
    "\n",
    "\n",
    "# Main script functions\n",
    "\n",
    "def make_sitemap_graph(df, layers=3, limit=50, size='8,5'):\n",
    "    ''' Make a sitemap graph up to a specified layer depth.\n",
    "    sitemap_layers : DataFrame\n",
    "        The dataframe created by the peel_layers function\n",
    "        containing sitemap information.\n",
    "    layers : int\n",
    "        Maximum depth to plot.\n",
    "    limit : int\n",
    "        The maximum number node edge connections. Good to set this\n",
    "        low for visualizing deep into site maps.\n",
    "    '''\n",
    "\n",
    "\n",
    "    # Check to make sure we are not trying to plot too many layers\n",
    "    if layers > len(df) - 1:\n",
    "        layers = len(df)-1\n",
    "        print('There are only %d layers available to plot, setting layers=%d'\n",
    "              % (layers, layers))\n",
    "\n",
    "\n",
    "    # Initialize graph\n",
    "    f = graphviz.Digraph('sitemap', filename='sitemap_graph_%d_layer' % layers)\n",
    "    f.body.extend(['rankdir=LR', 'size=\"%s\"' % size])\n",
    "\n",
    "\n",
    "    def add_branch(f, names, vals, limit, connect_to=''):\n",
    "        ''' Adds a set of nodes and edges to nodes on the previous layer. '''\n",
    "\n",
    "        # Get the currently existing node names\n",
    "        node_names = [item.split('\"')[1] for item in f.body if 'label' in item]\n",
    "\n",
    "        # Only add a new branch it it will connect to a previously created node\n",
    "        if connect_to:\n",
    "            if connect_to in node_names:\n",
    "                for name, val in list(zip(names, vals))[:limit]:\n",
    "                    f.node(name='%s-%s' % (connect_to, name), label=name)\n",
    "                    f.edge(connect_to, '%s-%s' % (connect_to, name), label='{:,}'.format(val))\n",
    "\n",
    "\n",
    "    f.attr('node', shape='rectangle') # Plot nodes as rectangles\n",
    "\n",
    "    # Add the first layer of nodes\n",
    "    for name, counts in df.groupby(['0'])['counts'].sum().reset_index()\\\n",
    "                          .sort_values(['counts'], ascending=False).values:\n",
    "        f.node(name=name, label='{} ({:,})'.format(name, counts))\n",
    "\n",
    "    if layers == 0:\n",
    "        return f\n",
    "\n",
    "    f.attr('node', shape='oval') # Plot nodes as ovals\n",
    "    f.graph_attr.update()\n",
    "\n",
    "    # Loop over each layer adding nodes and edges to prior nodes\n",
    "    for i in range(1, layers+1):\n",
    "        cols = [str(i_) for i_ in range(i)]\n",
    "        nodes = df[cols].drop_duplicates().values\n",
    "        for j, k in enumerate(nodes):\n",
    "\n",
    "            # Compute the mask to select correct data\n",
    "            mask = True\n",
    "            for j_, ki in enumerate(k):\n",
    "                mask &= df[str(j_)] == ki\n",
    "\n",
    "            # Select the data then count branch size, sort, and truncate\n",
    "            data = df[mask].groupby([str(i)])['counts'].sum()\\\n",
    "                    .reset_index().sort_values(['counts'], ascending=False)\n",
    "\n",
    "            # Add to the graph\n",
    "            add_branch(f,\n",
    "                       names=data[str(i)].values,\n",
    "                       vals=data['counts'].values,\n",
    "                       limit=limit,\n",
    "                       connect_to='-'.join(['%s']*i) % tuple(k))\n",
    "\n",
    "            print(('Built graph up to node %d / %d in layer %d' % (j, len(nodes), i))\\\n",
    "                    .ljust(50), end='\\r')\n",
    "\n",
    "    return f\n",
    "\n",
    "\n",
    "def apply_style(f, style, title=''):\n",
    "    ''' Apply the style and add a title if desired. More styling options are\n",
    "    documented here: http://www.graphviz.org/doc/info/attrs.html#d:style\n",
    "    f : graphviz.dot.Digraph\n",
    "        The graph object as created by graphviz.\n",
    "    style : str\n",
    "        Available styles: 'light', 'dark'\n",
    "    title : str\n",
    "        Optional title placed at the bottom of the graph.\n",
    "    '''\n",
    "\n",
    "    dark_style = {\n",
    "        'graph': {\n",
    "            'label': title,\n",
    "            'bgcolor': '#3a3a3a',\n",
    "            'fontname': 'Helvetica',\n",
    "            'fontsize': '18',\n",
    "            'fontcolor': 'white',\n",
    "        },\n",
    "        'nodes': {\n",
    "            'style': 'filled',\n",
    "            'color': 'white',\n",
    "            'fillcolor': 'black',\n",
    "            'fontname': 'Helvetica',\n",
    "            'fontsize': '14',\n",
    "            'fontcolor': 'white',\n",
    "        },\n",
    "        'edges': {\n",
    "            'color': 'white',\n",
    "            'arrowhead': 'open',\n",
    "            'fontname': 'Helvetica',\n",
    "            'fontsize': '12',\n",
    "            'fontcolor': 'white',\n",
    "        }\n",
    "    }\n",
    "\n",
    "    light_style = {\n",
    "        'graph': {\n",
    "            'label': title,\n",
    "            'fontname': 'Helvetica',\n",
    "            'fontsize': '18',\n",
    "            'fontcolor': 'black',\n",
    "        },\n",
    "        'nodes': {\n",
    "            'style': 'filled',\n",
    "            'color': 'black',\n",
    "            'fillcolor': '#dbdddd',\n",
    "            'fontname': 'Helvetica',\n",
    "            'fontsize': '14',\n",
    "            'fontcolor': 'black',\n",
    "        },\n",
    "        'edges': {\n",
    "            'color': 'black',\n",
    "            'arrowhead': 'open',\n",
    "            'fontname': 'Helvetica',\n",
    "            'fontsize': '12',\n",
    "            'fontcolor': 'black',\n",
    "        }\n",
    "    }\n",
    "\n",
    "    if style == 'light':\n",
    "        apply_style = light_style\n",
    "\n",
    "    elif style == 'dark':\n",
    "        apply_style = dark_style\n",
    "\n",
    "    f.graph_attr = apply_style['graph']\n",
    "    f.node_attr = apply_style['nodes']\n",
    "    f.edge_attr = apply_style['edges']\n",
    "\n",
    "    return f\n",
    "\n",
    "\n",
    "\n",
    "\n",
    "# Read in categorized data\n",
    "sitemap_layers = pd.read_csv('sitemap_layers.csv', dtype=str)\n",
    "# Convert numerical column to integer\n",
    "sitemap_layers.counts = sitemap_layers.counts.apply(int)\n",
    "print('Loaded {:,} rows of categorized data from sitemap_layers.csv'\\\n",
    "        .format(len(sitemap_layers)))\n",
    "\n",
    "print('Building %d layer deep sitemap graph' % graph_depth)\n",
    "f = make_sitemap_graph(sitemap_layers, layers=graph_depth,\n",
    "                       limit=limit, size=size)\n",
    "f = apply_style(f, style=style, title=title)\n",
    "\n",
    "f.render(cleanup=True)\n",
    "print('Exported graph to sitemap_graph_%d_layer.pdf' % graph_depth)\n",
    "\n",
    "\n"
   ]
  },
  {
   "cell_type": "code",
   "execution_count": null,
   "metadata": {},
   "outputs": [],
   "source": []
  }
 ],
 "metadata": {
  "celltoolbar": "Slideshow",
  "kernelspec": {
   "display_name": "Python 3",
   "language": "python",
   "name": "python3"
  },
  "language_info": {
   "codemirror_mode": {
    "name": "ipython",
    "version": 3
   },
   "file_extension": ".py",
   "mimetype": "text/x-python",
   "name": "python",
   "nbconvert_exporter": "python",
   "pygments_lexer": "ipython3",
   "version": "3.7.4"
  }
 },
 "nbformat": 4,
 "nbformat_minor": 2
}
