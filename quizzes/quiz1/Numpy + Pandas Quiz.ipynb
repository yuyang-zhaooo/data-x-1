{
 "cells": [
  {
   "cell_type": "code",
   "execution_count": 2,
   "metadata": {},
   "outputs": [],
   "source": [
    "import numpy as np\n",
    "import pandas as pd"
   ]
  },
  {
   "cell_type": "markdown",
   "metadata": {},
   "source": [
    "# UPDATE: Questions 1 & 5 are deleted\n",
    "## Question 1: [DELETED]\n"
   ]
  },
  {
   "cell_type": "markdown",
   "metadata": {},
   "source": [
    "## See bCourses for questions 2 & 3\n",
    "\n",
    "## Question 4:\n",
    "### Given 2 numpy arrays, E & F:"
   ]
  },
  {
   "cell_type": "code",
   "execution_count": 5,
   "metadata": {},
   "outputs": [
    {
     "name": "stdout",
     "output_type": "stream",
     "text": [
      "E: \n",
      " [ 0.18759    -3.06735841 -6.01524185 -6.00493059  4.97719169  2.55905319\n",
      "  8.64114082 -1.5799068   2.73134519 -0.62920848 -0.52124254  7.08174751\n",
      " -0.91394513  8.56333601  2.41014514 -8.29151414 -8.64034168  9.64628425\n",
      " -2.01281228  1.74917664 -1.36827861 -6.82207123 -7.48896594 -5.74607695\n",
      "  2.10675622  0.93067175 -3.42823135 -9.11651521 -3.519439   -2.03393353\n",
      "  5.12847566  4.74967979 -5.57183807 -5.44652096  2.55765655  3.03552695\n",
      "  1.22205552 -7.76057239 -4.28559703 -9.36593577]\n",
      "\n",
      "\n",
      "F: \n",
      " [ 2.30753712 -0.94741128 -3.89529472 -3.88498346  7.09713882  4.67900032\n",
      " 10.76108795  0.54004032  4.85129231  1.49073864  1.59870458  9.20169464\n",
      "  1.206002   10.68328314  4.53009227 -6.17156701 -6.52039455 11.76623137\n",
      "  0.10713485  3.86912376  0.75166852 -4.7021241  -5.36901881 -3.62612982\n",
      "  4.22670335  3.05061887 -1.30828423 -6.99656808 -1.39949187  0.0860136\n",
      "  7.24842278  6.86962692 -3.45189094 -3.32657383  4.67760367  5.15547407\n",
      "  3.34200265 -5.64062527 -2.16564991 -7.24598865]\n"
     ]
    }
   ],
   "source": [
    "# DO NOT change this code\n",
    "import pandas as pd\n",
    "storage = pd.read_csv('storage.csv')\n",
    "E = storage['a'].values\n",
    "F = storage['b'].values\n",
    "\n",
    "print('E: \\n', E)\n",
    "print('\\n')\n",
    "print('F: \\n', F)"
   ]
  },
  {
   "cell_type": "markdown",
   "metadata": {},
   "source": [
    "### What is the covariance of E & F? See lecture for how to calculate: https://github.com/ikhlaqsidhu/data-x/blob/master/02-theory-linear-regression/prediction-linear-regression.pdf\n",
    "#### Round to the nearest decimal point (ex: 5.41 -> 5.4)\n",
    "*Submit your answer on bCourses*\n",
    "\n",
    "Questions 5 [deleted], 6, & 7 on bCourses\n"
   ]
  },
  {
   "cell_type": "markdown",
   "metadata": {},
   "source": [
    "# Question 8:\n",
    "Say we have a dataframe called 'burritos' (data on burrito purchases from a restaurant in a given week)."
   ]
  },
  {
   "cell_type": "code",
   "execution_count": null,
   "metadata": {},
   "outputs": [],
   "source": [
    "burritos = pd.read_csv('burritos.csv')\n",
    "burritos.head()"
   ]
  },
  {
   "cell_type": "markdown",
   "metadata": {},
   "source": [
    "### Group burritos by server and day. How many different kinds of burritos did Hedy serve on Thursday? \n",
    "\n",
    "# Question 9\n",
    "### Group burritos by server. What was the sum of the number of burritos that Poisson made?\n"
   ]
  },
  {
   "cell_type": "code",
   "execution_count": null,
   "metadata": {},
   "outputs": [],
   "source": []
  }
 ],
 "metadata": {
  "kernelspec": {
   "display_name": "Python 3",
   "language": "python",
   "name": "python3"
  },
  "language_info": {
   "codemirror_mode": {
    "name": "ipython",
    "version": 3
   },
   "file_extension": ".py",
   "mimetype": "text/x-python",
   "name": "python",
   "nbconvert_exporter": "python",
   "pygments_lexer": "ipython3",
   "version": "3.7.4"
  }
 },
 "nbformat": 4,
 "nbformat_minor": 2
}
